{
 "cells": [
  {
   "cell_type": "code",
   "execution_count": 1,
   "metadata": {
    "pycharm": {
     "name": "#%%\n"
    }
   },
   "outputs": [],
   "source": [
    "import QDMPy.io as Qio\n",
    "import QDMPy.fit as Qfit\n",
    "import QDMPy.plot as Qplot\n",
    "import QDMPy.field as Qfield\n",
    "\n",
    "import matplotlib\n",
    "import matplotlib.pyplot as plt\n",
    "import warnings"
   ]
  },
  {
   "cell_type": "code",
   "execution_count": 2,
   "metadata": {
    "collapsed": false,
    "jupyter": {
     "outputs_hidden": false
    },
    "pycharm": {
     "name": "#%%\n"
    }
   },
   "outputs": [],
   "source": [
    "# '%matplotlib widget' allows interactive plots in jupyterlab\n",
    "# use ''%matplotlib inline' to allow export to pdf\n",
    "%matplotlib widget\n",
    "# %matplotlib inline"
   ]
  },
  {
   "cell_type": "markdown",
   "metadata": {},
   "source": [
    "### Load raw data"
   ]
  },
  {
   "cell_type": "code",
   "execution_count": 3,
   "metadata": {
    "collapsed": false,
    "jupyter": {
     "outputs_hidden": false
    },
    "pycharm": {
     "name": "#%%\n"
    }
   },
   "outputs": [],
   "source": [
    "options_dict = {\n",
    "    # Zyla: C:\\ExperimentalData\\2021\\2021-02\\2021-02-22_D298_SiPV-20\n",
    "    \"base_dir\": r\"/home/samsc/ResearchData/Photovoltaics/2021-02-24_D298_SiPV-22/\",\n",
    "    \"filepath\": \"ODMR - Pulsed with IR_23\",\n",
    "\n",
    "    \"additional_bins\": 0,\n",
    "\n",
    "    \"system_name\": \"Zyla\",\n",
    "\n",
    "    \"ROI\": \"Full\",\n",
    "    \"ROI_start\": [10, 10],\n",
    "    \"ROI_end\": [200,200],\n",
    "\n",
    "    \"AOI_1_start\": [60, 145],\n",
    "    \"AOI_1_end\": [70, 155],\n",
    "    \"AOI_2_start\": [20, 20],\n",
    "    \"AOI_2_end\": [24, 24],\n",
    "    \"AOI_3_start\": [200, 200],\n",
    "    \"AOI_3_end\": [220, 220],\n",
    "    \"single_pixel_check\": [90, 150],\n",
    "\n",
    "    \"normalisation\": \"div\",\n",
    "\n",
    "    \"fit_backend\": \"scipyfit\",\n",
    "    \"fit_backend_comparison\": [\"scipyfit\"],\n",
    "    \"fit_pixels\": False,\n",
    "    \"force_fit\": False,\n",
    "\n",
    "    \"use_ROI_avg_fit_res_for_all_pixels\": True,\n",
    "\n",
    "    \"scipyfit_sub_threads\": 2,\n",
    "\n",
    "    \"fit_functions\":  {\"linear\": 1, \"lorentzian\": 8},\n",
    "\n",
    "    \"pos_guess\": [2714, 2768, 2811, 2860, 2915, 2958, 2993, 3034],\n",
    "    \"pos_range\": 25,\n",
    "\n",
    "    \"amp_guess\": -0.005,\n",
    "    \"amp_bounds\": [-0.0300, -0.0003],\n",
    "\n",
    "    \"fwhm_guess\": 9,\n",
    "    \"fwhm_bounds\": [5, 20],\n",
    "\n",
    "    \"c_guess\": 1,\n",
    "    \"c_bounds\": [0.9995, 1.0005],\n",
    "\n",
    "    \"m_guess\": 0,\n",
    "    \"m_bounds\": [-1e-6, 1e-6],\n",
    "\n",
    "    \"gpufit_tolerance\": 1e-12,\n",
    "    \"gpufit_max_iterations\": 25,\n",
    "    \"gpufit_estimator_id\": \"LSE\",\n",
    "\n",
    "    \"save_fig_type\": \"png\" # or try pdf\n",
    "}"
   ]
  },
  {
   "cell_type": "code",
   "execution_count": 4,
   "metadata": {
    "collapsed": false,
    "jupyter": {
     "outputs_hidden": false
    },
    "pycharm": {
     "name": "#%%\n"
    }
   },
   "outputs": [
    {
     "data": {
      "application/vnd.jupyter.widget-view+json": {
       "model_id": "dbad4c23c3604820a7d64941ecb89357",
       "version_major": 2,
       "version_minor": 0
      },
      "text/plain": [
       "Canvas(toolbar=Toolbar(toolitems=[('Home', 'Reset original view', 'home', 'home'), ('Back', 'Back to previous …"
      ]
     },
     "metadata": {},
     "output_type": "display_data"
    },
    {
     "data": {
      "application/vnd.jupyter.widget-view+json": {
       "model_id": "5e72aa166d9b4443bdf60a2e5b999857",
       "version_major": 2,
       "version_minor": 0
      },
      "text/plain": [
       "Canvas(toolbar=Toolbar(toolitems=[('Home', 'Reset original view', 'home', 'home'), ('Back', 'Back to previous …"
      ]
     },
     "metadata": {},
     "output_type": "display_data"
    },
    {
     "data": {
      "application/vnd.jupyter.widget-view+json": {
       "model_id": "0c6e129e10274bac80c6cf569bd71e3c",
       "version_major": 2,
       "version_minor": 0
      },
      "text/plain": [
       "Canvas(toolbar=Toolbar(toolitems=[('Home', 'Reset original view', 'home', 'home'), ('Back', 'Back to previous …"
      ]
     },
     "metadata": {},
     "output_type": "display_data"
    }
   ],
   "source": [
    "options = Qio.load_options(options_dict=options_dict, check_for_prev_result=True)\n",
    "Qplot.set_mpl_rcparams(options)\n",
    "image, prelim_sweep_list = Qio.load_image_and_sweep(options)\n",
    "PL_image, PL_image_ROI, sig, ref, sig_norm, single_pixel_pl, sweep_list = Qio.reshape_dataset(\n",
    "        options, image, prelim_sweep_list\n",
    "    )\n",
    "ROI_PL_fig = Qplot.plot_ROI_PL_image(options, PL_image)\n",
    "\n",
    "AOI_PL_fig = Qplot.plot_AOI_PL_images(options, PL_image_ROI)\n",
    "\n",
    "AOI_spectra_fig = Qplot.plot_AOI_spectra(options, sig, ref, sweep_list)\n",
    "\n",
    "Qio.save_PL_data(options, PL_image, PL_image_ROI)"
   ]
  },
  {
   "cell_type": "markdown",
   "metadata": {},
   "source": [
    "### Fit AOI, ROI averages, single pixel"
   ]
  },
  {
   "cell_type": "code",
   "execution_count": 5,
   "metadata": {},
   "outputs": [
    {
     "name": "stderr",
     "output_type": "stream",
     "text": [
      "/home/samsc/src/nv/QDMPy_proj/QDMPy_git/QDMPy/fit/_scipyfit.py:35: TqdmExperimentalWarning: Using `tqdm.autonotebook.tqdm` in notebook mode. Use `tqdm.tqdm` instead to force console mode (e.g. in jupyter console)\n",
      "  from tqdm.autonotebook import tqdm  # auto detects jupyter\n"
     ]
    },
    {
     "data": {
      "application/vnd.jupyter.widget-view+json": {
       "model_id": "c702881c810048aeb427b9eb0781c50b",
       "version_major": 2,
       "version_minor": 0
      },
      "text/plain": [
       "Canvas(toolbar=Toolbar(toolitems=[('Home', 'Reset original view', 'home', 'home'), ('Back', 'Back to previous …"
      ]
     },
     "metadata": {},
     "output_type": "display_data"
    },
    {
     "data": {
      "application/vnd.jupyter.widget-view+json": {
       "model_id": "6217d43c7710498ca206dc9e0e7b8532",
       "version_major": 2,
       "version_minor": 0
      },
      "text/plain": [
       "Canvas(toolbar=Toolbar(toolitems=[('Home', 'Reset original view', 'home', 'home'), ('Back', 'Back to previous …"
      ]
     },
     "metadata": {},
     "output_type": "display_data"
    }
   ],
   "source": [
    "fit_model = Qfit.define_fit_model(options)\n",
    "backend_ROI_results_lst = Qfit.fit_ROI_avg(options, sig_norm, sweep_list, fit_model)\n",
    "ROI_fit_fig = Qplot.plot_ROI_avg_fits(options, backend_ROI_results_lst)\n",
    "\n",
    "fit_result_collection_lst = Qfit.fit_AOIs(options, sig_norm, single_pixel_pl, sweep_list, fit_model, backend_ROI_results_lst)\n",
    "AOI_fit_fig = Qplot.plot_AOI_spectra_fit(options, sig, ref, sweep_list, fit_result_collection_lst, fit_model)"
   ]
  },
  {
   "cell_type": "markdown",
   "metadata": {},
   "source": [
    "### Fit pixels"
   ]
  },
  {
   "cell_type": "code",
   "execution_count": 6,
   "metadata": {
    "collapsed": false,
    "jupyter": {
     "outputs_hidden": false
    },
    "pycharm": {
     "name": "#%%\n"
    }
   },
   "outputs": [],
   "source": [
    "wanted_roi_result = next(filter(lambda result : result.fit_backend == options[\"fit_backend\"], backend_ROI_results_lst))\n",
    "if options[\"found_prev_result\"]:\n",
    "    pixel_fit_params = Qio.load_prev_fit_results(options)\n",
    "    sigmas = Qio.load_prev_fit_sigmas(options)\n",
    "    warnings.warn(\"Using previous fit results.\")\n",
    "elif options[\"fit_pixels\"]:\n",
    "    pixel_fit_params, sigmas = Qfit.fit_pixels(options, sig_norm, sweep_list, fit_model, wanted_roi_result)\n",
    "else:\n",
    "    pixel_fit_params = None # not fitting pixels, this stops plotting (e.g. via plot_param_images) from erroring\n",
    "    sigmas = None\n",
    "\n",
    "Qio.save_pixel_fit_results(options, pixel_fit_params)\n",
    "Qio.save_pixel_fit_sigmas(options, sigmas)"
   ]
  },
  {
   "cell_type": "code",
   "execution_count": 7,
   "metadata": {},
   "outputs": [],
   "source": [
    "Qio.save_options(options) # whilst testing"
   ]
  },
  {
   "cell_type": "markdown",
   "metadata": {},
   "source": [
    "### Plot (fit) parameters"
   ]
  },
  {
   "cell_type": "code",
   "execution_count": 8,
   "metadata": {
    "collapsed": false,
    "jupyter": {
     "outputs_hidden": false
    },
    "pycharm": {
     "name": "#%%\n"
    }
   },
   "outputs": [
    {
     "name": "stderr",
     "output_type": "stream",
     "text": [
      "/home/samsc/src/nv/QDMPy_proj/QDMPy_git/QDMPy/plot/fit.py:851: UserWarning: 'pixel_fit_params' arg to function 'plot_param_images' is 'None'.\n",
      "Probably no pixel fitting completed.\n",
      "  warnings.warn(\n"
     ]
    }
   ],
   "source": [
    "c_fig = Qplot.plot_param_images(options, fit_model, pixel_fit_params, \"c\")\n",
    "m_fig = Qplot.plot_param_images(options, fit_model, pixel_fit_params, \"m\")\n",
    "pos_fig = Qplot.plot_param_images(options, fit_model, pixel_fit_params, \"pos\")\n",
    "amp_fig = Qplot.plot_param_images(options, fit_model, pixel_fit_params, \"amp\")\n",
    "fwhm_fig = Qplot.plot_param_images(options, fit_model, pixel_fit_params, \"fwhm\")\n",
    "residual_fig = Qplot.plot_param_images(options, fit_model, pixel_fit_params, \"residual\")"
   ]
  },
  {
   "cell_type": "code",
   "execution_count": 9,
   "metadata": {},
   "outputs": [],
   "source": [
    "pos_sigma_plot = Qplot.plot_param_images(options, fit_model, sigmas, \"pos\", errorplot=True)"
   ]
  },
  {
   "cell_type": "markdown",
   "metadata": {},
   "source": [
    "### Initial guess and fit vs data (flattened)"
   ]
  },
  {
   "cell_type": "code",
   "execution_count": 10,
   "metadata": {
    "collapsed": false,
    "jupyter": {
     "outputs_hidden": false
    },
    "pycharm": {
     "name": "#%%\n"
    }
   },
   "outputs": [],
   "source": [
    "flat_pos_fig = Qplot.plot_params_flattened(options, fit_model, pixel_fit_params, wanted_roi_result, \"pos\", sigmas=sigmas, plot_bounds=False, plot_sigmas=False, errorevery=1000)\n",
    "flat_resid_fig = Qplot.plot_params_flattened(options, fit_model, pixel_fit_params, wanted_roi_result, \"residual\", sigmas=sigmas)"
   ]
  },
  {
   "cell_type": "markdown",
   "metadata": {},
   "source": [
    "### Load reference experiment - note, you can fit in this same notebook!"
   ]
  },
  {
   "cell_type": "code",
   "execution_count": 11,
   "metadata": {
    "collapsed": false,
    "jupyter": {
     "outputs_hidden": false
    },
    "pycharm": {
     "name": "#%%\n"
    }
   },
   "outputs": [
    {
     "name": "stderr",
     "output_type": "stream",
     "text": [
      "/home/samsc/src/nv/QDMPy_proj/QDMPy_git/QDMPy/io/fit.py:156: UserWarning: No reference experiment options dict provided, continuing without reference.\n",
      "  warnings.warn(\n"
     ]
    }
   ],
   "source": [
    "ref_options_dir = None # r\"/home/samsc/ResearchData/Photovoltaics/2021-02-24_D298_SiPV-22/ODMR - Pulsed without IR_12_processed_bin_4/\" # if you want to use a reference experiment\n",
    "ref_fit_params, ref_sigmas = Qio.load_reference_experiment_fit_results(options, ref_options=None, ref_options_dir=ref_options_dir)"
   ]
  },
  {
   "cell_type": "markdown",
   "metadata": {},
   "source": [
    "### Calculate B_nvs, plot sig - ref"
   ]
  },
  {
   "cell_type": "code",
   "execution_count": 12,
   "metadata": {
    "collapsed": false,
    "jupyter": {
     "outputs_hidden": false
    },
    "pycharm": {
     "name": "#%%\n"
    }
   },
   "outputs": [],
   "source": [
    "field_res = Qfield.odmr_field_retrieval(options, pixel_fit_params, ref_fit_params)\n",
    "(sig_bnvs, ref_bnvs, bnvs), (sig_dshifts, ref_dshifts), (sig_params, ref_params), (sig_field_sigmas, ref_field_sigmas) = field_res"
   ]
  },
  {
   "cell_type": "code",
   "execution_count": 13,
   "metadata": {},
   "outputs": [],
   "source": [
    "bnv_sig_plot = Qplot.plot_bnvs_and_dshifts(options, \"sig\", sig_bnvs, sig_dshifts)\n",
    "bnv_ref_plot = Qplot.plot_bnvs_and_dshifts(options, \"ref\", ref_bnvs, ref_dshifts)\n",
    "bnvs_plot = Qplot.plot_bnvs_and_dshifts(options, \"sig_sub_ref\", bnvs, [])"
   ]
  },
  {
   "cell_type": "code",
   "execution_count": 14,
   "metadata": {},
   "outputs": [],
   "source": [
    "bfield_sig_plot = Qplot.plot_bfield(options, \"sig\", sig_params)\n",
    "bfield_ref_plot = Qplot.plot_bfield(options, \"ref\", ref_params)"
   ]
  },
  {
   "cell_type": "code",
   "execution_count": 15,
   "metadata": {},
   "outputs": [],
   "source": [
    "D_sig_plot = Qplot.plot_dshift_fit(options, \"sig\", sig_params)\n",
    "D_ref_plot = Qplot.plot_dshift_fit(options, \"ref\", ref_params)"
   ]
  },
  {
   "cell_type": "code",
   "execution_count": 16,
   "metadata": {},
   "outputs": [],
   "source": [
    "Bx_fit_flat_plot = Qplot.field_param_flattened(options, \"sig\", \"Bx\", sig_params, sigmas=sig_field_sigmas, y_label=\"B (G)\", errorevery=1000)"
   ]
  },
  {
   "cell_type": "markdown",
   "metadata": {},
   "source": [
    "### Save and view options dict"
   ]
  },
  {
   "cell_type": "code",
   "execution_count": 17,
   "metadata": {
    "collapsed": false,
    "jupyter": {
     "outputs_hidden": false
    },
    "pycharm": {
     "name": "#%%\n"
    }
   },
   "outputs": [],
   "source": [
    "Qio.save_options(options)\n",
    "# print(Qio.dict_to_json_str(options))"
   ]
  },
  {
   "cell_type": "code",
   "execution_count": null,
   "metadata": {
    "collapsed": false,
    "jupyter": {
     "outputs_hidden": false
    },
    "pycharm": {
     "name": "#%%\n"
    }
   },
   "outputs": [],
   "source": []
  }
 ],
 "metadata": {
  "kernelspec": {
   "display_name": "Python 3",
   "language": "python",
   "name": "python3"
  },
  "language_info": {
   "codemirror_mode": {
    "name": "ipython",
    "version": 3
   },
   "file_extension": ".py",
   "mimetype": "text/x-python",
   "name": "python",
   "nbconvert_exporter": "python",
   "pygments_lexer": "ipython3",
   "version": "3.8.7"
  },
  "widgets": {
   "application/vnd.jupyter.widget-state+json": {
    "state": {
     "0c6e129e10274bac80c6cf569bd71e3c": {
      "model_module": "jupyter-matplotlib",
      "model_module_version": "^0.8.2",
      "model_name": "MPLCanvasModel",
      "state": {
       "_cursor": "default",
       "_figure_label": "Figure 3",
       "_height": 768,
       "_image_mode": "diff",
       "_model_module_version": "^0.8.2",
       "_view_module_version": "^0.8.2",
       "_width": 1536,
       "layout": "IPY_MODEL_906e1ef6b8e0490aa6550516dd6f6aaa",
       "toolbar": "IPY_MODEL_e38af5fa04ec48d6a4636e4b379d0083",
       "toolbar_position": "left"
      }
     },
     "11ec280cda6c46fdb8eb8a48e9b64ab4": {
      "model_module": "@jupyter-widgets/base",
      "model_module_version": "1.2.0",
      "model_name": "LayoutModel",
      "state": {}
     },
     "19ab857a07ab4107a8ab445a67092186": {
      "model_module": "@jupyter-widgets/base",
      "model_module_version": "1.2.0",
      "model_name": "LayoutModel",
      "state": {}
     },
     "318769c26e844fd79197422dc39c8bc8": {
      "model_module": "@jupyter-widgets/base",
      "model_module_version": "1.2.0",
      "model_name": "LayoutModel",
      "state": {}
     },
     "37e943cfd64e44dba1461a812988d9ac": {
      "model_module": "@jupyter-widgets/base",
      "model_module_version": "1.2.0",
      "model_name": "LayoutModel",
      "state": {}
     },
     "463eb61f7ed04cb9920de2a776d7c1ef": {
      "model_module": "@jupyter-widgets/base",
      "model_module_version": "1.2.0",
      "model_name": "LayoutModel",
      "state": {}
     },
     "48384e6bcf954a61a6ff2498cc52ca03": {
      "model_module": "@jupyter-widgets/base",
      "model_module_version": "1.2.0",
      "model_name": "LayoutModel",
      "state": {}
     },
     "5e72aa166d9b4443bdf60a2e5b999857": {
      "model_module": "jupyter-matplotlib",
      "model_module_version": "^0.8.2",
      "model_name": "MPLCanvasModel",
      "state": {
       "_cursor": "default",
       "_figure_label": "Figure 2",
       "_height": 384,
       "_model_module_version": "^0.8.2",
       "_view_module_version": "^0.8.2",
       "_width": 512,
       "layout": "IPY_MODEL_a5b7e602e7bd4157953c81da68141ea0",
       "toolbar": "IPY_MODEL_609dde662d864cf788a6d6d0a33d85ab",
       "toolbar_position": "left"
      }
     },
     "609dde662d864cf788a6d6d0a33d85ab": {
      "model_module": "jupyter-matplotlib",
      "model_module_version": "^0.8.2",
      "model_name": "ToolbarModel",
      "state": {
       "_model_module_version": "^0.8.2",
       "_view_module_version": "^0.8.2",
       "layout": "IPY_MODEL_19ab857a07ab4107a8ab445a67092186",
       "toolitems": [
        [
         "Home",
         "Reset original view",
         "home",
         "home"
        ],
        [
         "Back",
         "Back to previous view",
         "arrow-left",
         "back"
        ],
        [
         "Forward",
         "Forward to next view",
         "arrow-right",
         "forward"
        ],
        [
         "Pan",
         "Left button pans, Right button zooms\nx/y fixes axis, CTRL fixes aspect",
         "arrows",
         "pan"
        ],
        [
         "Zoom",
         "Zoom to rectangle\nx/y fixes axis, CTRL fixes aspect",
         "square-o",
         "zoom"
        ],
        [
         "Download",
         "Download plot",
         "floppy-o",
         "save_figure"
        ]
       ]
      }
     },
     "6217d43c7710498ca206dc9e0e7b8532": {
      "model_module": "jupyter-matplotlib",
      "model_module_version": "^0.8.2",
      "model_name": "MPLCanvasModel",
      "state": {
       "_cursor": "default",
       "_figure_label": "Figure 5",
       "_height": 1920,
       "_message": "x=2781. y=5.7008e+07",
       "_model_module_version": "^0.8.2",
       "_view_module_version": "^0.8.2",
       "_width": 1536,
       "layout": "IPY_MODEL_37e943cfd64e44dba1461a812988d9ac",
       "toolbar": "IPY_MODEL_acd793488b564b1b89490b0ec131e390",
       "toolbar_position": "left"
      }
     },
     "906e1ef6b8e0490aa6550516dd6f6aaa": {
      "model_module": "@jupyter-widgets/base",
      "model_module_version": "1.2.0",
      "model_name": "LayoutModel",
      "state": {}
     },
     "954a6b26fe474aeebbaeefd91df08ad3": {
      "model_module": "@jupyter-widgets/base",
      "model_module_version": "1.2.0",
      "model_name": "LayoutModel",
      "state": {}
     },
     "a5b7e602e7bd4157953c81da68141ea0": {
      "model_module": "@jupyter-widgets/base",
      "model_module_version": "1.2.0",
      "model_name": "LayoutModel",
      "state": {}
     },
     "acd793488b564b1b89490b0ec131e390": {
      "model_module": "jupyter-matplotlib",
      "model_module_version": "^0.8.2",
      "model_name": "ToolbarModel",
      "state": {
       "_model_module_version": "^0.8.2",
       "_view_module_version": "^0.8.2",
       "layout": "IPY_MODEL_318769c26e844fd79197422dc39c8bc8",
       "toolitems": [
        [
         "Home",
         "Reset original view",
         "home",
         "home"
        ],
        [
         "Back",
         "Back to previous view",
         "arrow-left",
         "back"
        ],
        [
         "Forward",
         "Forward to next view",
         "arrow-right",
         "forward"
        ],
        [
         "Pan",
         "Left button pans, Right button zooms\nx/y fixes axis, CTRL fixes aspect",
         "arrows",
         "pan"
        ],
        [
         "Zoom",
         "Zoom to rectangle\nx/y fixes axis, CTRL fixes aspect",
         "square-o",
         "zoom"
        ],
        [
         "Download",
         "Download plot",
         "floppy-o",
         "save_figure"
        ]
       ]
      }
     },
     "becf88ecfe83493898bd91baf825c953": {
      "model_module": "jupyter-matplotlib",
      "model_module_version": "^0.8.2",
      "model_name": "ToolbarModel",
      "state": {
       "_model_module_version": "^0.8.2",
       "_view_module_version": "^0.8.2",
       "layout": "IPY_MODEL_463eb61f7ed04cb9920de2a776d7c1ef",
       "toolitems": [
        [
         "Home",
         "Reset original view",
         "home",
         "home"
        ],
        [
         "Back",
         "Back to previous view",
         "arrow-left",
         "back"
        ],
        [
         "Forward",
         "Forward to next view",
         "arrow-right",
         "forward"
        ],
        [
         "Pan",
         "Left button pans, Right button zooms\nx/y fixes axis, CTRL fixes aspect",
         "arrows",
         "pan"
        ],
        [
         "Zoom",
         "Zoom to rectangle\nx/y fixes axis, CTRL fixes aspect",
         "square-o",
         "zoom"
        ],
        [
         "Download",
         "Download plot",
         "floppy-o",
         "save_figure"
        ]
       ]
      }
     },
     "c702881c810048aeb427b9eb0781c50b": {
      "model_module": "jupyter-matplotlib",
      "model_module_version": "^0.8.2",
      "model_name": "MPLCanvasModel",
      "state": {
       "_cursor": "default",
       "_figure_label": "Figure 4",
       "_height": 575,
       "_message": "x=2997.5 y=−0.00113",
       "_model_module_version": "^0.8.2",
       "_view_module_version": "^0.8.2",
       "_width": 1024,
       "layout": "IPY_MODEL_954a6b26fe474aeebbaeefd91df08ad3",
       "toolbar": "IPY_MODEL_becf88ecfe83493898bd91baf825c953",
       "toolbar_position": "left"
      }
     },
     "dbad4c23c3604820a7d64941ecb89357": {
      "model_module": "jupyter-matplotlib",
      "model_module_version": "^0.8.2",
      "model_name": "MPLCanvasModel",
      "state": {
       "_cursor": "default",
       "_figure_label": "Figure 1",
       "_height": 384,
       "_model_module_version": "^0.8.2",
       "_view_module_version": "^0.8.2",
       "_width": 512,
       "layout": "IPY_MODEL_48384e6bcf954a61a6ff2498cc52ca03",
       "toolbar": "IPY_MODEL_fafa21a2173e47b3abf52064e22ecdd7",
       "toolbar_position": "left"
      }
     },
     "e38af5fa04ec48d6a4636e4b379d0083": {
      "model_module": "jupyter-matplotlib",
      "model_module_version": "^0.8.2",
      "model_name": "ToolbarModel",
      "state": {
       "_model_module_version": "^0.8.2",
       "_view_module_version": "^0.8.2",
       "layout": "IPY_MODEL_f48f6fcde54a4f12b0c6521edd388847",
       "toolitems": [
        [
         "Home",
         "Reset original view",
         "home",
         "home"
        ],
        [
         "Back",
         "Back to previous view",
         "arrow-left",
         "back"
        ],
        [
         "Forward",
         "Forward to next view",
         "arrow-right",
         "forward"
        ],
        [
         "Pan",
         "Left button pans, Right button zooms\nx/y fixes axis, CTRL fixes aspect",
         "arrows",
         "pan"
        ],
        [
         "Zoom",
         "Zoom to rectangle\nx/y fixes axis, CTRL fixes aspect",
         "square-o",
         "zoom"
        ],
        [
         "Download",
         "Download plot",
         "floppy-o",
         "save_figure"
        ]
       ]
      }
     },
     "f48f6fcde54a4f12b0c6521edd388847": {
      "model_module": "@jupyter-widgets/base",
      "model_module_version": "1.2.0",
      "model_name": "LayoutModel",
      "state": {}
     },
     "fafa21a2173e47b3abf52064e22ecdd7": {
      "model_module": "jupyter-matplotlib",
      "model_module_version": "^0.8.2",
      "model_name": "ToolbarModel",
      "state": {
       "_model_module_version": "^0.8.2",
       "_view_module_version": "^0.8.2",
       "layout": "IPY_MODEL_11ec280cda6c46fdb8eb8a48e9b64ab4",
       "toolitems": [
        [
         "Home",
         "Reset original view",
         "home",
         "home"
        ],
        [
         "Back",
         "Back to previous view",
         "arrow-left",
         "back"
        ],
        [
         "Forward",
         "Forward to next view",
         "arrow-right",
         "forward"
        ],
        [
         "Pan",
         "Left button pans, Right button zooms\nx/y fixes axis, CTRL fixes aspect",
         "arrows",
         "pan"
        ],
        [
         "Zoom",
         "Zoom to rectangle\nx/y fixes axis, CTRL fixes aspect",
         "square-o",
         "zoom"
        ],
        [
         "Download",
         "Download plot",
         "floppy-o",
         "save_figure"
        ]
       ]
      }
     }
    },
    "version_major": 2,
    "version_minor": 0
   }
  }
 },
 "nbformat": 4,
 "nbformat_minor": 4
}
