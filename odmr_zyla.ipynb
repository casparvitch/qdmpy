{
 "cells": [
  {
   "cell_type": "code",
   "execution_count": 1,
   "id": "digital-macedonia",
   "metadata": {
    "slideshow": {
     "slide_type": "slide"
    }
   },
   "outputs": [],
   "source": [
    "import QDMPy.io as Qio\n",
    "import QDMPy.fit as Qfit\n",
    "import QDMPy.plot as Qplot\n",
    "import QDMPy.field as Qfield\n",
    "\n",
    "import matplotlib\n",
    "import matplotlib.pyplot as plt\n",
    "import warnings"
   ]
  },
  {
   "cell_type": "code",
   "execution_count": 2,
   "id": "italic-finance",
   "metadata": {},
   "outputs": [],
   "source": [
    "# '%matplotlib widget' allows interactive plots in jupyterlab\n",
    "# use ''%matplotlib inline' to allow export to pdf\n",
    "%matplotlib widget"
   ]
  },
  {
   "cell_type": "markdown",
   "id": "bearing-strengthening",
   "metadata": {},
   "source": [
    "### Load raw data"
   ]
  },
  {
   "cell_type": "code",
   "execution_count": 3,
   "id": "adverse-comedy",
   "metadata": {},
   "outputs": [],
   "source": [
    "options_dict = {\n",
    "    # Argus: C:\\\\src\\\\QDMPY_test_image\n",
    "    # Sam: /home/samsc/ResearchData/test_images/\n",
    "    \"base_dir\": \"/home/samsc/ResearchData/Photovoltaics/2021-03-04_D298_SiPV-22_solo/\",\n",
    "    \"filepath\": \"ODMR - Pulsed with IR_7\",\n",
    "    \"custom_output_dir_suffix\": \"_{ROI}_bin_{total_bin}\",\n",
    "    \n",
    "    \"additional_bins\": 4,\n",
    "    \n",
    "    \"objective_mag\": 4,\n",
    "\n",
    "    \"system_name\": \"Zyla\",\n",
    "\n",
    "    \"ROI\": \"Full\", \n",
    "    \"ROI_start\": [10, 30],\n",
    "    \"ROI_end\": [20,40],\n",
    "    \n",
    "    \"AOI_1_start\": [30, 40],\n",
    "    \"AOI_1_end\": [40, 45], \n",
    "    \"AOI_2_start\": [20, 20],\n",
    "    \"AOI_2_end\": [24, 24], \n",
    "    \"AOI_3_start\": [30, 20],\n",
    "    \"AOI_3_end\": [32, 24], \n",
    "    \"single_pixel_check\": [90, 150],\n",
    "    \n",
    "    \"fit_backend\": \"scipyfit\",\n",
    "    \"fit_backend_comparison\": [\"scipyfit\"],\n",
    "    \"fit_pixels\": True, \n",
    "    \"force_fit\": False, \n",
    "    \n",
    "    \"use_ROI_avg_fit_res_for_all_pixels\": True,\n",
    "    \n",
    "    \"scipyfit_sub_threads\": 2, \n",
    "\n",
    "    \"fit_functions\":  {\"linear\": 1, \"lorentzian\": 8},\n",
    "\n",
    "    \"pos_guess\": [2710, 2769, 2814, 2866, 2908, 2956, 2993, 3037],\n",
    "    \"pos_range\": 25,\n",
    "\n",
    "    \"amp_guess\": -0.02,\n",
    "    \"amp_bounds\": [-0.0300, -0.0003],\n",
    "    \n",
    "    \"save_fig_type\": \"pdf\",\n",
    "    \n",
    "    \"freqs_to_use\": [1, 1, 1, 1, 1, 1, 1, 1],\n",
    "    \"diamond_ori\": \"<100>_<110>\", # CVD\n",
    "    \n",
    "    \"bias_mag\": 80,\n",
    "    \"bias_theta\": 20,\n",
    "    \"bias_phi\": 150,\n",
    "    \n",
    "    \"calc_field_pixels\": True,\n",
    "    \"force_field_calc\": False,\n",
    "    \n",
    "    \"bfield_bground_method\": \"poly\",\n",
    "    \"bfield_bground_params\": {\n",
    "        \"order\": 1\n",
    "    }\n",
    "}\n",
    "# if you want to use a reference experiment {ensure you run this even if 'None' as it sets up output dirs etc.}\n",
    "ref_options_dir = \"/home/samsc/ResearchData/Photovoltaics/2021-03-04_D298_SiPV-22_solo/ODMR - Pulsed without IR_15_Full_bin_16/\""
   ]
  },
  {
   "cell_type": "code",
   "execution_count": 4,
   "id": "exciting-cincinnati",
   "metadata": {},
   "outputs": [],
   "source": [
    "options = Qio.load_options(options_dict=options_dict, check_for_prev_result=True)\n",
    "Qplot.set_mpl_rcparams(options)"
   ]
  },
  {
   "cell_type": "markdown",
   "id": "neutral-worthy",
   "metadata": {},
   "source": [
    "### Load data"
   ]
  },
  {
   "cell_type": "code",
   "execution_count": 5,
   "id": "serious-stick",
   "metadata": {},
   "outputs": [
    {
     "name": "stderr",
     "output_type": "stream",
     "text": [
      "/home/samsc/src/nv/QDMPy_proj/QDMPy_git/QDMPy/io/raw.py:307: UserWarning: Avoiding IndexError for single_pixel_check (setting pixel check to centre of image):\n",
      "index 150 is out of bounds for axis 1 with size 96\n",
      "  warnings.warn(\n"
     ]
    },
    {
     "data": {
      "application/vnd.jupyter.widget-view+json": {
       "model_id": "b79b61305393423ca0d93a767a33ac36",
       "version_major": 2,
       "version_minor": 0
      },
      "text/plain": [
       "Canvas(toolbar=Toolbar(toolitems=[('Home', 'Reset original view', 'home', 'home'), ('Back', 'Back to previous …"
      ]
     },
     "metadata": {},
     "output_type": "display_data"
    },
    {
     "data": {
      "application/vnd.jupyter.widget-view+json": {
       "model_id": "2685bd265c8243a4b877a109cb7e6534",
       "version_major": 2,
       "version_minor": 0
      },
      "text/plain": [
       "Canvas(toolbar=Toolbar(toolitems=[('Home', 'Reset original view', 'home', 'home'), ('Back', 'Back to previous …"
      ]
     },
     "metadata": {},
     "output_type": "display_data"
    },
    {
     "data": {
      "application/vnd.jupyter.widget-view+json": {
       "model_id": "e1ef55119faa445c89adecf93a80d125",
       "version_major": 2,
       "version_minor": 0
      },
      "text/plain": [
       "Canvas(toolbar=Toolbar(toolitems=[('Home', 'Reset original view', 'home', 'home'), ('Back', 'Back to previous …"
      ]
     },
     "metadata": {},
     "output_type": "display_data"
    }
   ],
   "source": [
    "image, prelim_sweep_list = Qio.load_image_and_sweep(options)\n",
    "PL_image, PL_image_ROI, sig, ref, sig_norm, single_pixel_pl, sweep_list = Qio.reshape_dataset(\n",
    "        options, image, prelim_sweep_list\n",
    "    )\n",
    "ROI_PL_fig = Qplot.plot_ROI_PL_image(options, PL_image)\n",
    "\n",
    "AOI_PL_fig = Qplot.plot_AOI_PL_images(options, PL_image_ROI)\n",
    "\n",
    "AOI_spectra_fig = Qplot.plot_AOI_spectra(options, sig, ref, sweep_list)\n",
    "\n",
    "Qio.save_PL_data(options, PL_image, PL_image_ROI)"
   ]
  },
  {
   "cell_type": "markdown",
   "id": "stylish-collaboration",
   "metadata": {},
   "source": [
    "### Load reference experiment - note, you can fit in this same notebook!"
   ]
  },
  {
   "cell_type": "code",
   "execution_count": 6,
   "id": "miniature-europe",
   "metadata": {},
   "outputs": [],
   "source": [
    "# below: alternative is to just have the dictionary already loaded (above this is called `pixel_fit_params`)\n",
    "ref_fit_params, ref_sigmas = Qio.load_reference_experiment_fit_results(options, ref_options=None, ref_options_dir=ref_options_dir)"
   ]
  },
  {
   "cell_type": "markdown",
   "id": "unlimited-craps",
   "metadata": {},
   "source": [
    "### Fit AOI, ROI averages, single pixel"
   ]
  },
  {
   "cell_type": "code",
   "execution_count": 7,
   "id": "bearing-camcorder",
   "metadata": {},
   "outputs": [
    {
     "name": "stderr",
     "output_type": "stream",
     "text": [
      "/home/samsc/src/nv/QDMPy_proj/QDMPy_git/QDMPy/fit/_scipyfit.py:35: TqdmExperimentalWarning: Using `tqdm.autonotebook.tqdm` in notebook mode. Use `tqdm.tqdm` instead to force console mode (e.g. in jupyter console)\n",
      "  from tqdm.autonotebook import tqdm  # auto detects jupyter\n"
     ]
    },
    {
     "data": {
      "application/vnd.jupyter.widget-view+json": {
       "model_id": "9e35c4790833482c9020018890d0fecc",
       "version_major": 2,
       "version_minor": 0
      },
      "text/plain": [
       "Canvas(toolbar=Toolbar(toolitems=[('Home', 'Reset original view', 'home', 'home'), ('Back', 'Back to previous …"
      ]
     },
     "metadata": {},
     "output_type": "display_data"
    },
    {
     "data": {
      "application/vnd.jupyter.widget-view+json": {
       "model_id": "4c7a93e64af44b46b3f1a572e2100177",
       "version_major": 2,
       "version_minor": 0
      },
      "text/plain": [
       "Canvas(toolbar=Toolbar(toolitems=[('Home', 'Reset original view', 'home', 'home'), ('Back', 'Back to previous …"
      ]
     },
     "metadata": {},
     "output_type": "display_data"
    }
   ],
   "source": [
    "fit_model = Qfit.define_fit_model(options)\n",
    "backend_ROI_results_lst = Qfit.fit_ROI_avg(options, sig_norm, sweep_list, fit_model)\n",
    "ROI_fit_fig = Qplot.plot_ROI_avg_fits(options, backend_ROI_results_lst)\n",
    "\n",
    "fit_result_collection_lst = Qfit.fit_AOIs(options, sig_norm, single_pixel_pl, sweep_list, fit_model, backend_ROI_results_lst)\n",
    "AOI_fit_fig = Qplot.plot_AOI_spectra_fit(options, sig, ref, sweep_list, fit_result_collection_lst, fit_model)"
   ]
  },
  {
   "cell_type": "markdown",
   "id": "discrete-theorem",
   "metadata": {},
   "source": [
    "### Fit pixels"
   ]
  },
  {
   "cell_type": "code",
   "execution_count": 8,
   "id": "retired-lawrence",
   "metadata": {},
   "outputs": [
    {
     "name": "stderr",
     "output_type": "stream",
     "text": [
      "/home/samsc/src/nv/QDMPy_proj/QDMPy_git/QDMPy/fit/interface.py:281: UserWarning: Using previous fit results.\n",
      "  warnings.warn(\"Using previous fit results.\")\n"
     ]
    }
   ],
   "source": [
    "wanted_roi_result = next(\n",
    "    filter(\n",
    "        lambda result: result.fit_backend == options[\"fit_backend\"], backend_ROI_results_lst\n",
    "    )\n",
    ") # ROI fit result for chosen fit backend\n",
    "pixel_fit_params, sigmas = Qfit.get_pixel_fit_results(options, sig_norm, sweep_list, fit_model, wanted_roi_result)\n",
    "\n",
    "Qio.save_pixel_fit_results(options, pixel_fit_params)\n",
    "Qio.save_pixel_fit_sigmas(options, sigmas)"
   ]
  },
  {
   "cell_type": "markdown",
   "id": "paperback-ceiling",
   "metadata": {},
   "source": [
    "### Plot (fit) parameters"
   ]
  },
  {
   "cell_type": "code",
   "execution_count": 9,
   "id": "married-accordance",
   "metadata": {},
   "outputs": [
    {
     "data": {
      "application/vnd.jupyter.widget-view+json": {
       "model_id": "5152659a228c4b35b3f2d7f714de40b8",
       "version_major": 2,
       "version_minor": 0
      },
      "text/plain": [
       "Canvas(toolbar=Toolbar(toolitems=[('Home', 'Reset original view', 'home', 'home'), ('Back', 'Back to previous …"
      ]
     },
     "metadata": {},
     "output_type": "display_data"
    },
    {
     "data": {
      "application/vnd.jupyter.widget-view+json": {
       "model_id": "d8677016b11f43ac94070f848c4ea1d3",
       "version_major": 2,
       "version_minor": 0
      },
      "text/plain": [
       "Canvas(toolbar=Toolbar(toolitems=[('Home', 'Reset original view', 'home', 'home'), ('Back', 'Back to previous …"
      ]
     },
     "metadata": {},
     "output_type": "display_data"
    },
    {
     "data": {
      "application/vnd.jupyter.widget-view+json": {
       "model_id": "9003f53a23ed464d9445773eecf98a84",
       "version_major": 2,
       "version_minor": 0
      },
      "text/plain": [
       "Canvas(toolbar=Toolbar(toolitems=[('Home', 'Reset original view', 'home', 'home'), ('Back', 'Back to previous …"
      ]
     },
     "metadata": {},
     "output_type": "display_data"
    },
    {
     "data": {
      "application/vnd.jupyter.widget-view+json": {
       "model_id": "f0e1db80ade345749723cabf40127641",
       "version_major": 2,
       "version_minor": 0
      },
      "text/plain": [
       "Canvas(toolbar=Toolbar(toolitems=[('Home', 'Reset original view', 'home', 'home'), ('Back', 'Back to previous …"
      ]
     },
     "metadata": {},
     "output_type": "display_data"
    },
    {
     "data": {
      "application/vnd.jupyter.widget-view+json": {
       "model_id": "aed9c42da4ab41178e02db8c4a71764d",
       "version_major": 2,
       "version_minor": 0
      },
      "text/plain": [
       "Canvas(toolbar=Toolbar(toolitems=[('Home', 'Reset original view', 'home', 'home'), ('Back', 'Back to previous …"
      ]
     },
     "metadata": {},
     "output_type": "display_data"
    },
    {
     "data": {
      "application/vnd.jupyter.widget-view+json": {
       "model_id": "fa2443833f7743f4be54c88120301c28",
       "version_major": 2,
       "version_minor": 0
      },
      "text/plain": [
       "Canvas(toolbar=Toolbar(toolitems=[('Home', 'Reset original view', 'home', 'home'), ('Back', 'Back to previous …"
      ]
     },
     "metadata": {},
     "output_type": "display_data"
    }
   ],
   "source": [
    "c_fig = Qplot.plot_param_images(options, fit_model, pixel_fit_params, \"c\")\n",
    "m_fig = Qplot.plot_param_images(options, fit_model, pixel_fit_params, \"m\")\n",
    "pos_fig = Qplot.plot_param_images(options, fit_model, pixel_fit_params, \"pos\")\n",
    "amp_fig = Qplot.plot_param_images(options, fit_model, pixel_fit_params, \"amp\")\n",
    "fwhm_fig = Qplot.plot_param_images(options, fit_model, pixel_fit_params, \"fwhm\")\n",
    "residual_fig = Qplot.plot_param_images(options, fit_model, pixel_fit_params, \"residual\")"
   ]
  },
  {
   "cell_type": "code",
   "execution_count": 10,
   "id": "polyphonic-jonathan",
   "metadata": {},
   "outputs": [
    {
     "data": {
      "application/vnd.jupyter.widget-view+json": {
       "model_id": "dd424327900e4006899264433590ea77",
       "version_major": 2,
       "version_minor": 0
      },
      "text/plain": [
       "Canvas(toolbar=Toolbar(toolitems=[('Home', 'Reset original view', 'home', 'home'), ('Back', 'Back to previous …"
      ]
     },
     "metadata": {},
     "output_type": "display_data"
    }
   ],
   "source": [
    "pos_sigma_plot = Qplot.plot_param_images(options, fit_model, sigmas, \"pos\", errorplot=True)"
   ]
  },
  {
   "cell_type": "markdown",
   "id": "accredited-alberta",
   "metadata": {},
   "source": [
    "### Initial guess and fit vs data (flattened)"
   ]
  },
  {
   "cell_type": "code",
   "execution_count": 11,
   "id": "surprising-edgar",
   "metadata": {},
   "outputs": [
    {
     "data": {
      "application/vnd.jupyter.widget-view+json": {
       "model_id": "2c39bbee1533494c8ad4cf561a672e47",
       "version_major": 2,
       "version_minor": 0
      },
      "text/plain": [
       "Canvas(toolbar=Toolbar(toolitems=[('Home', 'Reset original view', 'home', 'home'), ('Back', 'Back to previous …"
      ]
     },
     "metadata": {},
     "output_type": "display_data"
    },
    {
     "data": {
      "application/vnd.jupyter.widget-view+json": {
       "model_id": "670b95312b3e47efb23e9becb9bd8bea",
       "version_major": 2,
       "version_minor": 0
      },
      "text/plain": [
       "Canvas(toolbar=Toolbar(toolitems=[('Home', 'Reset original view', 'home', 'home'), ('Back', 'Back to previous …"
      ]
     },
     "metadata": {},
     "output_type": "display_data"
    }
   ],
   "source": [
    "flat_pos_fig = Qplot.plot_params_flattened(options, fit_model, pixel_fit_params, wanted_roi_result, \"pos\", sigmas=sigmas, plot_bounds=False, plot_sigmas=False, errorevery=1000)\n",
    "flat_resid_fig = Qplot.plot_params_flattened(options, fit_model, pixel_fit_params, wanted_roi_result, \"residual\", sigmas=sigmas)"
   ]
  },
  {
   "cell_type": "markdown",
   "id": "wrapped-greeting",
   "metadata": {},
   "source": [
    "### Field retrieval"
   ]
  },
  {
   "cell_type": "code",
   "execution_count": 12,
   "id": "judicial-innocent",
   "metadata": {},
   "outputs": [
    {
     "data": {
      "application/vnd.jupyter.widget-view+json": {
       "model_id": "66aa4368d79c498cb160867c3ee6ae72",
       "version_major": 2,
       "version_minor": 0
      },
      "text/plain": [
       "  0%|          | 0/9216 [00:00<?, ? PX/s]"
      ]
     },
     "metadata": {},
     "output_type": "display_data"
    },
    {
     "data": {
      "application/vnd.jupyter.widget-view+json": {
       "model_id": "7075bf3f4ef840cab490e375723825be",
       "version_major": 2,
       "version_minor": 0
      },
      "text/plain": [
       "  0%|          | 0/9216 [00:00<?, ? PX/s]"
      ]
     },
     "metadata": {},
     "output_type": "display_data"
    }
   ],
   "source": [
    "field_res = Qfield.odmr_field_retrieval(options, pixel_fit_params, ref_fit_params)\n",
    "(sig_bnvs, ref_bnvs, bnvs), (sig_dshifts, ref_dshifts), (sig_params, ref_params, field_params), (sig_field_sigmas, ref_field_sigmas, field_sigmas) = field_res\n",
    "Qio.save_field_calcs(options, *field_res)"
   ]
  },
  {
   "cell_type": "code",
   "execution_count": 13,
   "id": "excessive-tunnel",
   "metadata": {},
   "outputs": [
    {
     "data": {
      "application/vnd.jupyter.widget-view+json": {
       "model_id": "169c6deb7d71484bb82a4992506c1f2f",
       "version_major": 2,
       "version_minor": 0
      },
      "text/plain": [
       "Canvas(toolbar=Toolbar(toolitems=[('Home', 'Reset original view', 'home', 'home'), ('Back', 'Back to previous …"
      ]
     },
     "metadata": {},
     "output_type": "display_data"
    },
    {
     "data": {
      "application/vnd.jupyter.widget-view+json": {
       "model_id": "e7bae70ccf18447786cd3196ca7ead01",
       "version_major": 2,
       "version_minor": 0
      },
      "text/plain": [
       "Canvas(toolbar=Toolbar(toolitems=[('Home', 'Reset original view', 'home', 'home'), ('Back', 'Back to previous …"
      ]
     },
     "metadata": {},
     "output_type": "display_data"
    },
    {
     "data": {
      "application/vnd.jupyter.widget-view+json": {
       "model_id": "8edde1277de84d68abf0fe1186d9913f",
       "version_major": 2,
       "version_minor": 0
      },
      "text/plain": [
       "Canvas(toolbar=Toolbar(toolitems=[('Home', 'Reset original view', 'home', 'home'), ('Back', 'Back to previous …"
      ]
     },
     "metadata": {},
     "output_type": "display_data"
    }
   ],
   "source": [
    "bnv_sig_plot = Qplot.plot_bnvs_and_dshifts(options, \"sig\", sig_bnvs, sig_dshifts)\n",
    "bnv_ref_plot = Qplot.plot_bnvs_and_dshifts(options, \"ref\", ref_bnvs, ref_dshifts)\n",
    "bnvs_plot = Qplot.plot_bnvs_and_dshifts(options, \"sig_sub_ref\", bnvs, [])"
   ]
  },
  {
   "cell_type": "code",
   "execution_count": 14,
   "id": "closed-childhood",
   "metadata": {},
   "outputs": [
    {
     "data": {
      "application/vnd.jupyter.widget-view+json": {
       "model_id": "b1b34d07290f47f6850d268226a5a6ba",
       "version_major": 2,
       "version_minor": 0
      },
      "text/plain": [
       "Canvas(toolbar=Toolbar(toolitems=[('Home', 'Reset original view', 'home', 'home'), ('Back', 'Back to previous …"
      ]
     },
     "metadata": {},
     "output_type": "display_data"
    },
    {
     "data": {
      "application/vnd.jupyter.widget-view+json": {
       "model_id": "5a949fefaf234e369b18532b8e6cf063",
       "version_major": 2,
       "version_minor": 0
      },
      "text/plain": [
       "Canvas(toolbar=Toolbar(toolitems=[('Home', 'Reset original view', 'home', 'home'), ('Back', 'Back to previous …"
      ]
     },
     "metadata": {},
     "output_type": "display_data"
    },
    {
     "data": {
      "application/vnd.jupyter.widget-view+json": {
       "model_id": "e5f711cf330e438ea3dc86d6da2d26dd",
       "version_major": 2,
       "version_minor": 0
      },
      "text/plain": [
       "Canvas(toolbar=Toolbar(toolitems=[('Home', 'Reset original view', 'home', 'home'), ('Back', 'Back to previous …"
      ]
     },
     "metadata": {},
     "output_type": "display_data"
    },
    {
     "data": {
      "application/vnd.jupyter.widget-view+json": {
       "model_id": "d4afa6cdeae14a43ac2016375d713640",
       "version_major": 2,
       "version_minor": 0
      },
      "text/plain": [
       "Canvas(toolbar=Toolbar(toolitems=[('Home', 'Reset original view', 'home', 'home'), ('Back', 'Back to previous …"
      ]
     },
     "metadata": {},
     "output_type": "display_data"
    }
   ],
   "source": [
    "bfield_sig_plot = Qplot.plot_bfield(options, \"sig\", sig_params)\n",
    "bfield_ref_plot = Qplot.plot_bfield(options, \"ref\", ref_params)\n",
    "bfield_plot = Qplot.plot_bfield(options, \"sig_sub_ref\", field_params)\n",
    "bfield_bground_plot = Qplot.plot_bfield(options, \"bground\", field_params)"
   ]
  },
  {
   "cell_type": "code",
   "execution_count": 15,
   "id": "vulnerable-invalid",
   "metadata": {},
   "outputs": [
    {
     "data": {
      "application/vnd.jupyter.widget-view+json": {
       "model_id": "6c0bc972dcb241d185f44f530368a443",
       "version_major": 2,
       "version_minor": 0
      },
      "text/plain": [
       "Canvas(toolbar=Toolbar(toolitems=[('Home', 'Reset original view', 'home', 'home'), ('Back', 'Back to previous …"
      ]
     },
     "metadata": {},
     "output_type": "display_data"
    },
    {
     "data": {
      "application/vnd.jupyter.widget-view+json": {
       "model_id": "bae1924f01df466b8b47adf6f5f97549",
       "version_major": 2,
       "version_minor": 0
      },
      "text/plain": [
       "Canvas(toolbar=Toolbar(toolitems=[('Home', 'Reset original view', 'home', 'home'), ('Back', 'Back to previous …"
      ]
     },
     "metadata": {},
     "output_type": "display_data"
    }
   ],
   "source": [
    "D_sig_plot = Qplot.plot_dshift_fit(options, \"sig\", sig_params)\n",
    "D_ref_plot = Qplot.plot_dshift_fit(options, \"ref\", ref_params)"
   ]
  },
  {
   "cell_type": "code",
   "execution_count": 16,
   "id": "hidden-client",
   "metadata": {},
   "outputs": [
    {
     "data": {
      "application/vnd.jupyter.widget-view+json": {
       "model_id": "d5aece552e9947549ab8e35bc4eb3099",
       "version_major": 2,
       "version_minor": 0
      },
      "text/plain": [
       "Canvas(toolbar=Toolbar(toolitems=[('Home', 'Reset original view', 'home', 'home'), ('Back', 'Back to previous …"
      ]
     },
     "metadata": {},
     "output_type": "display_data"
    }
   ],
   "source": [
    "Bx_fit_flat_plot = Qplot.field_param_flattened(options, \"sig\", \"Bx\", sig_params, sigmas=sig_field_sigmas, y_label=\"B (G)\", errorevery=1000)"
   ]
  },
  {
   "cell_type": "markdown",
   "id": "mechanical-covering",
   "metadata": {},
   "source": [
    "### Save and (optionally) view options dict"
   ]
  },
  {
   "cell_type": "code",
   "execution_count": 17,
   "id": "flush-energy",
   "metadata": {},
   "outputs": [],
   "source": [
    "Qio.save_options(options)\n",
    "# print(Qio.dict_to_json_str(options))"
   ]
  }
 ],
 "metadata": {
  "kernelspec": {
   "display_name": "Python 3",
   "language": "python",
   "name": "python3"
  },
  "language_info": {
   "codemirror_mode": {
    "name": "ipython",
    "version": 3
   },
   "file_extension": ".py",
   "mimetype": "text/x-python",
   "name": "python",
   "nbconvert_exporter": "python",
   "pygments_lexer": "ipython3",
   "version": "3.8.8"
  },
  "toc-autonumbering": false,
  "toc-showtags": false,
  "widgets": {
   "application/vnd.jupyter.widget-state+json": {
    "state": {
     "00e4a374e25c410191e87cc10748e594": {
      "model_module": "@jupyter-widgets/base",
      "model_module_version": "1.2.0",
      "model_name": "LayoutModel",
      "state": {}
     },
     "02169fcb93dd4ce7bd67141fb3d29c74": {
      "model_module": "@jupyter-widgets/base",
      "model_module_version": "1.2.0",
      "model_name": "LayoutModel",
      "state": {}
     },
     "032d99261275411898e1500fbb61916c": {
      "model_module": "@jupyter-widgets/base",
      "model_module_version": "1.2.0",
      "model_name": "LayoutModel",
      "state": {}
     },
     "099d079848334057bbab01b5216f6e52": {
      "model_module": "jupyter-matplotlib",
      "model_module_version": "^0.8.2",
      "model_name": "ToolbarModel",
      "state": {
       "_model_module_version": "^0.8.2",
       "_view_module_version": "^0.8.2",
       "layout": "IPY_MODEL_38e1a4738d6f4aba9b0556ee4a5b031a",
       "toolitems": [
        [
         "Home",
         "Reset original view",
         "home",
         "home"
        ],
        [
         "Back",
         "Back to previous view",
         "arrow-left",
         "back"
        ],
        [
         "Forward",
         "Forward to next view",
         "arrow-right",
         "forward"
        ],
        [
         "Pan",
         "Left button pans, Right button zooms\nx/y fixes axis, CTRL fixes aspect",
         "arrows",
         "pan"
        ],
        [
         "Zoom",
         "Zoom to rectangle\nx/y fixes axis, CTRL fixes aspect",
         "square-o",
         "zoom"
        ],
        [
         "Download",
         "Download plot",
         "floppy-o",
         "save_figure"
        ]
       ]
      }
     },
     "11cb675d2f66435081f7be77d727e96a": {
      "model_module": "jupyter-matplotlib",
      "model_module_version": "^0.8.2",
      "model_name": "ToolbarModel",
      "state": {
       "_model_module_version": "^0.8.2",
       "_view_module_version": "^0.8.2",
       "layout": "IPY_MODEL_fb855787a5b34a408e9da1101f65b892",
       "toolitems": [
        [
         "Home",
         "Reset original view",
         "home",
         "home"
        ],
        [
         "Back",
         "Back to previous view",
         "arrow-left",
         "back"
        ],
        [
         "Forward",
         "Forward to next view",
         "arrow-right",
         "forward"
        ],
        [
         "Pan",
         "Left button pans, Right button zooms\nx/y fixes axis, CTRL fixes aspect",
         "arrows",
         "pan"
        ],
        [
         "Zoom",
         "Zoom to rectangle\nx/y fixes axis, CTRL fixes aspect",
         "square-o",
         "zoom"
        ],
        [
         "Download",
         "Download plot",
         "floppy-o",
         "save_figure"
        ]
       ]
      }
     },
     "169c6deb7d71484bb82a4992506c1f2f": {
      "model_module": "jupyter-matplotlib",
      "model_module_version": "^0.8.2",
      "model_name": "MPLCanvasModel",
      "state": {
       "_cursor": "default",
       "_figure_label": "Figure 15",
       "_height": 575,
       "_message": "x=74.5 y=72.9\n[2873.809]",
       "_model_module_version": "^0.8.2",
       "_view_module_version": "^0.8.2",
       "_width": 1536,
       "layout": "IPY_MODEL_7e3404c0a1964dc1877ba22537c1e56e",
       "toolbar": "IPY_MODEL_7a44c102e9f44431af191738d3fcd896",
       "toolbar_position": "left"
      }
     },
     "1a6bcc508afc4bc88ddebaf201147644": {
      "model_module": "@jupyter-widgets/base",
      "model_module_version": "1.2.0",
      "model_name": "LayoutModel",
      "state": {}
     },
     "1d4725f96d3f4013a3278a50d3364030": {
      "model_module": "@jupyter-widgets/base",
      "model_module_version": "1.2.0",
      "model_name": "LayoutModel",
      "state": {}
     },
     "1dd6218d6a3c4c4883e9b17a15224866": {
      "model_module": "jupyter-matplotlib",
      "model_module_version": "^0.8.2",
      "model_name": "ToolbarModel",
      "state": {
       "_model_module_version": "^0.8.2",
       "_view_module_version": "^0.8.2",
       "layout": "IPY_MODEL_8de53f444cc54506847ae658dbc9e1e7",
       "toolitems": [
        [
         "Home",
         "Reset original view",
         "home",
         "home"
        ],
        [
         "Back",
         "Back to previous view",
         "arrow-left",
         "back"
        ],
        [
         "Forward",
         "Forward to next view",
         "arrow-right",
         "forward"
        ],
        [
         "Pan",
         "Left button pans, Right button zooms\nx/y fixes axis, CTRL fixes aspect",
         "arrows",
         "pan"
        ],
        [
         "Zoom",
         "Zoom to rectangle\nx/y fixes axis, CTRL fixes aspect",
         "square-o",
         "zoom"
        ],
        [
         "Download",
         "Download plot",
         "floppy-o",
         "save_figure"
        ]
       ]
      }
     },
     "1e7fff0bd0e74843a7ec849b8c2f180d": {
      "model_module": "jupyter-matplotlib",
      "model_module_version": "^0.8.2",
      "model_name": "ToolbarModel",
      "state": {
       "_model_module_version": "^0.8.2",
       "_view_module_version": "^0.8.2",
       "layout": "IPY_MODEL_f0cd0034052d4203b31d5addde26c7bf",
       "toolitems": [
        [
         "Home",
         "Reset original view",
         "home",
         "home"
        ],
        [
         "Back",
         "Back to previous view",
         "arrow-left",
         "back"
        ],
        [
         "Forward",
         "Forward to next view",
         "arrow-right",
         "forward"
        ],
        [
         "Pan",
         "Left button pans, Right button zooms\nx/y fixes axis, CTRL fixes aspect",
         "arrows",
         "pan"
        ],
        [
         "Zoom",
         "Zoom to rectangle\nx/y fixes axis, CTRL fixes aspect",
         "square-o",
         "zoom"
        ],
        [
         "Download",
         "Download plot",
         "floppy-o",
         "save_figure"
        ]
       ]
      }
     },
     "266d200465274ba68b78235f9f2eff60": {
      "model_module": "jupyter-matplotlib",
      "model_module_version": "^0.8.2",
      "model_name": "ToolbarModel",
      "state": {
       "_model_module_version": "^0.8.2",
       "_view_module_version": "^0.8.2",
       "layout": "IPY_MODEL_6c463809ea9c4a13ad16e05190742608",
       "toolitems": [
        [
         "Home",
         "Reset original view",
         "home",
         "home"
        ],
        [
         "Back",
         "Back to previous view",
         "arrow-left",
         "back"
        ],
        [
         "Forward",
         "Forward to next view",
         "arrow-right",
         "forward"
        ],
        [
         "Pan",
         "Left button pans, Right button zooms\nx/y fixes axis, CTRL fixes aspect",
         "arrows",
         "pan"
        ],
        [
         "Zoom",
         "Zoom to rectangle\nx/y fixes axis, CTRL fixes aspect",
         "square-o",
         "zoom"
        ],
        [
         "Download",
         "Download plot",
         "floppy-o",
         "save_figure"
        ]
       ]
      }
     },
     "2685bd265c8243a4b877a109cb7e6534": {
      "model_module": "jupyter-matplotlib",
      "model_module_version": "^0.8.2",
      "model_name": "MPLCanvasModel",
      "state": {
       "_cursor": "default",
       "_figure_label": "Figure 2",
       "_height": 384,
       "_model_module_version": "^0.8.2",
       "_view_module_version": "^0.8.2",
       "_width": 512,
       "layout": "IPY_MODEL_bb768b93be5f4ed391585d2a9dbc743a",
       "toolbar": "IPY_MODEL_adf4b253f795480db4fd7fc5a4a9bdbf",
       "toolbar_position": "left"
      }
     },
     "268673950ad9405f80f982d96196d10e": {
      "model_module": "@jupyter-widgets/base",
      "model_module_version": "1.2.0",
      "model_name": "LayoutModel",
      "state": {}
     },
     "27f57a4a75544bf196443d4d39ebc2fa": {
      "model_module": "@jupyter-widgets/base",
      "model_module_version": "1.2.0",
      "model_name": "LayoutModel",
      "state": {}
     },
     "294fd6fca8514cc68133ff873b6d1c8d": {
      "model_module": "@jupyter-widgets/base",
      "model_module_version": "1.2.0",
      "model_name": "LayoutModel",
      "state": {}
     },
     "2b3e25c097fe4e3aa83700e683690f20": {
      "model_module": "@jupyter-widgets/base",
      "model_module_version": "1.2.0",
      "model_name": "LayoutModel",
      "state": {}
     },
     "2c39bbee1533494c8ad4cf561a672e47": {
      "model_module": "jupyter-matplotlib",
      "model_module_version": "^0.8.2",
      "model_name": "MPLCanvasModel",
      "state": {
       "_cursor": "default",
       "_figure_label": "Figure 13",
       "_height": 1536,
       "_model_module_version": "^0.8.2",
       "_view_module_version": "^0.8.2",
       "_width": 1024,
       "layout": "IPY_MODEL_60b77350356e453abbe35b962ca326ad",
       "toolbar": "IPY_MODEL_b1c53e544fd7425a9565b82c35d7b896",
       "toolbar_position": "left"
      }
     },
     "2d4c9dda95d14422aecec32a995f7fc3": {
      "model_module": "jupyter-matplotlib",
      "model_module_version": "^0.8.2",
      "model_name": "ToolbarModel",
      "state": {
       "_model_module_version": "^0.8.2",
       "_view_module_version": "^0.8.2",
       "layout": "IPY_MODEL_767df569ac33416ab4e975b4e093e087",
       "toolitems": [
        [
         "Home",
         "Reset original view",
         "home",
         "home"
        ],
        [
         "Back",
         "Back to previous view",
         "arrow-left",
         "back"
        ],
        [
         "Forward",
         "Forward to next view",
         "arrow-right",
         "forward"
        ],
        [
         "Pan",
         "Left button pans, Right button zooms\nx/y fixes axis, CTRL fixes aspect",
         "arrows",
         "pan"
        ],
        [
         "Zoom",
         "Zoom to rectangle\nx/y fixes axis, CTRL fixes aspect",
         "square-o",
         "zoom"
        ],
        [
         "Download",
         "Download plot",
         "floppy-o",
         "save_figure"
        ]
       ]
      }
     },
     "2d5f95507f40465caa814ba76ae5b507": {
      "model_module": "@jupyter-widgets/base",
      "model_module_version": "1.2.0",
      "model_name": "LayoutModel",
      "state": {}
     },
     "2e6676d34a704a61adf813bd646cd617": {
      "model_module": "@jupyter-widgets/base",
      "model_module_version": "1.2.0",
      "model_name": "LayoutModel",
      "state": {}
     },
     "2ef218af361b4b7da3211255e30c9518": {
      "model_module": "@jupyter-widgets/base",
      "model_module_version": "1.2.0",
      "model_name": "LayoutModel",
      "state": {}
     },
     "35f0bf1cbbd84f6097bbe4c20e7fe4dd": {
      "model_module": "@jupyter-widgets/base",
      "model_module_version": "1.2.0",
      "model_name": "LayoutModel",
      "state": {}
     },
     "37db1596ace643b789cbfd0dec05c768": {
      "model_module": "@jupyter-widgets/base",
      "model_module_version": "1.2.0",
      "model_name": "LayoutModel",
      "state": {}
     },
     "38e1a4738d6f4aba9b0556ee4a5b031a": {
      "model_module": "@jupyter-widgets/base",
      "model_module_version": "1.2.0",
      "model_name": "LayoutModel",
      "state": {}
     },
     "3a5b176c8c6545f1ba174624b39697e9": {
      "model_module": "jupyter-matplotlib",
      "model_module_version": "^0.8.2",
      "model_name": "ToolbarModel",
      "state": {
       "_model_module_version": "^0.8.2",
       "_view_module_version": "^0.8.2",
       "layout": "IPY_MODEL_1d4725f96d3f4013a3278a50d3364030",
       "toolitems": [
        [
         "Home",
         "Reset original view",
         "home",
         "home"
        ],
        [
         "Back",
         "Back to previous view",
         "arrow-left",
         "back"
        ],
        [
         "Forward",
         "Forward to next view",
         "arrow-right",
         "forward"
        ],
        [
         "Pan",
         "Left button pans, Right button zooms\nx/y fixes axis, CTRL fixes aspect",
         "arrows",
         "pan"
        ],
        [
         "Zoom",
         "Zoom to rectangle\nx/y fixes axis, CTRL fixes aspect",
         "square-o",
         "zoom"
        ],
        [
         "Download",
         "Download plot",
         "floppy-o",
         "save_figure"
        ]
       ]
      }
     },
     "487e442fed7a4f91a662a8c0e0e09cea": {
      "model_module": "@jupyter-widgets/base",
      "model_module_version": "1.2.0",
      "model_name": "LayoutModel",
      "state": {}
     },
     "4c7a93e64af44b46b3f1a572e2100177": {
      "model_module": "jupyter-matplotlib",
      "model_module_version": "^0.8.2",
      "model_name": "MPLCanvasModel",
      "state": {
       "_cursor": "default",
       "_figure_label": "Figure 5",
       "_height": 1920,
       "_model_module_version": "^0.8.2",
       "_view_module_version": "^0.8.2",
       "_width": 1536,
       "layout": "IPY_MODEL_bb32cbc7bdc34f8296808e56681c7d4b",
       "toolbar": "IPY_MODEL_ecdb6326b17b4ed2881fdc395e2964cd",
       "toolbar_position": "left"
      }
     },
     "4e256385dd8f4e9ca8a75206da6c1859": {
      "model_module": "@jupyter-widgets/controls",
      "model_module_version": "1.5.0",
      "model_name": "HTMLModel",
      "state": {
       "layout": "IPY_MODEL_1a6bcc508afc4bc88ddebaf201147644",
       "style": "IPY_MODEL_60b636322f4241b7aad14dd8b9da7350",
       "value": "100%"
      }
     },
     "5152659a228c4b35b3f2d7f714de40b8": {
      "model_module": "jupyter-matplotlib",
      "model_module_version": "^0.8.2",
      "model_name": "MPLCanvasModel",
      "state": {
       "_cursor": "default",
       "_figure_label": "Figure 6",
       "_height": 384,
       "_model_module_version": "^0.8.2",
       "_view_module_version": "^0.8.2",
       "_width": 512,
       "layout": "IPY_MODEL_cd2b7223c3774d3aa686e473ee63c949",
       "toolbar": "IPY_MODEL_f8d7ba4279074961a76e1c68ee53ee14",
       "toolbar_position": "left"
      }
     },
     "550cf92323374fd8a775137cc1d652c4": {
      "model_module": "@jupyter-widgets/controls",
      "model_module_version": "1.5.0",
      "model_name": "FloatProgressModel",
      "state": {
       "bar_style": "success",
       "layout": "IPY_MODEL_35f0bf1cbbd84f6097bbe4c20e7fe4dd",
       "max": 9216,
       "style": "IPY_MODEL_ad013d17876c40838278aedc58b41fb7",
       "value": 9216
      }
     },
     "5788dedf86f845af920fb62af5d27b6a": {
      "model_module": "@jupyter-widgets/base",
      "model_module_version": "1.2.0",
      "model_name": "LayoutModel",
      "state": {}
     },
     "5a70a44bd59249aab8eaccd7260e4c93": {
      "model_module": "@jupyter-widgets/controls",
      "model_module_version": "1.5.0",
      "model_name": "HTMLModel",
      "state": {
       "layout": "IPY_MODEL_37db1596ace643b789cbfd0dec05c768",
       "style": "IPY_MODEL_91ac608da3a34f22bc7465774dbda7bf",
       "value": "100%"
      }
     },
     "5a949fefaf234e369b18532b8e6cf063": {
      "model_module": "jupyter-matplotlib",
      "model_module_version": "^0.8.2",
      "model_name": "MPLCanvasModel",
      "state": {
       "_cursor": "default",
       "_figure_label": "Figure 19",
       "_height": 384,
       "_model_module_version": "^0.8.2",
       "_view_module_version": "^0.8.2",
       "_width": 1536,
       "layout": "IPY_MODEL_5e70a8a14283454f80b644a9d34a92ff",
       "toolbar": "IPY_MODEL_9d6cbf1d098c4d3fae8a8bd639d3287b",
       "toolbar_position": "left"
      }
     },
     "5d5844f6a9b74335bc7f2a9e11afba9a": {
      "model_module": "@jupyter-widgets/base",
      "model_module_version": "1.2.0",
      "model_name": "LayoutModel",
      "state": {}
     },
     "5e70a8a14283454f80b644a9d34a92ff": {
      "model_module": "@jupyter-widgets/base",
      "model_module_version": "1.2.0",
      "model_name": "LayoutModel",
      "state": {}
     },
     "603ead3e8f8b493891df028be3985a71": {
      "model_module": "@jupyter-widgets/base",
      "model_module_version": "1.2.0",
      "model_name": "LayoutModel",
      "state": {}
     },
     "60b636322f4241b7aad14dd8b9da7350": {
      "model_module": "@jupyter-widgets/controls",
      "model_module_version": "1.5.0",
      "model_name": "DescriptionStyleModel",
      "state": {
       "description_width": ""
      }
     },
     "60b77350356e453abbe35b962ca326ad": {
      "model_module": "@jupyter-widgets/base",
      "model_module_version": "1.2.0",
      "model_name": "LayoutModel",
      "state": {}
     },
     "66aa4368d79c498cb160867c3ee6ae72": {
      "model_module": "@jupyter-widgets/controls",
      "model_module_version": "1.5.0",
      "model_name": "HBoxModel",
      "state": {
       "children": [
        "IPY_MODEL_4e256385dd8f4e9ca8a75206da6c1859",
        "IPY_MODEL_550cf92323374fd8a775137cc1d652c4",
        "IPY_MODEL_ff0410e9c46847bf8696eddb4ba0f69a"
       ],
       "layout": "IPY_MODEL_d30936b48d03485d8da3a5a4aaae4641"
      }
     },
     "670b95312b3e47efb23e9becb9bd8bea": {
      "model_module": "jupyter-matplotlib",
      "model_module_version": "^0.8.2",
      "model_name": "MPLCanvasModel",
      "state": {
       "_cursor": "default",
       "_figure_label": "Figure 14",
       "_height": 384,
       "_model_module_version": "^0.8.2",
       "_view_module_version": "^0.8.2",
       "_width": 1024,
       "layout": "IPY_MODEL_bcf5063b62504663a42897d73310b1cd",
       "toolbar": "IPY_MODEL_1dd6218d6a3c4c4883e9b17a15224866",
       "toolbar_position": "left"
      }
     },
     "68a5786cc8c64f29a59e2e661d78478f": {
      "model_module": "@jupyter-widgets/base",
      "model_module_version": "1.2.0",
      "model_name": "LayoutModel",
      "state": {}
     },
     "6a9092ec3a10497faa3a66ad6f9ba328": {
      "model_module": "@jupyter-widgets/base",
      "model_module_version": "1.2.0",
      "model_name": "LayoutModel",
      "state": {}
     },
     "6bfc0235629c402f86ca4e9eb1ac11d3": {
      "model_module": "@jupyter-widgets/base",
      "model_module_version": "1.2.0",
      "model_name": "LayoutModel",
      "state": {}
     },
     "6c0bc972dcb241d185f44f530368a443": {
      "model_module": "jupyter-matplotlib",
      "model_module_version": "^0.8.2",
      "model_name": "MPLCanvasModel",
      "state": {
       "_cursor": "default",
       "_figure_label": "Figure 22",
       "_height": 384,
       "_model_module_version": "^0.8.2",
       "_view_module_version": "^0.8.2",
       "_width": 512,
       "layout": "IPY_MODEL_00e4a374e25c410191e87cc10748e594",
       "toolbar": "IPY_MODEL_adf8842dd5644701bca723238fbb6520",
       "toolbar_position": "left"
      }
     },
     "6c463809ea9c4a13ad16e05190742608": {
      "model_module": "@jupyter-widgets/base",
      "model_module_version": "1.2.0",
      "model_name": "LayoutModel",
      "state": {}
     },
     "6f7d8fa6ee1048469280464449e52c04": {
      "model_module": "@jupyter-widgets/base",
      "model_module_version": "1.2.0",
      "model_name": "LayoutModel",
      "state": {}
     },
     "7075bf3f4ef840cab490e375723825be": {
      "model_module": "@jupyter-widgets/controls",
      "model_module_version": "1.5.0",
      "model_name": "HBoxModel",
      "state": {
       "children": [
        "IPY_MODEL_5a70a44bd59249aab8eaccd7260e4c93",
        "IPY_MODEL_97de423c1f574fa6a0d8ce4222a68018",
        "IPY_MODEL_d07505baa3594a92aed7c6a01b2ad212"
       ],
       "layout": "IPY_MODEL_294fd6fca8514cc68133ff873b6d1c8d"
      }
     },
     "7580729e0a534acdb393f29515170af2": {
      "model_module": "@jupyter-widgets/base",
      "model_module_version": "1.2.0",
      "model_name": "LayoutModel",
      "state": {}
     },
     "767df569ac33416ab4e975b4e093e087": {
      "model_module": "@jupyter-widgets/base",
      "model_module_version": "1.2.0",
      "model_name": "LayoutModel",
      "state": {}
     },
     "7a44c102e9f44431af191738d3fcd896": {
      "model_module": "jupyter-matplotlib",
      "model_module_version": "^0.8.2",
      "model_name": "ToolbarModel",
      "state": {
       "_model_module_version": "^0.8.2",
       "_view_module_version": "^0.8.2",
       "layout": "IPY_MODEL_2b3e25c097fe4e3aa83700e683690f20",
       "toolitems": [
        [
         "Home",
         "Reset original view",
         "home",
         "home"
        ],
        [
         "Back",
         "Back to previous view",
         "arrow-left",
         "back"
        ],
        [
         "Forward",
         "Forward to next view",
         "arrow-right",
         "forward"
        ],
        [
         "Pan",
         "Left button pans, Right button zooms\nx/y fixes axis, CTRL fixes aspect",
         "arrows",
         "pan"
        ],
        [
         "Zoom",
         "Zoom to rectangle\nx/y fixes axis, CTRL fixes aspect",
         "square-o",
         "zoom"
        ],
        [
         "Download",
         "Download plot",
         "floppy-o",
         "save_figure"
        ]
       ]
      }
     },
     "7a807da255c04d0882669334c384b244": {
      "model_module": "@jupyter-widgets/base",
      "model_module_version": "1.2.0",
      "model_name": "LayoutModel",
      "state": {}
     },
     "7e3404c0a1964dc1877ba22537c1e56e": {
      "model_module": "@jupyter-widgets/base",
      "model_module_version": "1.2.0",
      "model_name": "LayoutModel",
      "state": {}
     },
     "83c2a31a6ee94d74a552c9f63f07399f": {
      "model_module": "jupyter-matplotlib",
      "model_module_version": "^0.8.2",
      "model_name": "ToolbarModel",
      "state": {
       "_model_module_version": "^0.8.2",
       "_view_module_version": "^0.8.2",
       "layout": "IPY_MODEL_5d5844f6a9b74335bc7f2a9e11afba9a",
       "toolitems": [
        [
         "Home",
         "Reset original view",
         "home",
         "home"
        ],
        [
         "Back",
         "Back to previous view",
         "arrow-left",
         "back"
        ],
        [
         "Forward",
         "Forward to next view",
         "arrow-right",
         "forward"
        ],
        [
         "Pan",
         "Left button pans, Right button zooms\nx/y fixes axis, CTRL fixes aspect",
         "arrows",
         "pan"
        ],
        [
         "Zoom",
         "Zoom to rectangle\nx/y fixes axis, CTRL fixes aspect",
         "square-o",
         "zoom"
        ],
        [
         "Download",
         "Download plot",
         "floppy-o",
         "save_figure"
        ]
       ]
      }
     },
     "8de53f444cc54506847ae658dbc9e1e7": {
      "model_module": "@jupyter-widgets/base",
      "model_module_version": "1.2.0",
      "model_name": "LayoutModel",
      "state": {}
     },
     "8e57d3822fc64bdda62c76a6108255a8": {
      "model_module": "@jupyter-widgets/base",
      "model_module_version": "1.2.0",
      "model_name": "LayoutModel",
      "state": {}
     },
     "8edde1277de84d68abf0fe1186d9913f": {
      "model_module": "jupyter-matplotlib",
      "model_module_version": "^0.8.2",
      "model_name": "MPLCanvasModel",
      "state": {
       "_cursor": "default",
       "_figure_label": "Figure 17",
       "_height": 287,
       "_message": "x=24.0 y=74.2\n[0.0137]",
       "_model_module_version": "^0.8.2",
       "_view_module_version": "^0.8.2",
       "_width": 1536,
       "layout": "IPY_MODEL_5788dedf86f845af920fb62af5d27b6a",
       "toolbar": "IPY_MODEL_9aeb6890f1b94ce3bd664c67a108514e",
       "toolbar_position": "left"
      }
     },
     "9003f53a23ed464d9445773eecf98a84": {
      "model_module": "jupyter-matplotlib",
      "model_module_version": "^0.8.2",
      "model_name": "MPLCanvasModel",
      "state": {
       "_cursor": "default",
       "_figure_label": "Figure 8",
       "_height": 575,
       "_model_module_version": "^0.8.2",
       "_view_module_version": "^0.8.2",
       "_width": 1536,
       "layout": "IPY_MODEL_6bfc0235629c402f86ca4e9eb1ac11d3",
       "toolbar": "IPY_MODEL_a99f16c3ef294581b976948e3bcac787",
       "toolbar_position": "left"
      }
     },
     "91ac608da3a34f22bc7465774dbda7bf": {
      "model_module": "@jupyter-widgets/controls",
      "model_module_version": "1.5.0",
      "model_name": "DescriptionStyleModel",
      "state": {
       "description_width": ""
      }
     },
     "9436a7b2ba4f4aa09a829c95ec4f1173": {
      "model_module": "@jupyter-widgets/controls",
      "model_module_version": "1.5.0",
      "model_name": "DescriptionStyleModel",
      "state": {
       "description_width": ""
      }
     },
     "954a9b36b6a947dc9a214123f2acf5e7": {
      "model_module": "@jupyter-widgets/controls",
      "model_module_version": "1.5.0",
      "model_name": "DescriptionStyleModel",
      "state": {
       "description_width": ""
      }
     },
     "97de423c1f574fa6a0d8ce4222a68018": {
      "model_module": "@jupyter-widgets/controls",
      "model_module_version": "1.5.0",
      "model_name": "FloatProgressModel",
      "state": {
       "bar_style": "success",
       "layout": "IPY_MODEL_6a9092ec3a10497faa3a66ad6f9ba328",
       "max": 9216,
       "style": "IPY_MODEL_db2a67a82cfb4647a3ba060c3d3ff288",
       "value": 9216
      }
     },
     "989b969547bf4fbb86e95180f1fdf773": {
      "model_module": "@jupyter-widgets/base",
      "model_module_version": "1.2.0",
      "model_name": "LayoutModel",
      "state": {}
     },
     "9aeb6890f1b94ce3bd664c67a108514e": {
      "model_module": "jupyter-matplotlib",
      "model_module_version": "^0.8.2",
      "model_name": "ToolbarModel",
      "state": {
       "_model_module_version": "^0.8.2",
       "_view_module_version": "^0.8.2",
       "layout": "IPY_MODEL_27f57a4a75544bf196443d4d39ebc2fa",
       "toolitems": [
        [
         "Home",
         "Reset original view",
         "home",
         "home"
        ],
        [
         "Back",
         "Back to previous view",
         "arrow-left",
         "back"
        ],
        [
         "Forward",
         "Forward to next view",
         "arrow-right",
         "forward"
        ],
        [
         "Pan",
         "Left button pans, Right button zooms\nx/y fixes axis, CTRL fixes aspect",
         "arrows",
         "pan"
        ],
        [
         "Zoom",
         "Zoom to rectangle\nx/y fixes axis, CTRL fixes aspect",
         "square-o",
         "zoom"
        ],
        [
         "Download",
         "Download plot",
         "floppy-o",
         "save_figure"
        ]
       ]
      }
     },
     "9b1c7221c2d2495f98979cf90db2435c": {
      "model_module": "@jupyter-widgets/base",
      "model_module_version": "1.2.0",
      "model_name": "LayoutModel",
      "state": {}
     },
     "9d6cbf1d098c4d3fae8a8bd639d3287b": {
      "model_module": "jupyter-matplotlib",
      "model_module_version": "^0.8.2",
      "model_name": "ToolbarModel",
      "state": {
       "_model_module_version": "^0.8.2",
       "_view_module_version": "^0.8.2",
       "layout": "IPY_MODEL_d69b7b58dbfb4b4d99024c5009464429",
       "toolitems": [
        [
         "Home",
         "Reset original view",
         "home",
         "home"
        ],
        [
         "Back",
         "Back to previous view",
         "arrow-left",
         "back"
        ],
        [
         "Forward",
         "Forward to next view",
         "arrow-right",
         "forward"
        ],
        [
         "Pan",
         "Left button pans, Right button zooms\nx/y fixes axis, CTRL fixes aspect",
         "arrows",
         "pan"
        ],
        [
         "Zoom",
         "Zoom to rectangle\nx/y fixes axis, CTRL fixes aspect",
         "square-o",
         "zoom"
        ],
        [
         "Download",
         "Download plot",
         "floppy-o",
         "save_figure"
        ]
       ]
      }
     },
     "9e35c4790833482c9020018890d0fecc": {
      "model_module": "jupyter-matplotlib",
      "model_module_version": "^0.8.2",
      "model_name": "MPLCanvasModel",
      "state": {
       "_cursor": "default",
       "_figure_label": "Figure 4",
       "_height": 575,
       "_model_module_version": "^0.8.2",
       "_view_module_version": "^0.8.2",
       "_width": 1024,
       "layout": "IPY_MODEL_b0a92a1542ae41b7ae29cdacb2fedcbf",
       "toolbar": "IPY_MODEL_9fab53ae7d0449dab975b3dfcd82d84d",
       "toolbar_position": "left"
      }
     },
     "9fab53ae7d0449dab975b3dfcd82d84d": {
      "model_module": "jupyter-matplotlib",
      "model_module_version": "^0.8.2",
      "model_name": "ToolbarModel",
      "state": {
       "_model_module_version": "^0.8.2",
       "_view_module_version": "^0.8.2",
       "layout": "IPY_MODEL_9b1c7221c2d2495f98979cf90db2435c",
       "toolitems": [
        [
         "Home",
         "Reset original view",
         "home",
         "home"
        ],
        [
         "Back",
         "Back to previous view",
         "arrow-left",
         "back"
        ],
        [
         "Forward",
         "Forward to next view",
         "arrow-right",
         "forward"
        ],
        [
         "Pan",
         "Left button pans, Right button zooms\nx/y fixes axis, CTRL fixes aspect",
         "arrows",
         "pan"
        ],
        [
         "Zoom",
         "Zoom to rectangle\nx/y fixes axis, CTRL fixes aspect",
         "square-o",
         "zoom"
        ],
        [
         "Download",
         "Download plot",
         "floppy-o",
         "save_figure"
        ]
       ]
      }
     },
     "a7c4c150ef4e44849df3e3e5d06281d8": {
      "model_module": "jupyter-matplotlib",
      "model_module_version": "^0.8.2",
      "model_name": "ToolbarModel",
      "state": {
       "_model_module_version": "^0.8.2",
       "_view_module_version": "^0.8.2",
       "layout": "IPY_MODEL_2e6676d34a704a61adf813bd646cd617",
       "toolitems": [
        [
         "Home",
         "Reset original view",
         "home",
         "home"
        ],
        [
         "Back",
         "Back to previous view",
         "arrow-left",
         "back"
        ],
        [
         "Forward",
         "Forward to next view",
         "arrow-right",
         "forward"
        ],
        [
         "Pan",
         "Left button pans, Right button zooms\nx/y fixes axis, CTRL fixes aspect",
         "arrows",
         "pan"
        ],
        [
         "Zoom",
         "Zoom to rectangle\nx/y fixes axis, CTRL fixes aspect",
         "square-o",
         "zoom"
        ],
        [
         "Download",
         "Download plot",
         "floppy-o",
         "save_figure"
        ]
       ]
      }
     },
     "a99f16c3ef294581b976948e3bcac787": {
      "model_module": "jupyter-matplotlib",
      "model_module_version": "^0.8.2",
      "model_name": "ToolbarModel",
      "state": {
       "_model_module_version": "^0.8.2",
       "_view_module_version": "^0.8.2",
       "layout": "IPY_MODEL_6f7d8fa6ee1048469280464449e52c04",
       "toolitems": [
        [
         "Home",
         "Reset original view",
         "home",
         "home"
        ],
        [
         "Back",
         "Back to previous view",
         "arrow-left",
         "back"
        ],
        [
         "Forward",
         "Forward to next view",
         "arrow-right",
         "forward"
        ],
        [
         "Pan",
         "Left button pans, Right button zooms\nx/y fixes axis, CTRL fixes aspect",
         "arrows",
         "pan"
        ],
        [
         "Zoom",
         "Zoom to rectangle\nx/y fixes axis, CTRL fixes aspect",
         "square-o",
         "zoom"
        ],
        [
         "Download",
         "Download plot",
         "floppy-o",
         "save_figure"
        ]
       ]
      }
     },
     "ad013d17876c40838278aedc58b41fb7": {
      "model_module": "@jupyter-widgets/controls",
      "model_module_version": "1.5.0",
      "model_name": "ProgressStyleModel",
      "state": {
       "description_width": ""
      }
     },
     "adf4b253f795480db4fd7fc5a4a9bdbf": {
      "model_module": "jupyter-matplotlib",
      "model_module_version": "^0.8.2",
      "model_name": "ToolbarModel",
      "state": {
       "_model_module_version": "^0.8.2",
       "_view_module_version": "^0.8.2",
       "layout": "IPY_MODEL_68a5786cc8c64f29a59e2e661d78478f",
       "toolitems": [
        [
         "Home",
         "Reset original view",
         "home",
         "home"
        ],
        [
         "Back",
         "Back to previous view",
         "arrow-left",
         "back"
        ],
        [
         "Forward",
         "Forward to next view",
         "arrow-right",
         "forward"
        ],
        [
         "Pan",
         "Left button pans, Right button zooms\nx/y fixes axis, CTRL fixes aspect",
         "arrows",
         "pan"
        ],
        [
         "Zoom",
         "Zoom to rectangle\nx/y fixes axis, CTRL fixes aspect",
         "square-o",
         "zoom"
        ],
        [
         "Download",
         "Download plot",
         "floppy-o",
         "save_figure"
        ]
       ]
      }
     },
     "adf8842dd5644701bca723238fbb6520": {
      "model_module": "jupyter-matplotlib",
      "model_module_version": "^0.8.2",
      "model_name": "ToolbarModel",
      "state": {
       "_model_module_version": "^0.8.2",
       "_view_module_version": "^0.8.2",
       "layout": "IPY_MODEL_7a807da255c04d0882669334c384b244",
       "toolitems": [
        [
         "Home",
         "Reset original view",
         "home",
         "home"
        ],
        [
         "Back",
         "Back to previous view",
         "arrow-left",
         "back"
        ],
        [
         "Forward",
         "Forward to next view",
         "arrow-right",
         "forward"
        ],
        [
         "Pan",
         "Left button pans, Right button zooms\nx/y fixes axis, CTRL fixes aspect",
         "arrows",
         "pan"
        ],
        [
         "Zoom",
         "Zoom to rectangle\nx/y fixes axis, CTRL fixes aspect",
         "square-o",
         "zoom"
        ],
        [
         "Download",
         "Download plot",
         "floppy-o",
         "save_figure"
        ]
       ]
      }
     },
     "aed9c42da4ab41178e02db8c4a71764d": {
      "model_module": "jupyter-matplotlib",
      "model_module_version": "^0.8.2",
      "model_name": "MPLCanvasModel",
      "state": {
       "_cursor": "default",
       "_figure_label": "Figure 10",
       "_height": 575,
       "_model_module_version": "^0.8.2",
       "_view_module_version": "^0.8.2",
       "_width": 1536,
       "layout": "IPY_MODEL_2d5f95507f40465caa814ba76ae5b507",
       "toolbar": "IPY_MODEL_ba2fb55e56834ab39e0b84326391b4e8",
       "toolbar_position": "left"
      }
     },
     "b0a92a1542ae41b7ae29cdacb2fedcbf": {
      "model_module": "@jupyter-widgets/base",
      "model_module_version": "1.2.0",
      "model_name": "LayoutModel",
      "state": {}
     },
     "b131d958e80b4516afeccbbebdaae3f9": {
      "model_module": "@jupyter-widgets/base",
      "model_module_version": "1.2.0",
      "model_name": "LayoutModel",
      "state": {}
     },
     "b1b34d07290f47f6850d268226a5a6ba": {
      "model_module": "jupyter-matplotlib",
      "model_module_version": "^0.8.2",
      "model_name": "MPLCanvasModel",
      "state": {
       "_cursor": "default",
       "_figure_label": "Figure 18",
       "_height": 384,
       "_model_module_version": "^0.8.2",
       "_view_module_version": "^0.8.2",
       "_width": 1536,
       "layout": "IPY_MODEL_268673950ad9405f80f982d96196d10e",
       "toolbar": "IPY_MODEL_a7c4c150ef4e44849df3e3e5d06281d8",
       "toolbar_position": "left"
      }
     },
     "b1c53e544fd7425a9565b82c35d7b896": {
      "model_module": "jupyter-matplotlib",
      "model_module_version": "^0.8.2",
      "model_name": "ToolbarModel",
      "state": {
       "_model_module_version": "^0.8.2",
       "_view_module_version": "^0.8.2",
       "layout": "IPY_MODEL_ceb7744f01194d31919cf3eefb81d9bc",
       "toolitems": [
        [
         "Home",
         "Reset original view",
         "home",
         "home"
        ],
        [
         "Back",
         "Back to previous view",
         "arrow-left",
         "back"
        ],
        [
         "Forward",
         "Forward to next view",
         "arrow-right",
         "forward"
        ],
        [
         "Pan",
         "Left button pans, Right button zooms\nx/y fixes axis, CTRL fixes aspect",
         "arrows",
         "pan"
        ],
        [
         "Zoom",
         "Zoom to rectangle\nx/y fixes axis, CTRL fixes aspect",
         "square-o",
         "zoom"
        ],
        [
         "Download",
         "Download plot",
         "floppy-o",
         "save_figure"
        ]
       ]
      }
     },
     "b79b61305393423ca0d93a767a33ac36": {
      "model_module": "jupyter-matplotlib",
      "model_module_version": "^0.8.2",
      "model_name": "MPLCanvasModel",
      "state": {
       "_cursor": "default",
       "_figure_label": "Figure 1",
       "_height": 384,
       "_model_module_version": "^0.8.2",
       "_view_module_version": "^0.8.2",
       "_width": 512,
       "layout": "IPY_MODEL_7580729e0a534acdb393f29515170af2",
       "toolbar": "IPY_MODEL_cc6c7d64c1d943949afb72a80d16d365",
       "toolbar_position": "left"
      }
     },
     "ba2fb55e56834ab39e0b84326391b4e8": {
      "model_module": "jupyter-matplotlib",
      "model_module_version": "^0.8.2",
      "model_name": "ToolbarModel",
      "state": {
       "_model_module_version": "^0.8.2",
       "_view_module_version": "^0.8.2",
       "layout": "IPY_MODEL_efccb30d1415481c8b8569f8e1ec74df",
       "toolitems": [
        [
         "Home",
         "Reset original view",
         "home",
         "home"
        ],
        [
         "Back",
         "Back to previous view",
         "arrow-left",
         "back"
        ],
        [
         "Forward",
         "Forward to next view",
         "arrow-right",
         "forward"
        ],
        [
         "Pan",
         "Left button pans, Right button zooms\nx/y fixes axis, CTRL fixes aspect",
         "arrows",
         "pan"
        ],
        [
         "Zoom",
         "Zoom to rectangle\nx/y fixes axis, CTRL fixes aspect",
         "square-o",
         "zoom"
        ],
        [
         "Download",
         "Download plot",
         "floppy-o",
         "save_figure"
        ]
       ]
      }
     },
     "bae1924f01df466b8b47adf6f5f97549": {
      "model_module": "jupyter-matplotlib",
      "model_module_version": "^0.8.2",
      "model_name": "MPLCanvasModel",
      "state": {
       "_cursor": "default",
       "_figure_label": "Figure 23",
       "_height": 384,
       "_model_module_version": "^0.8.2",
       "_view_module_version": "^0.8.2",
       "_width": 512,
       "layout": "IPY_MODEL_dc3aa12b30854333ac47d37be9c6d939",
       "toolbar": "IPY_MODEL_2d4c9dda95d14422aecec32a995f7fc3",
       "toolbar_position": "left"
      }
     },
     "bb32cbc7bdc34f8296808e56681c7d4b": {
      "model_module": "@jupyter-widgets/base",
      "model_module_version": "1.2.0",
      "model_name": "LayoutModel",
      "state": {}
     },
     "bb768b93be5f4ed391585d2a9dbc743a": {
      "model_module": "@jupyter-widgets/base",
      "model_module_version": "1.2.0",
      "model_name": "LayoutModel",
      "state": {}
     },
     "bcf5063b62504663a42897d73310b1cd": {
      "model_module": "@jupyter-widgets/base",
      "model_module_version": "1.2.0",
      "model_name": "LayoutModel",
      "state": {}
     },
     "c3660d3ceb0144ecaec084622b52feb6": {
      "model_module": "jupyter-matplotlib",
      "model_module_version": "^0.8.2",
      "model_name": "ToolbarModel",
      "state": {
       "_model_module_version": "^0.8.2",
       "_view_module_version": "^0.8.2",
       "layout": "IPY_MODEL_c4cc381e8426466faaad86a905e90e0b",
       "toolitems": [
        [
         "Home",
         "Reset original view",
         "home",
         "home"
        ],
        [
         "Back",
         "Back to previous view",
         "arrow-left",
         "back"
        ],
        [
         "Forward",
         "Forward to next view",
         "arrow-right",
         "forward"
        ],
        [
         "Pan",
         "Left button pans, Right button zooms\nx/y fixes axis, CTRL fixes aspect",
         "arrows",
         "pan"
        ],
        [
         "Zoom",
         "Zoom to rectangle\nx/y fixes axis, CTRL fixes aspect",
         "square-o",
         "zoom"
        ],
        [
         "Download",
         "Download plot",
         "floppy-o",
         "save_figure"
        ]
       ]
      }
     },
     "c4cc381e8426466faaad86a905e90e0b": {
      "model_module": "@jupyter-widgets/base",
      "model_module_version": "1.2.0",
      "model_name": "LayoutModel",
      "state": {}
     },
     "c5cc5493d2fc4a4cac0e776ba4ebc5cf": {
      "model_module": "@jupyter-widgets/base",
      "model_module_version": "1.2.0",
      "model_name": "LayoutModel",
      "state": {}
     },
     "cc6c7d64c1d943949afb72a80d16d365": {
      "model_module": "jupyter-matplotlib",
      "model_module_version": "^0.8.2",
      "model_name": "ToolbarModel",
      "state": {
       "_model_module_version": "^0.8.2",
       "_view_module_version": "^0.8.2",
       "layout": "IPY_MODEL_2ef218af361b4b7da3211255e30c9518",
       "toolitems": [
        [
         "Home",
         "Reset original view",
         "home",
         "home"
        ],
        [
         "Back",
         "Back to previous view",
         "arrow-left",
         "back"
        ],
        [
         "Forward",
         "Forward to next view",
         "arrow-right",
         "forward"
        ],
        [
         "Pan",
         "Left button pans, Right button zooms\nx/y fixes axis, CTRL fixes aspect",
         "arrows",
         "pan"
        ],
        [
         "Zoom",
         "Zoom to rectangle\nx/y fixes axis, CTRL fixes aspect",
         "square-o",
         "zoom"
        ],
        [
         "Download",
         "Download plot",
         "floppy-o",
         "save_figure"
        ]
       ]
      }
     },
     "cd2b7223c3774d3aa686e473ee63c949": {
      "model_module": "@jupyter-widgets/base",
      "model_module_version": "1.2.0",
      "model_name": "LayoutModel",
      "state": {}
     },
     "ceb7744f01194d31919cf3eefb81d9bc": {
      "model_module": "@jupyter-widgets/base",
      "model_module_version": "1.2.0",
      "model_name": "LayoutModel",
      "state": {}
     },
     "d07505baa3594a92aed7c6a01b2ad212": {
      "model_module": "@jupyter-widgets/controls",
      "model_module_version": "1.5.0",
      "model_name": "HTMLModel",
      "state": {
       "layout": "IPY_MODEL_efdfe181db114b848c73d87cbeae16b2",
       "style": "IPY_MODEL_954a9b36b6a947dc9a214123f2acf5e7",
       "value": " 9216/9216 [00:33&lt;00:00, 340.59 PX/s]"
      }
     },
     "d30936b48d03485d8da3a5a4aaae4641": {
      "model_module": "@jupyter-widgets/base",
      "model_module_version": "1.2.0",
      "model_name": "LayoutModel",
      "state": {}
     },
     "d4a40c603b5e4379994471ff8568f1f3": {
      "model_module": "@jupyter-widgets/base",
      "model_module_version": "1.2.0",
      "model_name": "LayoutModel",
      "state": {}
     },
     "d4afa6cdeae14a43ac2016375d713640": {
      "model_module": "jupyter-matplotlib",
      "model_module_version": "^0.8.2",
      "model_name": "MPLCanvasModel",
      "state": {
       "_cursor": "default",
       "_figure_label": "Figure 21",
       "_height": 384,
       "_model_module_version": "^0.8.2",
       "_view_module_version": "^0.8.2",
       "_width": 1536,
       "layout": "IPY_MODEL_d6df2b23d9dc454eb1bfa635928153a2",
       "toolbar": "IPY_MODEL_11cb675d2f66435081f7be77d727e96a",
       "toolbar_position": "left"
      }
     },
     "d5aece552e9947549ab8e35bc4eb3099": {
      "model_module": "jupyter-matplotlib",
      "model_module_version": "^0.8.2",
      "model_name": "MPLCanvasModel",
      "state": {
       "_cursor": "default",
       "_figure_label": "Figure 24",
       "_height": 384,
       "_message": "x=7.3e+02 y=−24.34",
       "_model_module_version": "^0.8.2",
       "_view_module_version": "^0.8.2",
       "_width": 1024,
       "layout": "IPY_MODEL_032d99261275411898e1500fbb61916c",
       "toolbar": "IPY_MODEL_099d079848334057bbab01b5216f6e52",
       "toolbar_position": "left"
      }
     },
     "d69b7b58dbfb4b4d99024c5009464429": {
      "model_module": "@jupyter-widgets/base",
      "model_module_version": "1.2.0",
      "model_name": "LayoutModel",
      "state": {}
     },
     "d6df2b23d9dc454eb1bfa635928153a2": {
      "model_module": "@jupyter-widgets/base",
      "model_module_version": "1.2.0",
      "model_name": "LayoutModel",
      "state": {}
     },
     "d7a4f854499142749e6391db0f05b142": {
      "model_module": "@jupyter-widgets/base",
      "model_module_version": "1.2.0",
      "model_name": "LayoutModel",
      "state": {}
     },
     "d8677016b11f43ac94070f848c4ea1d3": {
      "model_module": "jupyter-matplotlib",
      "model_module_version": "^0.8.2",
      "model_name": "MPLCanvasModel",
      "state": {
       "_cursor": "default",
       "_figure_label": "Figure 7",
       "_height": 384,
       "_model_module_version": "^0.8.2",
       "_view_module_version": "^0.8.2",
       "_width": 512,
       "layout": "IPY_MODEL_d4a40c603b5e4379994471ff8568f1f3",
       "toolbar": "IPY_MODEL_1e7fff0bd0e74843a7ec849b8c2f180d",
       "toolbar_position": "left"
      }
     },
     "db2a67a82cfb4647a3ba060c3d3ff288": {
      "model_module": "@jupyter-widgets/controls",
      "model_module_version": "1.5.0",
      "model_name": "ProgressStyleModel",
      "state": {
       "description_width": ""
      }
     },
     "dc3aa12b30854333ac47d37be9c6d939": {
      "model_module": "@jupyter-widgets/base",
      "model_module_version": "1.2.0",
      "model_name": "LayoutModel",
      "state": {}
     },
     "dd424327900e4006899264433590ea77": {
      "model_module": "jupyter-matplotlib",
      "model_module_version": "^0.8.2",
      "model_name": "MPLCanvasModel",
      "state": {
       "_cursor": "default",
       "_figure_label": "Figure 12",
       "_height": 575,
       "_model_module_version": "^0.8.2",
       "_view_module_version": "^0.8.2",
       "_width": 1536,
       "layout": "IPY_MODEL_603ead3e8f8b493891df028be3985a71",
       "toolbar": "IPY_MODEL_266d200465274ba68b78235f9f2eff60",
       "toolbar_position": "left"
      }
     },
     "e1ef55119faa445c89adecf93a80d125": {
      "model_module": "jupyter-matplotlib",
      "model_module_version": "^0.8.2",
      "model_name": "MPLCanvasModel",
      "state": {
       "_cursor": "default",
       "_figure_label": "Figure 3",
       "_height": 768,
       "_model_module_version": "^0.8.2",
       "_view_module_version": "^0.8.2",
       "_width": 1536,
       "layout": "IPY_MODEL_8e57d3822fc64bdda62c76a6108255a8",
       "toolbar": "IPY_MODEL_f29606ea25164e879a05e17465d7873b",
       "toolbar_position": "left"
      }
     },
     "e4cf9954de78462ab4e72212a13ca205": {
      "model_module": "@jupyter-widgets/base",
      "model_module_version": "1.2.0",
      "model_name": "LayoutModel",
      "state": {}
     },
     "e5f711cf330e438ea3dc86d6da2d26dd": {
      "model_module": "jupyter-matplotlib",
      "model_module_version": "^0.8.2",
      "model_name": "MPLCanvasModel",
      "state": {
       "_cursor": "default",
       "_figure_label": "Figure 20",
       "_height": 384,
       "_model_module_version": "^0.8.2",
       "_view_module_version": "^0.8.2",
       "_width": 1536,
       "layout": "IPY_MODEL_f55c683951dd48ef95c011c960cfc595",
       "toolbar": "IPY_MODEL_3a5b176c8c6545f1ba174624b39697e9",
       "toolbar_position": "left"
      }
     },
     "e7bae70ccf18447786cd3196ca7ead01": {
      "model_module": "jupyter-matplotlib",
      "model_module_version": "^0.8.2",
      "model_name": "MPLCanvasModel",
      "state": {
       "_cursor": "default",
       "_figure_label": "Figure 16",
       "_height": 575,
       "_model_module_version": "^0.8.2",
       "_view_module_version": "^0.8.2",
       "_width": 1536,
       "layout": "IPY_MODEL_edc942010e744ca398ccb257192014df",
       "toolbar": "IPY_MODEL_c3660d3ceb0144ecaec084622b52feb6",
       "toolbar_position": "left"
      }
     },
     "e891df98a7a54f708826c2a05506ead9": {
      "model_module": "jupyter-matplotlib",
      "model_module_version": "^0.8.2",
      "model_name": "ToolbarModel",
      "state": {
       "_model_module_version": "^0.8.2",
       "_view_module_version": "^0.8.2",
       "layout": "IPY_MODEL_02169fcb93dd4ce7bd67141fb3d29c74",
       "toolitems": [
        [
         "Home",
         "Reset original view",
         "home",
         "home"
        ],
        [
         "Back",
         "Back to previous view",
         "arrow-left",
         "back"
        ],
        [
         "Forward",
         "Forward to next view",
         "arrow-right",
         "forward"
        ],
        [
         "Pan",
         "Left button pans, Right button zooms\nx/y fixes axis, CTRL fixes aspect",
         "arrows",
         "pan"
        ],
        [
         "Zoom",
         "Zoom to rectangle\nx/y fixes axis, CTRL fixes aspect",
         "square-o",
         "zoom"
        ],
        [
         "Download",
         "Download plot",
         "floppy-o",
         "save_figure"
        ]
       ]
      }
     },
     "ecdb6326b17b4ed2881fdc395e2964cd": {
      "model_module": "jupyter-matplotlib",
      "model_module_version": "^0.8.2",
      "model_name": "ToolbarModel",
      "state": {
       "_model_module_version": "^0.8.2",
       "_view_module_version": "^0.8.2",
       "layout": "IPY_MODEL_c5cc5493d2fc4a4cac0e776ba4ebc5cf",
       "toolitems": [
        [
         "Home",
         "Reset original view",
         "home",
         "home"
        ],
        [
         "Back",
         "Back to previous view",
         "arrow-left",
         "back"
        ],
        [
         "Forward",
         "Forward to next view",
         "arrow-right",
         "forward"
        ],
        [
         "Pan",
         "Left button pans, Right button zooms\nx/y fixes axis, CTRL fixes aspect",
         "arrows",
         "pan"
        ],
        [
         "Zoom",
         "Zoom to rectangle\nx/y fixes axis, CTRL fixes aspect",
         "square-o",
         "zoom"
        ],
        [
         "Download",
         "Download plot",
         "floppy-o",
         "save_figure"
        ]
       ]
      }
     },
     "edc942010e744ca398ccb257192014df": {
      "model_module": "@jupyter-widgets/base",
      "model_module_version": "1.2.0",
      "model_name": "LayoutModel",
      "state": {}
     },
     "efccb30d1415481c8b8569f8e1ec74df": {
      "model_module": "@jupyter-widgets/base",
      "model_module_version": "1.2.0",
      "model_name": "LayoutModel",
      "state": {}
     },
     "efdfe181db114b848c73d87cbeae16b2": {
      "model_module": "@jupyter-widgets/base",
      "model_module_version": "1.2.0",
      "model_name": "LayoutModel",
      "state": {}
     },
     "f0cd0034052d4203b31d5addde26c7bf": {
      "model_module": "@jupyter-widgets/base",
      "model_module_version": "1.2.0",
      "model_name": "LayoutModel",
      "state": {}
     },
     "f0e1db80ade345749723cabf40127641": {
      "model_module": "jupyter-matplotlib",
      "model_module_version": "^0.8.2",
      "model_name": "MPLCanvasModel",
      "state": {
       "_cursor": "default",
       "_figure_label": "Figure 9",
       "_height": 575,
       "_model_module_version": "^0.8.2",
       "_view_module_version": "^0.8.2",
       "_width": 1536,
       "layout": "IPY_MODEL_d7a4f854499142749e6391db0f05b142",
       "toolbar": "IPY_MODEL_e891df98a7a54f708826c2a05506ead9",
       "toolbar_position": "left"
      }
     },
     "f29606ea25164e879a05e17465d7873b": {
      "model_module": "jupyter-matplotlib",
      "model_module_version": "^0.8.2",
      "model_name": "ToolbarModel",
      "state": {
       "_model_module_version": "^0.8.2",
       "_view_module_version": "^0.8.2",
       "layout": "IPY_MODEL_487e442fed7a4f91a662a8c0e0e09cea",
       "toolitems": [
        [
         "Home",
         "Reset original view",
         "home",
         "home"
        ],
        [
         "Back",
         "Back to previous view",
         "arrow-left",
         "back"
        ],
        [
         "Forward",
         "Forward to next view",
         "arrow-right",
         "forward"
        ],
        [
         "Pan",
         "Left button pans, Right button zooms\nx/y fixes axis, CTRL fixes aspect",
         "arrows",
         "pan"
        ],
        [
         "Zoom",
         "Zoom to rectangle\nx/y fixes axis, CTRL fixes aspect",
         "square-o",
         "zoom"
        ],
        [
         "Download",
         "Download plot",
         "floppy-o",
         "save_figure"
        ]
       ]
      }
     },
     "f55c683951dd48ef95c011c960cfc595": {
      "model_module": "@jupyter-widgets/base",
      "model_module_version": "1.2.0",
      "model_name": "LayoutModel",
      "state": {}
     },
     "f8d7ba4279074961a76e1c68ee53ee14": {
      "model_module": "jupyter-matplotlib",
      "model_module_version": "^0.8.2",
      "model_name": "ToolbarModel",
      "state": {
       "_model_module_version": "^0.8.2",
       "_view_module_version": "^0.8.2",
       "layout": "IPY_MODEL_b131d958e80b4516afeccbbebdaae3f9",
       "toolitems": [
        [
         "Home",
         "Reset original view",
         "home",
         "home"
        ],
        [
         "Back",
         "Back to previous view",
         "arrow-left",
         "back"
        ],
        [
         "Forward",
         "Forward to next view",
         "arrow-right",
         "forward"
        ],
        [
         "Pan",
         "Left button pans, Right button zooms\nx/y fixes axis, CTRL fixes aspect",
         "arrows",
         "pan"
        ],
        [
         "Zoom",
         "Zoom to rectangle\nx/y fixes axis, CTRL fixes aspect",
         "square-o",
         "zoom"
        ],
        [
         "Download",
         "Download plot",
         "floppy-o",
         "save_figure"
        ]
       ]
      }
     },
     "fa2443833f7743f4be54c88120301c28": {
      "model_module": "jupyter-matplotlib",
      "model_module_version": "^0.8.2",
      "model_name": "MPLCanvasModel",
      "state": {
       "_cursor": "default",
       "_figure_label": "Figure 11",
       "_height": 384,
       "_model_module_version": "^0.8.2",
       "_view_module_version": "^0.8.2",
       "_width": 512,
       "layout": "IPY_MODEL_989b969547bf4fbb86e95180f1fdf773",
       "toolbar": "IPY_MODEL_83c2a31a6ee94d74a552c9f63f07399f",
       "toolbar_position": "left"
      }
     },
     "fb855787a5b34a408e9da1101f65b892": {
      "model_module": "@jupyter-widgets/base",
      "model_module_version": "1.2.0",
      "model_name": "LayoutModel",
      "state": {}
     },
     "ff0410e9c46847bf8696eddb4ba0f69a": {
      "model_module": "@jupyter-widgets/controls",
      "model_module_version": "1.5.0",
      "model_name": "HTMLModel",
      "state": {
       "layout": "IPY_MODEL_e4cf9954de78462ab4e72212a13ca205",
       "style": "IPY_MODEL_9436a7b2ba4f4aa09a829c95ec4f1173",
       "value": " 9216/9216 [00:34&lt;00:00, 269.25 PX/s]"
      }
     }
    },
    "version_major": 2,
    "version_minor": 0
   }
  }
 },
 "nbformat": 4,
 "nbformat_minor": 5
}
