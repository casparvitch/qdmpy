{
 "cells": [
  {
   "cell_type": "code",
   "execution_count": 1,
   "id": "emotional-python",
   "metadata": {
    "slideshow": {
     "slide_type": "slide"
    }
   },
   "outputs": [],
   "source": [
    "import QDMPy.data_loading as data_loading\n",
    "import QDMPy.fit_interface as fit_interface\n",
    "import QDMPy.fit_plots as fit_plots\n",
    "\n",
    "import matplotlib\n",
    "import matplotlib.pyplot as plt"
   ]
  },
  {
   "cell_type": "code",
   "execution_count": 2,
   "id": "impressed-translator",
   "metadata": {},
   "outputs": [],
   "source": [
    "# '%matplotlib widget' allows interactive plots in jupyterlab\n",
    "# use ''%matplotlib inline' to allow export to pdf\n",
    "%matplotlib widget"
   ]
  },
  {
   "cell_type": "markdown",
   "id": "third-whole",
   "metadata": {},
   "source": [
    "# Load the data in"
   ]
  },
  {
   "cell_type": "code",
   "execution_count": 10,
   "id": "southern-antigua",
   "metadata": {},
   "outputs": [],
   "source": [
    "options_dict = {\n",
    "    \"base_dir\": \"C:\\\\src\\\\QDMPY_test_image\\\\\",\n",
    "    \"filepath\": \"ODMR - Pulsed with IR_83\",\n",
    "    \n",
    "    \"additional_bins\": 1,\n",
    "\n",
    "    \"system_name\": \"Zyla\",\n",
    "\n",
    "    \"ROI\": \"Rectangle\", \n",
    "    \"ROI_centre\": [400, 400],\n",
    "    \"ROI_rect_size\": [1000,1000],\n",
    "    \n",
    "    \"AOI_1_start\": [200, 300],\n",
    "    \"AOI_1_end\": [240, 340], \n",
    "    \"AOI_1_start\": [200, 200],\n",
    "    \"AOI_2_end\": [240, 240], \n",
    "    \"AOI_1_start\": [300, 200],\n",
    "    \"AOI_3_end\": [320, 240], \n",
    "\n",
    "    \"normalisation\": \"div\", # fix this for consistent fitting -> get to 0->1?\n",
    "    \n",
    "    \"fit_backend\": \"gpufit\",\n",
    "    \"fit_backend_comparison\": [\"scipy\", \"gpufit\"],\n",
    "    \"fit_pixels\": True, \n",
    "    \"force_fit\": True, \n",
    "    \"auto_match_prev_ROI_options\": False,\n",
    "    \n",
    "    \"use_ROI_avg_fit_res_for_all_pixels\": True,\n",
    "    \n",
    "    \"scipy_sub_threads\": 2, \n",
    "\n",
    "    \"fit_functions\":  {\"linear\": 1, \"lorentzian\": 8},\n",
    "\n",
    "    \"pos_guess\": [2610, 2708, 2805, 2879, 2953, 3020, 3092, 3145],\n",
    "    \"pos_range\": 25,\n",
    "\n",
    "    \"amp_guess\": -0.0015,\n",
    "    \"amp_bounds\": [-0.0100, -0.0003],\n",
    "\n",
    "    \"fwhm_guess\": 9,\n",
    "    \"fwhm_bounds\": [5, 20],\n",
    "\n",
    "    \"c_guess\": 1,\n",
    "    \"c_bounds\": [0.9995, 1.0005],\n",
    "\n",
    "    \"m_guess\": 0,\n",
    "    \"m_bounds\": [-1e-6, 1e-6],\n",
    "    \n",
    "    \"scramble_pixels\": True,\n",
    "    \n",
    "    \"gpufit_tolerance\": 1e-12,\n",
    "    \"gpufit_max_iterations\": 25,\n",
    "    \"gpufit_estimator_id\": \"LSE\"\n",
    "}"
   ]
  },
  {
   "cell_type": "code",
   "execution_count": 11,
   "id": "alert-gamma",
   "metadata": {},
   "outputs": [],
   "source": [
    "# QDMPy_path = data_loading.DIR_PATH\n",
    "# options = data_loading.load_options(path=QDMPy_path / \"options/test_options_odmr.json\", check_for_prev_result=True)\n",
    "options = data_loading.load_options(options_dict=options_dict, check_for_prev_result=True)\n",
    "fit_plots.set_mpl_rcparams(options)"
   ]
  },
  {
   "cell_type": "code",
   "execution_count": 12,
   "id": "thick-crowd",
   "metadata": {},
   "outputs": [],
   "source": [
    "raw_data, prelim_sweep_list = data_loading.load_raw_and_sweep(options)"
   ]
  },
  {
   "cell_type": "code",
   "execution_count": 13,
   "id": "grateful-resort",
   "metadata": {},
   "outputs": [
    {
     "name": "stderr",
     "output_type": "stream",
     "text": [
      "C:\\src\\QDMPy\\QDMPy\\data_loading.py:573: UserWarning: ROI Rectangle too big in x, cropping to image.\n",
      "  warnings.warn(\"ROI Rectangle too big in x, cropping to image.\")\n",
      "C:\\src\\QDMPy\\QDMPy\\data_loading.py:579: UserWarning: ROI Rectangle too big in y, cropping to image.\n",
      "  warnings.warn(\"ROI Rectangle too big in y, cropping to image.\")\n"
     ]
    }
   ],
   "source": [
    "PL_image, PL_image_ROI, sig, ref, sig_norm, single_pixel_pl, sweep_list = data_loading.reshape_dataset(\n",
    "        options, raw_data, prelim_sweep_list\n",
    "    )"
   ]
  },
  {
   "cell_type": "code",
   "execution_count": 14,
   "id": "color-place",
   "metadata": {},
   "outputs": [
    {
     "data": {
      "application/vnd.jupyter.widget-view+json": {
       "model_id": "c987933ff55f48f79fb72a3c07dffb63",
       "version_major": 2,
       "version_minor": 0
      },
      "text/plain": [
       "Canvas(toolbar=Toolbar(toolitems=[('Home', 'Reset original view', 'home', 'home'), ('Back', 'Back to previous …"
      ]
     },
     "metadata": {},
     "output_type": "display_data"
    }
   ],
   "source": [
    "fig1 = fit_plots.plot_ROI_PL_image(options, PL_image)"
   ]
  },
  {
   "cell_type": "code",
   "execution_count": 15,
   "id": "floating-record",
   "metadata": {},
   "outputs": [],
   "source": [
    "AOIs = data_loading.define_AOIs(options)"
   ]
  },
  {
   "cell_type": "code",
   "execution_count": 16,
   "id": "bright-toyota",
   "metadata": {},
   "outputs": [
    {
     "data": {
      "application/vnd.jupyter.widget-view+json": {
       "model_id": "b7fe9e3fb5b24925b2c9ed595a965e35",
       "version_major": 2,
       "version_minor": 0
      },
      "text/plain": [
       "Canvas(toolbar=Toolbar(toolitems=[('Home', 'Reset original view', 'home', 'home'), ('Back', 'Back to previous …"
      ]
     },
     "metadata": {},
     "output_type": "display_data"
    }
   ],
   "source": [
    "fig2 = fit_plots.plot_AOI_PL_images(options, PL_image_ROI, AOIs)"
   ]
  },
  {
   "cell_type": "code",
   "execution_count": 17,
   "id": "lesser-therapist",
   "metadata": {},
   "outputs": [
    {
     "data": {
      "application/vnd.jupyter.widget-view+json": {
       "model_id": "f4c701eb5f8c4993a3cafedb68209a6c",
       "version_major": 2,
       "version_minor": 0
      },
      "text/plain": [
       "Canvas(toolbar=Toolbar(toolitems=[('Home', 'Reset original view', 'home', 'home'), ('Back', 'Back to previous …"
      ]
     },
     "metadata": {},
     "output_type": "display_data"
    }
   ],
   "source": [
    "aoi_spectra_plot = fit_plots.plot_AOI_spectra(options, AOIs, sig, ref, sweep_list)"
   ]
  },
  {
   "cell_type": "markdown",
   "id": "preceding-dodge",
   "metadata": {},
   "source": [
    "# Fit AOI, ROI averages, single pixel"
   ]
  },
  {
   "cell_type": "code",
   "execution_count": null,
   "id": "dense-arkansas",
   "metadata": {},
   "outputs": [],
   "source": [
    "fit_model = fit_interface.define_fit_model(options)"
   ]
  },
  {
   "cell_type": "code",
   "execution_count": null,
   "id": "stunning-roman",
   "metadata": {},
   "outputs": [],
   "source": [
    "backend_ROI_results_lst = fit_interface.fit_ROI_avg(options, sig_norm, sweep_list, fit_model)"
   ]
  },
  {
   "cell_type": "code",
   "execution_count": null,
   "id": "advised-invention",
   "metadata": {},
   "outputs": [],
   "source": [
    "fig3 = fit_plots.plot_ROI_avg_fits(options, backend_ROI_results_lst)"
   ]
  },
  {
   "cell_type": "code",
   "execution_count": null,
   "id": "rocky-custom",
   "metadata": {},
   "outputs": [],
   "source": [
    "fit_result_collection_lst = fit_interface.fit_AOIs(options, sig_norm, single_pixel_pl, sweep_list, fit_model, AOIs, backend_ROI_results_lst)"
   ]
  },
  {
   "cell_type": "code",
   "execution_count": null,
   "id": "smart-consumer",
   "metadata": {},
   "outputs": [],
   "source": [
    "AOI_spectra_fit_fig = fit_plots.plot_AOI_spectra_fit(options, sig, ref, sweep_list, AOIs, fit_result_collection_lst, fit_model)"
   ]
  },
  {
   "cell_type": "markdown",
   "id": "maritime-vatican",
   "metadata": {},
   "source": [
    "# Fit pixels"
   ]
  },
  {
   "cell_type": "code",
   "execution_count": null,
   "id": "unsigned-priority",
   "metadata": {},
   "outputs": [],
   "source": [
    "if (options[\"force_fit\"] or not options[\"found_prev_result\"]) and options[\"fit_pixels\"]:\n",
    "    pixel_fit_params = fit_interface.fit_pixels(options, sig_norm, sweep_list, fit_model, backend_ROI_results_lst[0])\n",
    "elif options[\"found_prev_result\"]:\n",
    "    pixel_fit_params = fit_interface.load_prev_fit_results(options)\n",
    "else:\n",
    "    pixel_fit_params = None  # not fitting pixels, this stops plotting (e.g. via plot_param_images) from erroring"
   ]
  },
  {
   "cell_type": "markdown",
   "id": "built-concentration",
   "metadata": {},
   "source": [
    "# Plot (fit) parameters"
   ]
  },
  {
   "cell_type": "code",
   "execution_count": null,
   "id": "proud-barrel",
   "metadata": {},
   "outputs": [],
   "source": [
    "fit_plots.plot_param_images(options, fit_model, pixel_fit_params, \"c\")"
   ]
  },
  {
   "cell_type": "code",
   "execution_count": null,
   "id": "palestinian-there",
   "metadata": {},
   "outputs": [],
   "source": [
    "fit_plots.plot_param_images(options, fit_model, pixel_fit_params, \"m\")"
   ]
  },
  {
   "cell_type": "code",
   "execution_count": null,
   "id": "incident-floor",
   "metadata": {},
   "outputs": [],
   "source": [
    "fit_plots.plot_param_images(options, fit_model, pixel_fit_params, \"pos\")"
   ]
  },
  {
   "cell_type": "code",
   "execution_count": null,
   "id": "regular-greene",
   "metadata": {},
   "outputs": [],
   "source": [
    "fit_plots.plot_param_images(options, fit_model, pixel_fit_params, \"amp\")"
   ]
  },
  {
   "cell_type": "code",
   "execution_count": null,
   "id": "employed-battlefield",
   "metadata": {},
   "outputs": [],
   "source": [
    "fit_plots.plot_param_images(options, fit_model, pixel_fit_params, \"fwhm\")"
   ]
  },
  {
   "cell_type": "code",
   "execution_count": null,
   "id": "suitable-methodology",
   "metadata": {},
   "outputs": [],
   "source": []
  },
  {
   "cell_type": "code",
   "execution_count": null,
   "id": "quiet-reserve",
   "metadata": {},
   "outputs": [],
   "source": [
    "data_loading.save_options(options)"
   ]
  },
  {
   "cell_type": "code",
   "execution_count": null,
   "id": "contemporary-substance",
   "metadata": {},
   "outputs": [],
   "source": [
    "options"
   ]
  },
  {
   "cell_type": "code",
   "execution_count": null,
   "id": "assured-robert",
   "metadata": {},
   "outputs": [],
   "source": []
  }
 ],
 "metadata": {
  "kernelspec": {
   "display_name": "Python 3",
   "language": "python",
   "name": "python3"
  },
  "language_info": {
   "codemirror_mode": {
    "name": "ipython",
    "version": 3
   },
   "file_extension": ".py",
   "mimetype": "text/x-python",
   "name": "python",
   "nbconvert_exporter": "python",
   "pygments_lexer": "ipython3",
   "version": "3.8.6"
  },
  "toc-autonumbering": false,
  "toc-showtags": false,
  "widgets": {
   "application/vnd.jupyter.widget-state+json": {
    "state": {},
    "version_major": 2,
    "version_minor": 0
   }
  }
 },
 "nbformat": 4,
 "nbformat_minor": 5
}
