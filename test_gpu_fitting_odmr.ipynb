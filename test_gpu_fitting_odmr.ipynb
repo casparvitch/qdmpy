{
 "cells": [
  {
   "cell_type": "code",
   "execution_count": 1,
   "id": "another-library",
   "metadata": {
    "slideshow": {
     "slide_type": "slide"
    }
   },
   "outputs": [],
   "source": [
    "import QDMPy.io as Qio\n",
    "import QDMPy.fit as Qfit\n",
    "import QDMPy.plot as Qplot\n",
    "\n",
    "import matplotlib\n",
    "import matplotlib.pyplot as plt\n",
    "import warnings"
   ]
  },
  {
   "cell_type": "code",
   "execution_count": 2,
   "id": "tutorial-stone",
   "metadata": {},
   "outputs": [],
   "source": [
    "# '%matplotlib widget' allows interactive plots in jupyterlab\n",
    "# use ''%matplotlib inline' to allow export to pdf\n",
    "%matplotlib widget"
   ]
  },
  {
   "cell_type": "markdown",
   "id": "spoken-citation",
   "metadata": {},
   "source": [
    "# Load the data in"
   ]
  },
  {
   "cell_type": "code",
   "execution_count": 3,
   "id": "racial-republic",
   "metadata": {},
   "outputs": [],
   "source": [
    "options_dict = {\n",
    "    # Argus: C:\\\\src\\\\QDMPY_test_image\n",
    "    # Sam: /home/samsc/ResearchData/test_images/\n",
    "    \"base_dir\": \"/home/samsc/ResearchData/test_images/\",\n",
    "    \"filepath\": \"ODMR - Pulsed_42\",\n",
    "    \"custom_output_dir_prefix\": None,\n",
    "    \"custom_output_dir_suffix\": None,\n",
    "    \"custom_output_dir\": None,\n",
    "    \n",
    "    \"additional_bins\": 8,\n",
    "\n",
    "    \"system_name\": \"Zyla\",\n",
    "\n",
    "    \"ROI\": \"Full\", \n",
    "    \"ROI_start\": [10, 10],\n",
    "    \"ROI_end\": [200,200],\n",
    "    \n",
    "    \"AOI_1_start\": [60, 145],\n",
    "    \"AOI_1_end\": [70, 155], \n",
    "    \"AOI_2_start\": [20, 20],\n",
    "    \"AOI_2_end\": [24, 24], \n",
    "    \"AOI_3_start\": [30, 20],\n",
    "    \"AOI_3_end\": [32, 24], \n",
    "    \"single_pixel_check\": [90, 150],\n",
    "\n",
    "    \"normalisation\": \"div\",\n",
    "    \n",
    "    \"fit_backend\": \"scipyfit\",\n",
    "    \"fit_backend_comparison\": [\"scipyfit\"],\n",
    "    \"fit_pixels\": True, \n",
    "    \"force_fit\": True, \n",
    "    \n",
    "    \"use_ROI_avg_fit_res_for_all_pixels\": True,\n",
    "    \n",
    "    \"scipy_sub_threads\": 2, \n",
    "\n",
    "    \"fit_functions\":  {\"linear\": 1, \"lorentzian\": 8},\n",
    "\n",
    "#     \"pos_guess\": [2610, 2708, 2805, 2879, 2953, 3020, 3092, 3145], # ODMR 83\n",
    "    \"pos_guess\": [2631, 2723, 2787, 2866, 2955, 3022, 3066, 3130], # ODMR 42\n",
    "    \"pos_range\": 25,\n",
    "\n",
    "    \"amp_guess\": -0.02,\n",
    "    \"amp_bounds\": [-0.0300, -0.0003],\n",
    "\n",
    "    \"fwhm_guess\": 9,\n",
    "    \"fwhm_bounds\": [5, 20],\n",
    "\n",
    "    \"c_guess\": 1,\n",
    "    \"c_bounds\": [0.9995, 1.0005],\n",
    "\n",
    "    \"m_guess\": 0,\n",
    "    \"m_bounds\": [-1e-6, 1e-6],\n",
    "    \n",
    "    \"scramble_pixels\": True,\n",
    "    \n",
    "    \"gpufit_tolerance\": 1e-12,\n",
    "    \"gpufit_max_iterations\": 25,\n",
    "    \"gpufit_estimator_id\": \"LSE\"\n",
    "}"
   ]
  },
  {
   "cell_type": "code",
   "execution_count": 4,
   "id": "destroyed-indiana",
   "metadata": {},
   "outputs": [
    {
     "name": "stderr",
     "output_type": "stream",
     "text": [
      "/home/samsc/src/nv/QDMPy_proj/QDMPy_git/QDMPy/io/systems.py:405: UserWarning: Option scipy_sub_threads was not recognised by the Zyla system.\n",
      "  warnings.warn(f\"Option {key} was not recognised by the {system.name} system.\")\n"
     ]
    },
    {
     "data": {
      "application/vnd.jupyter.widget-view+json": {
       "model_id": "56f21a9e688345aaa33f89fd4384eea3",
       "version_major": 2,
       "version_minor": 0
      },
      "text/plain": [
       "Canvas(toolbar=Toolbar(toolitems=[('Home', 'Reset original view', 'home', 'home'), ('Back', 'Back to previous …"
      ]
     },
     "metadata": {},
     "output_type": "display_data"
    },
    {
     "data": {
      "application/vnd.jupyter.widget-view+json": {
       "model_id": "5d5729ee720245c7b9f8389219701970",
       "version_major": 2,
       "version_minor": 0
      },
      "text/plain": [
       "Canvas(toolbar=Toolbar(toolitems=[('Home', 'Reset original view', 'home', 'home'), ('Back', 'Back to previous …"
      ]
     },
     "metadata": {},
     "output_type": "display_data"
    },
    {
     "data": {
      "application/vnd.jupyter.widget-view+json": {
       "model_id": "32e127f625b74e1c9563bfe33c5c58e4",
       "version_major": 2,
       "version_minor": 0
      },
      "text/plain": [
       "Canvas(toolbar=Toolbar(toolitems=[('Home', 'Reset original view', 'home', 'home'), ('Back', 'Back to previous …"
      ]
     },
     "metadata": {},
     "output_type": "display_data"
    }
   ],
   "source": [
    "# QDMPy_path = data_loading.DIR_PATH\n",
    "# options = data_loading.load_options(path=QDMPy_path / \"options/test_options_odmr.json\", check_for_prev_result=True)\n",
    "options = Qio.load_options(options_dict=options_dict, check_for_prev_result=True)\n",
    "Qplot.set_mpl_rcparams(options)\n",
    "image, prelim_sweep_list = Qio.load_image_and_sweep(options)\n",
    "PL_image, PL_image_ROI, sig, ref, sig_norm, single_pixel_pl, sweep_list = Qio.reshape_dataset(\n",
    "        options, image, prelim_sweep_list\n",
    "    )\n",
    "fig1 = Qplot.plot_ROI_PL_image(options, PL_image)\n",
    "\n",
    "fig2 = Qplot.plot_AOI_PL_images(options, PL_image_ROI)\n",
    "\n",
    "aoi_spectra_plot = Qplot.plot_AOI_spectra(options, sig, ref, sweep_list)\n",
    "\n",
    "Qio.save_PL_data(options, PL_image, PL_image_ROI)"
   ]
  },
  {
   "cell_type": "markdown",
   "id": "terminal-heating",
   "metadata": {},
   "source": [
    "# Fit AOI, ROI averages, single pixel"
   ]
  },
  {
   "cell_type": "code",
   "execution_count": 5,
   "id": "fresh-logan",
   "metadata": {},
   "outputs": [
    {
     "name": "stderr",
     "output_type": "stream",
     "text": [
      "/home/samsc/src/nv/QDMPy_proj/QDMPy_git/QDMPy/fit/_scipyfit.py:36: TqdmExperimentalWarning: Using `tqdm.autonotebook.tqdm` in notebook mode. Use `tqdm.tqdm` instead to force console mode (e.g. in jupyter console)\n",
      "  from tqdm.autonotebook import tqdm  # auto detects jupyter\n"
     ]
    },
    {
     "data": {
      "application/vnd.jupyter.widget-view+json": {
       "model_id": "7beccd46a3da43b48ad11efe1c10702c",
       "version_major": 2,
       "version_minor": 0
      },
      "text/plain": [
       "Canvas(toolbar=Toolbar(toolitems=[('Home', 'Reset original view', 'home', 'home'), ('Back', 'Back to previous …"
      ]
     },
     "metadata": {},
     "output_type": "display_data"
    },
    {
     "data": {
      "application/vnd.jupyter.widget-view+json": {
       "model_id": "57a2945682a7481389d031c71254ebe3",
       "version_major": 2,
       "version_minor": 0
      },
      "text/plain": [
       "Canvas(toolbar=Toolbar(toolitems=[('Home', 'Reset original view', 'home', 'home'), ('Back', 'Back to previous …"
      ]
     },
     "metadata": {},
     "output_type": "display_data"
    }
   ],
   "source": [
    "fit_model = Qfit.define_fit_model(options)\n",
    "backend_ROI_results_lst = Qfit.fit_ROI_avg(options, sig_norm, sweep_list, fit_model)\n",
    "fig3 = Qplot.plot_ROI_avg_fits(options, backend_ROI_results_lst)\n",
    "\n",
    "fit_result_collection_lst = Qfit.fit_AOIs(options, sig_norm, single_pixel_pl, sweep_list, fit_model, backend_ROI_results_lst)\n",
    "AOI_spectra_fit_fig = Qplot.plot_AOI_spectra_fit(options, sig, ref, sweep_list, fit_result_collection_lst, fit_model)"
   ]
  },
  {
   "cell_type": "markdown",
   "id": "square-faculty",
   "metadata": {},
   "source": [
    "# Fit pixels"
   ]
  },
  {
   "cell_type": "code",
   "execution_count": null,
   "id": "previous-timeline",
   "metadata": {},
   "outputs": [
    {
     "data": {
      "application/vnd.jupyter.widget-view+json": {
       "model_id": "7955e47dccc347b8818339dca4b7647c",
       "version_major": 2,
       "version_minor": 0
      },
      "text/plain": [
       "  0%|          | 0/21600 [00:00<?, ? PX/s]"
      ]
     },
     "metadata": {},
     "output_type": "display_data"
    }
   ],
   "source": [
    "if options[\"found_prev_result\"]:\n",
    "    pixel_fit_params = Qfit.load_prev_fit_results(options)\n",
    "    warnings.warn(\"Plotting previous fit results.\")\n",
    "elif options[\"fit_pixels\"]:\n",
    "    pixel_fit_params = Qfit.fit_pixels(options, sig_norm, sweep_list, fit_model, backend_ROI_results_lst[0])\n",
    "else:\n",
    "    pixel_fit_params = None # not fitting pixels, this stops plotting (e.g. via plot_param_images) from erroring\n",
    "\n",
    "Qio.save_pixel_fit_results(options, pixel_fit_params)"
   ]
  },
  {
   "cell_type": "markdown",
   "id": "patient-matthew",
   "metadata": {},
   "source": [
    "# Plot (fit) parameters"
   ]
  },
  {
   "cell_type": "code",
   "execution_count": null,
   "id": "enhanced-percentage",
   "metadata": {},
   "outputs": [],
   "source": [
    "Qplot.plot_param_images(options, fit_model, pixel_fit_params, \"c\")\n",
    "\n",
    "Qplot.plot_param_images(options, fit_model, pixel_fit_params, \"m\")\n",
    "\n",
    "Qplot.plot_param_images(options, fit_model, pixel_fit_params, \"pos\")\n",
    "\n",
    "Qplot.plot_param_images(options, fit_model, pixel_fit_params, \"amp\")\n",
    "\n",
    "Qplot.plot_param_images(options, fit_model, pixel_fit_params, \"fwhm\")"
   ]
  },
  {
   "cell_type": "code",
   "execution_count": null,
   "id": "terminal-inspector",
   "metadata": {},
   "outputs": [],
   "source": [
    "Qio.save_options(options)\n",
    "\n",
    "options"
   ]
  }
 ],
 "metadata": {
  "kernelspec": {
   "display_name": "Python 3",
   "language": "python",
   "name": "python3"
  },
  "language_info": {
   "codemirror_mode": {
    "name": "ipython",
    "version": 3
   },
   "file_extension": ".py",
   "mimetype": "text/x-python",
   "name": "python",
   "nbconvert_exporter": "python",
   "pygments_lexer": "ipython3",
   "version": "3.8.6"
  },
  "toc-autonumbering": false,
  "toc-showtags": false,
  "widgets": {
   "application/vnd.jupyter.widget-state+json": {
    "state": {
     "025b085c701c469180efd9fd5ced9238": {
      "model_module": "@jupyter-widgets/base",
      "model_module_version": "1.2.0",
      "model_name": "LayoutModel",
      "state": {}
     },
     "267c03f89a634d90a6310936d882f781": {
      "model_module": "@jupyter-widgets/base",
      "model_module_version": "1.2.0",
      "model_name": "LayoutModel",
      "state": {}
     },
     "2713e47db23b4b109184318af08754b5": {
      "model_module": "jupyter-matplotlib",
      "model_module_version": "^0.8.2",
      "model_name": "ToolbarModel",
      "state": {
       "layout": "IPY_MODEL_49fa0f4db32b4d09872e982776dd16fb",
       "toolitems": [
        [
         "Home",
         "Reset original view",
         "home",
         "home"
        ],
        [
         "Back",
         "Back to previous view",
         "arrow-left",
         "back"
        ],
        [
         "Forward",
         "Forward to next view",
         "arrow-right",
         "forward"
        ],
        [
         "Pan",
         "Left button pans, Right button zooms\nx/y fixes axis, CTRL fixes aspect",
         "arrows",
         "pan"
        ],
        [
         "Zoom",
         "Zoom to rectangle\nx/y fixes axis, CTRL fixes aspect",
         "square-o",
         "zoom"
        ],
        [
         "Download",
         "Download plot",
         "floppy-o",
         "save_figure"
        ]
       ]
      }
     },
     "3151e5907bd04d52892891905572a61c": {
      "model_module": "@jupyter-widgets/base",
      "model_module_version": "1.2.0",
      "model_name": "LayoutModel",
      "state": {}
     },
     "32e127f625b74e1c9563bfe33c5c58e4": {
      "model_module": "jupyter-matplotlib",
      "model_module_version": "^0.8.2",
      "model_name": "MPLCanvasModel",
      "state": {
       "layout": "IPY_MODEL_5f9170addc4e4e68990cdc1bcd7b26db",
       "toolbar": "IPY_MODEL_2713e47db23b4b109184318af08754b5",
       "toolbar_position": "left"
      }
     },
     "39ae8fc776b74e1f823582dbd58cd2d4": {
      "model_module": "@jupyter-widgets/base",
      "model_module_version": "1.2.0",
      "model_name": "LayoutModel",
      "state": {}
     },
     "3d5f42d780964dfba93757662bdbf3c5": {
      "model_module": "@jupyter-widgets/base",
      "model_module_version": "1.2.0",
      "model_name": "LayoutModel",
      "state": {}
     },
     "49fa0f4db32b4d09872e982776dd16fb": {
      "model_module": "@jupyter-widgets/base",
      "model_module_version": "1.2.0",
      "model_name": "LayoutModel",
      "state": {}
     },
     "50107048aa85461cb8401bba8f536490": {
      "model_module": "jupyter-matplotlib",
      "model_module_version": "^0.8.2",
      "model_name": "ToolbarModel",
      "state": {
       "layout": "IPY_MODEL_e9c54101333c4318a545fb1259365330",
       "toolitems": [
        [
         "Home",
         "Reset original view",
         "home",
         "home"
        ],
        [
         "Back",
         "Back to previous view",
         "arrow-left",
         "back"
        ],
        [
         "Forward",
         "Forward to next view",
         "arrow-right",
         "forward"
        ],
        [
         "Pan",
         "Left button pans, Right button zooms\nx/y fixes axis, CTRL fixes aspect",
         "arrows",
         "pan"
        ],
        [
         "Zoom",
         "Zoom to rectangle\nx/y fixes axis, CTRL fixes aspect",
         "square-o",
         "zoom"
        ],
        [
         "Download",
         "Download plot",
         "floppy-o",
         "save_figure"
        ]
       ]
      }
     },
     "56f21a9e688345aaa33f89fd4384eea3": {
      "model_module": "jupyter-matplotlib",
      "model_module_version": "^0.8.2",
      "model_name": "MPLCanvasModel",
      "state": {
       "layout": "IPY_MODEL_3151e5907bd04d52892891905572a61c",
       "toolbar": "IPY_MODEL_a7ad81e0b62e48b3b4e7a5785b3b7dd2",
       "toolbar_position": "left"
      }
     },
     "57a2945682a7481389d031c71254ebe3": {
      "model_module": "jupyter-matplotlib",
      "model_module_version": "^0.8.2",
      "model_name": "MPLCanvasModel",
      "state": {
       "layout": "IPY_MODEL_a65cb6506b324dc0abcbb617bbe103f0",
       "toolbar": "IPY_MODEL_dce65831eb6c49fdb310c8699f77f822",
       "toolbar_position": "left"
      }
     },
     "5a44d96bbe944b3e8d7f578aff1b3a81": {
      "model_module": "@jupyter-widgets/controls",
      "model_module_version": "1.5.0",
      "model_name": "HTMLModel",
      "state": {
       "layout": "IPY_MODEL_96914559c8a640d68fe7194f41519880",
       "style": "IPY_MODEL_5b11c95302ff40248820401272fb4666",
       "value": " 82%"
      }
     },
     "5b11c95302ff40248820401272fb4666": {
      "model_module": "@jupyter-widgets/controls",
      "model_module_version": "1.5.0",
      "model_name": "DescriptionStyleModel",
      "state": {
       "description_width": ""
      }
     },
     "5d5729ee720245c7b9f8389219701970": {
      "model_module": "jupyter-matplotlib",
      "model_module_version": "^0.8.2",
      "model_name": "MPLCanvasModel",
      "state": {
       "layout": "IPY_MODEL_3d5f42d780964dfba93757662bdbf3c5",
       "toolbar": "IPY_MODEL_e1a3c19b09af439096d4ae62616c65d1",
       "toolbar_position": "left"
      }
     },
     "5f9170addc4e4e68990cdc1bcd7b26db": {
      "model_module": "@jupyter-widgets/base",
      "model_module_version": "1.2.0",
      "model_name": "LayoutModel",
      "state": {}
     },
     "7955e47dccc347b8818339dca4b7647c": {
      "model_module": "@jupyter-widgets/controls",
      "model_module_version": "1.5.0",
      "model_name": "HBoxModel",
      "state": {
       "children": [
        "IPY_MODEL_5a44d96bbe944b3e8d7f578aff1b3a81",
        "IPY_MODEL_cea7ad3f8c754d668c08ce47d7655e4c",
        "IPY_MODEL_c144b714dcb5420dad81df98a6f62561"
       ],
       "layout": "IPY_MODEL_e0042e6ce62d4a9cb9fb330d1d25ec6f"
      }
     },
     "7beccd46a3da43b48ad11efe1c10702c": {
      "model_module": "jupyter-matplotlib",
      "model_module_version": "^0.8.2",
      "model_name": "MPLCanvasModel",
      "state": {
       "layout": "IPY_MODEL_39ae8fc776b74e1f823582dbd58cd2d4",
       "toolbar": "IPY_MODEL_50107048aa85461cb8401bba8f536490",
       "toolbar_position": "left"
      }
     },
     "929c2ee34c6e4d72bed8f61c25c1b87b": {
      "model_module": "@jupyter-widgets/base",
      "model_module_version": "1.2.0",
      "model_name": "LayoutModel",
      "state": {}
     },
     "96914559c8a640d68fe7194f41519880": {
      "model_module": "@jupyter-widgets/base",
      "model_module_version": "1.2.0",
      "model_name": "LayoutModel",
      "state": {}
     },
     "a65cb6506b324dc0abcbb617bbe103f0": {
      "model_module": "@jupyter-widgets/base",
      "model_module_version": "1.2.0",
      "model_name": "LayoutModel",
      "state": {}
     },
     "a7ad81e0b62e48b3b4e7a5785b3b7dd2": {
      "model_module": "jupyter-matplotlib",
      "model_module_version": "^0.8.2",
      "model_name": "ToolbarModel",
      "state": {
       "layout": "IPY_MODEL_025b085c701c469180efd9fd5ced9238",
       "toolitems": [
        [
         "Home",
         "Reset original view",
         "home",
         "home"
        ],
        [
         "Back",
         "Back to previous view",
         "arrow-left",
         "back"
        ],
        [
         "Forward",
         "Forward to next view",
         "arrow-right",
         "forward"
        ],
        [
         "Pan",
         "Left button pans, Right button zooms\nx/y fixes axis, CTRL fixes aspect",
         "arrows",
         "pan"
        ],
        [
         "Zoom",
         "Zoom to rectangle\nx/y fixes axis, CTRL fixes aspect",
         "square-o",
         "zoom"
        ],
        [
         "Download",
         "Download plot",
         "floppy-o",
         "save_figure"
        ]
       ]
      }
     },
     "b2cf547aeb1c430a9ff84e975a7afd5f": {
      "model_module": "@jupyter-widgets/base",
      "model_module_version": "1.2.0",
      "model_name": "LayoutModel",
      "state": {}
     },
     "bc4f985d57ae4882a3a7714b89793d70": {
      "model_module": "@jupyter-widgets/base",
      "model_module_version": "1.2.0",
      "model_name": "LayoutModel",
      "state": {}
     },
     "c144b714dcb5420dad81df98a6f62561": {
      "model_module": "@jupyter-widgets/controls",
      "model_module_version": "1.5.0",
      "model_name": "HTMLModel",
      "state": {
       "layout": "IPY_MODEL_929c2ee34c6e4d72bed8f61c25c1b87b",
       "style": "IPY_MODEL_f7cd15d685f54817ad2ea0dcc48bcae0",
       "value": " 17623/21600 [02:36&lt;00:36, 108.12 PX/s]"
      }
     },
     "cea7ad3f8c754d668c08ce47d7655e4c": {
      "model_module": "@jupyter-widgets/controls",
      "model_module_version": "1.5.0",
      "model_name": "FloatProgressModel",
      "state": {
       "layout": "IPY_MODEL_bc4f985d57ae4882a3a7714b89793d70",
       "max": 21600,
       "style": "IPY_MODEL_fa833a747b4e4dae8744faea7e717322",
       "value": 17623
      }
     },
     "dce65831eb6c49fdb310c8699f77f822": {
      "model_module": "jupyter-matplotlib",
      "model_module_version": "^0.8.2",
      "model_name": "ToolbarModel",
      "state": {
       "layout": "IPY_MODEL_267c03f89a634d90a6310936d882f781",
       "toolitems": [
        [
         "Home",
         "Reset original view",
         "home",
         "home"
        ],
        [
         "Back",
         "Back to previous view",
         "arrow-left",
         "back"
        ],
        [
         "Forward",
         "Forward to next view",
         "arrow-right",
         "forward"
        ],
        [
         "Pan",
         "Left button pans, Right button zooms\nx/y fixes axis, CTRL fixes aspect",
         "arrows",
         "pan"
        ],
        [
         "Zoom",
         "Zoom to rectangle\nx/y fixes axis, CTRL fixes aspect",
         "square-o",
         "zoom"
        ],
        [
         "Download",
         "Download plot",
         "floppy-o",
         "save_figure"
        ]
       ]
      }
     },
     "e0042e6ce62d4a9cb9fb330d1d25ec6f": {
      "model_module": "@jupyter-widgets/base",
      "model_module_version": "1.2.0",
      "model_name": "LayoutModel",
      "state": {}
     },
     "e1a3c19b09af439096d4ae62616c65d1": {
      "model_module": "jupyter-matplotlib",
      "model_module_version": "^0.8.2",
      "model_name": "ToolbarModel",
      "state": {
       "layout": "IPY_MODEL_b2cf547aeb1c430a9ff84e975a7afd5f",
       "toolitems": [
        [
         "Home",
         "Reset original view",
         "home",
         "home"
        ],
        [
         "Back",
         "Back to previous view",
         "arrow-left",
         "back"
        ],
        [
         "Forward",
         "Forward to next view",
         "arrow-right",
         "forward"
        ],
        [
         "Pan",
         "Left button pans, Right button zooms\nx/y fixes axis, CTRL fixes aspect",
         "arrows",
         "pan"
        ],
        [
         "Zoom",
         "Zoom to rectangle\nx/y fixes axis, CTRL fixes aspect",
         "square-o",
         "zoom"
        ],
        [
         "Download",
         "Download plot",
         "floppy-o",
         "save_figure"
        ]
       ]
      }
     },
     "e9c54101333c4318a545fb1259365330": {
      "model_module": "@jupyter-widgets/base",
      "model_module_version": "1.2.0",
      "model_name": "LayoutModel",
      "state": {}
     },
     "f7cd15d685f54817ad2ea0dcc48bcae0": {
      "model_module": "@jupyter-widgets/controls",
      "model_module_version": "1.5.0",
      "model_name": "DescriptionStyleModel",
      "state": {
       "description_width": ""
      }
     },
     "fa833a747b4e4dae8744faea7e717322": {
      "model_module": "@jupyter-widgets/controls",
      "model_module_version": "1.5.0",
      "model_name": "ProgressStyleModel",
      "state": {
       "description_width": ""
      }
     }
    },
    "version_major": 2,
    "version_minor": 0
   }
  }
 },
 "nbformat": 4,
 "nbformat_minor": 5
}
