{
 "cells": [
  {
   "cell_type": "code",
   "execution_count": 1,
   "id": "respiratory-sister",
   "metadata": {
    "slideshow": {
     "slide_type": "slide"
    }
   },
   "outputs": [],
   "source": [
    "import QDMPy.data_loading as data_loading\n",
    "import QDMPy.fit_interface as fit_interface\n",
    "import QDMPy.fit_plots as fit_plots\n",
    "\n",
    "import matplotlib\n",
    "import matplotlib.pyplot as plt"
   ]
  },
  {
   "cell_type": "code",
   "execution_count": 2,
   "id": "daily-optics",
   "metadata": {},
   "outputs": [],
   "source": [
    "# '%matplotlib widget' allows interactive plots in jupyterlab\n",
    "# use ''%matplotlib inline' to allow export to pdf\n",
    "%matplotlib widget"
   ]
  },
  {
   "cell_type": "markdown",
   "id": "better-evans",
   "metadata": {},
   "source": [
    "# Load the data in"
   ]
  },
  {
   "cell_type": "code",
   "execution_count": 3,
   "id": "acquired-breakdown",
   "metadata": {},
   "outputs": [],
   "source": [
    "options_dict = {\n",
    "    \"base_dir\": \"C:\\\\src\\\\QDMPY_test_image\\\\\",\n",
    "    \"filepath\": \"ODMR - Pulsed with IR_83\",\n",
    "    \n",
    "    \"additional_bins\": 1,\n",
    "\n",
    "    \"system_name\": \"Zyla\",\n",
    "\n",
    "    \"ROI\": \"Full\", \n",
    "    \"ROI_centre\": [60, 60],\n",
    "    \"ROI_rect_size\": [120,120],\n",
    "\n",
    "    \"normalisation\": \"div\", # fix this for consistent fitting -> get to 0->1?\n",
    "    \n",
    "    \"single_pixel_check\": [15,15],\n",
    "    \"area_1_centre\": [7, 25], # should fall back on default vals if doesn't fit within ROI\n",
    "    \"area_1_halfsize\": 3, \n",
    "    \"area_2_centre\": [20, 20],\n",
    "    \"area_2_halfsize\": 3,\n",
    "    \"area_3_centre\": [25, 8],\n",
    "    \"area_3_halfsize\": 3,\n",
    "\n",
    "    \"fit_backend\": \"gpufit\",\n",
    "    \"fit_backend_comparison\": [\"scipy\", \"gpufit\"],\n",
    "    \"fit_pixels\": True, \n",
    "    \"force_fit\": True, \n",
    "    \"auto_match_prev_ROI_options\": False,\n",
    "    \n",
    "    \"use_ROI_avg_fit_res_for_all_pixels\": True,\n",
    "    \n",
    "    \"scipy_sub_threads\": 2, \n",
    "\n",
    "    \"fit_functions\":  {\"linear\": 1, \"lorentzian\": 8},\n",
    "\n",
    "    \"pos_guess\": [2610, 2708, 2805, 2879, 2953, 3020, 3092, 3145],\n",
    "    \"pos_range\": 25,\n",
    "\n",
    "    \"amp_guess\": -0.0015,\n",
    "    \"amp_bounds\": [-0.0100, -0.0003],\n",
    "\n",
    "    \"fwhm_guess\": 9,\n",
    "    \"fwhm_bounds\": [5, 20],\n",
    "\n",
    "    \"c_guess\": 1,\n",
    "    \"c_bounds\": [0.9995, 1.0005],\n",
    "\n",
    "    \"m_guess\": 0,\n",
    "    \"m_bounds\": [-1e-6, 1e-6],\n",
    "    \n",
    "    \"scramble_pixels\": True,\n",
    "    \n",
    "    \"gpufit_tolerance\": 1e-12,\n",
    "    \"gpufit_max_iterations\": 25,\n",
    "    \"gpufit_estimator_id\": \"LSE\"\n",
    "}"
   ]
  },
  {
   "cell_type": "code",
   "execution_count": 4,
   "id": "interim-horse",
   "metadata": {},
   "outputs": [],
   "source": [
    "# QDMPy_path = data_loading.DIR_PATH\n",
    "# options = data_loading.load_options(path=QDMPy_path / \"options/test_options_odmr.json\", check_for_prev_result=True)\n",
    "options = data_loading.load_options(options_dict=options_dict, check_for_prev_result=True)\n",
    "fit_plots.set_mpl_rcparams(options)"
   ]
  },
  {
   "cell_type": "code",
   "execution_count": 5,
   "id": "organizational-aquarium",
   "metadata": {},
   "outputs": [],
   "source": [
    "raw_data, prelim_sweep_list = data_loading.load_raw_and_sweep(options)"
   ]
  },
  {
   "cell_type": "code",
   "execution_count": 6,
   "id": "incoming-ultimate",
   "metadata": {},
   "outputs": [],
   "source": [
    "PL_image, PL_image_ROI, sig, ref, sig_norm, single_pixel_pl, sweep_list = data_loading.reshape_dataset(\n",
    "        options, raw_data, prelim_sweep_list\n",
    "    )"
   ]
  },
  {
   "cell_type": "code",
   "execution_count": 7,
   "id": "encouraging-heart",
   "metadata": {},
   "outputs": [
    {
     "data": {
      "application/vnd.jupyter.widget-view+json": {
       "model_id": "54bf4eabf8b245a680d414351f4452f0",
       "version_major": 2,
       "version_minor": 0
      },
      "text/plain": [
       "Canvas(toolbar=Toolbar(toolitems=[('Home', 'Reset original view', 'home', 'home'), ('Back', 'Back to previous …"
      ]
     },
     "metadata": {},
     "output_type": "display_data"
    }
   ],
   "source": [
    "fig1 = fit_plots.plot_ROI_PL_image(options, PL_image)"
   ]
  },
  {
   "cell_type": "code",
   "execution_count": 8,
   "id": "alone-sense",
   "metadata": {},
   "outputs": [],
   "source": [
    "AOIs = data_loading.define_AOIs(options)"
   ]
  },
  {
   "cell_type": "code",
   "execution_count": 9,
   "id": "subject-brunei",
   "metadata": {},
   "outputs": [
    {
     "data": {
      "application/vnd.jupyter.widget-view+json": {
       "model_id": "7c738816fc5649b99c918ae82c9d3e11",
       "version_major": 2,
       "version_minor": 0
      },
      "text/plain": [
       "Canvas(toolbar=Toolbar(toolitems=[('Home', 'Reset original view', 'home', 'home'), ('Back', 'Back to previous …"
      ]
     },
     "metadata": {},
     "output_type": "display_data"
    }
   ],
   "source": [
    "fig2 = fit_plots.plot_AOI_PL_images(options, PL_image_ROI, AOIs)"
   ]
  },
  {
   "cell_type": "code",
   "execution_count": 10,
   "id": "average-wallace",
   "metadata": {},
   "outputs": [
    {
     "data": {
      "application/vnd.jupyter.widget-view+json": {
       "model_id": "9dc7403221074b9dab0fabfed7fe3532",
       "version_major": 2,
       "version_minor": 0
      },
      "text/plain": [
       "Canvas(toolbar=Toolbar(toolitems=[('Home', 'Reset original view', 'home', 'home'), ('Back', 'Back to previous …"
      ]
     },
     "metadata": {},
     "output_type": "display_data"
    }
   ],
   "source": [
    "aoi_spectra_plot = fit_plots.plot_AOI_spectra(options, AOIs, sig, ref, sweep_list)"
   ]
  },
  {
   "cell_type": "markdown",
   "id": "simplified-stand",
   "metadata": {},
   "source": [
    "# Fit AOI, ROI averages, single pixel"
   ]
  },
  {
   "cell_type": "code",
   "execution_count": 11,
   "id": "funded-caribbean",
   "metadata": {},
   "outputs": [
    {
     "name": "stderr",
     "output_type": "stream",
     "text": [
      "C:\\src\\QDMPy\\QDMPy\\fit_scipy.py:26: TqdmExperimentalWarning: Using `tqdm.autonotebook.tqdm` in notebook mode. Use `tqdm.tqdm` instead to force console mode (e.g. in jupyter console)\n",
      "  from tqdm.autonotebook import tqdm  # auto detects jupyter\n"
     ]
    }
   ],
   "source": [
    "fit_model = fit_interface.define_fit_model(options)"
   ]
  },
  {
   "cell_type": "code",
   "execution_count": 12,
   "id": "worst-preservation",
   "metadata": {},
   "outputs": [],
   "source": [
    "backend_ROI_results_lst = fit_interface.fit_ROI_avg(options, sig_norm, sweep_list, fit_model)"
   ]
  },
  {
   "cell_type": "code",
   "execution_count": 13,
   "id": "offshore-cookbook",
   "metadata": {},
   "outputs": [
    {
     "data": {
      "application/vnd.jupyter.widget-view+json": {
       "model_id": "4ce8bd814ffa4154ae1856bae7edcb56",
       "version_major": 2,
       "version_minor": 0
      },
      "text/plain": [
       "Canvas(toolbar=Toolbar(toolitems=[('Home', 'Reset original view', 'home', 'home'), ('Back', 'Back to previous …"
      ]
     },
     "metadata": {},
     "output_type": "display_data"
    }
   ],
   "source": [
    "fig3 = fit_plots.plot_ROI_avg_fits(options, backend_ROI_results_lst)"
   ]
  },
  {
   "cell_type": "code",
   "execution_count": 14,
   "id": "offshore-crest",
   "metadata": {},
   "outputs": [],
   "source": [
    "fit_result_collection_lst = fit_interface.fit_AOIs(options, sig_norm, single_pixel_pl, sweep_list, fit_model, AOIs, backend_ROI_results_lst)"
   ]
  },
  {
   "cell_type": "code",
   "execution_count": 15,
   "id": "aquatic-tulsa",
   "metadata": {},
   "outputs": [
    {
     "data": {
      "application/vnd.jupyter.widget-view+json": {
       "model_id": "9ebd9faff13a4f99910cb8a31ca572ee",
       "version_major": 2,
       "version_minor": 0
      },
      "text/plain": [
       "Canvas(toolbar=Toolbar(toolitems=[('Home', 'Reset original view', 'home', 'home'), ('Back', 'Back to previous …"
      ]
     },
     "metadata": {},
     "output_type": "display_data"
    }
   ],
   "source": [
    "AOI_spectra_fit_fig = fit_plots.plot_AOI_spectra_fit(options, sig, ref, sweep_list, AOIs, fit_result_collection_lst, fit_model)"
   ]
  },
  {
   "cell_type": "markdown",
   "id": "quantitative-terrorist",
   "metadata": {},
   "source": [
    "# Fit pixels"
   ]
  },
  {
   "cell_type": "code",
   "execution_count": 16,
   "id": "quick-manner",
   "metadata": {},
   "outputs": [],
   "source": [
    "if (options[\"force_fit\"] or not options[\"found_prev_result\"]) and options[\"fit_pixels\"]:\n",
    "    pixel_fit_params = fit_interface.fit_pixels(options, sig_norm, sweep_list, fit_model, backend_ROI_results_lst[0])\n",
    "elif options[\"found_prev_result\"]:\n",
    "    pixel_fit_params = fit_interface.load_prev_fit_results(options)\n",
    "else:\n",
    "    pixel_fit_params = None  # not fitting pixels, this stops plotting (e.g. via plot_param_images) from erroring"
   ]
  },
  {
   "cell_type": "markdown",
   "id": "increasing-antigua",
   "metadata": {},
   "source": [
    "# Plot (fit) parameters"
   ]
  },
  {
   "cell_type": "code",
   "execution_count": 17,
   "id": "arctic-oakland",
   "metadata": {},
   "outputs": [
    {
     "data": {
      "application/vnd.jupyter.widget-view+json": {
       "model_id": "f05a8b9b2da0441fa17cf54500ee420e",
       "version_major": 2,
       "version_minor": 0
      },
      "text/plain": [
       "Canvas(toolbar=Toolbar(toolitems=[('Home', 'Reset original view', 'home', 'home'), ('Back', 'Back to previous …"
      ]
     },
     "metadata": {},
     "output_type": "display_data"
    }
   ],
   "source": [
    "fit_plots.plot_param_images(options, fit_model, pixel_fit_params, \"c\")"
   ]
  },
  {
   "cell_type": "code",
   "execution_count": 18,
   "id": "developing-reggae",
   "metadata": {},
   "outputs": [
    {
     "data": {
      "application/vnd.jupyter.widget-view+json": {
       "model_id": "66def9c451c243daaa3aaab85c629de0",
       "version_major": 2,
       "version_minor": 0
      },
      "text/plain": [
       "Canvas(toolbar=Toolbar(toolitems=[('Home', 'Reset original view', 'home', 'home'), ('Back', 'Back to previous …"
      ]
     },
     "metadata": {},
     "output_type": "display_data"
    }
   ],
   "source": [
    "fit_plots.plot_param_images(options, fit_model, pixel_fit_params, \"m\")"
   ]
  },
  {
   "cell_type": "code",
   "execution_count": 19,
   "id": "broad-procurement",
   "metadata": {},
   "outputs": [
    {
     "data": {
      "application/vnd.jupyter.widget-view+json": {
       "model_id": "4afc6321a4774fb3bc5f55d8af096e82",
       "version_major": 2,
       "version_minor": 0
      },
      "text/plain": [
       "Canvas(toolbar=Toolbar(toolitems=[('Home', 'Reset original view', 'home', 'home'), ('Back', 'Back to previous …"
      ]
     },
     "metadata": {},
     "output_type": "display_data"
    }
   ],
   "source": [
    "fit_plots.plot_param_images(options, fit_model, pixel_fit_params, \"pos\")"
   ]
  },
  {
   "cell_type": "code",
   "execution_count": 20,
   "id": "appointed-eugene",
   "metadata": {},
   "outputs": [
    {
     "data": {
      "application/vnd.jupyter.widget-view+json": {
       "model_id": "1307de61731a4cb4bc049ad33b0bb3dc",
       "version_major": 2,
       "version_minor": 0
      },
      "text/plain": [
       "Canvas(toolbar=Toolbar(toolitems=[('Home', 'Reset original view', 'home', 'home'), ('Back', 'Back to previous …"
      ]
     },
     "metadata": {},
     "output_type": "display_data"
    }
   ],
   "source": [
    "fit_plots.plot_param_images(options, fit_model, pixel_fit_params, \"amp\")"
   ]
  },
  {
   "cell_type": "code",
   "execution_count": 21,
   "id": "attempted-coalition",
   "metadata": {},
   "outputs": [
    {
     "data": {
      "application/vnd.jupyter.widget-view+json": {
       "model_id": "b55e503005e846c49ca7e03e54490b49",
       "version_major": 2,
       "version_minor": 0
      },
      "text/plain": [
       "Canvas(toolbar=Toolbar(toolitems=[('Home', 'Reset original view', 'home', 'home'), ('Back', 'Back to previous …"
      ]
     },
     "metadata": {},
     "output_type": "display_data"
    }
   ],
   "source": [
    "fit_plots.plot_param_images(options, fit_model, pixel_fit_params, \"fwhm\")"
   ]
  },
  {
   "cell_type": "code",
   "execution_count": null,
   "id": "constant-acting",
   "metadata": {},
   "outputs": [],
   "source": []
  },
  {
   "cell_type": "code",
   "execution_count": 22,
   "id": "driving-opera",
   "metadata": {},
   "outputs": [],
   "source": [
    "data_loading.save_options(options)"
   ]
  },
  {
   "cell_type": "code",
   "execution_count": 23,
   "id": "special-avatar",
   "metadata": {},
   "outputs": [
    {
     "data": {
      "text/plain": [
       "{'base_dir': 'C:\\\\src\\\\QDMPY_test_image\\\\',\n",
       " 'filepath': 'C:\\\\src\\\\QDMPY_test_image\\\\ODMR - Pulsed with IR_83',\n",
       " 'raw_pixel_size': 2.44140625e-07,\n",
       " 'ignore_ref': False,\n",
       " 'additional_bins': 1,\n",
       " 'old_binning_convention': False,\n",
       " 'system_name': 'Zyla',\n",
       " 'ROI': 'Full',\n",
       " 'ROI_halfsize': 1,\n",
       " 'ROI_centre': [60, 60],\n",
       " 'ROI_rect_size': [120, 120],\n",
       " 'remove_start_sweep': 1,\n",
       " 'remove_end_sweep': 0,\n",
       " 'normalisation': 'div',\n",
       " 'single_pixel_check': [15, 15],\n",
       " 'area_1_centre': [7, 25],\n",
       " 'area_1_halfsize': 3,\n",
       " 'area_2_centre': [20, 20],\n",
       " 'area_2_halfsize': 3,\n",
       " 'area_3_centre': [25, 8],\n",
       " 'area_3_halfsize': 3,\n",
       " 'area_4_centre': None,\n",
       " 'area_4_halfsize': None,\n",
       " 'area_5_centre': None,\n",
       " 'area_5_halfsize': None,\n",
       " 'fit_backend': 'gpufit',\n",
       " 'fit_backend_comparison': ['scipy', 'gpufit'],\n",
       " 'force_fit': True,\n",
       " 'fit_pixels': True,\n",
       " 'auto_match_prev_ROI_options': False,\n",
       " 'scramble_pixels': True,\n",
       " 'use_ROI_avg_fit_res_for_all_pixels': True,\n",
       " 'fit_functions': {'linear': 1, 'lorentzian': 8},\n",
       " 'pos_guess': [2610, 2708, 2805, 2879, 2953, 3020, 3092, 3145],\n",
       " 'pos_range': 25,\n",
       " 'amp_guess': -0.0015,\n",
       " 'amp_bounds': [-0.01, -0.0003],\n",
       " 'fwhm_guess': 9,\n",
       " 'fwhm_bounds': [5, 20],\n",
       " 'pos_gauss_guess': None,\n",
       " 'pos_gauss_range': 25,\n",
       " 'amp_gauss_guess': -0.0015,\n",
       " 'amp_gauss_bounds': [-0.01, -0.0003],\n",
       " 'fwhm_gauss_guess': -0.0015,\n",
       " 'fwhm_gauss_bounds': [5, 20],\n",
       " 'c_guess': 1,\n",
       " 'c_bounds': [0.9995, 1.0005],\n",
       " 'm_guess': 0,\n",
       " 'm_bounds': [-1e-06, 1e-06],\n",
       " 'constant_guess': 1,\n",
       " 'constant_bounds': [0.9995, 1.0005],\n",
       " 'rabi_freq_guess': None,\n",
       " 'rabi_freq_bounds': [None, None],\n",
       " 'pos_circ_guess': None,\n",
       " 'pos_circ_bounds': [None, None],\n",
       " 'amp_circ_guess': None,\n",
       " 'amp_circ_bounds': [None, None],\n",
       " 'pos_h14_guess': None,\n",
       " 'pos_h15_guess': None,\n",
       " 'pos_h14_range': 25,\n",
       " 'pos_h15_range': 25,\n",
       " 'amp_h15_hyp_1_guess': -0.015,\n",
       " 'amp_h15_hyp_2_guess': -0.015,\n",
       " 'amp_h15_hyp_1_bounds': [-0.1, -0.001],\n",
       " 'amp_h15_hyp_2_bounds': [-0.1, -0.001],\n",
       " 'amp_h14_hyp_1_guess': -0.015,\n",
       " 'amp_h14_hyp_2_guess': -0.015,\n",
       " 'amp_h14_hyp_3_guess': -0.015,\n",
       " 'amp_h14_hyp_1_bounds': [-0.1, -0.001],\n",
       " 'amp_h14_hyp_2_bounds': [-0.1, -0.001],\n",
       " 'amp_h14_hyp_3_bounds': [-0.1, -0.001],\n",
       " 'fwhm_h15_hyp_1_guess': -0.015,\n",
       " 'fwhm_h15_hyp_2_guess': -0.015,\n",
       " 'fwhm_h15_hyp_1_bounds': [-0.1, -0.001],\n",
       " 'fwhm_h15_hyp_2_bounds': [-0.1, -0.001],\n",
       " 'fwhm_h14_hyp_1_guess': -0.015,\n",
       " 'fwhm_h14_hyp_2_guess': -0.015,\n",
       " 'fwhm_h14_hyp_3_guess': -0.015,\n",
       " 'power_exp_guess': 0.7,\n",
       " 'power_exp_bounds': [0.5, 1.0],\n",
       " 'charac_exp_t_guess': 0.001,\n",
       " 'charac_exp_t_bounds': [0.0001, 0.03],\n",
       " 'amp_exp_guess': -0.07,\n",
       " 'amp_exp_bounds': [-0.001, -0.2],\n",
       " 'scipy_fit_method': 'trf',\n",
       " 'scipy_sub_threads': 2,\n",
       " 'scipy_show_progressbar': True,\n",
       " 'scipy_use_analytic_jac': True,\n",
       " 'scipy_verbose_fitting': 0,\n",
       " 'scipy_fit_jac_acc': '2-point',\n",
       " 'scipy_fit_gtol': 1e-12,\n",
       " 'scipy_fit_xtol': 1e-12,\n",
       " 'scipy_fit_ftol': 1e-12,\n",
       " 'scipy_scale_x': True,\n",
       " 'scipy_loss_fn': 'linear',\n",
       " 'gpufit_tolerance': 1e-12,\n",
       " 'gpufit_max_iterations': 25,\n",
       " 'gpufit_estimator_id': 'LSE',\n",
       " 'save_plots': True,\n",
       " 'show_scalebar': True,\n",
       " 'annotate_image_regions': True,\n",
       " 'save_fig_type': 'png',\n",
       " 'colormaps': defaultdict(<function QDMPy.misc.defaultdict_from_d.<locals>.<lambda>()>,\n",
       "             {'param_images': 'viridis', 'PL_images': 'Greys_r'}),\n",
       " 'colormap_range_dicts': defaultdict(<function QDMPy.misc.defaultdict_from_d.<locals>.<lambda>()>,\n",
       "             {'param_images': defaultdict(<function QDMPy.misc.defaultdict_from_d.<locals>.<lambda>()>,\n",
       "                          {'type': 'min_max_symmetric_about_mean'}),\n",
       "              'PL_images': defaultdict(<function QDMPy.misc.defaultdict_from_d.<locals>.<lambda>()>,\n",
       "                          {'type': 'min_max'})}),\n",
       " 'mpl_rcparams': defaultdict(<function QDMPy.misc.defaultdict_from_d.<locals>.<lambda>()>,\n",
       "             {'figure.figsize': [6.4, 4.8],\n",
       "              'figure.dpi': 80,\n",
       "              'lines.linewidth': 0.8,\n",
       "              'lines.markersize': 3,\n",
       "              'xtick.labelsize': 10,\n",
       "              'xtick.major.size': 4,\n",
       "              'xtick.direction': 'in',\n",
       "              'ytick.labelsize': 10,\n",
       "              'ytick.direction': 'in',\n",
       "              'ytick.major.size': 4,\n",
       "              'legend.fontsize': 'small',\n",
       "              'legend.loc': 'lower left',\n",
       "              'scalebar.location': 'lower right',\n",
       "              'scalebar.height_fraction': 0.015,\n",
       "              'scalebar.box_alpha': 0.5,\n",
       "              'scalebar.scale_loc': 'top',\n",
       "              'scalebar.sep': 1}),\n",
       " 'AOI_colors': ['blue',\n",
       "  'tab:brown',\n",
       "  'purple',\n",
       "  'darkslategrey',\n",
       "  'magenta',\n",
       "  'olive',\n",
       "  'cyan'],\n",
       " 'fit_backend_colors': defaultdict(<function QDMPy.misc.defaultdict_from_d.<locals>.<lambda>()>,\n",
       "             {'scipy': defaultdict(<function QDMPy.misc.defaultdict_from_d.<locals>.<lambda>()>,\n",
       "                          {'roifit_linecolor': 'mediumblue',\n",
       "                           'residual_linecolor': 'black',\n",
       "                           'aoi_roi_fit_linecolor': 'indigo',\n",
       "                           'aoi_best_fit_linecolor': 'crimson'}),\n",
       "              'gpufit': defaultdict(<function QDMPy.misc.defaultdict_from_d.<locals>.<lambda>()>,\n",
       "                          {'roifit_linecolor': 'cornflowerblue',\n",
       "                           'residual_linecolor': 'dimgrey',\n",
       "                           'aoi_roi_fit_linecolor': 'mediumpurple',\n",
       "                           'aoi_best_fit_linecolor': 'coral'})}),\n",
       " 'cleaned': True,\n",
       " 'system': <QDMPy.systems.Zyla at 0x951db20>,\n",
       " 'used_ref': True,\n",
       " 'metadata': {'ImageSizeBytes': 2097152.0,\n",
       "  'Binning': 2.0,\n",
       "  'PixelEncoding': ' Mono16',\n",
       "  'AOIStride': 2048.0,\n",
       "  'AOIWidth': 512.0,\n",
       "  'AOIHeight': 512.0,\n",
       "  'CCD shutter': ' Global',\n",
       "  'Exposure time': 3.0,\n",
       "  'Laser pulse duration (s)': 2.0,\n",
       "  'post-L dark (s)': 2.0,\n",
       "  'IR pulse duration (s)': 2.0,\n",
       "  'post-IR dark (s)': 2.0,\n",
       "  'MW delay (s)': 2.0,\n",
       "  'Measurement': 70.0,\n",
       "  'Measurement protocol': 1.0,\n",
       "  'Repolarisation Exposure': ' TRUE',\n",
       "  'Microwave power (dBm)': 8.0,\n",
       "  'Probe frequency (MHz)': 2.0,\n",
       "  'pi time (s)': 2.0,\n",
       "  'pi/2 time (s)': 4.0,\n",
       "  'MW2 power (dBm)': -4.0,\n",
       "  'MW2 probe frequency (MHz)': 1.0,\n",
       "  'MW2 probe time (s)': 3.0,\n",
       "  'MW2 pi time (s)': 2.0,\n",
       "  'Current on/off': ' FALSE',\n",
       "  'Voltage (V)': 5.0,\n",
       "  'Current (A)': -4.0,\n",
       "  'Resistance (ohm)': -1.0,\n",
       "  '# of pi pulses': 3.0,\n",
       "  'NMR tau': 3.0,\n",
       "  'NMR tau 2': 2.0,\n",
       "  '# of pi pulses 2': 6.0,\n",
       "  '# of pol N': 1.0,\n",
       "  '# of read out pulses': 2.0,\n",
       "  '# of read out pulses 2': 1.0,\n",
       "  '# of prepol N': 1.0,\n",
       "  'Mag on/off': ' FALSE',\n",
       "  'Field Strength (G)': 100.0,\n",
       "  'Theta (deg)': 68.0,\n",
       "  'Phi (def)': 123.0,\n",
       "  '# of completed sweeps': 3.0,\n",
       "  'Time stamp': ' 20-12-04'},\n",
       " 'threads': 6,\n",
       " 'reloaded_prev_fit': None,\n",
       " 'found_prev_result': True,\n",
       " 'output_dir': PurePosixPath('C:\\\\src\\\\QDMPY_test_image\\\\ODMR - Pulsed with IR_83_processed_bin_2'),\n",
       " 'data_dir': PurePosixPath('C:\\\\src\\\\QDMPY_test_image\\\\ODMR - Pulsed with IR_83_processed_bin_2/data'),\n",
       " 'fit_param_defn': OrderedDict([('c_0', 'Amplitude (a.u.)'),\n",
       "              ('m_0', 'Amplitude per Freq (a.u.)'),\n",
       "              ('fwhm_0', 'Freq (MHz)'),\n",
       "              ('pos_0', 'Freq (MHz)'),\n",
       "              ('amp_0', 'Amp (a.u.)'),\n",
       "              ('fwhm_1', 'Freq (MHz)'),\n",
       "              ('pos_1', 'Freq (MHz)'),\n",
       "              ('amp_1', 'Amp (a.u.)'),\n",
       "              ('fwhm_2', 'Freq (MHz)'),\n",
       "              ('pos_2', 'Freq (MHz)'),\n",
       "              ('amp_2', 'Amp (a.u.)'),\n",
       "              ('fwhm_3', 'Freq (MHz)'),\n",
       "              ('pos_3', 'Freq (MHz)'),\n",
       "              ('amp_3', 'Amp (a.u.)'),\n",
       "              ('fwhm_4', 'Freq (MHz)'),\n",
       "              ('pos_4', 'Freq (MHz)'),\n",
       "              ('amp_4', 'Amp (a.u.)'),\n",
       "              ('fwhm_5', 'Freq (MHz)'),\n",
       "              ('pos_5', 'Freq (MHz)'),\n",
       "              ('amp_5', 'Amp (a.u.)'),\n",
       "              ('fwhm_6', 'Freq (MHz)'),\n",
       "              ('pos_6', 'Freq (MHz)'),\n",
       "              ('amp_6', 'Amp (a.u.)'),\n",
       "              ('fwhm_7', 'Freq (MHz)'),\n",
       "              ('pos_7', 'Freq (MHz)'),\n",
       "              ('amp_7', 'Amp (a.u.)')]),\n",
       " 'total_bin': 2,\n",
       " 'original_bin': 2,\n",
       " 'ModelID': 8,\n",
       " 'CUDA_version_runtime': (8, 0),\n",
       " 'CUDA_version_driver': (8, 0),\n",
       " 'fit_time_(s)': 211.346123}"
      ]
     },
     "execution_count": 23,
     "metadata": {},
     "output_type": "execute_result"
    }
   ],
   "source": [
    "options"
   ]
  },
  {
   "cell_type": "code",
   "execution_count": null,
   "id": "arbitrary-sydney",
   "metadata": {},
   "outputs": [],
   "source": []
  }
 ],
 "metadata": {
  "kernelspec": {
   "display_name": "Python 3",
   "language": "python",
   "name": "python3"
  },
  "language_info": {
   "codemirror_mode": {
    "name": "ipython",
    "version": 3
   },
   "file_extension": ".py",
   "mimetype": "text/x-python",
   "name": "python",
   "nbconvert_exporter": "python",
   "pygments_lexer": "ipython3",
   "version": "3.8.5"
  },
  "toc-autonumbering": false,
  "toc-showtags": false,
  "widgets": {
   "application/vnd.jupyter.widget-state+json": {
    "state": {
     "1200860d93fa43829bc18d07e7cf2daa": {
      "model_module": "@jupyter-widgets/base",
      "model_module_version": "1.2.0",
      "model_name": "LayoutModel",
      "state": {}
     },
     "1307de61731a4cb4bc049ad33b0bb3dc": {
      "model_module": "jupyter-matplotlib",
      "model_module_version": "^0.8.2",
      "model_name": "MPLCanvasModel",
      "state": {
       "_cursor": "default",
       "_figure_label": "Figure 9",
       "_height": 1536,
       "_width": 1024,
       "layout": "IPY_MODEL_6b72923815f44538af8a2b6ed92b5522",
       "toolbar": "IPY_MODEL_8e41c9686a0144f0bdb760c0cdfa4cc3",
       "toolbar_position": "left"
      }
     },
     "198772b07d654eedb1a25ef4c6bf266b": {
      "model_module": "jupyter-matplotlib",
      "model_module_version": "^0.8.2",
      "model_name": "ToolbarModel",
      "state": {
       "layout": "IPY_MODEL_bb301d4f27f74a4d81df40d938186d1f",
       "toolitems": [
        [
         "Home",
         "Reset original view",
         "home",
         "home"
        ],
        [
         "Back",
         "Back to previous view",
         "arrow-left",
         "back"
        ],
        [
         "Forward",
         "Forward to next view",
         "arrow-right",
         "forward"
        ],
        [
         "Pan",
         "Left button pans, Right button zooms\nx/y fixes axis, CTRL fixes aspect",
         "arrows",
         "pan"
        ],
        [
         "Zoom",
         "Zoom to rectangle\nx/y fixes axis, CTRL fixes aspect",
         "square-o",
         "zoom"
        ],
        [
         "Download",
         "Download plot",
         "floppy-o",
         "save_figure"
        ]
       ]
      }
     },
     "210d58ce5d2d42d983e909effdad1a91": {
      "model_module": "@jupyter-widgets/base",
      "model_module_version": "1.2.0",
      "model_name": "LayoutModel",
      "state": {}
     },
     "228b76b4480f4348aef66f337bb73dc1": {
      "model_module": "@jupyter-widgets/base",
      "model_module_version": "1.2.0",
      "model_name": "LayoutModel",
      "state": {}
     },
     "253cf4d0dafe42f4a4d3c002d8e8feba": {
      "model_module": "@jupyter-widgets/base",
      "model_module_version": "1.2.0",
      "model_name": "LayoutModel",
      "state": {}
     },
     "3b4690cddfe440df815c731ef6d72eb4": {
      "model_module": "@jupyter-widgets/base",
      "model_module_version": "1.2.0",
      "model_name": "LayoutModel",
      "state": {}
     },
     "48977fea7a4d4e06a32e52d33e4b540c": {
      "model_module": "@jupyter-widgets/base",
      "model_module_version": "1.2.0",
      "model_name": "LayoutModel",
      "state": {}
     },
     "4afc6321a4774fb3bc5f55d8af096e82": {
      "model_module": "jupyter-matplotlib",
      "model_module_version": "^0.8.2",
      "model_name": "MPLCanvasModel",
      "state": {
       "_cursor": "default",
       "_figure_label": "Figure 8",
       "_height": 1536,
       "_width": 1024,
       "layout": "IPY_MODEL_621c79bb32a84916b948713ec0037ac1",
       "toolbar": "IPY_MODEL_ed321f2dd61f4dd289f88c300fdf1fb9",
       "toolbar_position": "left"
      }
     },
     "4ce8bd814ffa4154ae1856bae7edcb56": {
      "model_module": "jupyter-matplotlib",
      "model_module_version": "^0.8.2",
      "model_name": "MPLCanvasModel",
      "state": {
       "_cursor": "default",
       "_figure_label": "Figure 4",
       "_height": 384,
       "_width": 512,
       "layout": "IPY_MODEL_9d293051ab8c4f3c8bd3f69721335add",
       "toolbar": "IPY_MODEL_198772b07d654eedb1a25ef4c6bf266b",
       "toolbar_position": "left"
      }
     },
     "54bf4eabf8b245a680d414351f4452f0": {
      "model_module": "jupyter-matplotlib",
      "model_module_version": "^0.8.2",
      "model_name": "MPLCanvasModel",
      "state": {
       "_cursor": "default",
       "_figure_label": "Figure 1",
       "_height": 384,
       "_width": 512,
       "layout": "IPY_MODEL_1200860d93fa43829bc18d07e7cf2daa",
       "toolbar": "IPY_MODEL_d2ecb5b360f24600a0f8521f834a016f",
       "toolbar_position": "left"
      }
     },
     "559bd88c3afe44968023f7e763f408a7": {
      "model_module": "@jupyter-widgets/base",
      "model_module_version": "1.2.0",
      "model_name": "LayoutModel",
      "state": {}
     },
     "564c8e92c79a4f5787450355372dfb7f": {
      "model_module": "@jupyter-widgets/base",
      "model_module_version": "1.2.0",
      "model_name": "LayoutModel",
      "state": {}
     },
     "59948fc7ea624f4cb73389d1e94dab37": {
      "model_module": "@jupyter-widgets/base",
      "model_module_version": "1.2.0",
      "model_name": "LayoutModel",
      "state": {}
     },
     "621c79bb32a84916b948713ec0037ac1": {
      "model_module": "@jupyter-widgets/base",
      "model_module_version": "1.2.0",
      "model_name": "LayoutModel",
      "state": {}
     },
     "66def9c451c243daaa3aaab85c629de0": {
      "model_module": "jupyter-matplotlib",
      "model_module_version": "^0.8.2",
      "model_name": "MPLCanvasModel",
      "state": {
       "_cursor": "default",
       "_figure_label": "Figure 7",
       "_height": 384,
       "_width": 512,
       "layout": "IPY_MODEL_228b76b4480f4348aef66f337bb73dc1",
       "toolbar": "IPY_MODEL_fa5c7280a0564b399be17b7430d37771",
       "toolbar_position": "left"
      }
     },
     "6b72923815f44538af8a2b6ed92b5522": {
      "model_module": "@jupyter-widgets/base",
      "model_module_version": "1.2.0",
      "model_name": "LayoutModel",
      "state": {}
     },
     "741eb487cf2f4a5a95a87a466a670111": {
      "model_module": "@jupyter-widgets/base",
      "model_module_version": "1.2.0",
      "model_name": "LayoutModel",
      "state": {}
     },
     "7c738816fc5649b99c918ae82c9d3e11": {
      "model_module": "jupyter-matplotlib",
      "model_module_version": "^0.8.2",
      "model_name": "MPLCanvasModel",
      "state": {
       "_cursor": "default",
       "_figure_label": "Figure 2",
       "_height": 384,
       "_message": "x=470. y=196.\n[2.46e+10]",
       "_width": 512,
       "layout": "IPY_MODEL_c1062c6612b04122ab3d2547642a32fd",
       "toolbar": "IPY_MODEL_c6b66fd0ef9348448697da6a98febdcb",
       "toolbar_position": "left"
      }
     },
     "87e977128cbb41fa99bba4dc4aa43acd": {
      "model_module": "@jupyter-widgets/base",
      "model_module_version": "1.2.0",
      "model_name": "LayoutModel",
      "state": {}
     },
     "88b66b56d3e0463b9322d097eee5ffd5": {
      "model_module": "@jupyter-widgets/base",
      "model_module_version": "1.2.0",
      "model_name": "LayoutModel",
      "state": {}
     },
     "8e41c9686a0144f0bdb760c0cdfa4cc3": {
      "model_module": "jupyter-matplotlib",
      "model_module_version": "^0.8.2",
      "model_name": "ToolbarModel",
      "state": {
       "layout": "IPY_MODEL_741eb487cf2f4a5a95a87a466a670111",
       "toolitems": [
        [
         "Home",
         "Reset original view",
         "home",
         "home"
        ],
        [
         "Back",
         "Back to previous view",
         "arrow-left",
         "back"
        ],
        [
         "Forward",
         "Forward to next view",
         "arrow-right",
         "forward"
        ],
        [
         "Pan",
         "Left button pans, Right button zooms\nx/y fixes axis, CTRL fixes aspect",
         "arrows",
         "pan"
        ],
        [
         "Zoom",
         "Zoom to rectangle\nx/y fixes axis, CTRL fixes aspect",
         "square-o",
         "zoom"
        ],
        [
         "Download",
         "Download plot",
         "floppy-o",
         "save_figure"
        ]
       ]
      }
     },
     "94e7cc08af574fe59fe143eeddfe928f": {
      "model_module": "@jupyter-widgets/base",
      "model_module_version": "1.2.0",
      "model_name": "LayoutModel",
      "state": {}
     },
     "95e7ca6b85aa400fa499e8790198ff26": {
      "model_module": "jupyter-matplotlib",
      "model_module_version": "^0.8.2",
      "model_name": "ToolbarModel",
      "state": {
       "layout": "IPY_MODEL_88b66b56d3e0463b9322d097eee5ffd5",
       "toolitems": [
        [
         "Home",
         "Reset original view",
         "home",
         "home"
        ],
        [
         "Back",
         "Back to previous view",
         "arrow-left",
         "back"
        ],
        [
         "Forward",
         "Forward to next view",
         "arrow-right",
         "forward"
        ],
        [
         "Pan",
         "Left button pans, Right button zooms\nx/y fixes axis, CTRL fixes aspect",
         "arrows",
         "pan"
        ],
        [
         "Zoom",
         "Zoom to rectangle\nx/y fixes axis, CTRL fixes aspect",
         "square-o",
         "zoom"
        ],
        [
         "Download",
         "Download plot",
         "floppy-o",
         "save_figure"
        ]
       ]
      }
     },
     "9d293051ab8c4f3c8bd3f69721335add": {
      "model_module": "@jupyter-widgets/base",
      "model_module_version": "1.2.0",
      "model_name": "LayoutModel",
      "state": {}
     },
     "9dc7403221074b9dab0fabfed7fe3532": {
      "model_module": "jupyter-matplotlib",
      "model_module_version": "^0.8.2",
      "model_name": "MPLCanvasModel",
      "state": {
       "_cursor": "default",
       "_figure_label": "Figure 3",
       "_height": 768,
       "_image_mode": "diff",
       "_message": "x=3022. y=−3.3e+02",
       "_width": 1536,
       "layout": "IPY_MODEL_564c8e92c79a4f5787450355372dfb7f",
       "toolbar": "IPY_MODEL_f2713e66578f4e64ac082d64e088c797",
       "toolbar_position": "left"
      }
     },
     "9ebd9faff13a4f99910cb8a31ca572ee": {
      "model_module": "jupyter-matplotlib",
      "model_module_version": "^0.8.2",
      "model_name": "MPLCanvasModel",
      "state": {
       "_cursor": "default",
       "_figure_label": "Figure 5",
       "_height": 1920,
       "_message": "x=3166. y=0.99809",
       "_width": 1536,
       "layout": "IPY_MODEL_94e7cc08af574fe59fe143eeddfe928f",
       "toolbar": "IPY_MODEL_a2cd4478e6c0455983fa4c72c8af203d",
       "toolbar_position": "left"
      }
     },
     "a2cd4478e6c0455983fa4c72c8af203d": {
      "model_module": "jupyter-matplotlib",
      "model_module_version": "^0.8.2",
      "model_name": "ToolbarModel",
      "state": {
       "layout": "IPY_MODEL_87e977128cbb41fa99bba4dc4aa43acd",
       "toolitems": [
        [
         "Home",
         "Reset original view",
         "home",
         "home"
        ],
        [
         "Back",
         "Back to previous view",
         "arrow-left",
         "back"
        ],
        [
         "Forward",
         "Forward to next view",
         "arrow-right",
         "forward"
        ],
        [
         "Pan",
         "Left button pans, Right button zooms\nx/y fixes axis, CTRL fixes aspect",
         "arrows",
         "pan"
        ],
        [
         "Zoom",
         "Zoom to rectangle\nx/y fixes axis, CTRL fixes aspect",
         "square-o",
         "zoom"
        ],
        [
         "Download",
         "Download plot",
         "floppy-o",
         "save_figure"
        ]
       ]
      }
     },
     "b55e503005e846c49ca7e03e54490b49": {
      "model_module": "jupyter-matplotlib",
      "model_module_version": "^0.8.2",
      "model_name": "MPLCanvasModel",
      "state": {
       "_cursor": "default",
       "_figure_label": "Figure 10",
       "_height": 1536,
       "_width": 1024,
       "layout": "IPY_MODEL_253cf4d0dafe42f4a4d3c002d8e8feba",
       "toolbar": "IPY_MODEL_ceb17f2accdb4e908f24bd7aabc63528",
       "toolbar_position": "left"
      }
     },
     "bb301d4f27f74a4d81df40d938186d1f": {
      "model_module": "@jupyter-widgets/base",
      "model_module_version": "1.2.0",
      "model_name": "LayoutModel",
      "state": {}
     },
     "c1062c6612b04122ab3d2547642a32fd": {
      "model_module": "@jupyter-widgets/base",
      "model_module_version": "1.2.0",
      "model_name": "LayoutModel",
      "state": {}
     },
     "c20b7631f9dd49af95c3b088da3ffd5e": {
      "model_module": "@jupyter-widgets/base",
      "model_module_version": "1.2.0",
      "model_name": "LayoutModel",
      "state": {}
     },
     "c6b66fd0ef9348448697da6a98febdcb": {
      "model_module": "jupyter-matplotlib",
      "model_module_version": "^0.8.2",
      "model_name": "ToolbarModel",
      "state": {
       "layout": "IPY_MODEL_3b4690cddfe440df815c731ef6d72eb4",
       "toolitems": [
        [
         "Home",
         "Reset original view",
         "home",
         "home"
        ],
        [
         "Back",
         "Back to previous view",
         "arrow-left",
         "back"
        ],
        [
         "Forward",
         "Forward to next view",
         "arrow-right",
         "forward"
        ],
        [
         "Pan",
         "Left button pans, Right button zooms\nx/y fixes axis, CTRL fixes aspect",
         "arrows",
         "pan"
        ],
        [
         "Zoom",
         "Zoom to rectangle\nx/y fixes axis, CTRL fixes aspect",
         "square-o",
         "zoom"
        ],
        [
         "Download",
         "Download plot",
         "floppy-o",
         "save_figure"
        ]
       ]
      }
     },
     "caeeaee689dd4c8ab506cee6c2222062": {
      "model_module": "@jupyter-widgets/base",
      "model_module_version": "1.2.0",
      "model_name": "LayoutModel",
      "state": {}
     },
     "ceb17f2accdb4e908f24bd7aabc63528": {
      "model_module": "jupyter-matplotlib",
      "model_module_version": "^0.8.2",
      "model_name": "ToolbarModel",
      "state": {
       "layout": "IPY_MODEL_59948fc7ea624f4cb73389d1e94dab37",
       "toolitems": [
        [
         "Home",
         "Reset original view",
         "home",
         "home"
        ],
        [
         "Back",
         "Back to previous view",
         "arrow-left",
         "back"
        ],
        [
         "Forward",
         "Forward to next view",
         "arrow-right",
         "forward"
        ],
        [
         "Pan",
         "Left button pans, Right button zooms\nx/y fixes axis, CTRL fixes aspect",
         "arrows",
         "pan"
        ],
        [
         "Zoom",
         "Zoom to rectangle\nx/y fixes axis, CTRL fixes aspect",
         "square-o",
         "zoom"
        ],
        [
         "Download",
         "Download plot",
         "floppy-o",
         "save_figure"
        ]
       ]
      }
     },
     "d2ecb5b360f24600a0f8521f834a016f": {
      "model_module": "jupyter-matplotlib",
      "model_module_version": "^0.8.2",
      "model_name": "ToolbarModel",
      "state": {
       "layout": "IPY_MODEL_210d58ce5d2d42d983e909effdad1a91",
       "toolitems": [
        [
         "Home",
         "Reset original view",
         "home",
         "home"
        ],
        [
         "Back",
         "Back to previous view",
         "arrow-left",
         "back"
        ],
        [
         "Forward",
         "Forward to next view",
         "arrow-right",
         "forward"
        ],
        [
         "Pan",
         "Left button pans, Right button zooms\nx/y fixes axis, CTRL fixes aspect",
         "arrows",
         "pan"
        ],
        [
         "Zoom",
         "Zoom to rectangle\nx/y fixes axis, CTRL fixes aspect",
         "square-o",
         "zoom"
        ],
        [
         "Download",
         "Download plot",
         "floppy-o",
         "save_figure"
        ]
       ]
      }
     },
     "ed321f2dd61f4dd289f88c300fdf1fb9": {
      "model_module": "jupyter-matplotlib",
      "model_module_version": "^0.8.2",
      "model_name": "ToolbarModel",
      "state": {
       "layout": "IPY_MODEL_559bd88c3afe44968023f7e763f408a7",
       "toolitems": [
        [
         "Home",
         "Reset original view",
         "home",
         "home"
        ],
        [
         "Back",
         "Back to previous view",
         "arrow-left",
         "back"
        ],
        [
         "Forward",
         "Forward to next view",
         "arrow-right",
         "forward"
        ],
        [
         "Pan",
         "Left button pans, Right button zooms\nx/y fixes axis, CTRL fixes aspect",
         "arrows",
         "pan"
        ],
        [
         "Zoom",
         "Zoom to rectangle\nx/y fixes axis, CTRL fixes aspect",
         "square-o",
         "zoom"
        ],
        [
         "Download",
         "Download plot",
         "floppy-o",
         "save_figure"
        ]
       ]
      }
     },
     "f05a8b9b2da0441fa17cf54500ee420e": {
      "model_module": "jupyter-matplotlib",
      "model_module_version": "^0.8.2",
      "model_name": "MPLCanvasModel",
      "state": {
       "_cursor": "default",
       "_figure_label": "Figure 6",
       "_height": 384,
       "_width": 512,
       "layout": "IPY_MODEL_c20b7631f9dd49af95c3b088da3ffd5e",
       "toolbar": "IPY_MODEL_95e7ca6b85aa400fa499e8790198ff26",
       "toolbar_position": "left"
      }
     },
     "f2713e66578f4e64ac082d64e088c797": {
      "model_module": "jupyter-matplotlib",
      "model_module_version": "^0.8.2",
      "model_name": "ToolbarModel",
      "state": {
       "layout": "IPY_MODEL_caeeaee689dd4c8ab506cee6c2222062",
       "toolitems": [
        [
         "Home",
         "Reset original view",
         "home",
         "home"
        ],
        [
         "Back",
         "Back to previous view",
         "arrow-left",
         "back"
        ],
        [
         "Forward",
         "Forward to next view",
         "arrow-right",
         "forward"
        ],
        [
         "Pan",
         "Left button pans, Right button zooms\nx/y fixes axis, CTRL fixes aspect",
         "arrows",
         "pan"
        ],
        [
         "Zoom",
         "Zoom to rectangle\nx/y fixes axis, CTRL fixes aspect",
         "square-o",
         "zoom"
        ],
        [
         "Download",
         "Download plot",
         "floppy-o",
         "save_figure"
        ]
       ]
      }
     },
     "fa5c7280a0564b399be17b7430d37771": {
      "model_module": "jupyter-matplotlib",
      "model_module_version": "^0.8.2",
      "model_name": "ToolbarModel",
      "state": {
       "layout": "IPY_MODEL_48977fea7a4d4e06a32e52d33e4b540c",
       "toolitems": [
        [
         "Home",
         "Reset original view",
         "home",
         "home"
        ],
        [
         "Back",
         "Back to previous view",
         "arrow-left",
         "back"
        ],
        [
         "Forward",
         "Forward to next view",
         "arrow-right",
         "forward"
        ],
        [
         "Pan",
         "Left button pans, Right button zooms\nx/y fixes axis, CTRL fixes aspect",
         "arrows",
         "pan"
        ],
        [
         "Zoom",
         "Zoom to rectangle\nx/y fixes axis, CTRL fixes aspect",
         "square-o",
         "zoom"
        ],
        [
         "Download",
         "Download plot",
         "floppy-o",
         "save_figure"
        ]
       ]
      }
     }
    },
    "version_major": 2,
    "version_minor": 0
   }
  }
 },
 "nbformat": 4,
 "nbformat_minor": 5
}
