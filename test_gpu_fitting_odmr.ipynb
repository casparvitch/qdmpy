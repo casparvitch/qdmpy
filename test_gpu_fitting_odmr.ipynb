{
 "cells": [
  {
   "cell_type": "code",
   "execution_count": 1,
   "id": "derived-folks",
   "metadata": {
    "slideshow": {
     "slide_type": "slide"
    }
   },
   "outputs": [],
   "source": [
    "import QDMPy.data_loading as data_loading\n",
    "import QDMPy.fit_interface as fit_interface\n",
    "import QDMPy.fit_plots as fit_plots\n",
    "\n",
    "import matplotlib\n",
    "import matplotlib.pyplot as plt"
   ]
  },
  {
   "cell_type": "code",
   "execution_count": 2,
   "id": "mysterious-suggestion",
   "metadata": {},
   "outputs": [],
   "source": [
    "# '%matplotlib widget' allows interactive plots in jupyterlab\n",
    "# use ''%matplotlib inline' to allow export to pdf\n",
    "%matplotlib widget"
   ]
  },
  {
   "cell_type": "markdown",
   "id": "further-aaron",
   "metadata": {},
   "source": [
    "# Load the data in"
   ]
  },
  {
   "cell_type": "code",
   "execution_count": 10,
   "id": "decreased-cardiff",
   "metadata": {},
   "outputs": [],
   "source": [
    "options_dict = {\n",
    "    \"base_dir\": \"C:\\\\src\\\\QDMPY_test_image\\\\\",\n",
    "    \"filepath\": \"ODMR - Pulsed with IR_83\",\n",
    "    \n",
    "    \"additional_bins\": 1,\n",
    "\n",
    "    \"system_name\": \"Zyla\",\n",
    "\n",
    "    \"ROI\": \"Rectangle\", \n",
    "    \"ROI_centre\": [400, 400],\n",
    "    \"ROI_rect_size\": [1000,1000],\n",
    "\n",
    "    \"normalisation\": \"div\", # fix this for consistent fitting -> get to 0->1?\n",
    "    \n",
    "    \"single_pixel_check\": [50,50],\n",
    "    \"area_1_centre\": [200, 300], # This is all far too much -> set by corners!!! start_x, end_x, start_y, end_y, much easier! (same for ROI!)\n",
    "    \"area_1_halfsize\": 20, \n",
    "    \"area_2_centre\": [200, 200],\n",
    "    \"area_2_halfsize\": 20,\n",
    "    \"area_3_centre\": [300, 200],\n",
    "    \"area_3_halfsize\": 20,\n",
    "\n",
    "    \"fit_backend\": \"gpufit\",\n",
    "    \"fit_backend_comparison\": [\"scipy\", \"gpufit\"],\n",
    "    \"fit_pixels\": True, \n",
    "    \"force_fit\": True, \n",
    "    \"auto_match_prev_ROI_options\": False,\n",
    "    \n",
    "    \"use_ROI_avg_fit_res_for_all_pixels\": True,\n",
    "    \n",
    "    \"scipy_sub_threads\": 2, \n",
    "\n",
    "    \"fit_functions\":  {\"linear\": 1, \"lorentzian\": 8},\n",
    "\n",
    "    \"pos_guess\": [2610, 2708, 2805, 2879, 2953, 3020, 3092, 3145],\n",
    "    \"pos_range\": 25,\n",
    "\n",
    "    \"amp_guess\": -0.0015,\n",
    "    \"amp_bounds\": [-0.0100, -0.0003],\n",
    "\n",
    "    \"fwhm_guess\": 9,\n",
    "    \"fwhm_bounds\": [5, 20],\n",
    "\n",
    "    \"c_guess\": 1,\n",
    "    \"c_bounds\": [0.9995, 1.0005],\n",
    "\n",
    "    \"m_guess\": 0,\n",
    "    \"m_bounds\": [-1e-6, 1e-6],\n",
    "    \n",
    "    \"scramble_pixels\": True,\n",
    "    \n",
    "    \"gpufit_tolerance\": 1e-12,\n",
    "    \"gpufit_max_iterations\": 25,\n",
    "    \"gpufit_estimator_id\": \"LSE\"\n",
    "}"
   ]
  },
  {
   "cell_type": "code",
   "execution_count": 11,
   "id": "convertible-melissa",
   "metadata": {},
   "outputs": [],
   "source": [
    "# QDMPy_path = data_loading.DIR_PATH\n",
    "# options = data_loading.load_options(path=QDMPy_path / \"options/test_options_odmr.json\", check_for_prev_result=True)\n",
    "options = data_loading.load_options(options_dict=options_dict, check_for_prev_result=True)\n",
    "fit_plots.set_mpl_rcparams(options)"
   ]
  },
  {
   "cell_type": "code",
   "execution_count": 12,
   "id": "black-driving",
   "metadata": {},
   "outputs": [],
   "source": [
    "raw_data, prelim_sweep_list = data_loading.load_raw_and_sweep(options)"
   ]
  },
  {
   "cell_type": "code",
   "execution_count": 13,
   "id": "surface-grenada",
   "metadata": {},
   "outputs": [
    {
     "name": "stderr",
     "output_type": "stream",
     "text": [
      "C:\\src\\QDMPy\\QDMPy\\data_loading.py:573: UserWarning: ROI Rectangle too big in x, cropping to image.\n",
      "  warnings.warn(\"ROI Rectangle too big in x, cropping to image.\")\n",
      "C:\\src\\QDMPy\\QDMPy\\data_loading.py:579: UserWarning: ROI Rectangle too big in y, cropping to image.\n",
      "  warnings.warn(\"ROI Rectangle too big in y, cropping to image.\")\n"
     ]
    }
   ],
   "source": [
    "PL_image, PL_image_ROI, sig, ref, sig_norm, single_pixel_pl, sweep_list = data_loading.reshape_dataset(\n",
    "        options, raw_data, prelim_sweep_list\n",
    "    )"
   ]
  },
  {
   "cell_type": "code",
   "execution_count": 14,
   "id": "concrete-title",
   "metadata": {},
   "outputs": [
    {
     "data": {
      "application/vnd.jupyter.widget-view+json": {
       "model_id": "c987933ff55f48f79fb72a3c07dffb63",
       "version_major": 2,
       "version_minor": 0
      },
      "text/plain": [
       "Canvas(toolbar=Toolbar(toolitems=[('Home', 'Reset original view', 'home', 'home'), ('Back', 'Back to previous …"
      ]
     },
     "metadata": {},
     "output_type": "display_data"
    }
   ],
   "source": [
    "fig1 = fit_plots.plot_ROI_PL_image(options, PL_image)"
   ]
  },
  {
   "cell_type": "code",
   "execution_count": 15,
   "id": "governing-custody",
   "metadata": {},
   "outputs": [],
   "source": [
    "AOIs = data_loading.define_AOIs(options)"
   ]
  },
  {
   "cell_type": "code",
   "execution_count": 16,
   "id": "hollow-acquisition",
   "metadata": {},
   "outputs": [
    {
     "data": {
      "application/vnd.jupyter.widget-view+json": {
       "model_id": "b7fe9e3fb5b24925b2c9ed595a965e35",
       "version_major": 2,
       "version_minor": 0
      },
      "text/plain": [
       "Canvas(toolbar=Toolbar(toolitems=[('Home', 'Reset original view', 'home', 'home'), ('Back', 'Back to previous …"
      ]
     },
     "metadata": {},
     "output_type": "display_data"
    }
   ],
   "source": [
    "fig2 = fit_plots.plot_AOI_PL_images(options, PL_image_ROI, AOIs)"
   ]
  },
  {
   "cell_type": "code",
   "execution_count": 17,
   "id": "certified-oasis",
   "metadata": {},
   "outputs": [
    {
     "data": {
      "application/vnd.jupyter.widget-view+json": {
       "model_id": "f4c701eb5f8c4993a3cafedb68209a6c",
       "version_major": 2,
       "version_minor": 0
      },
      "text/plain": [
       "Canvas(toolbar=Toolbar(toolitems=[('Home', 'Reset original view', 'home', 'home'), ('Back', 'Back to previous …"
      ]
     },
     "metadata": {},
     "output_type": "display_data"
    }
   ],
   "source": [
    "aoi_spectra_plot = fit_plots.plot_AOI_spectra(options, AOIs, sig, ref, sweep_list)"
   ]
  },
  {
   "cell_type": "markdown",
   "id": "removed-danish",
   "metadata": {},
   "source": [
    "# Fit AOI, ROI averages, single pixel"
   ]
  },
  {
   "cell_type": "code",
   "execution_count": null,
   "id": "cognitive-formation",
   "metadata": {},
   "outputs": [],
   "source": [
    "fit_model = fit_interface.define_fit_model(options)"
   ]
  },
  {
   "cell_type": "code",
   "execution_count": null,
   "id": "close-contemporary",
   "metadata": {},
   "outputs": [],
   "source": [
    "backend_ROI_results_lst = fit_interface.fit_ROI_avg(options, sig_norm, sweep_list, fit_model)"
   ]
  },
  {
   "cell_type": "code",
   "execution_count": null,
   "id": "banner-uncertainty",
   "metadata": {},
   "outputs": [],
   "source": [
    "fig3 = fit_plots.plot_ROI_avg_fits(options, backend_ROI_results_lst)"
   ]
  },
  {
   "cell_type": "code",
   "execution_count": null,
   "id": "effective-philosophy",
   "metadata": {},
   "outputs": [],
   "source": [
    "fit_result_collection_lst = fit_interface.fit_AOIs(options, sig_norm, single_pixel_pl, sweep_list, fit_model, AOIs, backend_ROI_results_lst)"
   ]
  },
  {
   "cell_type": "code",
   "execution_count": null,
   "id": "infrared-blink",
   "metadata": {},
   "outputs": [],
   "source": [
    "AOI_spectra_fit_fig = fit_plots.plot_AOI_spectra_fit(options, sig, ref, sweep_list, AOIs, fit_result_collection_lst, fit_model)"
   ]
  },
  {
   "cell_type": "markdown",
   "id": "further-essex",
   "metadata": {},
   "source": [
    "# Fit pixels"
   ]
  },
  {
   "cell_type": "code",
   "execution_count": null,
   "id": "mature-visitor",
   "metadata": {},
   "outputs": [],
   "source": [
    "if (options[\"force_fit\"] or not options[\"found_prev_result\"]) and options[\"fit_pixels\"]:\n",
    "    pixel_fit_params = fit_interface.fit_pixels(options, sig_norm, sweep_list, fit_model, backend_ROI_results_lst[0])\n",
    "elif options[\"found_prev_result\"]:\n",
    "    pixel_fit_params = fit_interface.load_prev_fit_results(options)\n",
    "else:\n",
    "    pixel_fit_params = None  # not fitting pixels, this stops plotting (e.g. via plot_param_images) from erroring"
   ]
  },
  {
   "cell_type": "markdown",
   "id": "manufactured-fourth",
   "metadata": {},
   "source": [
    "# Plot (fit) parameters"
   ]
  },
  {
   "cell_type": "code",
   "execution_count": null,
   "id": "driving-office",
   "metadata": {},
   "outputs": [],
   "source": [
    "fit_plots.plot_param_images(options, fit_model, pixel_fit_params, \"c\")"
   ]
  },
  {
   "cell_type": "code",
   "execution_count": null,
   "id": "decimal-geneva",
   "metadata": {},
   "outputs": [],
   "source": [
    "fit_plots.plot_param_images(options, fit_model, pixel_fit_params, \"m\")"
   ]
  },
  {
   "cell_type": "code",
   "execution_count": null,
   "id": "technological-arrow",
   "metadata": {},
   "outputs": [],
   "source": [
    "fit_plots.plot_param_images(options, fit_model, pixel_fit_params, \"pos\")"
   ]
  },
  {
   "cell_type": "code",
   "execution_count": null,
   "id": "controversial-theater",
   "metadata": {},
   "outputs": [],
   "source": [
    "fit_plots.plot_param_images(options, fit_model, pixel_fit_params, \"amp\")"
   ]
  },
  {
   "cell_type": "code",
   "execution_count": null,
   "id": "psychological-court",
   "metadata": {},
   "outputs": [],
   "source": [
    "fit_plots.plot_param_images(options, fit_model, pixel_fit_params, \"fwhm\")"
   ]
  },
  {
   "cell_type": "code",
   "execution_count": null,
   "id": "palestinian-alliance",
   "metadata": {},
   "outputs": [],
   "source": []
  },
  {
   "cell_type": "code",
   "execution_count": null,
   "id": "settled-stanford",
   "metadata": {},
   "outputs": [],
   "source": [
    "data_loading.save_options(options)"
   ]
  },
  {
   "cell_type": "code",
   "execution_count": null,
   "id": "digital-butler",
   "metadata": {},
   "outputs": [],
   "source": [
    "options"
   ]
  },
  {
   "cell_type": "code",
   "execution_count": null,
   "id": "limiting-register",
   "metadata": {},
   "outputs": [],
   "source": []
  }
 ],
 "metadata": {
  "kernelspec": {
   "display_name": "Python 3",
   "language": "python",
   "name": "python3"
  },
  "language_info": {
   "codemirror_mode": {
    "name": "ipython",
    "version": 3
   },
   "file_extension": ".py",
   "mimetype": "text/x-python",
   "name": "python",
   "nbconvert_exporter": "python",
   "pygments_lexer": "ipython3",
   "version": "3.8.5"
  },
  "toc-autonumbering": false,
  "toc-showtags": false,
  "widgets": {
   "application/vnd.jupyter.widget-state+json": {
    "state": {
     "04985d563259413c90c045f7a92bfdee": {
      "model_module": "@jupyter-widgets/base",
      "model_module_version": "1.2.0",
      "model_name": "LayoutModel",
      "state": {}
     },
     "09b415f672804c36a66f210a04226a43": {
      "model_module": "@jupyter-widgets/base",
      "model_module_version": "1.2.0",
      "model_name": "LayoutModel",
      "state": {}
     },
     "0f6ca0d9307b48969fde3cf143acfac2": {
      "model_module": "jupyter-matplotlib",
      "model_module_version": "^0.8.2",
      "model_name": "MPLCanvasModel",
      "state": {
       "_figure_label": "Figure 2",
       "_height": 384,
       "_message": "x=260. y=127.\n[7.26e+10]",
       "_width": 512,
       "layout": "IPY_MODEL_09b415f672804c36a66f210a04226a43",
       "toolbar": "IPY_MODEL_85957b6b27b7421a83bb647e762739a7",
       "toolbar_position": "left"
      }
     },
     "29f63dd957f94f42bd8d08ffce29fa15": {
      "model_module": "jupyter-matplotlib",
      "model_module_version": "^0.8.2",
      "model_name": "ToolbarModel",
      "state": {
       "layout": "IPY_MODEL_67d8a80792754e329f36f79ad4b23ad8",
       "toolitems": [
        [
         "Home",
         "Reset original view",
         "home",
         "home"
        ],
        [
         "Back",
         "Back to previous view",
         "arrow-left",
         "back"
        ],
        [
         "Forward",
         "Forward to next view",
         "arrow-right",
         "forward"
        ],
        [
         "Pan",
         "Left button pans, Right button zooms\nx/y fixes axis, CTRL fixes aspect",
         "arrows",
         "pan"
        ],
        [
         "Zoom",
         "Zoom to rectangle\nx/y fixes axis, CTRL fixes aspect",
         "square-o",
         "zoom"
        ],
        [
         "Download",
         "Download plot",
         "floppy-o",
         "save_figure"
        ]
       ]
      }
     },
     "2ef23b58479f4bca95809097e0a03f45": {
      "model_module": "@jupyter-widgets/base",
      "model_module_version": "1.2.0",
      "model_name": "LayoutModel",
      "state": {}
     },
     "3755fdb6086d405abb3770ebda621f28": {
      "model_module": "jupyter-matplotlib",
      "model_module_version": "^0.8.2",
      "model_name": "ToolbarModel",
      "state": {
       "layout": "IPY_MODEL_72d62d3bc71a4a7fb7e4b726ee177ac5",
       "toolitems": [
        [
         "Home",
         "Reset original view",
         "home",
         "home"
        ],
        [
         "Back",
         "Back to previous view",
         "arrow-left",
         "back"
        ],
        [
         "Forward",
         "Forward to next view",
         "arrow-right",
         "forward"
        ],
        [
         "Pan",
         "Left button pans, Right button zooms\nx/y fixes axis, CTRL fixes aspect",
         "arrows",
         "pan"
        ],
        [
         "Zoom",
         "Zoom to rectangle\nx/y fixes axis, CTRL fixes aspect",
         "square-o",
         "zoom"
        ],
        [
         "Download",
         "Download plot",
         "floppy-o",
         "save_figure"
        ]
       ]
      }
     },
     "5061fd64ed904fe5883ff6b6d02599d6": {
      "model_module": "@jupyter-widgets/base",
      "model_module_version": "1.2.0",
      "model_name": "LayoutModel",
      "state": {}
     },
     "5c3bec1ca45a4c6b90b6da68fa61834a": {
      "model_module": "jupyter-matplotlib",
      "model_module_version": "^0.8.2",
      "model_name": "ToolbarModel",
      "state": {
       "layout": "IPY_MODEL_64e44bd20e0d4def928778158cd8041c",
       "toolitems": [
        [
         "Home",
         "Reset original view",
         "home",
         "home"
        ],
        [
         "Back",
         "Back to previous view",
         "arrow-left",
         "back"
        ],
        [
         "Forward",
         "Forward to next view",
         "arrow-right",
         "forward"
        ],
        [
         "Pan",
         "Left button pans, Right button zooms\nx/y fixes axis, CTRL fixes aspect",
         "arrows",
         "pan"
        ],
        [
         "Zoom",
         "Zoom to rectangle\nx/y fixes axis, CTRL fixes aspect",
         "square-o",
         "zoom"
        ],
        [
         "Download",
         "Download plot",
         "floppy-o",
         "save_figure"
        ]
       ]
      }
     },
     "64e44bd20e0d4def928778158cd8041c": {
      "model_module": "@jupyter-widgets/base",
      "model_module_version": "1.2.0",
      "model_name": "LayoutModel",
      "state": {}
     },
     "67d8a80792754e329f36f79ad4b23ad8": {
      "model_module": "@jupyter-widgets/base",
      "model_module_version": "1.2.0",
      "model_name": "LayoutModel",
      "state": {}
     },
     "70ddf3b42f704befa0b8e9fae4b9a71c": {
      "model_module": "jupyter-matplotlib",
      "model_module_version": "^0.8.2",
      "model_name": "ToolbarModel",
      "state": {
       "layout": "IPY_MODEL_9b2b3be205ac4cd88fb0e5962021bb88",
       "toolitems": [
        [
         "Home",
         "Reset original view",
         "home",
         "home"
        ],
        [
         "Back",
         "Back to previous view",
         "arrow-left",
         "back"
        ],
        [
         "Forward",
         "Forward to next view",
         "arrow-right",
         "forward"
        ],
        [
         "Pan",
         "Left button pans, Right button zooms\nx/y fixes axis, CTRL fixes aspect",
         "arrows",
         "pan"
        ],
        [
         "Zoom",
         "Zoom to rectangle\nx/y fixes axis, CTRL fixes aspect",
         "square-o",
         "zoom"
        ],
        [
         "Download",
         "Download plot",
         "floppy-o",
         "save_figure"
        ]
       ]
      }
     },
     "72d62d3bc71a4a7fb7e4b726ee177ac5": {
      "model_module": "@jupyter-widgets/base",
      "model_module_version": "1.2.0",
      "model_name": "LayoutModel",
      "state": {}
     },
     "7d90a877f00a456aa7b494cade55c3ba": {
      "model_module": "jupyter-matplotlib",
      "model_module_version": "^0.8.2",
      "model_name": "MPLCanvasModel",
      "state": {
       "_figure_label": "Figure 1",
       "_height": 384,
       "_width": 512,
       "layout": "IPY_MODEL_2ef23b58479f4bca95809097e0a03f45",
       "toolbar": "IPY_MODEL_3755fdb6086d405abb3770ebda621f28",
       "toolbar_position": "left"
      }
     },
     "85957b6b27b7421a83bb647e762739a7": {
      "model_module": "jupyter-matplotlib",
      "model_module_version": "^0.8.2",
      "model_name": "ToolbarModel",
      "state": {
       "layout": "IPY_MODEL_979cd790cda44679bb505f07521554dc",
       "toolitems": [
        [
         "Home",
         "Reset original view",
         "home",
         "home"
        ],
        [
         "Back",
         "Back to previous view",
         "arrow-left",
         "back"
        ],
        [
         "Forward",
         "Forward to next view",
         "arrow-right",
         "forward"
        ],
        [
         "Pan",
         "Left button pans, Right button zooms\nx/y fixes axis, CTRL fixes aspect",
         "arrows",
         "pan"
        ],
        [
         "Zoom",
         "Zoom to rectangle\nx/y fixes axis, CTRL fixes aspect",
         "square-o",
         "zoom"
        ],
        [
         "Download",
         "Download plot",
         "floppy-o",
         "save_figure"
        ]
       ]
      }
     },
     "979cd790cda44679bb505f07521554dc": {
      "model_module": "@jupyter-widgets/base",
      "model_module_version": "1.2.0",
      "model_name": "LayoutModel",
      "state": {}
     },
     "9b2b3be205ac4cd88fb0e5962021bb88": {
      "model_module": "@jupyter-widgets/base",
      "model_module_version": "1.2.0",
      "model_name": "LayoutModel",
      "state": {}
     },
     "b7fe9e3fb5b24925b2c9ed595a965e35": {
      "model_module": "jupyter-matplotlib",
      "model_module_version": "^0.8.2",
      "model_name": "MPLCanvasModel",
      "state": {
       "_cursor": "default",
       "_figure_label": "Figure 4",
       "_height": 384,
       "_message": "x=363. y=246.\n[7.07e+10]",
       "_width": 512,
       "layout": "IPY_MODEL_5061fd64ed904fe5883ff6b6d02599d6",
       "toolbar": "IPY_MODEL_5c3bec1ca45a4c6b90b6da68fa61834a",
       "toolbar_position": "left"
      }
     },
     "c987933ff55f48f79fb72a3c07dffb63": {
      "model_module": "jupyter-matplotlib",
      "model_module_version": "^0.8.2",
      "model_name": "MPLCanvasModel",
      "state": {
       "_cursor": "default",
       "_figure_label": "Figure 3",
       "_height": 384,
       "_width": 512,
       "layout": "IPY_MODEL_f55febb5e9ef441ca5282ed6c9d0bfef",
       "toolbar": "IPY_MODEL_70ddf3b42f704befa0b8e9fae4b9a71c",
       "toolbar_position": "left"
      }
     },
     "f4c701eb5f8c4993a3cafedb68209a6c": {
      "model_module": "jupyter-matplotlib",
      "model_module_version": "^0.8.2",
      "model_name": "MPLCanvasModel",
      "state": {
       "_cursor": "default",
       "_figure_label": "Figure 5",
       "_height": 768,
       "_image_mode": "diff",
       "_message": "x=2924. y=1.60225e+08",
       "_width": 1536,
       "layout": "IPY_MODEL_04985d563259413c90c045f7a92bfdee",
       "toolbar": "IPY_MODEL_29f63dd957f94f42bd8d08ffce29fa15",
       "toolbar_position": "left"
      }
     },
     "f55febb5e9ef441ca5282ed6c9d0bfef": {
      "model_module": "@jupyter-widgets/base",
      "model_module_version": "1.2.0",
      "model_name": "LayoutModel",
      "state": {}
     }
    },
    "version_major": 2,
    "version_minor": 0
   }
  }
 },
 "nbformat": 4,
 "nbformat_minor": 5
}
