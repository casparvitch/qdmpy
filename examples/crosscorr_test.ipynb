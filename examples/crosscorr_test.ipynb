{
 "cells": [
  {
   "cell_type": "code",
   "execution_count": 1,
   "id": "romance-straight",
   "metadata": {},
   "outputs": [],
   "source": [
    "import numpy as np\n",
    "import matplotlib.pyplot as plt\n",
    "import matplotlib.patches\n",
    "from pyfftw.interfaces import numpy_fft"
   ]
  },
  {
   "cell_type": "code",
   "execution_count": 2,
   "id": "banner-european",
   "metadata": {},
   "outputs": [],
   "source": [
    "%matplotlib widget"
   ]
  },
  {
   "cell_type": "code",
   "execution_count": 3,
   "id": "buried-webster",
   "metadata": {},
   "outputs": [],
   "source": [
    "def region(start, end):\n",
    "    start_x, start_y = start\n",
    "    end_x, end_y = end\n",
    "    x = np.linspace(start_x, end_x, end_x - start_x + 1, dtype=int)\n",
    "    y = np.linspace(start_y, end_y, end_y - start_y + 1, dtype=int)\n",
    "    xv, yv = np.meshgrid(x, y)\n",
    "    return xv, yv"
   ]
  },
  {
   "cell_type": "code",
   "execution_count": 4,
   "id": "delayed-currency",
   "metadata": {},
   "outputs": [],
   "source": [
    "PATH12 = \"/home/samsc/ResearchData/test_images/invert_bias_test/ODMR - Pulsed_12_Full_bin_12/data/pos_0.txt\"\n",
    "PATH15 = \"/home/samsc/ResearchData/test_images/invert_bias_test/ODMR - Pulsed_15_Full_bin_12/data/pos_0.txt\""
   ]
  },
  {
   "cell_type": "code",
   "execution_count": 5,
   "id": "liquid-husband",
   "metadata": {},
   "outputs": [],
   "source": [
    "uncropped_pos_12 = np.loadtxt(PATH12)\n",
    "pos_12 = uncropped_pos_12 - np.mean(uncropped_pos_12)\n",
    "uncropped_pos_15 = np.loadtxt(PATH15)\n",
    "pos_15 = uncropped_pos_15 - np.mean(uncropped_pos_15) # image\n",
    "\n",
    "ROI = region([52, 32], [116, 96])\n",
    "cropped_pos_12 = pos_12[ROI[1], ROI[0]]\n",
    "\n",
    "# mean_12 = np.mean(pos_12)\n",
    "# mean_15 = np.mean(pos_15)\n",
    "\n",
    "# pos_12 -= mean_12\n",
    "# pos_15 -= mean_15"
   ]
  },
  {
   "cell_type": "code",
   "execution_count": 6,
   "id": "bright-group",
   "metadata": {},
   "outputs": [],
   "source": [
    "from skimage.feature import match_template"
   ]
  },
  {
   "cell_type": "code",
   "execution_count": 7,
   "id": "worldwide-eating",
   "metadata": {},
   "outputs": [],
   "source": [
    "result = match_template(pos_15, cropped_pos_12, mode=\"mean\")\n",
    "ij = np.unravel_index(np.argmax(result), result.shape)\n",
    "x, y = ij[::-1]"
   ]
  },
  {
   "cell_type": "code",
   "execution_count": 8,
   "id": "rational-universal",
   "metadata": {},
   "outputs": [
    {
     "data": {
      "application/vnd.jupyter.widget-view+json": {
       "model_id": "25abc6e981324bcab5079aa6ab0a5250",
       "version_major": 2,
       "version_minor": 0
      },
      "text/plain": [
       "Canvas(toolbar=Toolbar(toolitems=[('Home', 'Reset original view', 'home', 'home'), ('Back', 'Back to previous …"
      ]
     },
     "metadata": {},
     "output_type": "display_data"
    }
   ],
   "source": [
    "fig = plt.figure(figsize=(8, 3))\n",
    "ax1 = plt.subplot(1, 3, 1)\n",
    "ax2 = plt.subplot(1, 3, 2)\n",
    "ax3 = plt.subplot(1, 3, 3, sharex=ax2, sharey=ax2)\n",
    "\n",
    "ax1.imshow(cropped_pos_12, cmap=\"turbo\")\n",
    "ax1.set_axis_off()\n",
    "ax1.set_title('template')\n",
    "\n",
    "ax2.imshow(pos_15, cmap=\"turbo\")\n",
    "ax2.set_axis_off()\n",
    "ax2.set_title('image')\n",
    "# highlight matched region\n",
    "height, width = cropped_pos_12.shape\n",
    "rect = plt.Rectangle((x, y), width, height, edgecolor='k', facecolor='none')\n",
    "ax2.add_patch(rect)\n",
    "\n",
    "ax3.imshow(result)\n",
    "ax3.set_axis_off()\n",
    "ax3.set_title('`match_template`\\nresult')\n",
    "# highlight matched region\n",
    "ax3.autoscale(False)\n",
    "ax3.plot(x, y, 'o', markeredgecolor='k', markerfacecolor='none', markersize=10)\n",
    "None"
   ]
  },
  {
   "cell_type": "code",
   "execution_count": 9,
   "id": "naughty-increase",
   "metadata": {},
   "outputs": [],
   "source": [
    "# would then compare ROI position (e.g. template position) with x,y (matched position) to get image shift."
   ]
  }
 ],
 "metadata": {
  "kernelspec": {
   "display_name": "Python 3 (ipykernel)",
   "language": "python",
   "name": "python3"
  },
  "language_info": {
   "codemirror_mode": {
    "name": "ipython",
    "version": 3
   },
   "file_extension": ".py",
   "mimetype": "text/x-python",
   "name": "python",
   "nbconvert_exporter": "python",
   "pygments_lexer": "ipython3",
   "version": "3.8.13"
  },
  "widgets": {
   "application/vnd.jupyter.widget-state+json": {
    "state": {},
    "version_major": 2,
    "version_minor": 0
   }
  }
 },
 "nbformat": 4,
 "nbformat_minor": 5
}
