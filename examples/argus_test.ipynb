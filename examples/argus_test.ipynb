{
 "cells": [
  {
   "cell_type": "code",
   "execution_count": 1,
   "id": "connected-mexico",
   "metadata": {
    "slideshow": {
     "slide_type": "slide"
    }
   },
   "outputs": [],
   "source": [
    "import qdmpy\n",
    "import qdmpy.pl\n",
    "import qdmpy.plot\n",
    "import qdmpy.field\n",
    "import qdmpy.source\n",
    "\n",
    "import matplotlib\n",
    "import numpy as np"
   ]
  },
  {
   "cell_type": "code",
   "execution_count": 2,
   "id": "ranging-timothy",
   "metadata": {},
   "outputs": [],
   "source": [
    "# '%matplotlib widget' allows interactive plots in jupyterlab\n",
    "# use ''%matplotlib inline' to allow export to pdf\n",
    "# %matplotlib widget"
   ]
  },
  {
   "cell_type": "markdown",
   "id": "excessive-rough",
   "metadata": {},
   "source": [
    "### Load raw data"
   ]
  },
  {
   "cell_type": "code",
   "execution_count": 3,
   "id": "actual-surgery",
   "metadata": {},
   "outputs": [],
   "source": [
    "options_dict = {\n",
    "    \"base_dir\": \"C:\\\\ExperimentalData\\\\2020\\\\2020-01\\\\2020-01-13_Diamond353_magnetite\\\\\",\n",
    "    \"filepath\": \"ODMR - Pulsed_11\",\n",
    "    \"custom_output_dir_suffix\": \"_{fit_backend}_{ROI}_bin_{total_bin}\",\n",
    "    \n",
    "    \"additional_bins\": 8,\n",
    "    \n",
    "    \"exp_reference_type\": \"field\",\n",
    "    \"plot_bnv_flip_with_bias_mag\": False,\n",
    "    \n",
    "    \"system_name\": \"Cryo_Widefield\",\n",
    "\n",
    "    \"ROI\": \"Full\", \n",
    "    \"ROI_start\": [0, 128],\n",
    "    \"ROI_end\": [512,384],\n",
    "    \n",
    "    \"AOI_1_start\": [30, 40],\n",
    "    \"AOI_1_end\": [40, 45], \n",
    "    \"AOI_2_start\": [20, 20],\n",
    "    \"AOI_2_end\": [24, 24], \n",
    "    \"AOI_3_start\": [30, 20],\n",
    "    \"AOI_3_end\": [32, 24], \n",
    "    \"single_pixel_check\": [90, 150],\n",
    "    \n",
    "    \"fit_backend\": \"gpufit\",\n",
    "    \"fit_backend_comparison\": [\"scipyfit\", \"gpufit\"],\n",
    "    \"fit_pixels\": True, \n",
    "    \"force_fit\": False, \n",
    "    \n",
    "    \"use_ROI_avg_fit_res_for_all_pixels\": True,\n",
    "    \n",
    "    \"scipyfit_sub_threads\": 2, \n",
    "\n",
    "    \"fit_functions\":  {\"linear\": 1, \"lorentzian\": 2},\n",
    "\n",
    "    \"pos_guess\": [2600, 3175],\n",
    "    \"pos_range\": 25,\n",
    "\n",
    "    \"amp_guess\": -0.015,\n",
    "    \"amp_bounds\": [-0.300, -0.00003],\n",
    "    \n",
    "    \"save_fig_type\": \"pdf\",\n",
    "    \n",
    "    \"freqs_to_use\": [1, 0, 0, 0, 0, 0, 0, 1],\n",
    "    \"diamond_ori\": \"<100>_<100>\", # HPHT\n",
    "    \n",
    "    \"auto_read_bias\": True,\n",
    "    \"bias_mag\": 50,\n",
    "    \"bias_theta\": 45,\n",
    "    \"bias_phi\": 125, # 45\n",
    "    \n",
    "    \"calc_field_pixels\": True,\n",
    "    \"force_field_calc\": True,\n",
    "    \n",
    "    \"bfield_bground_method\": \"poly\",\n",
    "    \"bfield_bground_params\": {\n",
    "        \"order\": 1\n",
    "    },\n",
    "    \"bnv_bground_method\": \"poly\",\n",
    "    \"bnv_bground_params\": {\n",
    "        \"order\": 1\n",
    "    },\n",
    "    \"source_bground_method\": None,\n",
    "    \"source_bground_params\": {\n",
    "        \"order\": 2\n",
    "    },\n",
    "    \"standoff\": 100e-9,\n",
    "    \"NVs_above_sample\": True,\n",
    "    \n",
    "    \n",
    "    \"colormap_range_dicts\": {\n",
    "        \"bnv_images\": {\n",
    "            \"type\": \"percentile\",\n",
    "            \"values\": [2, 98]\n",
    "        },\n",
    "        \"bfield_images\": {\n",
    "            \"type\": \"percentile\",\n",
    "            \"values\": [2, 98]\n",
    "        },\n",
    "        \"magnetization_images\": {\n",
    "            \"type\": \"percentile\",\n",
    "            \"values\": [2, 98]\n",
    "        },\n",
    "        \"residual_images\": {\n",
    "            \"type\": \"percentile\",\n",
    "            \"values\": [2, 98]\n",
    "        },\n",
    "        \"sigma_images\": {\n",
    "            \"type\": \"percentile\",\n",
    "            \"values\": [2, 98]\n",
    "        },\n",
    "        \"param_images\": {\n",
    "            \"type\": \"percentile\",\n",
    "            \"values\": [2, 98]\n",
    "        },\n",
    "        \"dshift_images\": {\n",
    "            \"type\": \"percentile\",\n",
    "            \"values\": [2, 98]\n",
    "        },\n",
    "    }\n",
    "}\n",
    "# if you want to use a reference experiment {ensure you run this even if 'None' as it sets up output dirs etc.}\n",
    "ref_options_dir = None"
   ]
  },
  {
   "cell_type": "code",
   "execution_count": 4,
   "id": "amended-neutral",
   "metadata": {},
   "outputs": [
    {
     "ename": "FileNotFoundError",
     "evalue": "[Errno 2] No such file or directory: 'C:\\\\ExperimentalData\\\\2020\\\\2020-01\\\\2020-01-13_Diamond353_magnetite\\\\/ODMR - Pulsed_11_metaSpool.txt'",
     "output_type": "error",
     "traceback": [
      "\u001b[0;31m---------------------------------------------------------------------------\u001b[0m",
      "\u001b[0;31mFileNotFoundError\u001b[0m                         Traceback (most recent call last)",
      "\u001b[0;32m<ipython-input-4-12088661fdab>\u001b[0m in \u001b[0;36m<module>\u001b[0;34m\u001b[0m\n\u001b[0;32m----> 1\u001b[0;31m options, ref_options = qdmpy.initialize(\n\u001b[0m\u001b[1;32m      2\u001b[0m     \u001b[0moptions_dict\u001b[0m\u001b[0;34m=\u001b[0m\u001b[0moptions_dict\u001b[0m\u001b[0;34m,\u001b[0m\u001b[0;34m\u001b[0m\u001b[0;34m\u001b[0m\u001b[0m\n\u001b[1;32m      3\u001b[0m     \u001b[0mref_options_dir\u001b[0m\u001b[0;34m=\u001b[0m\u001b[0mref_options_dir\u001b[0m\u001b[0;34m,\u001b[0m\u001b[0;34m\u001b[0m\u001b[0;34m\u001b[0m\u001b[0m\n\u001b[1;32m      4\u001b[0m     \u001b[0mset_mpl_rcparams\u001b[0m\u001b[0;34m=\u001b[0m\u001b[0;32mTrue\u001b[0m\u001b[0;34m\u001b[0m\u001b[0;34m\u001b[0m\u001b[0m\n\u001b[1;32m      5\u001b[0m )\n",
      "\u001b[0;32m~/.local/lib/python3.8/site-packages/qdmpy/interface.py\u001b[0m in \u001b[0;36minitialize\u001b[0;34m(options_dict, options_path, ref_options_dict, ref_options_dir, set_mpl_rcparams)\u001b[0m\n\u001b[1;32m     91\u001b[0m     \"\"\"\n\u001b[1;32m     92\u001b[0m \u001b[0;34m\u001b[0m\u001b[0m\n\u001b[0;32m---> 93\u001b[0;31m     options = load_options(\n\u001b[0m\u001b[1;32m     94\u001b[0m         \u001b[0moptions_dict\u001b[0m\u001b[0;34m=\u001b[0m\u001b[0moptions_dict\u001b[0m\u001b[0;34m,\u001b[0m\u001b[0;34m\u001b[0m\u001b[0;34m\u001b[0m\u001b[0m\n\u001b[1;32m     95\u001b[0m         \u001b[0moptions_path\u001b[0m\u001b[0;34m=\u001b[0m\u001b[0moptions_path\u001b[0m\u001b[0;34m,\u001b[0m\u001b[0;34m\u001b[0m\u001b[0;34m\u001b[0m\u001b[0m\n",
      "\u001b[0;32m~/.local/lib/python3.8/site-packages/qdmpy/interface.py\u001b[0m in \u001b[0;36mload_options\u001b[0;34m(options_dict, options_path, check_for_prev_result, loading_ref)\u001b[0m\n\u001b[1;32m    162\u001b[0m     \u001b[0mchosen_system\u001b[0m \u001b[0;34m=\u001b[0m \u001b[0mqdmpy\u001b[0m\u001b[0;34m.\u001b[0m\u001b[0msystem\u001b[0m\u001b[0;34m.\u001b[0m\u001b[0mchoose_system\u001b[0m\u001b[0;34m(\u001b[0m\u001b[0mprelim_options\u001b[0m\u001b[0;34m[\u001b[0m\u001b[0;34m\"system_name\"\u001b[0m\u001b[0;34m]\u001b[0m\u001b[0;34m)\u001b[0m\u001b[0;34m\u001b[0m\u001b[0;34m\u001b[0m\u001b[0m\n\u001b[1;32m    163\u001b[0m \u001b[0;34m\u001b[0m\u001b[0m\n\u001b[0;32m--> 164\u001b[0;31m     \u001b[0mchosen_system\u001b[0m\u001b[0;34m.\u001b[0m\u001b[0msystem_specific_option_update\u001b[0m\u001b[0;34m(\u001b[0m\u001b[0mprelim_options\u001b[0m\u001b[0;34m)\u001b[0m\u001b[0;34m\u001b[0m\u001b[0;34m\u001b[0m\u001b[0m\n\u001b[0m\u001b[1;32m    165\u001b[0m \u001b[0;34m\u001b[0m\u001b[0m\n\u001b[1;32m    166\u001b[0m     \u001b[0moptions\u001b[0m \u001b[0;34m=\u001b[0m \u001b[0mchosen_system\u001b[0m\u001b[0;34m.\u001b[0m\u001b[0mget_default_options\u001b[0m\u001b[0;34m(\u001b[0m\u001b[0;34m)\u001b[0m  \u001b[0;31m# first load in default options\u001b[0m\u001b[0;34m\u001b[0m\u001b[0;34m\u001b[0m\u001b[0m\n",
      "\u001b[0;32m~/.local/lib/python3.8/site-packages/qdmpy/system/systems.py\u001b[0m in \u001b[0;36msystem_specific_option_update\u001b[0;34m(self, options)\u001b[0m\n\u001b[1;32m    336\u001b[0m         \u001b[0;31m# add metadata to options (so it's saved for output)\u001b[0m\u001b[0;34m\u001b[0m\u001b[0;34m\u001b[0m\u001b[0;34m\u001b[0m\u001b[0m\n\u001b[1;32m    337\u001b[0m         \u001b[0;32mif\u001b[0m \u001b[0;34m\"metadata\"\u001b[0m \u001b[0;32mnot\u001b[0m \u001b[0;32min\u001b[0m \u001b[0moptions\u001b[0m\u001b[0;34m:\u001b[0m\u001b[0;34m\u001b[0m\u001b[0;34m\u001b[0m\u001b[0m\n\u001b[0;32m--> 338\u001b[0;31m             \u001b[0moptions\u001b[0m\u001b[0;34m[\u001b[0m\u001b[0;34m\"metadata\"\u001b[0m\u001b[0;34m]\u001b[0m \u001b[0;34m=\u001b[0m \u001b[0mself\u001b[0m\u001b[0;34m.\u001b[0m\u001b[0m_read_metadata\u001b[0m\u001b[0;34m(\u001b[0m\u001b[0moptions\u001b[0m\u001b[0;34m[\u001b[0m\u001b[0;34m\"filepath\"\u001b[0m\u001b[0;34m]\u001b[0m\u001b[0;34m)\u001b[0m\u001b[0;34m\u001b[0m\u001b[0;34m\u001b[0m\u001b[0m\n\u001b[0m\u001b[1;32m    339\u001b[0m \u001b[0;34m\u001b[0m\u001b[0m\n\u001b[1;32m    340\u001b[0m         \u001b[0moptions\u001b[0m\u001b[0;34m[\u001b[0m\u001b[0;34m\"filepath\"\u001b[0m\u001b[0;34m]\u001b[0m \u001b[0;34m=\u001b[0m \u001b[0mos\u001b[0m\u001b[0;34m.\u001b[0m\u001b[0mpath\u001b[0m\u001b[0;34m.\u001b[0m\u001b[0mnormpath\u001b[0m\u001b[0;34m(\u001b[0m\u001b[0moptions\u001b[0m\u001b[0;34m[\u001b[0m\u001b[0;34m\"filepath\"\u001b[0m\u001b[0;34m]\u001b[0m\u001b[0;34m)\u001b[0m\u001b[0;34m\u001b[0m\u001b[0;34m\u001b[0m\u001b[0m\n",
      "\u001b[0;32m~/.local/lib/python3.8/site-packages/qdmpy/system/systems.py\u001b[0m in \u001b[0;36m_read_metadata\u001b[0;34m(self, filepath)\u001b[0m\n\u001b[1;32m    347\u001b[0m \u001b[0;34m\u001b[0m\u001b[0m\n\u001b[1;32m    348\u001b[0m         \u001b[0;31m# skip over sweep list\u001b[0m\u001b[0;34m\u001b[0m\u001b[0;34m\u001b[0m\u001b[0;34m\u001b[0m\u001b[0m\n\u001b[0;32m--> 349\u001b[0;31m         \u001b[0;32mwith\u001b[0m \u001b[0mopen\u001b[0m\u001b[0;34m(\u001b[0m\u001b[0mos\u001b[0m\u001b[0;34m.\u001b[0m\u001b[0mpath\u001b[0m\u001b[0;34m.\u001b[0m\u001b[0mnormpath\u001b[0m\u001b[0;34m(\u001b[0m\u001b[0mstr\u001b[0m\u001b[0;34m(\u001b[0m\u001b[0mfilepath\u001b[0m\u001b[0;34m)\u001b[0m \u001b[0;34m+\u001b[0m \u001b[0;34m\"_metaSpool.txt\"\u001b[0m\u001b[0;34m)\u001b[0m\u001b[0;34m,\u001b[0m \u001b[0;34m\"r\"\u001b[0m\u001b[0;34m)\u001b[0m \u001b[0;32mas\u001b[0m \u001b[0mfid\u001b[0m\u001b[0;34m:\u001b[0m\u001b[0;34m\u001b[0m\u001b[0;34m\u001b[0m\u001b[0m\n\u001b[0m\u001b[1;32m    350\u001b[0m             \u001b[0m_\u001b[0m \u001b[0;34m=\u001b[0m \u001b[0mfid\u001b[0m\u001b[0;34m.\u001b[0m\u001b[0mreadline\u001b[0m\u001b[0;34m(\u001b[0m\u001b[0;34m)\u001b[0m\u001b[0;34m.\u001b[0m\u001b[0mrstrip\u001b[0m\u001b[0;34m(\u001b[0m\u001b[0;34m)\u001b[0m\u001b[0;34m.\u001b[0m\u001b[0msplit\u001b[0m\u001b[0;34m(\u001b[0m\u001b[0;34m\"\\t\"\u001b[0m\u001b[0;34m)\u001b[0m\u001b[0;34m\u001b[0m\u001b[0;34m\u001b[0m\u001b[0m\n\u001b[1;32m    351\u001b[0m             \u001b[0;31m# ok now read the metadata\u001b[0m\u001b[0;34m\u001b[0m\u001b[0;34m\u001b[0m\u001b[0;34m\u001b[0m\u001b[0m\n",
      "\u001b[0;31mFileNotFoundError\u001b[0m: [Errno 2] No such file or directory: 'C:\\\\ExperimentalData\\\\2020\\\\2020-01\\\\2020-01-13_Diamond353_magnetite\\\\/ODMR - Pulsed_11_metaSpool.txt'"
     ]
    }
   ],
   "source": [
    "options, ref_options = qdmpy.initialize(\n",
    "    options_dict=options_dict,\n",
    "    ref_options_dir=ref_options_dir,\n",
    "    set_mpl_rcparams=True\n",
    ")"
   ]
  },
  {
   "cell_type": "markdown",
   "id": "racial-century",
   "metadata": {},
   "source": [
    "### Load data"
   ]
  },
  {
   "cell_type": "code",
   "execution_count": null,
   "id": "sustained-shopping",
   "metadata": {},
   "outputs": [],
   "source": [
    "image, prelim_sweep_list = qdmpy.pl.load_image_and_sweep(options)\n",
    "PL_image, PL_image_ROI, sig, ref, sig_norm, single_pixel_pl, sweep_list, ROI = qdmpy.pl.reshape_dataset(\n",
    "        options, image, prelim_sweep_list\n",
    "    )\n",
    "ROI_PL_fig = qdmpy.plot.roi_pl_image(options, PL_image)\n",
    "\n",
    "AOI_PL_fig = qdmpy.plot.aoi_pl_images(options, PL_image_ROI)\n",
    "\n",
    "AOI_spectra_fig = qdmpy.plot.aoi_spectra(options, sig, ref, sweep_list)\n",
    "\n",
    "qdmpy.pl.save_pl_data(options, PL_image, PL_image_ROI)"
   ]
  },
  {
   "cell_type": "markdown",
   "id": "strange-marble",
   "metadata": {},
   "source": [
    "### Load reference experiment - note, you can fit in this same notebook!"
   ]
  },
  {
   "cell_type": "code",
   "execution_count": null,
   "id": "welcome-tournament",
   "metadata": {},
   "outputs": [],
   "source": [
    "ref_fit_params, ref_sigmas = qdmpy.pl.load_ref_exp_pl_fit_results(ref_options)"
   ]
  },
  {
   "cell_type": "markdown",
   "id": "qualified-pipeline",
   "metadata": {},
   "source": [
    "### Fit AOI, ROI averages, single pixel"
   ]
  },
  {
   "cell_type": "code",
   "execution_count": null,
   "id": "dutch-sixth",
   "metadata": {},
   "outputs": [],
   "source": [
    "fit_model = qdmpy.pl.define_fit_model(options)\n",
    "backend_ROI_results_lst = qdmpy.pl.fit_roi_avg_pl(options, sig_norm, sweep_list, fit_model)\n",
    "ROI_fit_fig = qdmpy.plot.roi_avg_fits(options, backend_ROI_results_lst)\n",
    "\n",
    "fit_result_collection_lst = qdmpy.pl.fit_aois_pl(options, sig_norm, single_pixel_pl, sweep_list, fit_model, backend_ROI_results_lst)\n",
    "AOI_fit_fig = qdmpy.plot.aoi_spectra_fit(options, sig, ref, sweep_list, fit_result_collection_lst, fit_model)"
   ]
  },
  {
   "cell_type": "markdown",
   "id": "mexican-prediction",
   "metadata": {},
   "source": [
    "### Fit pixels"
   ]
  },
  {
   "cell_type": "code",
   "execution_count": null,
   "id": "secondary-identifier",
   "metadata": {},
   "outputs": [],
   "source": [
    "wanted_roi_result = next(\n",
    "    filter(\n",
    "        lambda result: result.fit_backend == options[\"fit_backend\"], backend_ROI_results_lst\n",
    "    )\n",
    ") # ROI fit result for chosen fit backend\n",
    "pixel_fit_params, sigmas = qdmpy.pl.get_pl_fit_result(options, sig_norm, sweep_list, fit_model, wanted_roi_result)\n",
    "\n",
    "qdmpy.pl.save_pl_fit_results(options, pixel_fit_params)\n",
    "qdmpy.pl.save_pl_fit_sigmas(options, sigmas)"
   ]
  },
  {
   "cell_type": "markdown",
   "id": "faced-volume",
   "metadata": {},
   "source": [
    "### Plot (fit) parameters"
   ]
  },
  {
   "cell_type": "code",
   "execution_count": null,
   "id": "afraid-chapter",
   "metadata": {},
   "outputs": [],
   "source": [
    "c_fig = qdmpy.plot.pl_param_images(options, fit_model, pixel_fit_params, \"c\")\n",
    "m_fig = qdmpy.plot.pl_param_images(options, fit_model, pixel_fit_params, \"m\")\n",
    "pos_fig = qdmpy.plot.pl_param_images(options, fit_model, pixel_fit_params, \"pos\")\n",
    "amp_fig = qdmpy.plot.pl_param_images(options, fit_model, pixel_fit_params, \"amp\")\n",
    "fwhm_fig = qdmpy.plot.pl_param_images(options, fit_model, pixel_fit_params, \"fwhm\")\n",
    "residual_fig = qdmpy.plot.pl_param_images(options, fit_model, pixel_fit_params, \"residual\")"
   ]
  },
  {
   "cell_type": "code",
   "execution_count": null,
   "id": "tropical-swaziland",
   "metadata": {},
   "outputs": [],
   "source": [
    "pos_sigma_plot = qdmpy.plot.pl_param_images(options, fit_model, sigmas, \"pos\", errorplot=True)"
   ]
  },
  {
   "cell_type": "markdown",
   "id": "included-direction",
   "metadata": {},
   "source": [
    "### Initial guess and fit vs data (flattened)"
   ]
  },
  {
   "cell_type": "code",
   "execution_count": null,
   "id": "tamil-bowling",
   "metadata": {},
   "outputs": [],
   "source": [
    "flat_pos_fig = qdmpy.plot.pl_params_flattened(options, fit_model, pixel_fit_params, wanted_roi_result, \"pos\", sigmas=sigmas, plot_bounds=False, plot_sigmas=False, errorevery=1000)\n",
    "flat_resid_fig = qdmpy.plot.pl_params_flattened(options, fit_model, pixel_fit_params, wanted_roi_result, \"residual\", sigmas=sigmas)"
   ]
  },
  {
   "cell_type": "markdown",
   "id": "massive-irish",
   "metadata": {},
   "source": [
    "### Field retrieval"
   ]
  },
  {
   "cell_type": "code",
   "execution_count": null,
   "id": "automotive-mailman",
   "metadata": {},
   "outputs": [],
   "source": [
    "field_res = qdmpy.field.odmr_field_retrieval(options, pixel_fit_params, ref_fit_params)\n",
    "(sig_bnvs, ref_bnvs, bnvs), (sig_dshifts, ref_dshifts), (sig_params, ref_params, field_params), (sig_field_sigmas, ref_field_sigmas, field_sigmas) = field_res\n",
    "qdmpy.field.save_field_calcs(options, *field_res)"
   ]
  },
  {
   "cell_type": "code",
   "execution_count": null,
   "id": "warming-counter",
   "metadata": {},
   "outputs": [],
   "source": [
    "bnv_sig_plot = qdmpy.plot.bnvs_and_dshifts(options, \"sig\", sig_bnvs, sig_dshifts)\n",
    "bnv_ref_plot = qdmpy.plot.bnvs_and_dshifts(options, \"ref\", ref_bnvs, ref_dshifts)\n",
    "bnvs_plot = qdmpy.plot.bnvs_and_dshifts(options, \"sig_sub_ref\", bnvs, [])"
   ]
  },
  {
   "cell_type": "code",
   "execution_count": null,
   "id": "durable-garage",
   "metadata": {},
   "outputs": [],
   "source": [
    "bfield_sig_plot = qdmpy.plot.bfield(options, \"sig\", sig_params)\n",
    "bfield_ref_plot = qdmpy.plot.bfield(options, \"ref\", ref_params)\n",
    "bfield_plot = qdmpy.plot.bfield(options, \"sig_sub_ref\", field_params)\n",
    "bfield_bground_plot = qdmpy.plot.bfield(options, \"bground\", field_params)"
   ]
  },
  {
   "cell_type": "code",
   "execution_count": null,
   "id": "wired-spanking",
   "metadata": {},
   "outputs": [],
   "source": [
    "D_sig_plot = qdmpy.plot.dshift_fit(options, \"sig\", sig_params)\n",
    "D_ref_plot = qdmpy.plot.dshift_fit(options, \"ref\", ref_params)"
   ]
  },
  {
   "cell_type": "code",
   "execution_count": null,
   "id": "involved-chapel",
   "metadata": {},
   "outputs": [],
   "source": [
    "Bx_fit_flat_plot = qdmpy.plot.field_param_flattened(options, \"sig\", \"Bx\", sig_params, sigmas=sig_field_sigmas, y_label=\"B (G)\", errorevery=1000, plot_guess=False)"
   ]
  },
  {
   "cell_type": "code",
   "execution_count": null,
   "id": "spoken-conducting",
   "metadata": {
    "tags": []
   },
   "outputs": [],
   "source": [
    "bconsist_plot = qdmpy.plot.bfield_consistency(options, \"sig_sub_ref\", field_params)"
   ]
  },
  {
   "cell_type": "code",
   "execution_count": null,
   "id": "heard-practice",
   "metadata": {},
   "outputs": [],
   "source": [
    "qdmpy.field.add_bfield_proj_bias(options, field_params)\n",
    "btp_plot = qdmpy.plot.bfield_theta_phi(options, \"sig_sub_ref\", field_params)"
   ]
  },
  {
   "cell_type": "markdown",
   "id": "patent-withdrawal",
   "metadata": {},
   "source": [
    "### Save and (optionally) view options dict"
   ]
  },
  {
   "cell_type": "code",
   "execution_count": null,
   "id": "western-texture",
   "metadata": {},
   "outputs": [],
   "source": [
    "qdmpy.save_options(options)\n",
    "# import qdmpy.shared.json2dict; print(qdmpy.shared.json2dict.dict_to_json_str(options))"
   ]
  }
 ],
 "metadata": {
  "kernelspec": {
   "display_name": "Python 3",
   "language": "python",
   "name": "python3"
  },
  "language_info": {
   "codemirror_mode": {
    "name": "ipython",
    "version": 3
   },
   "file_extension": ".py",
   "mimetype": "text/x-python",
   "name": "python",
   "nbconvert_exporter": "python",
   "pygments_lexer": "ipython3",
   "version": "3.8.10"
  },
  "toc-autonumbering": false,
  "toc-showtags": false,
  "widgets": {
   "application/vnd.jupyter.widget-state+json": {
    "state": {},
    "version_major": 2,
    "version_minor": 0
   }
  }
 },
 "nbformat": 4,
 "nbformat_minor": 5
}
