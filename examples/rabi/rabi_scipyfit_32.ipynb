{
 "cells": [
  {
   "cell_type": "code",
   "execution_count": 15,
   "id": "deluxe-allen",
   "metadata": {
    "slideshow": {
     "slide_type": "slide"
    }
   },
   "outputs": [],
   "source": [
    "import qdmpy\n",
    "import qdmpy.pl\n",
    "import qdmpy.plot\n",
    "import qdmpy.field\n",
    "import qdmpy.source\n",
    "\n",
    "import matplotlib\n",
    "import matplotlib.pyplot as plt\n",
    "import numpy as np"
   ]
  },
  {
   "cell_type": "code",
   "execution_count": 16,
   "id": "primary-display",
   "metadata": {},
   "outputs": [],
   "source": [
    "# '%matplotlib widget' allows interactive plots in jupyterlab\n",
    "# use ''%matplotlib inline' to allow export to pdf\n",
    "# %matplotlib widget"
   ]
  },
  {
   "cell_type": "code",
   "execution_count": 17,
   "id": "cff0b92d-47ce-4e44-8d68-db06e9d7277a",
   "metadata": {},
   "outputs": [],
   "source": [
    "exec(open('../TEST_DATA_PATH.py').read())"
   ]
  },
  {
   "cell_type": "markdown",
   "id": "blind-switzerland",
   "metadata": {},
   "source": [
    "### Load raw data"
   ]
  },
  {
   "cell_type": "code",
   "execution_count": 18,
   "id": "wicked-wales",
   "metadata": {},
   "outputs": [],
   "source": [
    "options_dict = {\n",
    "    \"base_dir\": TEST_DATA_PATH,\n",
    "    \"filepath\": \"rabi_test/Rabi_32\",\n",
    "    \"custom_output_dir_suffix\": \"_{fit_backend}_bin_{total_bin}\",\n",
    "    \"additional_bins\": 4,\n",
    "       \n",
    "    \"system_name\": \"Zyla\",\n",
    "\n",
    "    \"ROI\": \"Full\", \n",
    "    \n",
    "    \"AOI_1_start\":  [40, 65],\n",
    "    \"AOI_1_end\":    [50,  75], \n",
    "    \"AOI_2_start\":  [20, 100],\n",
    "    \"AOI_2_end\":    [30, 110], \n",
    "    \"single_pixel_check\": [90//2, 150//2],\n",
    "    \n",
    "    \"remove_start_sweep\": 1,\n",
    "    \n",
    "    \"show_tick_marks\": True,\n",
    "    \n",
    "    \"fit_backend\": \"scipyfit\",\n",
    "    \"fit_backend_comparison\": [\"scipyfit\"],\n",
    "    \"fit_pl_pixels\": True, \n",
    "    \"force_fit\": True, \n",
    "    \n",
    "    \"use_ROI_avg_fit_res_for_all_pixels\": True,\n",
    "    \n",
    "    \"scipyfit_sub_threads\": 2, \n",
    "\n",
    "    \"fit_functions\":  {\"constant\": 1, \"damped_rabi\": 1},\n",
    "    \n",
    "    \"normalisation\": \"div\",\n",
    "    \n",
    "    \"rabi_freq_guess\": 10e6,\n",
    "    \"rabi_t_offset_guess\": 20e-9, \n",
    "    \"rabi_amp_guess\": 0.0015, \n",
    "    \"rabi_decay_time_guess\": 1e-6,\n",
    "    \n",
    "    \"rabi_freq_bounds\": [1e1, 1e9],\n",
    "    \"rabi_t_offset_bounds\": [1e-9, 1e-6],\n",
    "    \"rabi_amp_bounds\": [-1, 1],\n",
    "    \"rabi_decay_time_bounds\": [1e-9, 1e-4],\n",
    "    \n",
    "    \"constant_guess\": 0.998,\n",
    "    \"constant_bounds\": [0, 2],\n",
    "    \n",
    "    \"save_fig_type\": \"png\",\n",
    "    \n",
    "    \"colormap_range_dicts\": {\n",
    "        \"residual_images\": {\n",
    "            \"type\": \"percentile\",\n",
    "            \"values\": [2, 98]\n",
    "        },\n",
    "        \"sigma_images\": {\n",
    "            \"type\": \"percentile\",\n",
    "            \"values\": [2, 98]\n",
    "        },\n",
    "        \"param_images\": {\n",
    "            \"type\": \"percentile\",\n",
    "            \"values\": [10, 90]\n",
    "        },\n",
    "    },\n",
    "    \"mpl_rcparams\": {\n",
    "        \"legend.loc\": \"upper right\",\n",
    "    }\n",
    "}\n",
    "\n",
    "# if you want to use a reference experiment {ensure you run this even if 'None' as it sets up output dirs etc.}\n",
    "ref_options_dir = None"
   ]
  },
  {
   "cell_type": "code",
   "execution_count": 19,
   "id": "secondary-headline",
   "metadata": {},
   "outputs": [
    {
     "name": "stderr",
     "output_type": "stream",
     "text": [
      "/home/samsc/src/qs/qdmpy_proj/qdmpy_git/src/qdmpy/shared/misc.py:17: QDMPYWarning: Continuing without reference. (No reference chosen or exp_referece_type was 'None')\n",
      "  warnings.warn(msg, QDMPYWarning)\n"
     ]
    }
   ],
   "source": [
    "options, ref_options = qdmpy.initialize(\n",
    "    options_dict=options_dict,\n",
    "    ref_options_dir=ref_options_dir,\n",
    "    set_mpl_rcparams=True\n",
    ")"
   ]
  },
  {
   "cell_type": "markdown",
   "id": "affecting-century",
   "metadata": {},
   "source": [
    "### Load data"
   ]
  },
  {
   "cell_type": "code",
   "execution_count": null,
   "id": "challenging-ghana",
   "metadata": {},
   "outputs": [],
   "source": [
    "image, prelim_sweep_list = qdmpy.pl.load_image_and_sweep(options)\n",
    "PL_image, PL_image_ROI, sig, ref, sig_norm, single_pixel_pl, sweep_list, ROI = qdmpy.pl.reshape_dataset(\n",
    "        options, image, prelim_sweep_list\n",
    "    )\n",
    "\n",
    "ROI_PL_fig = qdmpy.plot.roi_pl_image(options, PL_image)\n",
    "\n",
    "AOI_PL_fig = qdmpy.plot.aoi_pl_image(options, PL_image_ROI)\n",
    "\n",
    "AOI_spectra_fig = qdmpy.plot.aoi_spectra(options, sig, ref, sweep_list)\n",
    "\n",
    "qdmpy.pl.save_pl_data(options, PL_image, PL_image_ROI)"
   ]
  },
  {
   "cell_type": "markdown",
   "id": "unlike-blowing",
   "metadata": {},
   "source": [
    "### Load reference experiment - note, you can fit in this same notebook!"
   ]
  },
  {
   "cell_type": "code",
   "execution_count": null,
   "id": "opened-cheese",
   "metadata": {},
   "outputs": [],
   "source": [
    "# ref_fit_params, ref_sigmas = qdmpy.pl.load_ref_exp_pl_fit_results(ref_options)"
   ]
  },
  {
   "cell_type": "markdown",
   "id": "charitable-karaoke",
   "metadata": {},
   "source": [
    "### Fit AOI, ROI averages, single pixel"
   ]
  },
  {
   "cell_type": "code",
   "execution_count": null,
   "id": "respected-forth",
   "metadata": {},
   "outputs": [],
   "source": [
    "fit_model = qdmpy.pl.define_fit_model(options)\n",
    "backend_ROI_results_lst = qdmpy.pl.fit_roi_avg_pl(options, sig, ref, sweep_list, fit_model) # if update sig_norm => sig,ref\n",
    "ROI_fit_fig = qdmpy.plot.roi_avg_fits(options, backend_ROI_results_lst)\n",
    "\n",
    "fit_result_collection_lst = qdmpy.pl.fit_aois_pl(options, sig, ref, single_pixel_pl, sweep_list, fit_model, backend_ROI_results_lst)\n",
    "AOI_fit_fig = qdmpy.plot.aoi_spectra_fit(options, sig, ref, sweep_list, fit_result_collection_lst, fit_model)"
   ]
  },
  {
   "cell_type": "markdown",
   "id": "maritime-planner",
   "metadata": {},
   "source": [
    "### Fit pixels"
   ]
  },
  {
   "cell_type": "code",
   "execution_count": null,
   "id": "threaded-reduction",
   "metadata": {},
   "outputs": [],
   "source": [
    "wanted_roi_result = next(\n",
    "    filter(\n",
    "        lambda result: result.fit_backend == options[\"fit_backend\"], backend_ROI_results_lst\n",
    "    )\n",
    ") # ROI fit result for chosen fit backend\n",
    "pixel_fit_params, sigmas = qdmpy.pl.get_pl_fit_result(options, sig_norm, sweep_list, fit_model, wanted_roi_result)\n",
    "\n",
    "qdmpy.pl.save_pl_fit_results(options, pixel_fit_params)\n",
    "qdmpy.pl.save_pl_fit_sigmas(options, sigmas)"
   ]
  },
  {
   "cell_type": "code",
   "execution_count": null,
   "id": "treated-detail",
   "metadata": {},
   "outputs": [],
   "source": [
    "ref_fit_params, ref_sigmas = qdmpy.pl.load_ref_exp_pl_fit_results(ref_options)"
   ]
  },
  {
   "cell_type": "markdown",
   "id": "fresh-brick",
   "metadata": {},
   "source": [
    "### Plot (fit) parameters"
   ]
  },
  {
   "cell_type": "code",
   "execution_count": null,
   "id": "stone-racing",
   "metadata": {},
   "outputs": [],
   "source": [
    "options[\"colormap_range_dicts\"][\"param_images\"] = {\n",
    "            \"type\": \"percentile\",\n",
    "            \"values\": [10, 90],\n",
    "}\n",
    "\n",
    "c_fig = qdmpy.plot.pl_param_images(options, fit_model, pixel_fit_params, \"constant\")\n",
    "amp_fig = qdmpy.plot.pl_param_images(options, fit_model, pixel_fit_params, \"rabi_amp\")\n",
    "decay_fig = qdmpy.plot.pl_param_images(options, fit_model, pixel_fit_params, \"rabi_decay_time\")\n",
    "toffset_fig = qdmpy.plot.pl_param_images(options, fit_model, pixel_fit_params, \"rabi_t_offset\")\n",
    "residual_fig = qdmpy.plot.pl_param_images(options, fit_model, pixel_fit_params, \"residual\")"
   ]
  },
  {
   "cell_type": "code",
   "execution_count": null,
   "id": "military-football",
   "metadata": {},
   "outputs": [],
   "source": [
    "options[\"colormap_range_dicts\"][\"param_images\"] = {\n",
    "            \"type\": \"percentile\",\n",
    "            \"values\": [2, 98],\n",
    "}\n",
    "exp_fig = qdmpy.plot.pl_param_images(options, fit_model, pixel_fit_params, \"rabi_freq\")"
   ]
  },
  {
   "cell_type": "code",
   "execution_count": null,
   "id": "false-miracle",
   "metadata": {},
   "outputs": [],
   "source": []
  },
  {
   "cell_type": "code",
   "execution_count": null,
   "id": "other-sullivan",
   "metadata": {},
   "outputs": [],
   "source": [
    "qdmpy.save_options(options)\n",
    "# import qdmpy.shared.json2dict; print(qdmpy.shared.json2dict.dict_to_json_str(options))"
   ]
  },
  {
   "cell_type": "code",
   "execution_count": null,
   "id": "mechanical-police",
   "metadata": {},
   "outputs": [],
   "source": [
    "options[\"used_fastmodel\"]"
   ]
  }
 ],
 "metadata": {
  "kernelspec": {
   "display_name": "Python 3 (ipykernel)",
   "language": "python",
   "name": "python3"
  },
  "language_info": {
   "codemirror_mode": {
    "name": "ipython",
    "version": 3
   },
   "file_extension": ".py",
   "mimetype": "text/x-python",
   "name": "python",
   "nbconvert_exporter": "python",
   "pygments_lexer": "ipython3",
   "version": "3.11.5"
  },
  "toc-autonumbering": false,
  "toc-showtags": false,
  "widgets": {
   "application/vnd.jupyter.widget-state+json": {
    "state": {},
    "version_major": 2,
    "version_minor": 0
   }
  }
 },
 "nbformat": 4,
 "nbformat_minor": 5
}
