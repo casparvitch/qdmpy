{
 "cells": [
  {
   "cell_type": "code",
   "execution_count": 1,
   "id": "acute-mystery",
   "metadata": {
    "slideshow": {
     "slide_type": "slide"
    }
   },
   "outputs": [],
   "source": [
    "import qdmpy"
   ]
  },
  {
   "cell_type": "code",
   "execution_count": 2,
   "id": "335e94ed-a9d3-45c2-b409-fb1f586b5f3d",
   "metadata": {},
   "outputs": [],
   "source": [
    "exec(open('./TEST_DATA_PATH.py').read()) # don't worry about this"
   ]
  },
  {
   "cell_type": "markdown",
   "id": "guided-france",
   "metadata": {},
   "source": [
    "### Load raw data"
   ]
  },
  {
   "cell_type": "code",
   "execution_count": 3,
   "id": "ordered-advantage",
   "metadata": {},
   "outputs": [],
   "source": [
    "options_dict = {\n",
    "# use a base_dir (here using a var read from TEST_DATA_PATH.py -> don't do this normally) & filepath from there:\n",
    "    \"base_dir\": TEST_DATA_PATH,\n",
    "    \"filepath\": \"j_test/ODMR - Pulsed_42\",\n",
    "# instead you can just provide the full path to the binary like so:\n",
    "    # \"filepath\": \"/home/samsc/ResearchData/test_images/j_test/ODMR - Pulsed_42\",\n",
    "    \"additional_bins\": 12, # to spatially average the image (must be multiple of 2)\n",
    "    \"fit_functions\":  {\"linear\": 1, \"lorentzian\": 8}, # leave some sort of dummy here even if not fitting\n",
    "}"
   ]
  },
  {
   "cell_type": "code",
   "execution_count": 4,
   "id": "equivalent-navigation",
   "metadata": {},
   "outputs": [
    {
     "name": "stderr",
     "output_type": "stream",
     "text": [
      "/home/samsc/src/qs/qdmpy_proj/qdmpy_git/src/qdmpy/shared/misc.py:17: QDMPYWarning: Continuing without reference. (No reference chosen or exp_referece_type was 'None')\n",
      "  warnings.warn(msg, QDMPYWarning)\n"
     ]
    }
   ],
   "source": [
    "options, _ = qdmpy.initialize(options_dict=options_dict)"
   ]
  },
  {
   "cell_type": "markdown",
   "id": "golden-causing",
   "metadata": {},
   "source": [
    "### Load data"
   ]
  },
  {
   "cell_type": "code",
   "execution_count": 5,
   "id": "exact-dairy",
   "metadata": {},
   "outputs": [],
   "source": [
    "image, prelim_sweep_list = qdmpy.pl.load_image_and_sweep(options)\n",
    "PL_image, PL_image_ROI, sig, ref, sig_norm, single_pixel_pl, sweep_list, ROI = qdmpy.pl.reshape_dataset(\n",
    "        options, image, prelim_sweep_list\n",
    ")"
   ]
  },
  {
   "cell_type": "code",
   "execution_count": 6,
   "id": "024f11f3-194f-49d0-968a-4ca062d41e29",
   "metadata": {},
   "outputs": [
    {
     "data": {
      "text/plain": [
       "(384, 1280, 1080)"
      ]
     },
     "execution_count": 6,
     "metadata": {},
     "output_type": "execute_result"
    }
   ],
   "source": [
    "image.shape"
   ]
  },
  {
   "cell_type": "code",
   "execution_count": 7,
   "id": "87bdfe09-2af4-46e1-b4e2-4084b028be2a",
   "metadata": {},
   "outputs": [
    {
     "data": {
      "text/plain": [
       "(191, 106, 90)"
      ]
     },
     "execution_count": 7,
     "metadata": {},
     "output_type": "execute_result"
    }
   ],
   "source": [
    "sig.shape"
   ]
  },
  {
   "cell_type": "code",
   "execution_count": null,
   "id": "a1122f8c-be86-4154-96c6-fb11ccb3ed79",
   "metadata": {},
   "outputs": [],
   "source": []
  }
 ],
 "metadata": {
  "kernelspec": {
   "display_name": "venv",
   "language": "python",
   "name": "venv"
  },
  "language_info": {
   "codemirror_mode": {
    "name": "ipython",
    "version": 3
   },
   "file_extension": ".py",
   "mimetype": "text/x-python",
   "name": "python",
   "nbconvert_exporter": "python",
   "pygments_lexer": "ipython3",
   "version": "3.11.5"
  },
  "toc-autonumbering": false,
  "toc-showtags": false,
  "widgets": {
   "application/vnd.jupyter.widget-state+json": {
    "state": {
     "066160cd042a4aa4a7ad8232f2508cdf": {
      "model_module": "@jupyter-widgets/controls",
      "model_module_version": "1.5.0",
      "model_name": "HTMLModel",
      "state": {
       "layout": "IPY_MODEL_641870bc576146ed88d50e8c5ef08987",
       "style": "IPY_MODEL_78f52ae589294fea971accc87b2deb2e",
       "value": " 9540/9540 [00:35&lt;00:00, 308.88 PX/s]"
      }
     },
     "2173e4e2de2d476ea0a2210a21a2f813": {
      "model_module": "@jupyter-widgets/controls",
      "model_module_version": "1.5.0",
      "model_name": "DescriptionStyleModel",
      "state": {
       "description_width": ""
      }
     },
     "2dc46cf8cb1b4fd9a7d27196c13ff436": {
      "model_module": "@jupyter-widgets/controls",
      "model_module_version": "1.5.0",
      "model_name": "DescriptionStyleModel",
      "state": {
       "description_width": ""
      }
     },
     "46f089a89f924bda9549de7f6d74c166": {
      "model_module": "@jupyter-widgets/base",
      "model_module_version": "1.2.0",
      "model_name": "LayoutModel",
      "state": {}
     },
     "560d7079a0ac4d1695f06c75c3bc9c76": {
      "model_module": "@jupyter-widgets/controls",
      "model_module_version": "1.5.0",
      "model_name": "FloatProgressModel",
      "state": {
       "bar_style": "success",
       "layout": "IPY_MODEL_fc2eca5fb0364a4ebe3c46cdb58a8671",
       "max": 9540,
       "style": "IPY_MODEL_fbbcb4216e674e17a437eb3e7eb48a55",
       "value": 9540
      }
     },
     "5dbf978193b9441096788fdd278a1bc9": {
      "model_module": "@jupyter-widgets/base",
      "model_module_version": "1.2.0",
      "model_name": "LayoutModel",
      "state": {}
     },
     "641870bc576146ed88d50e8c5ef08987": {
      "model_module": "@jupyter-widgets/base",
      "model_module_version": "1.2.0",
      "model_name": "LayoutModel",
      "state": {}
     },
     "67ae610fcfd94bbbbef1f67969da379f": {
      "model_module": "@jupyter-widgets/base",
      "model_module_version": "1.2.0",
      "model_name": "LayoutModel",
      "state": {}
     },
     "69af7fb5140f4e479e1f26584ad474d5": {
      "model_module": "@jupyter-widgets/controls",
      "model_module_version": "1.5.0",
      "model_name": "DescriptionStyleModel",
      "state": {
       "description_width": ""
      }
     },
     "78f52ae589294fea971accc87b2deb2e": {
      "model_module": "@jupyter-widgets/controls",
      "model_module_version": "1.5.0",
      "model_name": "DescriptionStyleModel",
      "state": {
       "description_width": ""
      }
     },
     "8fc950bd7d9f44629a65f94eee9d3f0c": {
      "model_module": "@jupyter-widgets/controls",
      "model_module_version": "1.5.0",
      "model_name": "HBoxModel",
      "state": {
       "children": [
        "IPY_MODEL_eaf665843f434b1fbba2ef1c451900f2",
        "IPY_MODEL_560d7079a0ac4d1695f06c75c3bc9c76",
        "IPY_MODEL_bb60f34944114d27beb7a8b45168de2f"
       ],
       "layout": "IPY_MODEL_abcb3f1546664c96808f43bac1ae6ccb"
      }
     },
     "92ee207e7d994b099e5de68e84dc55bd": {
      "model_module": "@jupyter-widgets/base",
      "model_module_version": "1.2.0",
      "model_name": "LayoutModel",
      "state": {}
     },
     "abcb3f1546664c96808f43bac1ae6ccb": {
      "model_module": "@jupyter-widgets/base",
      "model_module_version": "1.2.0",
      "model_name": "LayoutModel",
      "state": {}
     },
     "b652a551db394c66915daa24f08c2f8f": {
      "model_module": "@jupyter-widgets/controls",
      "model_module_version": "1.5.0",
      "model_name": "HBoxModel",
      "state": {
       "children": [
        "IPY_MODEL_fa64c7929ebd480a89dd089d7cfc3fe6",
        "IPY_MODEL_d2eeaccea6d445f48dd906fe817aae74",
        "IPY_MODEL_066160cd042a4aa4a7ad8232f2508cdf"
       ],
       "layout": "IPY_MODEL_46f089a89f924bda9549de7f6d74c166"
      }
     },
     "bb60f34944114d27beb7a8b45168de2f": {
      "model_module": "@jupyter-widgets/controls",
      "model_module_version": "1.5.0",
      "model_name": "HTMLModel",
      "state": {
       "layout": "IPY_MODEL_67ae610fcfd94bbbbef1f67969da379f",
       "style": "IPY_MODEL_2dc46cf8cb1b4fd9a7d27196c13ff436",
       "value": " 9540/9540 [00:26&lt;00:00, 352.98 PX/s]"
      }
     },
     "bc43e97b0deb4e42ad514217105484ec": {
      "model_module": "@jupyter-widgets/controls",
      "model_module_version": "1.5.0",
      "model_name": "ProgressStyleModel",
      "state": {
       "description_width": ""
      }
     },
     "c2ef27c042704e5080791cf62f5fdc5b": {
      "model_module": "@jupyter-widgets/base",
      "model_module_version": "1.2.0",
      "model_name": "LayoutModel",
      "state": {}
     },
     "d2eeaccea6d445f48dd906fe817aae74": {
      "model_module": "@jupyter-widgets/controls",
      "model_module_version": "1.5.0",
      "model_name": "FloatProgressModel",
      "state": {
       "bar_style": "success",
       "layout": "IPY_MODEL_92ee207e7d994b099e5de68e84dc55bd",
       "max": 9540,
       "style": "IPY_MODEL_bc43e97b0deb4e42ad514217105484ec",
       "value": 9540
      }
     },
     "eaf665843f434b1fbba2ef1c451900f2": {
      "model_module": "@jupyter-widgets/controls",
      "model_module_version": "1.5.0",
      "model_name": "HTMLModel",
      "state": {
       "layout": "IPY_MODEL_5dbf978193b9441096788fdd278a1bc9",
       "style": "IPY_MODEL_69af7fb5140f4e479e1f26584ad474d5",
       "value": "ham-scipyfit: 100%"
      }
     },
     "fa64c7929ebd480a89dd089d7cfc3fe6": {
      "model_module": "@jupyter-widgets/controls",
      "model_module_version": "1.5.0",
      "model_name": "HTMLModel",
      "state": {
       "layout": "IPY_MODEL_c2ef27c042704e5080791cf62f5fdc5b",
       "style": "IPY_MODEL_2173e4e2de2d476ea0a2210a21a2f813",
       "value": "pl-scipyfit: 100%"
      }
     },
     "fbbcb4216e674e17a437eb3e7eb48a55": {
      "model_module": "@jupyter-widgets/controls",
      "model_module_version": "1.5.0",
      "model_name": "ProgressStyleModel",
      "state": {
       "description_width": ""
      }
     },
     "fc2eca5fb0364a4ebe3c46cdb58a8671": {
      "model_module": "@jupyter-widgets/base",
      "model_module_version": "1.2.0",
      "model_name": "LayoutModel",
      "state": {}
     }
    },
    "version_major": 2,
    "version_minor": 0
   }
  }
 },
 "nbformat": 4,
 "nbformat_minor": 5
}
