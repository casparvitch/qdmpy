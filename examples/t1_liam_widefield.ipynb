{
 "cells": [
  {
   "cell_type": "code",
   "execution_count": 1,
   "id": "suburban-kuwait",
   "metadata": {
    "slideshow": {
     "slide_type": "slide"
    }
   },
   "outputs": [],
   "source": [
    "import qdmpy.io as Qio\n",
    "import qdmpy.fit as Qfit\n",
    "import qdmpy.plot as Qplot\n",
    "import qdmpy.field as Qfield\n",
    "\n",
    "import matplotlib"
   ]
  },
  {
   "cell_type": "code",
   "execution_count": 2,
   "id": "accomplished-extraction",
   "metadata": {},
   "outputs": [],
   "source": [
    "# '%matplotlib widget' allows interactive plots in jupyterlab\n",
    "# use ''%matplotlib inline' to allow export to pdf\n",
    "%matplotlib widget"
   ]
  },
  {
   "cell_type": "markdown",
   "id": "satellite-arcade",
   "metadata": {},
   "source": [
    "### Load raw data"
   ]
  },
  {
   "cell_type": "code",
   "execution_count": 3,
   "id": "municipal-upper",
   "metadata": {},
   "outputs": [],
   "source": [
    "options_dict = {\n",
    "    \"base_dir\": \"/home/samsc/ResearchData/test_images/\"\n",
    "    \"filepath\": \"Spin relaxation (T1)_19\",\n",
    "    \"custom_output_dir_suffix\": \"_{ROI}_bin_{total_bin}\",\n",
    "    \n",
    "    \"additional_bins\": 0,\n",
    "\n",
    "    \"system_name\": \"Liams_Widefield\",\n",
    "    \"ROI\": \"Full\", \n",
    "    \"ROI_start\": [10, 10],\n",
    "    \"ROI_end\": [200,200],\n",
    "    \n",
    "    \"AOI_1_start\": [10, 10],\n",
    "    \"AOI_1_end\": [20, 20], \n",
    "    \"AOI_2_start\": [10, 50],\n",
    "    \"AOI_2_end\": [20, 60], \n",
    "    \"AOI_3_start\": [60, 15],\n",
    "    \"AOI_3_end\": [70, 35], \n",
    "    \n",
    "    \"normalisation\": \"div\",\n",
    "    \n",
    "    \"fit_pixels\": True, \n",
    "    \"force_fit\": True, \n",
    "    \"auto_match_prev_ROI_options\": False,\n",
    "    \n",
    "    \"fit_backend\": \"gpufit\",\n",
    "    \"fit_backend_comparison\": [\"scipyfit\", \"gpufit\"],\n",
    "    \n",
    "    \"scipy_sub_threads\": 2, \n",
    "\n",
    "    \"fit_functions\":  {\"constant\": 1, \"stretched_exponential\": 1},\n",
    "\n",
    "    \"constant_guess\": 1,\n",
    "    \"constant_bounds\": [0.9, 1.1],\n",
    "\n",
    "    \"power_exp_guess\": 0.7,\n",
    "    \"power_exp_bounds\": [0.5, 1.0],\n",
    "\n",
    "    \"charac_exp_t_guess\": 1e-3,\n",
    "    \"charac_exp_t_bounds\": [1e-9, 100e-3],\n",
    "\n",
    "    \"amp_exp_guess\": 0.07,\n",
    "    \"amp_exp_bounds\": [0.001, 0.2],\n",
    "    \n",
    "    \"save_fig_type\": \"pdf\",\n",
    "    \n",
    "    \"calc_field_pixels\": False,\n",
    "    },\n",
    "    \"mpl_rcparams\": {\n",
    "        \"legend.loc\": \"upper right\" \n",
    "}\n",
    "# if you want to use a reference experiment {ensure you run this even if 'None' as it sets up output dirs etc.}\n",
    "ref_options_dir = \"/home/samsc/ResearchData/Photovoltaics/2021-03-04_D298_SiPV-22_solo/ODMR - Pulsed without IR_15_Full_bin_16/\""
   ]
  },
  {
   "cell_type": "code",
   "execution_count": 4,
   "id": "leading-mainland",
   "metadata": {},
   "outputs": [],
   "source": [
    "options = Qio.load_options(options_dict=options_dict, check_for_prev_result=True)\n",
    "Qplot.set_mpl_rcparams(options)"
   ]
  },
  {
   "cell_type": "markdown",
   "id": "documented-wheel",
   "metadata": {},
   "source": [
    "### Load data"
   ]
  },
  {
   "cell_type": "code",
   "execution_count": 5,
   "id": "flying-account",
   "metadata": {},
   "outputs": [
    {
     "name": "stderr",
     "output_type": "stream",
     "text": [
      "/home/samsc/src/nv/qdmpy_proj/qdmpy_git/qdmpy/io/raw.py:307: UserWarning: Avoiding IndexError for single_pixel_check (setting pixel check to centre of image):\n",
      "index 150 is out of bounds for axis 1 with size 96\n",
      "  warnings.warn(\n"
     ]
    },
    {
     "data": {
      "application/vnd.jupyter.widget-view+json": {
       "model_id": "b79b61305393423ca0d93a767a33ac36",
       "version_major": 2,
       "version_minor": 0
      },
      "text/plain": [
       "Canvas(toolbar=Toolbar(toolitems=[('Home', 'Reset original view', 'home', 'home'), ('Back', 'Back to previous …"
      ]
     },
     "metadata": {},
     "output_type": "display_data"
    },
    {
     "data": {
      "application/vnd.jupyter.widget-view+json": {
       "model_id": "2685bd265c8243a4b877a109cb7e6534",
       "version_major": 2,
       "version_minor": 0
      },
      "text/plain": [
       "Canvas(toolbar=Toolbar(toolitems=[('Home', 'Reset original view', 'home', 'home'), ('Back', 'Back to previous …"
      ]
     },
     "metadata": {},
     "output_type": "display_data"
    },
    {
     "data": {
      "application/vnd.jupyter.widget-view+json": {
       "model_id": "e1ef55119faa445c89adecf93a80d125",
       "version_major": 2,
       "version_minor": 0
      },
      "text/plain": [
       "Canvas(toolbar=Toolbar(toolitems=[('Home', 'Reset original view', 'home', 'home'), ('Back', 'Back to previous …"
      ]
     },
     "metadata": {},
     "output_type": "display_data"
    }
   ],
   "source": [
    "image, prelim_sweep_list = Qio.load_image_and_sweep(options)\n",
    "PL_image, PL_image_ROI, sig, ref, sig_norm, single_pixel_pl, sweep_list = Qio.reshape_dataset(\n",
    "        options, image, prelim_sweep_list\n",
    "    )\n",
    "ROI_PL_fig = Qplot.plot_ROI_PL_image(options, PL_image)\n",
    "\n",
    "AOI_PL_fig = Qplot.plot_AOI_PL_images(options, PL_image_ROI)\n",
    "\n",
    "AOI_spectra_fig = Qplot.plot_AOI_spectra(options, sig, ref, sweep_list)\n",
    "\n",
    "Qio.save_PL_data(options, PL_image, PL_image_ROI)"
   ]
  },
  {
   "cell_type": "markdown",
   "id": "mighty-phenomenon",
   "metadata": {},
   "source": [
    "### Load reference experiment - note, you can fit in this same notebook!"
   ]
  },
  {
   "cell_type": "code",
   "execution_count": 6,
   "id": "realistic-eleven",
   "metadata": {},
   "outputs": [],
   "source": [
    "# below: alternative is to just have the dictionary already loaded (above this is called `pixel_fit_params`)\n",
    "ref_fit_params, ref_sigmas = Qio.load_reference_experiment_fit_results(options, ref_options=None, ref_options_dir=ref_options_dir)"
   ]
  },
  {
   "cell_type": "markdown",
   "id": "weird-parks",
   "metadata": {},
   "source": [
    "### Fit AOI, ROI averages, single pixel"
   ]
  },
  {
   "cell_type": "code",
   "execution_count": 7,
   "id": "pregnant-invite",
   "metadata": {},
   "outputs": [
    {
     "name": "stderr",
     "output_type": "stream",
     "text": [
      "/home/samsc/src/nv/qdmpy_proj/qdmpy_git/qdmpy/fit/_scipyfit.py:35: TqdmExperimentalWarning: Using `tqdm.autonotebook.tqdm` in notebook mode. Use `tqdm.tqdm` instead to force console mode (e.g. in jupyter console)\n",
      "  from tqdm.autonotebook import tqdm  # auto detects jupyter\n"
     ]
    },
    {
     "data": {
      "application/vnd.jupyter.widget-view+json": {
       "model_id": "9e35c4790833482c9020018890d0fecc",
       "version_major": 2,
       "version_minor": 0
      },
      "text/plain": [
       "Canvas(toolbar=Toolbar(toolitems=[('Home', 'Reset original view', 'home', 'home'), ('Back', 'Back to previous …"
      ]
     },
     "metadata": {},
     "output_type": "display_data"
    },
    {
     "data": {
      "application/vnd.jupyter.widget-view+json": {
       "model_id": "4c7a93e64af44b46b3f1a572e2100177",
       "version_major": 2,
       "version_minor": 0
      },
      "text/plain": [
       "Canvas(toolbar=Toolbar(toolitems=[('Home', 'Reset original view', 'home', 'home'), ('Back', 'Back to previous …"
      ]
     },
     "metadata": {},
     "output_type": "display_data"
    }
   ],
   "source": [
    "fit_model = Qfit.define_fit_model(options)\n",
    "backend_ROI_results_lst = Qfit.fit_ROI_avg(options, sig_norm, sweep_list, fit_model)\n",
    "ROI_fit_fig = Qplot.plot_ROI_avg_fits(options, backend_ROI_results_lst)\n",
    "\n",
    "fit_result_collection_lst = Qfit.fit_AOIs(options, sig_norm, single_pixel_pl, sweep_list, fit_model, backend_ROI_results_lst)\n",
    "AOI_fit_fig = Qplot.plot_AOI_spectra_fit(options, sig, ref, sweep_list, fit_result_collection_lst, fit_model)"
   ]
  },
  {
   "cell_type": "markdown",
   "id": "oriented-yugoslavia",
   "metadata": {},
   "source": [
    "### Fit pixels"
   ]
  },
  {
   "cell_type": "code",
   "execution_count": 8,
   "id": "after-samoa",
   "metadata": {},
   "outputs": [
    {
     "name": "stderr",
     "output_type": "stream",
     "text": [
      "/home/samsc/src/nv/qdmpy_proj/qdmpy_git/qdmpy/fit/interface.py:281: UserWarning: Using previous fit results.\n",
      "  warnings.warn(\"Using previous fit results.\")\n"
     ]
    }
   ],
   "source": [
    "wanted_roi_result = next(\n",
    "    filter(\n",
    "        lambda result: result.fit_backend == options[\"fit_backend\"], backend_ROI_results_lst\n",
    "    )\n",
    ") # ROI fit result for chosen fit backend\n",
    "pixel_fit_params, sigmas = Qfit.get_pixel_fit_results(options, sig_norm, sweep_list, fit_model, wanted_roi_result)\n",
    "\n",
    "Qio.save_pixel_fit_results(options, pixel_fit_params)\n",
    "Qio.save_pixel_fit_sigmas(options, sigmas)"
   ]
  },
  {
   "cell_type": "markdown",
   "id": "linear-sentence",
   "metadata": {},
   "source": [
    "### Plot (fit) parameters"
   ]
  },
  {
   "cell_type": "code",
   "execution_count": 9,
   "id": "hundred-preservation",
   "metadata": {},
   "outputs": [
    {
     "data": {
      "application/vnd.jupyter.widget-view+json": {
       "model_id": "5152659a228c4b35b3f2d7f714de40b8",
       "version_major": 2,
       "version_minor": 0
      },
      "text/plain": [
       "Canvas(toolbar=Toolbar(toolitems=[('Home', 'Reset original view', 'home', 'home'), ('Back', 'Back to previous …"
      ]
     },
     "metadata": {},
     "output_type": "display_data"
    },
    {
     "data": {
      "application/vnd.jupyter.widget-view+json": {
       "model_id": "d8677016b11f43ac94070f848c4ea1d3",
       "version_major": 2,
       "version_minor": 0
      },
      "text/plain": [
       "Canvas(toolbar=Toolbar(toolitems=[('Home', 'Reset original view', 'home', 'home'), ('Back', 'Back to previous …"
      ]
     },
     "metadata": {},
     "output_type": "display_data"
    },
    {
     "data": {
      "application/vnd.jupyter.widget-view+json": {
       "model_id": "9003f53a23ed464d9445773eecf98a84",
       "version_major": 2,
       "version_minor": 0
      },
      "text/plain": [
       "Canvas(toolbar=Toolbar(toolitems=[('Home', 'Reset original view', 'home', 'home'), ('Back', 'Back to previous …"
      ]
     },
     "metadata": {},
     "output_type": "display_data"
    },
    {
     "data": {
      "application/vnd.jupyter.widget-view+json": {
       "model_id": "f0e1db80ade345749723cabf40127641",
       "version_major": 2,
       "version_minor": 0
      },
      "text/plain": [
       "Canvas(toolbar=Toolbar(toolitems=[('Home', 'Reset original view', 'home', 'home'), ('Back', 'Back to previous …"
      ]
     },
     "metadata": {},
     "output_type": "display_data"
    },
    {
     "data": {
      "application/vnd.jupyter.widget-view+json": {
       "model_id": "aed9c42da4ab41178e02db8c4a71764d",
       "version_major": 2,
       "version_minor": 0
      },
      "text/plain": [
       "Canvas(toolbar=Toolbar(toolitems=[('Home', 'Reset original view', 'home', 'home'), ('Back', 'Back to previous …"
      ]
     },
     "metadata": {},
     "output_type": "display_data"
    },
    {
     "data": {
      "application/vnd.jupyter.widget-view+json": {
       "model_id": "fa2443833f7743f4be54c88120301c28",
       "version_major": 2,
       "version_minor": 0
      },
      "text/plain": [
       "Canvas(toolbar=Toolbar(toolitems=[('Home', 'Reset original view', 'home', 'home'), ('Back', 'Back to previous …"
      ]
     },
     "metadata": {},
     "output_type": "display_data"
    }
   ],
   "source": [
    "c_fig = Qplot.plot_param_images(options, fit_model, pixel_fit_params, \"constant\")\n",
    "pow_fig = Qplot.plot_param_images(options, fit_model, pixel_fit_params, \"power_exp\")\n",
    "exp_fig = Qplot.plot_param_images(options, fit_model, pixel_fit_params, \"charac_exp_t\")\n",
    "amp_fig = Qplot.plot_param_images(options, fit_model, pixel_fit_params, \"amp_exp\")\n",
    "residual_fig = Qplot.plot_param_images(options, fit_model, pixel_fit_params, \"residual\")"
   ]
  },
  {
   "cell_type": "code",
   "execution_count": 10,
   "id": "behavioral-gossip",
   "metadata": {},
   "outputs": [
    {
     "data": {
      "application/vnd.jupyter.widget-view+json": {
       "model_id": "dd424327900e4006899264433590ea77",
       "version_major": 2,
       "version_minor": 0
      },
      "text/plain": [
       "Canvas(toolbar=Toolbar(toolitems=[('Home', 'Reset original view', 'home', 'home'), ('Back', 'Back to previous …"
      ]
     },
     "metadata": {},
     "output_type": "display_data"
    }
   ],
   "source": [
    "pos_sigma_plot = Qplot.plot_param_images(options, fit_model, sigmas, \"pos\", errorplot=True)"
   ]
  },
  {
   "cell_type": "markdown",
   "id": "joint-munich",
   "metadata": {},
   "source": [
    "### Initial guess and fit vs data (flattened)"
   ]
  },
  {
   "cell_type": "code",
   "execution_count": 11,
   "id": "breeding-infrastructure",
   "metadata": {},
   "outputs": [
    {
     "data": {
      "application/vnd.jupyter.widget-view+json": {
       "model_id": "2c39bbee1533494c8ad4cf561a672e47",
       "version_major": 2,
       "version_minor": 0
      },
      "text/plain": [
       "Canvas(toolbar=Toolbar(toolitems=[('Home', 'Reset original view', 'home', 'home'), ('Back', 'Back to previous …"
      ]
     },
     "metadata": {},
     "output_type": "display_data"
    },
    {
     "data": {
      "application/vnd.jupyter.widget-view+json": {
       "model_id": "670b95312b3e47efb23e9becb9bd8bea",
       "version_major": 2,
       "version_minor": 0
      },
      "text/plain": [
       "Canvas(toolbar=Toolbar(toolitems=[('Home', 'Reset original view', 'home', 'home'), ('Back', 'Back to previous …"
      ]
     },
     "metadata": {},
     "output_type": "display_data"
    }
   ],
   "source": [
    "flat_pos_fig = Qplot.plot_params_flattened(options, fit_model, pixel_fit_params, wanted_roi_result, \"pos\", sigmas=sigmas, plot_bounds=False, plot_sigmas=False, errorevery=1000)\n",
    "flat_resid_fig = Qplot.plot_params_flattened(options, fit_model, pixel_fit_params, wanted_roi_result, \"residual\", sigmas=sigmas)"
   ]
  },
  {
   "cell_type": "markdown",
   "id": "acceptable-panama",
   "metadata": {},
   "source": [
    "### Save and (optionally) view options dict"
   ]
  },
  {
   "cell_type": "code",
   "execution_count": 17,
   "id": "iraqi-necklace",
   "metadata": {},
   "outputs": [],
   "source": [
    "Qio.save_options(options)\n",
    "# print(Qio.dict_to_json_str(options))"
   ]
  }
 ],
 "metadata": {
  "kernelspec": {
   "display_name": "Python 3",
   "language": "python",
   "name": "python3"
  },
  "language_info": {
   "codemirror_mode": {
    "name": "ipython",
    "version": 3
   },
   "file_extension": ".py",
   "mimetype": "text/x-python",
   "name": "python",
   "nbconvert_exporter": "python",
   "pygments_lexer": "ipython3",
   "version": "3.8.8"
  },
  "toc-autonumbering": false,
  "toc-showtags": false,
  "widgets": {
   "application/vnd.jupyter.widget-state+json": {
    "state": {},
    "version_major": 2,
    "version_minor": 0
   }
  }
 },
 "nbformat": 4,
 "nbformat_minor": 5
}
