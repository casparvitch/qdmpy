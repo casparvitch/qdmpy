{
 "cells": [
  {
   "cell_type": "code",
   "execution_count": 1,
   "id": "matched-story",
   "metadata": {
    "slideshow": {
     "slide_type": "slide"
    }
   },
   "outputs": [],
   "source": [
    "import qdmpy.io as Qio\n",
    "import qdmpy.fit as Qfit\n",
    "import qdmpy.plot as Qplot\n",
    "import qdmpy.field as Qfield\n",
    "\n",
    "import matplotlib"
   ]
  },
  {
   "cell_type": "code",
   "execution_count": 2,
   "id": "geographic-train",
   "metadata": {},
   "outputs": [],
   "source": [
    "# '%matplotlib widget' allows interactive plots in jupyterlab\n",
    "# use ''%matplotlib inline' to allow export to pdf\n",
    "%matplotlib widget"
   ]
  },
  {
   "cell_type": "markdown",
   "id": "executed-psychiatry",
   "metadata": {},
   "source": [
    "### Load raw data"
   ]
  },
  {
   "cell_type": "code",
   "execution_count": 3,
   "id": "optional-anaheim",
   "metadata": {},
   "outputs": [],
   "source": [
    "options_dict = {\n",
    "    \"base_dir\": \"/home/samsc/ResearchData/Photovoltaics/2021-03-04_D298_SiPV-22_solo/\",\n",
    "    \"filepath\": \"ODMR - Pulsed with IR_7\",\n",
    "    \"custom_output_dir_suffix\": \"_{ROI}_bin_{total_bin}\",\n",
    "    \n",
    "    \"additional_bins\": 4,\n",
    "    \n",
    "    \"objective_mag\": 4,\n",
    "\n",
    "    \"system_name\": \"Zyla\",\n",
    "\n",
    "    \"ROI\": \"Full\", \n",
    "    \"ROI_start\": [10, 30],\n",
    "    \"ROI_end\": [20,40],\n",
    "    \n",
    "    \"AOI_1_start\": [30, 40],\n",
    "    \"AOI_1_end\": [40, 45], \n",
    "    \"AOI_2_start\": [20, 20],\n",
    "    \"AOI_2_end\": [24, 24], \n",
    "    \"AOI_3_start\": [30, 20],\n",
    "    \"AOI_3_end\": [32, 24], \n",
    "    \"single_pixel_check\": [90, 150],\n",
    "    \n",
    "    \"fit_backend\": \"scipyfit\",\n",
    "    \"fit_backend_comparison\": [\"scipyfit\"],\n",
    "    \"fit_pixels\": True, \n",
    "    \"force_fit\": False, \n",
    "    \n",
    "    \"use_ROI_avg_fit_res_for_all_pixels\": True,\n",
    "    \n",
    "    \"scipyfit_sub_threads\": 2, \n",
    "\n",
    "    \"fit_functions\":  {\"linear\": 1, \"lorentzian\": 8},\n",
    "\n",
    "    \"pos_guess\": [2710, 2769, 2814, 2866, 2908, 2956, 2993, 3037],\n",
    "    \"pos_range\": 25,\n",
    "\n",
    "    \"amp_guess\": -0.02,\n",
    "    \"amp_bounds\": [-0.0300, -0.0003],\n",
    "    \n",
    "    \"save_fig_type\": \"pdf\",\n",
    "    \n",
    "    \"freqs_to_use\": [1, 1, 1, 1, 1, 1, 1, 1],\n",
    "    \"diamond_ori\": \"<100>_<110>\", # CVD\n",
    "    \n",
    "    \"bias_mag\": 80,\n",
    "    \"bias_theta\": 20,\n",
    "    \"bias_phi\": 150,\n",
    "    \n",
    "    \"calc_field_pixels\": True,\n",
    "    \"force_field_calc\": False,\n",
    "    \n",
    "    \"bfield_bground_method\": \"poly\",\n",
    "    \"bfield_bground_params\": {\n",
    "        \"order\": 1\n",
    "    }\n",
    "}\n",
    "# if you want to use a reference experiment {ensure you run this even if 'None' as it sets up output dirs etc.}\n",
    "ref_options_dir = \"/home/samsc/ResearchData/Photovoltaics/2021-03-04_D298_SiPV-22_solo/ODMR - Pulsed without IR_15_Full_bin_16/\""
   ]
  },
  {
   "cell_type": "code",
   "execution_count": 4,
   "id": "unlike-transfer",
   "metadata": {},
   "outputs": [],
   "source": [
    "options = Qio.load_options(options_dict=options_dict, check_for_prev_result=True)\n",
    "Qplot.set_mpl_rcparams(options)"
   ]
  },
  {
   "cell_type": "markdown",
   "id": "proprietary-whole",
   "metadata": {},
   "source": [
    "### Load data"
   ]
  },
  {
   "cell_type": "code",
   "execution_count": 5,
   "id": "olive-powell",
   "metadata": {},
   "outputs": [
    {
     "name": "stderr",
     "output_type": "stream",
     "text": [
      "/home/samsc/src/nv/qdmpy_proj/qdmpy_git/qdmpy/io/raw.py:307: UserWarning: Avoiding IndexError for single_pixel_check (setting pixel check to centre of image):\n",
      "index 150 is out of bounds for axis 1 with size 96\n",
      "  warnings.warn(\n"
     ]
    },
    {
     "data": {
      "application/vnd.jupyter.widget-view+json": {
       "model_id": "b79b61305393423ca0d93a767a33ac36",
       "version_major": 2,
       "version_minor": 0
      },
      "text/plain": [
       "Canvas(toolbar=Toolbar(toolitems=[('Home', 'Reset original view', 'home', 'home'), ('Back', 'Back to previous …"
      ]
     },
     "metadata": {},
     "output_type": "display_data"
    },
    {
     "data": {
      "application/vnd.jupyter.widget-view+json": {
       "model_id": "2685bd265c8243a4b877a109cb7e6534",
       "version_major": 2,
       "version_minor": 0
      },
      "text/plain": [
       "Canvas(toolbar=Toolbar(toolitems=[('Home', 'Reset original view', 'home', 'home'), ('Back', 'Back to previous …"
      ]
     },
     "metadata": {},
     "output_type": "display_data"
    },
    {
     "data": {
      "application/vnd.jupyter.widget-view+json": {
       "model_id": "e1ef55119faa445c89adecf93a80d125",
       "version_major": 2,
       "version_minor": 0
      },
      "text/plain": [
       "Canvas(toolbar=Toolbar(toolitems=[('Home', 'Reset original view', 'home', 'home'), ('Back', 'Back to previous …"
      ]
     },
     "metadata": {},
     "output_type": "display_data"
    }
   ],
   "source": [
    "image, prelim_sweep_list = Qio.load_image_and_sweep(options)\n",
    "PL_image, PL_image_ROI, sig, ref, sig_norm, single_pixel_pl, sweep_list = Qio.reshape_dataset(\n",
    "        options, image, prelim_sweep_list\n",
    "    )\n",
    "ROI_PL_fig = Qplot.plot_ROI_PL_image(options, PL_image)\n",
    "\n",
    "AOI_PL_fig = Qplot.plot_AOI_PL_images(options, PL_image_ROI)\n",
    "\n",
    "AOI_spectra_fig = Qplot.plot_AOI_spectra(options, sig, ref, sweep_list)\n",
    "\n",
    "Qio.save_PL_data(options, PL_image, PL_image_ROI)"
   ]
  },
  {
   "cell_type": "markdown",
   "id": "funded-conference",
   "metadata": {},
   "source": [
    "### Load reference experiment - note, you can fit in this same notebook!"
   ]
  },
  {
   "cell_type": "code",
   "execution_count": 6,
   "id": "understood-event",
   "metadata": {},
   "outputs": [],
   "source": [
    "# below: alternative is to just have the dictionary already loaded (above this is called `pixel_fit_params`)\n",
    "ref_fit_params, ref_sigmas = Qio.load_reference_experiment_fit_results(options, ref_options=None, ref_options_dir=ref_options_dir)"
   ]
  },
  {
   "cell_type": "markdown",
   "id": "mediterranean-proposal",
   "metadata": {},
   "source": [
    "### Fit AOI, ROI averages, single pixel"
   ]
  },
  {
   "cell_type": "code",
   "execution_count": 7,
   "id": "distributed-august",
   "metadata": {},
   "outputs": [
    {
     "name": "stderr",
     "output_type": "stream",
     "text": [
      "/home/samsc/src/nv/qdmpy_proj/qdmpy_git/qdmpy/fit/_scipyfit.py:35: TqdmExperimentalWarning: Using `tqdm.autonotebook.tqdm` in notebook mode. Use `tqdm.tqdm` instead to force console mode (e.g. in jupyter console)\n",
      "  from tqdm.autonotebook import tqdm  # auto detects jupyter\n"
     ]
    },
    {
     "data": {
      "application/vnd.jupyter.widget-view+json": {
       "model_id": "9e35c4790833482c9020018890d0fecc",
       "version_major": 2,
       "version_minor": 0
      },
      "text/plain": [
       "Canvas(toolbar=Toolbar(toolitems=[('Home', 'Reset original view', 'home', 'home'), ('Back', 'Back to previous …"
      ]
     },
     "metadata": {},
     "output_type": "display_data"
    },
    {
     "data": {
      "application/vnd.jupyter.widget-view+json": {
       "model_id": "4c7a93e64af44b46b3f1a572e2100177",
       "version_major": 2,
       "version_minor": 0
      },
      "text/plain": [
       "Canvas(toolbar=Toolbar(toolitems=[('Home', 'Reset original view', 'home', 'home'), ('Back', 'Back to previous …"
      ]
     },
     "metadata": {},
     "output_type": "display_data"
    }
   ],
   "source": [
    "fit_model = Qfit.define_fit_model(options)\n",
    "backend_ROI_results_lst = Qfit.fit_ROI_avg(options, sig_norm, sweep_list, fit_model)\n",
    "ROI_fit_fig = Qplot.plot_ROI_avg_fits(options, backend_ROI_results_lst)\n",
    "\n",
    "fit_result_collection_lst = Qfit.fit_AOIs(options, sig_norm, single_pixel_pl, sweep_list, fit_model, backend_ROI_results_lst)\n",
    "AOI_fit_fig = Qplot.plot_AOI_spectra_fit(options, sig, ref, sweep_list, fit_result_collection_lst, fit_model)"
   ]
  },
  {
   "cell_type": "markdown",
   "id": "talented-irish",
   "metadata": {},
   "source": [
    "### Fit pixels"
   ]
  },
  {
   "cell_type": "code",
   "execution_count": 8,
   "id": "honey-resistance",
   "metadata": {},
   "outputs": [
    {
     "name": "stderr",
     "output_type": "stream",
     "text": [
      "/home/samsc/src/nv/qdmpy_proj/qdmpy_git/qdmpy/fit/interface.py:281: UserWarning: Using previous fit results.\n",
      "  warnings.warn(\"Using previous fit results.\")\n"
     ]
    }
   ],
   "source": [
    "wanted_roi_result = next(\n",
    "    filter(\n",
    "        lambda result: result.fit_backend == options[\"fit_backend\"], backend_ROI_results_lst\n",
    "    )\n",
    ") # ROI fit result for chosen fit backend\n",
    "pixel_fit_params, sigmas = Qfit.get_PL_fit_result(options, sig_norm, sweep_list, fit_model, wanted_roi_result)\n",
    "\n",
    "Qio.save_pixel_fit_results(options, pixel_fit_params)\n",
    "Qio.save_pixel_fit_sigmas(options, sigmas)"
   ]
  },
  {
   "cell_type": "markdown",
   "id": "smoking-jimmy",
   "metadata": {},
   "source": [
    "### Plot (fit) parameters"
   ]
  },
  {
   "cell_type": "code",
   "execution_count": 9,
   "id": "starting-thermal",
   "metadata": {},
   "outputs": [
    {
     "data": {
      "application/vnd.jupyter.widget-view+json": {
       "model_id": "5152659a228c4b35b3f2d7f714de40b8",
       "version_major": 2,
       "version_minor": 0
      },
      "text/plain": [
       "Canvas(toolbar=Toolbar(toolitems=[('Home', 'Reset original view', 'home', 'home'), ('Back', 'Back to previous …"
      ]
     },
     "metadata": {},
     "output_type": "display_data"
    },
    {
     "data": {
      "application/vnd.jupyter.widget-view+json": {
       "model_id": "d8677016b11f43ac94070f848c4ea1d3",
       "version_major": 2,
       "version_minor": 0
      },
      "text/plain": [
       "Canvas(toolbar=Toolbar(toolitems=[('Home', 'Reset original view', 'home', 'home'), ('Back', 'Back to previous …"
      ]
     },
     "metadata": {},
     "output_type": "display_data"
    },
    {
     "data": {
      "application/vnd.jupyter.widget-view+json": {
       "model_id": "9003f53a23ed464d9445773eecf98a84",
       "version_major": 2,
       "version_minor": 0
      },
      "text/plain": [
       "Canvas(toolbar=Toolbar(toolitems=[('Home', 'Reset original view', 'home', 'home'), ('Back', 'Back to previous …"
      ]
     },
     "metadata": {},
     "output_type": "display_data"
    },
    {
     "data": {
      "application/vnd.jupyter.widget-view+json": {
       "model_id": "f0e1db80ade345749723cabf40127641",
       "version_major": 2,
       "version_minor": 0
      },
      "text/plain": [
       "Canvas(toolbar=Toolbar(toolitems=[('Home', 'Reset original view', 'home', 'home'), ('Back', 'Back to previous …"
      ]
     },
     "metadata": {},
     "output_type": "display_data"
    },
    {
     "data": {
      "application/vnd.jupyter.widget-view+json": {
       "model_id": "aed9c42da4ab41178e02db8c4a71764d",
       "version_major": 2,
       "version_minor": 0
      },
      "text/plain": [
       "Canvas(toolbar=Toolbar(toolitems=[('Home', 'Reset original view', 'home', 'home'), ('Back', 'Back to previous …"
      ]
     },
     "metadata": {},
     "output_type": "display_data"
    },
    {
     "data": {
      "application/vnd.jupyter.widget-view+json": {
       "model_id": "fa2443833f7743f4be54c88120301c28",
       "version_major": 2,
       "version_minor": 0
      },
      "text/plain": [
       "Canvas(toolbar=Toolbar(toolitems=[('Home', 'Reset original view', 'home', 'home'), ('Back', 'Back to previous …"
      ]
     },
     "metadata": {},
     "output_type": "display_data"
    }
   ],
   "source": [
    "c_fig = Qplot.plot_param_images(options, fit_model, pixel_fit_params, \"c\")\n",
    "m_fig = Qplot.plot_param_images(options, fit_model, pixel_fit_params, \"m\")\n",
    "pos_fig = Qplot.plot_param_images(options, fit_model, pixel_fit_params, \"pos\")\n",
    "amp_fig = Qplot.plot_param_images(options, fit_model, pixel_fit_params, \"amp\")\n",
    "fwhm_fig = Qplot.plot_param_images(options, fit_model, pixel_fit_params, \"fwhm\")\n",
    "residual_fig = Qplot.plot_param_images(options, fit_model, pixel_fit_params, \"residual\")"
   ]
  },
  {
   "cell_type": "code",
   "execution_count": 10,
   "id": "addressed-forest",
   "metadata": {},
   "outputs": [
    {
     "data": {
      "application/vnd.jupyter.widget-view+json": {
       "model_id": "dd424327900e4006899264433590ea77",
       "version_major": 2,
       "version_minor": 0
      },
      "text/plain": [
       "Canvas(toolbar=Toolbar(toolitems=[('Home', 'Reset original view', 'home', 'home'), ('Back', 'Back to previous …"
      ]
     },
     "metadata": {},
     "output_type": "display_data"
    }
   ],
   "source": [
    "pos_sigma_plot = Qplot.plot_param_images(options, fit_model, sigmas, \"pos\", errorplot=True)"
   ]
  },
  {
   "cell_type": "markdown",
   "id": "equipped-cannon",
   "metadata": {},
   "source": [
    "### Initial guess and fit vs data (flattened)"
   ]
  },
  {
   "cell_type": "code",
   "execution_count": 11,
   "id": "arctic-conclusion",
   "metadata": {},
   "outputs": [
    {
     "data": {
      "application/vnd.jupyter.widget-view+json": {
       "model_id": "2c39bbee1533494c8ad4cf561a672e47",
       "version_major": 2,
       "version_minor": 0
      },
      "text/plain": [
       "Canvas(toolbar=Toolbar(toolitems=[('Home', 'Reset original view', 'home', 'home'), ('Back', 'Back to previous …"
      ]
     },
     "metadata": {},
     "output_type": "display_data"
    },
    {
     "data": {
      "application/vnd.jupyter.widget-view+json": {
       "model_id": "670b95312b3e47efb23e9becb9bd8bea",
       "version_major": 2,
       "version_minor": 0
      },
      "text/plain": [
       "Canvas(toolbar=Toolbar(toolitems=[('Home', 'Reset original view', 'home', 'home'), ('Back', 'Back to previous …"
      ]
     },
     "metadata": {},
     "output_type": "display_data"
    }
   ],
   "source": [
    "flat_pos_fig = Qplot.plot_params_flattened(options, fit_model, pixel_fit_params, wanted_roi_result, \"pos\", sigmas=sigmas, plot_bounds=False, plot_sigmas=False, errorevery=1000)\n",
    "flat_resid_fig = Qplot.plot_params_flattened(options, fit_model, pixel_fit_params, wanted_roi_result, \"residual\", sigmas=sigmas)"
   ]
  },
  {
   "cell_type": "markdown",
   "id": "noted-spectrum",
   "metadata": {},
   "source": [
    "### Field retrieval"
   ]
  },
  {
   "cell_type": "code",
   "execution_count": 12,
   "id": "guided-clearing",
   "metadata": {},
   "outputs": [
    {
     "data": {
      "application/vnd.jupyter.widget-view+json": {
       "model_id": "66aa4368d79c498cb160867c3ee6ae72",
       "version_major": 2,
       "version_minor": 0
      },
      "text/plain": [
       "  0%|          | 0/9216 [00:00<?, ? PX/s]"
      ]
     },
     "metadata": {},
     "output_type": "display_data"
    },
    {
     "data": {
      "application/vnd.jupyter.widget-view+json": {
       "model_id": "7075bf3f4ef840cab490e375723825be",
       "version_major": 2,
       "version_minor": 0
      },
      "text/plain": [
       "  0%|          | 0/9216 [00:00<?, ? PX/s]"
      ]
     },
     "metadata": {},
     "output_type": "display_data"
    }
   ],
   "source": [
    "field_res = Qfield.odmr_field_retrieval(options, pixel_fit_params, ref_fit_params)\n",
    "(sig_bnvs, ref_bnvs, bnvs), (sig_dshifts, ref_dshifts), (sig_params, ref_params, field_params), (sig_field_sigmas, ref_field_sigmas, field_sigmas) = field_res\n",
    "Qio.save_field_calcs(options, *field_res)"
   ]
  },
  {
   "cell_type": "code",
   "execution_count": 13,
   "id": "breathing-saying",
   "metadata": {},
   "outputs": [
    {
     "data": {
      "application/vnd.jupyter.widget-view+json": {
       "model_id": "169c6deb7d71484bb82a4992506c1f2f",
       "version_major": 2,
       "version_minor": 0
      },
      "text/plain": [
       "Canvas(toolbar=Toolbar(toolitems=[('Home', 'Reset original view', 'home', 'home'), ('Back', 'Back to previous …"
      ]
     },
     "metadata": {},
     "output_type": "display_data"
    },
    {
     "data": {
      "application/vnd.jupyter.widget-view+json": {
       "model_id": "e7bae70ccf18447786cd3196ca7ead01",
       "version_major": 2,
       "version_minor": 0
      },
      "text/plain": [
       "Canvas(toolbar=Toolbar(toolitems=[('Home', 'Reset original view', 'home', 'home'), ('Back', 'Back to previous …"
      ]
     },
     "metadata": {},
     "output_type": "display_data"
    },
    {
     "data": {
      "application/vnd.jupyter.widget-view+json": {
       "model_id": "8edde1277de84d68abf0fe1186d9913f",
       "version_major": 2,
       "version_minor": 0
      },
      "text/plain": [
       "Canvas(toolbar=Toolbar(toolitems=[('Home', 'Reset original view', 'home', 'home'), ('Back', 'Back to previous …"
      ]
     },
     "metadata": {},
     "output_type": "display_data"
    }
   ],
   "source": [
    "bnv_sig_plot = Qplot.plot_bnvs_and_dshifts(options, \"sig\", sig_bnvs, sig_dshifts)\n",
    "bnv_ref_plot = Qplot.plot_bnvs_and_dshifts(options, \"ref\", ref_bnvs, ref_dshifts)\n",
    "bnvs_plot = Qplot.plot_bnvs_and_dshifts(options, \"sig_sub_ref\", bnvs, [])"
   ]
  },
  {
   "cell_type": "code",
   "execution_count": 14,
   "id": "optimum-debut",
   "metadata": {},
   "outputs": [
    {
     "data": {
      "application/vnd.jupyter.widget-view+json": {
       "model_id": "b1b34d07290f47f6850d268226a5a6ba",
       "version_major": 2,
       "version_minor": 0
      },
      "text/plain": [
       "Canvas(toolbar=Toolbar(toolitems=[('Home', 'Reset original view', 'home', 'home'), ('Back', 'Back to previous …"
      ]
     },
     "metadata": {},
     "output_type": "display_data"
    },
    {
     "data": {
      "application/vnd.jupyter.widget-view+json": {
       "model_id": "5a949fefaf234e369b18532b8e6cf063",
       "version_major": 2,
       "version_minor": 0
      },
      "text/plain": [
       "Canvas(toolbar=Toolbar(toolitems=[('Home', 'Reset original view', 'home', 'home'), ('Back', 'Back to previous …"
      ]
     },
     "metadata": {},
     "output_type": "display_data"
    },
    {
     "data": {
      "application/vnd.jupyter.widget-view+json": {
       "model_id": "e5f711cf330e438ea3dc86d6da2d26dd",
       "version_major": 2,
       "version_minor": 0
      },
      "text/plain": [
       "Canvas(toolbar=Toolbar(toolitems=[('Home', 'Reset original view', 'home', 'home'), ('Back', 'Back to previous …"
      ]
     },
     "metadata": {},
     "output_type": "display_data"
    },
    {
     "data": {
      "application/vnd.jupyter.widget-view+json": {
       "model_id": "d4afa6cdeae14a43ac2016375d713640",
       "version_major": 2,
       "version_minor": 0
      },
      "text/plain": [
       "Canvas(toolbar=Toolbar(toolitems=[('Home', 'Reset original view', 'home', 'home'), ('Back', 'Back to previous …"
      ]
     },
     "metadata": {},
     "output_type": "display_data"
    }
   ],
   "source": [
    "bfield_sig_plot = Qplot.plot_bfield(options, \"sig\", sig_params)\n",
    "bfield_ref_plot = Qplot.plot_bfield(options, \"ref\", ref_params)\n",
    "bfield_plot = Qplot.plot_bfield(options, \"sig_sub_ref\", field_params)\n",
    "bfield_bground_plot = Qplot.plot_bfield(options, \"bground\", field_params)"
   ]
  },
  {
   "cell_type": "code",
   "execution_count": 15,
   "id": "premier-palestinian",
   "metadata": {},
   "outputs": [
    {
     "data": {
      "application/vnd.jupyter.widget-view+json": {
       "model_id": "6c0bc972dcb241d185f44f530368a443",
       "version_major": 2,
       "version_minor": 0
      },
      "text/plain": [
       "Canvas(toolbar=Toolbar(toolitems=[('Home', 'Reset original view', 'home', 'home'), ('Back', 'Back to previous …"
      ]
     },
     "metadata": {},
     "output_type": "display_data"
    },
    {
     "data": {
      "application/vnd.jupyter.widget-view+json": {
       "model_id": "bae1924f01df466b8b47adf6f5f97549",
       "version_major": 2,
       "version_minor": 0
      },
      "text/plain": [
       "Canvas(toolbar=Toolbar(toolitems=[('Home', 'Reset original view', 'home', 'home'), ('Back', 'Back to previous …"
      ]
     },
     "metadata": {},
     "output_type": "display_data"
    }
   ],
   "source": [
    "D_sig_plot = Qplot.plot_dshift_fit(options, \"sig\", sig_params)\n",
    "D_ref_plot = Qplot.plot_dshift_fit(options, \"ref\", ref_params)"
   ]
  },
  {
   "cell_type": "code",
   "execution_count": 16,
   "id": "active-begin",
   "metadata": {},
   "outputs": [
    {
     "data": {
      "application/vnd.jupyter.widget-view+json": {
       "model_id": "d5aece552e9947549ab8e35bc4eb3099",
       "version_major": 2,
       "version_minor": 0
      },
      "text/plain": [
       "Canvas(toolbar=Toolbar(toolitems=[('Home', 'Reset original view', 'home', 'home'), ('Back', 'Back to previous …"
      ]
     },
     "metadata": {},
     "output_type": "display_data"
    }
   ],
   "source": [
    "Bx_fit_flat_plot = Qplot.plot_field_param_flattened(options, \"sig\", \"Bx\", sig_params, sigmas=sig_field_sigmas, y_label=\"B (G)\", errorevery=1000)"
   ]
  },
  {
   "cell_type": "markdown",
   "id": "dynamic-audience",
   "metadata": {},
   "source": [
    "### Save and (optionally) view options dict"
   ]
  },
  {
   "cell_type": "code",
   "execution_count": 17,
   "id": "funky-boundary",
   "metadata": {},
   "outputs": [],
   "source": [
    "Qio.save_options(options)\n",
    "# print(Qio.dict_to_json_str(options))"
   ]
  }
 ],
 "metadata": {
  "kernelspec": {
   "display_name": "Python 3",
   "language": "python",
   "name": "python3"
  },
  "language_info": {
   "codemirror_mode": {
    "name": "ipython",
    "version": 3
   },
   "file_extension": ".py",
   "mimetype": "text/x-python",
   "name": "python",
   "nbconvert_exporter": "python",
   "pygments_lexer": "ipython3",
   "version": "3.8.8"
  },
  "toc-autonumbering": false,
  "toc-showtags": false,
  "widgets": {
   "application/vnd.jupyter.widget-state+json": {
    "state": {},
    "version_major": 2,
    "version_minor": 0
   }
  }
 },
 "nbformat": 4,
 "nbformat_minor": 5
}
