{
 "cells": [
  {
   "cell_type": "code",
   "execution_count": 1,
   "id": "grave-scheme",
   "metadata": {
    "slideshow": {
     "slide_type": "slide"
    }
   },
   "outputs": [],
   "source": [
    "import QDMPy.io as Qio\n",
    "import QDMPy.fit as Qfit\n",
    "import QDMPy.plot as Qplot\n",
    "import QDMPy.bfield as Qbfield\n",
    "\n",
    "import matplotlib\n",
    "import matplotlib.pyplot as plt\n",
    "import warnings"
   ]
  },
  {
   "cell_type": "code",
   "execution_count": 2,
   "id": "hydraulic-armenia",
   "metadata": {},
   "outputs": [],
   "source": [
    "# '%matplotlib widget' allows interactive plots in jupyterlab\n",
    "# use ''%matplotlib inline' to allow export to pdf\n",
    "%matplotlib widget"
   ]
  },
  {
   "cell_type": "markdown",
   "id": "scenic-tract",
   "metadata": {},
   "source": [
    "### Load raw data"
   ]
  },
  {
   "cell_type": "code",
   "execution_count": 3,
   "id": "provincial-upper",
   "metadata": {},
   "outputs": [],
   "source": [
    "options_dict = {\n",
    "    # Argus: C:\\\\src\\\\QDMPY_test_image\n",
    "    # Sam: /home/samsc/ResearchData/test_images/\n",
    "    \"base_dir\": \"/home/samsc/ResearchData/test_images/\",\n",
    "    \"filepath\": \"ODMR - Pulsed_42\",\n",
    "    \n",
    "    \"additional_bins\": 8,\n",
    "\n",
    "    \"system_name\": \"Zyla\",\n",
    "\n",
    "    \"ROI\": \"Full\", \n",
    "    \"ROI_start\": [10, 10],\n",
    "    \"ROI_end\": [200,200],\n",
    "    \n",
    "    \"AOI_1_start\": [60, 145],\n",
    "    \"AOI_1_end\": [70, 155], \n",
    "    \"AOI_2_start\": [20, 20],\n",
    "    \"AOI_2_end\": [24, 24], \n",
    "    \"AOI_3_start\": [30, 20],\n",
    "    \"AOI_3_end\": [32, 24], \n",
    "    \"single_pixel_check\": [90, 150],\n",
    "\n",
    "    \"normalisation\": \"div\",\n",
    "    \n",
    "    \"fit_backend\": \"scipyfit\",\n",
    "    \"fit_backend_comparison\": [\"scipyfit\"],\n",
    "    \"fit_pixels\": True, \n",
    "    \"force_fit\": False, \n",
    "    \n",
    "    \"use_ROI_avg_fit_res_for_all_pixels\": True,\n",
    "    \n",
    "    \"scipy_sub_threads\": 2, \n",
    "\n",
    "    \"fit_functions\":  {\"linear\": 1, \"lorentzian\": 8},\n",
    "\n",
    "#     \"pos_guess\": [2610, 2708, 2805, 2879, 2953, 3020, 3092, 3145], # ODMR 83\n",
    "    \"pos_guess\": [2631, 2723, 2787, 2866, 2955, 3022, 3066, 3130], # ODMR 42\n",
    "    \"pos_range\": 25,\n",
    "\n",
    "    \"amp_guess\": -0.02,\n",
    "    \"amp_bounds\": [-0.0300, -0.0003],\n",
    "\n",
    "    \"fwhm_guess\": 9,\n",
    "    \"fwhm_bounds\": [5, 20],\n",
    "    \n",
    "    \"c_guess\": 1,\n",
    "    \"c_bounds\": [0.9995, 1.0005],\n",
    "\n",
    "    \"m_guess\": 0,\n",
    "    \"m_bounds\": [-1e-6, 1e-6],\n",
    "\n",
    "    \"gpufit_tolerance\": 1e-12,\n",
    "    \"gpufit_max_iterations\": 25,\n",
    "    \"gpufit_estimator_id\": \"LSE\"\n",
    "}"
   ]
  },
  {
   "cell_type": "code",
   "execution_count": 4,
   "id": "collective-newfoundland",
   "metadata": {},
   "outputs": [
    {
     "name": "stderr",
     "output_type": "stream",
     "text": [
      "/home/samsc/src/nv/QDMPy_proj/QDMPy_git/QDMPy/systems.py:400: UserWarning: Option scipy_sub_threads was not recognised by the Zyla system.\n",
      "  warnings.warn(f\"Option {key} was not recognised by the {system.name} system.\")\n"
     ]
    },
    {
     "data": {
      "application/vnd.jupyter.widget-view+json": {
       "model_id": "5b31aa8c5ba84d3285974118dba3089b",
       "version_major": 2,
       "version_minor": 0
      },
      "text/plain": [
       "Canvas(toolbar=Toolbar(toolitems=[('Home', 'Reset original view', 'home', 'home'), ('Back', 'Back to previous …"
      ]
     },
     "metadata": {},
     "output_type": "display_data"
    },
    {
     "data": {
      "application/vnd.jupyter.widget-view+json": {
       "model_id": "ba14d3cada084c758c081b938d836783",
       "version_major": 2,
       "version_minor": 0
      },
      "text/plain": [
       "Canvas(toolbar=Toolbar(toolitems=[('Home', 'Reset original view', 'home', 'home'), ('Back', 'Back to previous …"
      ]
     },
     "metadata": {},
     "output_type": "display_data"
    },
    {
     "data": {
      "application/vnd.jupyter.widget-view+json": {
       "model_id": "5f72ed794e0a431dace3079f02456005",
       "version_major": 2,
       "version_minor": 0
      },
      "text/plain": [
       "Canvas(toolbar=Toolbar(toolitems=[('Home', 'Reset original view', 'home', 'home'), ('Back', 'Back to previous …"
      ]
     },
     "metadata": {},
     "output_type": "display_data"
    }
   ],
   "source": [
    "options = Qio.load_options(options_dict=options_dict, check_for_prev_result=True)\n",
    "Qplot.set_mpl_rcparams(options)\n",
    "image, prelim_sweep_list = Qio.load_image_and_sweep(options)\n",
    "PL_image, PL_image_ROI, sig, ref, sig_norm, single_pixel_pl, sweep_list = Qio.reshape_dataset(\n",
    "        options, image, prelim_sweep_list\n",
    "    )\n",
    "Qplot.plot_ROI_PL_image(options, PL_image)\n",
    "\n",
    "Qplot.plot_AOI_PL_images(options, PL_image_ROI)\n",
    "\n",
    "Qplot.plot_AOI_spectra(options, sig, ref, sweep_list)\n",
    "\n",
    "Qio.save_PL_data(options, PL_image, PL_image_ROI)"
   ]
  },
  {
   "cell_type": "markdown",
   "id": "sublime-presence",
   "metadata": {},
   "source": [
    "### Fit AOI, ROI averages, single pixel"
   ]
  },
  {
   "cell_type": "code",
   "execution_count": 5,
   "id": "horizontal-guest",
   "metadata": {},
   "outputs": [
    {
     "name": "stderr",
     "output_type": "stream",
     "text": [
      "/home/samsc/src/nv/QDMPy_proj/QDMPy_git/QDMPy/fit/_scipyfit.py:36: TqdmExperimentalWarning: Using `tqdm.autonotebook.tqdm` in notebook mode. Use `tqdm.tqdm` instead to force console mode (e.g. in jupyter console)\n",
      "  from tqdm.autonotebook import tqdm  # auto detects jupyter\n"
     ]
    },
    {
     "data": {
      "application/vnd.jupyter.widget-view+json": {
       "model_id": "22ece5d8841846cb86a453bcfa0f6f85",
       "version_major": 2,
       "version_minor": 0
      },
      "text/plain": [
       "Canvas(toolbar=Toolbar(toolitems=[('Home', 'Reset original view', 'home', 'home'), ('Back', 'Back to previous …"
      ]
     },
     "metadata": {},
     "output_type": "display_data"
    },
    {
     "data": {
      "application/vnd.jupyter.widget-view+json": {
       "model_id": "b589bf82604241609fd2eab481863ebf",
       "version_major": 2,
       "version_minor": 0
      },
      "text/plain": [
       "Canvas(toolbar=Toolbar(toolitems=[('Home', 'Reset original view', 'home', 'home'), ('Back', 'Back to previous …"
      ]
     },
     "metadata": {},
     "output_type": "display_data"
    }
   ],
   "source": [
    "fit_model = Qfit.define_fit_model(options)\n",
    "backend_ROI_results_lst = Qfit.fit_ROI_avg(options, sig_norm, sweep_list, fit_model)\n",
    "Qplot.plot_ROI_avg_fits(options, backend_ROI_results_lst)\n",
    "\n",
    "fit_result_collection_lst = Qfit.fit_AOIs(options, sig_norm, single_pixel_pl, sweep_list, fit_model, backend_ROI_results_lst)\n",
    "Qplot.plot_AOI_spectra_fit(options, sig, ref, sweep_list, fit_result_collection_lst, fit_model)"
   ]
  },
  {
   "cell_type": "markdown",
   "id": "adjusted-diagnosis",
   "metadata": {},
   "source": [
    "### Fit pixels"
   ]
  },
  {
   "cell_type": "code",
   "execution_count": 6,
   "id": "virtual-identification",
   "metadata": {},
   "outputs": [
    {
     "data": {
      "application/vnd.jupyter.widget-view+json": {
       "model_id": "84d869a782304c75a51c0e4c77919be9",
       "version_major": 2,
       "version_minor": 0
      },
      "text/plain": [
       "  0%|          | 0/21600 [00:00<?, ? PX/s]"
      ]
     },
     "metadata": {},
     "output_type": "display_data"
    }
   ],
   "source": [
    "if options[\"found_prev_result\"]:\n",
    "    pixel_fit_params = Qfit.load_prev_fit_results(options)\n",
    "    warnings.warn(\"Plotting previous fit results.\")\n",
    "elif options[\"fit_pixels\"]:\n",
    "    pixel_fit_params = Qfit.fit_pixels(options, sig_norm, sweep_list, fit_model, backend_ROI_results_lst[0])\n",
    "else:\n",
    "    pixel_fit_params = None # not fitting pixels, this stops plotting (e.g. via plot_param_images) from erroring\n",
    "\n",
    "Qio.save_pixel_fit_results(options, pixel_fit_params)"
   ]
  },
  {
   "cell_type": "markdown",
   "id": "irish-documentation",
   "metadata": {},
   "source": [
    "### Plot (fit) parameters"
   ]
  },
  {
   "cell_type": "code",
   "execution_count": 7,
   "id": "smoking-pottery",
   "metadata": {},
   "outputs": [
    {
     "data": {
      "application/vnd.jupyter.widget-view+json": {
       "model_id": "f00e35f1bf234f90a401cbc6718fdca2",
       "version_major": 2,
       "version_minor": 0
      },
      "text/plain": [
       "Canvas(toolbar=Toolbar(toolitems=[('Home', 'Reset original view', 'home', 'home'), ('Back', 'Back to previous …"
      ]
     },
     "metadata": {},
     "output_type": "display_data"
    },
    {
     "data": {
      "application/vnd.jupyter.widget-view+json": {
       "model_id": "84c9c70b3ed44dbc8b330eab4c31ee58",
       "version_major": 2,
       "version_minor": 0
      },
      "text/plain": [
       "Canvas(toolbar=Toolbar(toolitems=[('Home', 'Reset original view', 'home', 'home'), ('Back', 'Back to previous …"
      ]
     },
     "metadata": {},
     "output_type": "display_data"
    },
    {
     "data": {
      "application/vnd.jupyter.widget-view+json": {
       "model_id": "a0288b4c14204814b2a9d9c710d94395",
       "version_major": 2,
       "version_minor": 0
      },
      "text/plain": [
       "Canvas(toolbar=Toolbar(toolitems=[('Home', 'Reset original view', 'home', 'home'), ('Back', 'Back to previous …"
      ]
     },
     "metadata": {},
     "output_type": "display_data"
    },
    {
     "data": {
      "application/vnd.jupyter.widget-view+json": {
       "model_id": "fdd2d9146cbd4c9b8f78abeeb24d1070",
       "version_major": 2,
       "version_minor": 0
      },
      "text/plain": [
       "Canvas(toolbar=Toolbar(toolitems=[('Home', 'Reset original view', 'home', 'home'), ('Back', 'Back to previous …"
      ]
     },
     "metadata": {},
     "output_type": "display_data"
    },
    {
     "data": {
      "application/vnd.jupyter.widget-view+json": {
       "model_id": "ae0d2a1c52654628a5832272dab535a3",
       "version_major": 2,
       "version_minor": 0
      },
      "text/plain": [
       "Canvas(toolbar=Toolbar(toolitems=[('Home', 'Reset original view', 'home', 'home'), ('Back', 'Back to previous …"
      ]
     },
     "metadata": {},
     "output_type": "display_data"
    }
   ],
   "source": [
    "Qplot.plot_param_images(options, fit_model, pixel_fit_params, \"c\")\n",
    "Qplot.plot_param_images(options, fit_model, pixel_fit_params, \"m\")\n",
    "Qplot.plot_param_images(options, fit_model, pixel_fit_params, \"pos\")\n",
    "Qplot.plot_param_images(options, fit_model, pixel_fit_params, \"amp\")\n",
    "Qplot.plot_param_images(options, fit_model, pixel_fit_params, \"fwhm\")"
   ]
  },
  {
   "cell_type": "markdown",
   "id": "subjective-operations",
   "metadata": {},
   "source": [
    "### Load reference experiment - note, you can fit in this same notebook!"
   ]
  },
  {
   "cell_type": "code",
   "execution_count": null,
   "id": "automotive-butter",
   "metadata": {},
   "outputs": [],
   "source": [
    "ref_options_dir = None # if you want to use a reference experiment\n",
    "ref_fit_params = Qio.load_reference_experiment_fit_results(options, ref_options=None, ref_options_dir=ref_options_dir)"
   ]
  },
  {
   "cell_type": "markdown",
   "id": "backed-shower",
   "metadata": {},
   "source": [
    "### Calculate B_nvs, subtract reference"
   ]
  },
  {
   "cell_type": "code",
   "execution_count": null,
   "id": "convertible-possible",
   "metadata": {},
   "outputs": [],
   "source": [
    "sig_bnvs, sig_dshifts = Qbfield.get_bnvs_and_dshifts(pixel_fit_params)\n",
    "ref_bnvs, ref_dshifts = Qbfield.get_bnvs_and_dshifts(ref_fit_params)\n",
    "\n",
    "# TODO other bsubs e.g. subtract_blurred, subtract_outside_polygons etc. should be defined on any 2D array, do that later\n",
    "bnvs = Qbfield.bnv_refsub(options, sig_bnvs, ref_bnvs)\n",
    "\n",
    "Qio.save_bnvs_and_dshifts(options, \"sig\", sig_bnvs, sig_dshifts)\n",
    "Qio.save_bnvs_and_dshifts(options, \"sig_sub_ref\", bnvs, None)\n",
    "\n",
    "Qplot.plot_bnvs_and_dshifts(options, \"sig\", sig_bnvs, sig_dshifts)\n",
    "Qplot.plot_bnvs_and_dshifts(options, \"ref\", ref_bnvs, ref_dshifts)\n",
    "Qplot.plot_bnvs_and_dshifts(options, \"sig_sub_ref\", bnvs, [])"
   ]
  },
  {
   "cell_type": "markdown",
   "id": "pressing-fisher",
   "metadata": {},
   "source": [
    "### Save and view options dict"
   ]
  },
  {
   "cell_type": "code",
   "execution_count": 8,
   "id": "annual-palestine",
   "metadata": {},
   "outputs": [
    {
     "data": {
      "text/plain": [
       "{'base_dir': '/home/samsc/ResearchData/test_images/',\n",
       " 'filepath': '/home/samsc/ResearchData/test_images/ODMR - Pulsed_42',\n",
       " 'custom_output_dir_prefix': None,\n",
       " 'custom_output_dir_suffix': None,\n",
       " 'custom_output_dir': None,\n",
       " 'raw_pixel_size': 2.44140625e-07,\n",
       " 'ignore_ref': False,\n",
       " 'additional_bins': 8,\n",
       " 'old_binning_convention': False,\n",
       " 'system_name': 'Zyla',\n",
       " 'ROI': 'Full',\n",
       " 'ROI_start': [10, 10],\n",
       " 'ROI_end': [200, 200],\n",
       " 'remove_start_sweep': 1,\n",
       " 'remove_end_sweep': 0,\n",
       " 'normalisation': 'div',\n",
       " 'single_pixel_check': [90, 150],\n",
       " 'AOI_1_start': (60, 145),\n",
       " 'AOI_1_end': (70, 155),\n",
       " 'AOI_2_start': (20, 20),\n",
       " 'AOI_2_end': (24, 24),\n",
       " 'AOI_3_start': (30, 20),\n",
       " 'AOI_3_end': (32, 24),\n",
       " 'AOI_4_start': None,\n",
       " 'AOI_4_end': None,\n",
       " 'AOI_5_start': None,\n",
       " 'AOI_5_end': None,\n",
       " 'fit_backend': 'scipyfit',\n",
       " 'fit_backend_comparison': ['scipyfit'],\n",
       " 'force_fit': True,\n",
       " 'fit_pixels': True,\n",
       " 'scramble_pixels': True,\n",
       " 'use_ROI_avg_fit_res_for_all_pixels': True,\n",
       " 'fit_functions': {'linear': 1, 'lorentzian': 8},\n",
       " 'pos_guess': [2631, 2723, 2787, 2866, 2955, 3022, 3066, 3130],\n",
       " 'pos_range': 25,\n",
       " 'amp_guess': -0.02,\n",
       " 'amp_bounds': [-0.03, -0.0003],\n",
       " 'fwhm_guess': 9,\n",
       " 'fwhm_bounds': [5, 20],\n",
       " 'pos_gauss_guess': None,\n",
       " 'pos_gauss_range': 25,\n",
       " 'amp_gauss_guess': -0.0015,\n",
       " 'amp_gauss_bounds': [-0.01, -0.0003],\n",
       " 'fwhm_gauss_guess': -0.0015,\n",
       " 'fwhm_gauss_bounds': [5, 20],\n",
       " 'c_guess': 1,\n",
       " 'c_bounds': [0.9995, 1.0005],\n",
       " 'm_guess': 0,\n",
       " 'm_bounds': [-1e-06, 1e-06],\n",
       " 'constant_guess': 1,\n",
       " 'constant_bounds': [0.9995, 1.0005],\n",
       " 'rabi_freq_guess': None,\n",
       " 'rabi_freq_bounds': [None, None],\n",
       " 'pos_circ_guess': None,\n",
       " 'pos_circ_bounds': [None, None],\n",
       " 'amp_circ_guess': None,\n",
       " 'amp_circ_bounds': [None, None],\n",
       " 'pos_h14_guess': None,\n",
       " 'pos_h15_guess': None,\n",
       " 'pos_h14_range': 25,\n",
       " 'pos_h15_range': 25,\n",
       " 'amp_h15_hyp_1_guess': -0.015,\n",
       " 'amp_h15_hyp_2_guess': -0.015,\n",
       " 'amp_h15_hyp_1_bounds': [-0.1, -0.001],\n",
       " 'amp_h15_hyp_2_bounds': [-0.1, -0.001],\n",
       " 'amp_h14_hyp_1_guess': -0.015,\n",
       " 'amp_h14_hyp_2_guess': -0.015,\n",
       " 'amp_h14_hyp_3_guess': -0.015,\n",
       " 'amp_h14_hyp_1_bounds': [-0.1, -0.001],\n",
       " 'amp_h14_hyp_2_bounds': [-0.1, -0.001],\n",
       " 'amp_h14_hyp_3_bounds': [-0.1, -0.001],\n",
       " 'fwhm_h15_hyp_1_guess': -0.015,\n",
       " 'fwhm_h15_hyp_2_guess': -0.015,\n",
       " 'fwhm_h15_hyp_1_bounds': [-0.1, -0.001],\n",
       " 'fwhm_h15_hyp_2_bounds': [-0.1, -0.001],\n",
       " 'fwhm_h14_hyp_1_guess': -0.015,\n",
       " 'fwhm_h14_hyp_2_guess': -0.015,\n",
       " 'fwhm_h14_hyp_3_guess': -0.015,\n",
       " 'power_exp_guess': 0.7,\n",
       " 'power_exp_bounds': [0.5, 1.0],\n",
       " 'charac_exp_t_guess': 0.001,\n",
       " 'charac_exp_t_bounds': [0.0001, 0.03],\n",
       " 'amp_exp_guess': -0.07,\n",
       " 'amp_exp_bounds': [-0.001, -0.2],\n",
       " 'scipyfit_fit_method': 'trf',\n",
       " 'scipyfit_sub_threads': 0,\n",
       " 'scipyfit_show_progressbar': True,\n",
       " 'scipyfit_use_analytic_jac': True,\n",
       " 'scipyfit_verbose_fitting': 0,\n",
       " 'scipyfit_fit_jac_acc': '2-point',\n",
       " 'scipyfit_fit_gtol': 1e-12,\n",
       " 'scipyfit_fit_xtol': 1e-12,\n",
       " 'scipyfit_fit_ftol': 1e-12,\n",
       " 'scipyfit_scale_x': True,\n",
       " 'scipyfit_loss_fn': 'linear',\n",
       " 'gpufit_tolerance': 1e-12,\n",
       " 'gpufit_max_iterations': 25,\n",
       " 'gpufit_estimator_id': 'LSE',\n",
       " 'save_plots': True,\n",
       " 'show_scalebar': True,\n",
       " 'annotate_image_regions': True,\n",
       " 'save_fig_type': 'png',\n",
       " 'colormaps': defaultdict(<function QDMPy.io.json2dict.defaultdict_from_d.<locals>.<lambda>()>,\n",
       "             {'param_images': 'viridis', 'PL_images': 'Greys_r'}),\n",
       " 'colormap_range_dicts': defaultdict(<function QDMPy.io.json2dict.defaultdict_from_d.<locals>.<lambda>()>,\n",
       "             {'param_images': defaultdict(<function QDMPy.io.json2dict.defaultdict_from_d.<locals>.<lambda>()>,\n",
       "                          {'type': '_min_max_symmetric_about_mean'}),\n",
       "              'PL_images': defaultdict(<function QDMPy.io.json2dict.defaultdict_from_d.<locals>.<lambda>()>,\n",
       "                          {'type': '_min_max'})}),\n",
       " 'mpl_rcparams': defaultdict(<function QDMPy.io.json2dict.defaultdict_from_d.<locals>.<lambda>()>,\n",
       "             {'figure.figsize': [6.4, 4.8],\n",
       "              'figure.dpi': 80,\n",
       "              'lines.linewidth': 0.8,\n",
       "              'lines.markersize': 3,\n",
       "              'xtick.labelsize': 10,\n",
       "              'xtick.major.size': 4,\n",
       "              'xtick.direction': 'in',\n",
       "              'ytick.labelsize': 10,\n",
       "              'ytick.direction': 'in',\n",
       "              'ytick.major.size': 4,\n",
       "              'legend.fontsize': 'small',\n",
       "              'legend.loc': 'lower left',\n",
       "              'scalebar.location': 'lower right',\n",
       "              'scalebar.height_fraction': 0.015,\n",
       "              'scalebar.box_alpha': 0.5,\n",
       "              'scalebar.scale_loc': 'top',\n",
       "              'scalebar.sep': 1}),\n",
       " 'AOI_colors': ['blue',\n",
       "  'tab:brown',\n",
       "  'purple',\n",
       "  'darkslategrey',\n",
       "  'magenta',\n",
       "  'olive',\n",
       "  'cyan'],\n",
       " 'fit_backend_colors': defaultdict(<function QDMPy.io.json2dict.defaultdict_from_d.<locals>.<lambda>()>,\n",
       "             {'scipyfit': defaultdict(<function QDMPy.io.json2dict.defaultdict_from_d.<locals>.<lambda>()>,\n",
       "                          {'roifit_linecolor': 'mediumblue',\n",
       "                           'residual_linecolor': 'black',\n",
       "                           'aoi_roi_fit_linecolor': 'indigo',\n",
       "                           'aoi_best_fit_linecolor': 'crimson'}),\n",
       "              'gpufit': defaultdict(<function QDMPy.io.json2dict.defaultdict_from_d.<locals>.<lambda>()>,\n",
       "                          {'roifit_linecolor': 'cornflowerblue',\n",
       "                           'residual_linecolor': 'dimgrey',\n",
       "                           'aoi_roi_fit_linecolor': 'mediumpurple',\n",
       "                           'aoi_best_fit_linecolor': 'coral'})}),\n",
       " 'cleaned': True,\n",
       " 'system': <QDMPy.systems.Zyla at 0x7fc6655b41f0>,\n",
       " 'used_ref': True,\n",
       " 'metadata': {'ImageSizeBytes': 11059200.0,\n",
       "  'Binning': 1.0,\n",
       "  'PixelEncoding': ' Mono16',\n",
       "  'AOIStride': 5120.0,\n",
       "  'AOIWidth': 1280.0,\n",
       "  'AOIHeight': 1080.0,\n",
       "  'Includes 2x2 software binning': ' TRUE ',\n",
       "  'CCD shutter': ' Global',\n",
       "  'Exposure time': 5.0,\n",
       "  'Laser pulse duration (s)': 1.0,\n",
       "  'Laser to MW wait time (s)': 1.0,\n",
       "  'Measurement': 1.0,\n",
       "  'Measurement protocol': 1.0,\n",
       "  'Microwave power (dBm)': -1.0,\n",
       "  'Probe frequency (MHz)': 2.0,\n",
       "  'pi time (s)': 2.0,\n",
       "  'pi/2 time (s)': 1.0,\n",
       "  'MW2 power (dBm)': -4.0,\n",
       "  'MW2 probe frequency (MHz)': 1.0,\n",
       "  'MW2 probe time (s)': 3.0,\n",
       "  'MW2 pi time (s)': 2.0,\n",
       "  'Current on/off': ' TRUE',\n",
       "  'Voltage (V)': 1.0,\n",
       "  'Current (A)': 8.0,\n",
       "  'Resistance (ohm)': 2.0,\n",
       "  '# of pi pulses': 1.0,\n",
       "  'NMR tau': 3.0,\n",
       "  'NMR tau 2': 2.0,\n",
       "  '# of pi pulses 2': 6.0,\n",
       "  '# of pol N': 1.0,\n",
       "  '# of read out pulses': 4.0,\n",
       "  '# of read out pulses 2': 1.0,\n",
       "  '# of prepol N': 1.0,\n",
       "  'Mag on/off': ' FALSE',\n",
       "  'Field Strength (G)': 1970.0,\n",
       "  'Theta (deg)': 55.0,\n",
       "  'Phi (def)': 90.0,\n",
       "  '# of completed sweeps': 6.0,\n",
       "  'Time stamp': ' 20-06-21'},\n",
       " 'threads': 6,\n",
       " 'rebinned_image_shape': (160, 135),\n",
       " 'reloaded_prev_fit': None,\n",
       " 'found_prev_result': None,\n",
       " 'output_dir': PurePosixPath('/home/samsc/ResearchData/test_images/ODMR - Pulsed_42_processed_bin_8'),\n",
       " 'data_dir': PurePosixPath('/home/samsc/ResearchData/test_images/ODMR - Pulsed_42_processed_bin_8/data'),\n",
       " 'fit_param_defn': OrderedDict([('c_0', 'Amplitude (a.u.)'),\n",
       "              ('m_0', 'Amplitude per Freq (a.u.)'),\n",
       "              ('fwhm_0', 'Freq (MHz)'),\n",
       "              ('pos_0', 'Freq (MHz)'),\n",
       "              ('amp_0', 'Amp (a.u.)'),\n",
       "              ('fwhm_1', 'Freq (MHz)'),\n",
       "              ('pos_1', 'Freq (MHz)'),\n",
       "              ('amp_1', 'Amp (a.u.)'),\n",
       "              ('fwhm_2', 'Freq (MHz)'),\n",
       "              ('pos_2', 'Freq (MHz)'),\n",
       "              ('amp_2', 'Amp (a.u.)'),\n",
       "              ('fwhm_3', 'Freq (MHz)'),\n",
       "              ('pos_3', 'Freq (MHz)'),\n",
       "              ('amp_3', 'Amp (a.u.)'),\n",
       "              ('fwhm_4', 'Freq (MHz)'),\n",
       "              ('pos_4', 'Freq (MHz)'),\n",
       "              ('amp_4', 'Amp (a.u.)'),\n",
       "              ('fwhm_5', 'Freq (MHz)'),\n",
       "              ('pos_5', 'Freq (MHz)'),\n",
       "              ('amp_5', 'Amp (a.u.)'),\n",
       "              ('fwhm_6', 'Freq (MHz)'),\n",
       "              ('pos_6', 'Freq (MHz)'),\n",
       "              ('amp_6', 'Amp (a.u.)'),\n",
       "              ('fwhm_7', 'Freq (MHz)'),\n",
       "              ('pos_7', 'Freq (MHz)'),\n",
       "              ('amp_7', 'Amp (a.u.)')]),\n",
       " 'total_bin': 8,\n",
       " 'original_bin': 1,\n",
       " 'ModelID': None,\n",
       " 'CUDA_version_runtime': None,\n",
       " 'CUDA_version_driver': None,\n",
       " 'fit_time_(s)': 211.067179,\n",
       " 'scipy_sub_threads': 2}"
      ]
     },
     "execution_count": 8,
     "metadata": {},
     "output_type": "execute_result"
    }
   ],
   "source": [
    "Qio.save_options(options)\n",
    "options"
   ]
  }
 ],
 "metadata": {
  "kernelspec": {
   "display_name": "Python 3",
   "language": "python",
   "name": "python3"
  },
  "language_info": {
   "codemirror_mode": {
    "name": "ipython",
    "version": 3
   },
   "file_extension": ".py",
   "mimetype": "text/x-python",
   "name": "python",
   "nbconvert_exporter": "python",
   "pygments_lexer": "ipython3",
   "version": "3.8.6"
  },
  "toc-autonumbering": false,
  "toc-showtags": false,
  "widgets": {
   "application/vnd.jupyter.widget-state+json": {
    "state": {},
    "version_major": 2,
    "version_minor": 0
   }
  }
 },
 "nbformat": 4,
 "nbformat_minor": 5
}
