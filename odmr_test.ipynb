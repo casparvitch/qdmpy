{
 "cells": [
  {
   "cell_type": "code",
   "execution_count": 1,
   "id": "surprised-sympathy",
   "metadata": {
    "slideshow": {
     "slide_type": "slide"
    }
   },
   "outputs": [],
   "source": [
    "import QDMPy.io as Qio\n",
    "import QDMPy.fit as Qfit\n",
    "import QDMPy.plot as Qplot\n",
    "import QDMPy.field as Qfield\n",
    "\n",
    "import matplotlib\n",
    "import matplotlib.pyplot as plt\n",
    "import warnings"
   ]
  },
  {
   "cell_type": "code",
   "execution_count": 2,
   "id": "separate-solomon",
   "metadata": {},
   "outputs": [],
   "source": [
    "# '%matplotlib widget' allows interactive plots in jupyterlab\n",
    "# use ''%matplotlib inline' to allow export to pdf\n",
    "%matplotlib widget"
   ]
  },
  {
   "cell_type": "markdown",
   "id": "solved-stack",
   "metadata": {},
   "source": [
    "### Load raw data"
   ]
  },
  {
   "cell_type": "code",
   "execution_count": 3,
   "id": "laden-northwest",
   "metadata": {},
   "outputs": [],
   "source": [
    "options_dict = {\n",
    "    # Argus: C:\\\\src\\\\QDMPY_test_image\n",
    "    # Sam: /home/samsc/ResearchData/test_images/\n",
    "    \"base_dir\": \"/home/samsc/ResearchData/test_images/\",\n",
    "    \"filepath\": \"ODMR - Pulsed_42\",\n",
    "    \"custom_output_dir_suffix\": \"_{ROI}\",\n",
    "    \n",
    "    \"additional_bins\": 8,\n",
    "\n",
    "    \"system_name\": \"Zyla\",\n",
    "\n",
    "    \"ROI\": \"Full\", \n",
    "    \"ROI_start\": [10, 30],\n",
    "    \"ROI_end\": [20,40],\n",
    "    \n",
    "    \"AOI_1_start\": [60, 145],\n",
    "    \"AOI_1_end\": [70, 155], \n",
    "    \"AOI_2_start\": [20, 20],\n",
    "    \"AOI_2_end\": [24, 24], \n",
    "    \"AOI_3_start\": [30, 20],\n",
    "    \"AOI_3_end\": [32, 24], \n",
    "    \"single_pixel_check\": [90, 150],\n",
    "\n",
    "    \"normalisation\": \"div\",\n",
    "    \n",
    "    \"fit_backend\": \"scipyfit\",\n",
    "    \"fit_backend_comparison\": [\"scipyfit\"],\n",
    "    \"fit_pixels\": True, \n",
    "    \"force_fit\": False, \n",
    "    \n",
    "    \"use_ROI_avg_fit_res_for_all_pixels\": True,\n",
    "    \n",
    "    \"scipyfit_sub_threads\": 2, \n",
    "\n",
    "    \"fit_functions\":  {\"linear\": 1, \"lorentzian\": 8},\n",
    "\n",
    "#     \"pos_guess\": [2610, 2708, 2805, 2879, 2953, 3020, 3092, 3145], # ODMR - Pulsed with IR_83\n",
    "    \"pos_guess\": [2631, 2723, 2787, 2866, 2955, 3022, 3066, 3130], # ODMR - Pulsed_42\n",
    "    \"pos_range\": 25,\n",
    "\n",
    "    \"amp_guess\": -0.02,\n",
    "    \"amp_bounds\": [-0.0300, -0.0003],\n",
    "\n",
    "    \"gpufit_tolerance\": 1e-12,\n",
    "    \"gpufit_max_iterations\": 25,\n",
    "    \"gpufit_estimator_id\": \"LSE\",\n",
    "    \n",
    "    \"save_fig_type\": \"pdf\",\n",
    "    \n",
    "    \"freqs_to_use\": [1, 1, 1, 1, 1, 1, 1, 1],\n",
    "    \"diamond_ori\": \"<100>_<110>\", # this is one of the funny HPHTs\n",
    "    \n",
    "    \"bias_mag\": 100,\n",
    "    \"bias_theta\": 67,\n",
    "    \"bias_phi\": -120,\n",
    "    \n",
    "    \"hamiltonian\": \"bxyz\"\n",
    "}"
   ]
  },
  {
   "cell_type": "code",
   "execution_count": 4,
   "id": "painful-relief",
   "metadata": {},
   "outputs": [
    {
     "data": {
      "application/vnd.jupyter.widget-view+json": {
       "model_id": "1edbd7b4bbb946f68c2e72ba5d5432e4",
       "version_major": 2,
       "version_minor": 0
      },
      "text/plain": [
       "Canvas(toolbar=Toolbar(toolitems=[('Home', 'Reset original view', 'home', 'home'), ('Back', 'Back to previous …"
      ]
     },
     "metadata": {},
     "output_type": "display_data"
    },
    {
     "data": {
      "application/vnd.jupyter.widget-view+json": {
       "model_id": "de582159a5974c4ab80f0144f8d9fe04",
       "version_major": 2,
       "version_minor": 0
      },
      "text/plain": [
       "Canvas(toolbar=Toolbar(toolitems=[('Home', 'Reset original view', 'home', 'home'), ('Back', 'Back to previous …"
      ]
     },
     "metadata": {},
     "output_type": "display_data"
    },
    {
     "data": {
      "application/vnd.jupyter.widget-view+json": {
       "model_id": "5a74f0f3afbc46c9a1933d64e64440d8",
       "version_major": 2,
       "version_minor": 0
      },
      "text/plain": [
       "Canvas(toolbar=Toolbar(toolitems=[('Home', 'Reset original view', 'home', 'home'), ('Back', 'Back to previous …"
      ]
     },
     "metadata": {},
     "output_type": "display_data"
    }
   ],
   "source": [
    "options = Qio.load_options(options_dict=options_dict, check_for_prev_result=True)\n",
    "Qplot.set_mpl_rcparams(options)\n",
    "image, prelim_sweep_list = Qio.load_image_and_sweep(options)\n",
    "PL_image, PL_image_ROI, sig, ref, sig_norm, single_pixel_pl, sweep_list = Qio.reshape_dataset(\n",
    "        options, image, prelim_sweep_list\n",
    "    )\n",
    "ROI_PL_fig = Qplot.plot_ROI_PL_image(options, PL_image)\n",
    "\n",
    "AOI_PL_fig = Qplot.plot_AOI_PL_images(options, PL_image_ROI)\n",
    "\n",
    "AOI_spectra_fig = Qplot.plot_AOI_spectra(options, sig, ref, sweep_list)\n",
    "\n",
    "Qio.save_PL_data(options, PL_image, PL_image_ROI)"
   ]
  },
  {
   "cell_type": "markdown",
   "id": "interstate-causing",
   "metadata": {},
   "source": [
    "### Fit AOI, ROI averages, single pixel"
   ]
  },
  {
   "cell_type": "code",
   "execution_count": 5,
   "id": "negative-stock",
   "metadata": {},
   "outputs": [
    {
     "name": "stderr",
     "output_type": "stream",
     "text": [
      "/home/samsc/src/nv/QDMPy_proj/QDMPy_git/QDMPy/fit/_scipyfit.py:35: TqdmExperimentalWarning: Using `tqdm.autonotebook.tqdm` in notebook mode. Use `tqdm.tqdm` instead to force console mode (e.g. in jupyter console)\n",
      "  from tqdm.autonotebook import tqdm  # auto detects jupyter\n"
     ]
    },
    {
     "data": {
      "application/vnd.jupyter.widget-view+json": {
       "model_id": "70eb4111a2d649499c5fda9449ec78c9",
       "version_major": 2,
       "version_minor": 0
      },
      "text/plain": [
       "Canvas(toolbar=Toolbar(toolitems=[('Home', 'Reset original view', 'home', 'home'), ('Back', 'Back to previous …"
      ]
     },
     "metadata": {},
     "output_type": "display_data"
    },
    {
     "data": {
      "application/vnd.jupyter.widget-view+json": {
       "model_id": "3633bb92f0724fcfb1ec6815eb70f8c3",
       "version_major": 2,
       "version_minor": 0
      },
      "text/plain": [
       "Canvas(toolbar=Toolbar(toolitems=[('Home', 'Reset original view', 'home', 'home'), ('Back', 'Back to previous …"
      ]
     },
     "metadata": {},
     "output_type": "display_data"
    }
   ],
   "source": [
    "fit_model = Qfit.define_fit_model(options)\n",
    "backend_ROI_results_lst = Qfit.fit_ROI_avg(options, sig_norm, sweep_list, fit_model)\n",
    "ROI_fit_fig = Qplot.plot_ROI_avg_fits(options, backend_ROI_results_lst)\n",
    "\n",
    "fit_result_collection_lst = Qfit.fit_AOIs(options, sig_norm, single_pixel_pl, sweep_list, fit_model, backend_ROI_results_lst)\n",
    "AOI_fit_fig = Qplot.plot_AOI_spectra_fit(options, sig, ref, sweep_list, fit_result_collection_lst, fit_model)"
   ]
  },
  {
   "cell_type": "markdown",
   "id": "sunset-study",
   "metadata": {},
   "source": [
    "### Fit pixels"
   ]
  },
  {
   "cell_type": "code",
   "execution_count": 6,
   "id": "standing-review",
   "metadata": {},
   "outputs": [
    {
     "name": "stderr",
     "output_type": "stream",
     "text": [
      "<ipython-input-6-07b43404531b>:5: UserWarning: Using previous fit results.\n",
      "  warnings.warn(\"Using previous fit results.\")\n"
     ]
    }
   ],
   "source": [
    "wanted_roi_result = next(filter(lambda result : result.fit_backend == options[\"fit_backend\"], backend_ROI_results_lst))\n",
    "if options[\"found_prev_result\"]:\n",
    "    pixel_fit_params = Qio.load_prev_fit_results(options)\n",
    "    sigmas = Qio.load_prev_fit_sigmas(options)\n",
    "    warnings.warn(\"Using previous fit results.\")\n",
    "elif options[\"fit_pixels\"]:\n",
    "    pixel_fit_params, sigmas = Qfit.fit_pixels(options, sig_norm, sweep_list, fit_model, wanted_roi_result)\n",
    "else:\n",
    "    pixel_fit_params = None # not fitting pixels, this stops plotting (e.g. via plot_param_images) from erroring\n",
    "    sigmas = None\n",
    "\n",
    "Qio.save_pixel_fit_results(options, pixel_fit_params)\n",
    "Qio.save_pixel_fit_sigmas(options, sigmas)"
   ]
  },
  {
   "cell_type": "code",
   "execution_count": 7,
   "id": "automated-departure",
   "metadata": {},
   "outputs": [],
   "source": [
    "Qio.save_options(options) # whilst testing"
   ]
  },
  {
   "cell_type": "markdown",
   "id": "focused-productivity",
   "metadata": {},
   "source": [
    "### Plot (fit) parameters"
   ]
  },
  {
   "cell_type": "code",
   "execution_count": 8,
   "id": "gorgeous-going",
   "metadata": {},
   "outputs": [
    {
     "data": {
      "application/vnd.jupyter.widget-view+json": {
       "model_id": "bd780a9f08e9472c9752fc555fee899e",
       "version_major": 2,
       "version_minor": 0
      },
      "text/plain": [
       "Canvas(toolbar=Toolbar(toolitems=[('Home', 'Reset original view', 'home', 'home'), ('Back', 'Back to previous …"
      ]
     },
     "metadata": {},
     "output_type": "display_data"
    },
    {
     "data": {
      "application/vnd.jupyter.widget-view+json": {
       "model_id": "4ce4ac9a173c410c8b06acf750cf87af",
       "version_major": 2,
       "version_minor": 0
      },
      "text/plain": [
       "Canvas(toolbar=Toolbar(toolitems=[('Home', 'Reset original view', 'home', 'home'), ('Back', 'Back to previous …"
      ]
     },
     "metadata": {},
     "output_type": "display_data"
    },
    {
     "data": {
      "application/vnd.jupyter.widget-view+json": {
       "model_id": "a0324806ddc740b7b405402697148e12",
       "version_major": 2,
       "version_minor": 0
      },
      "text/plain": [
       "Canvas(toolbar=Toolbar(toolitems=[('Home', 'Reset original view', 'home', 'home'), ('Back', 'Back to previous …"
      ]
     },
     "metadata": {},
     "output_type": "display_data"
    },
    {
     "data": {
      "application/vnd.jupyter.widget-view+json": {
       "model_id": "712ad6c17e564c2490dac1e98dd28bf7",
       "version_major": 2,
       "version_minor": 0
      },
      "text/plain": [
       "Canvas(toolbar=Toolbar(toolitems=[('Home', 'Reset original view', 'home', 'home'), ('Back', 'Back to previous …"
      ]
     },
     "metadata": {},
     "output_type": "display_data"
    },
    {
     "data": {
      "application/vnd.jupyter.widget-view+json": {
       "model_id": "6e530e2ad2c54782a7f4359911b05542",
       "version_major": 2,
       "version_minor": 0
      },
      "text/plain": [
       "Canvas(toolbar=Toolbar(toolitems=[('Home', 'Reset original view', 'home', 'home'), ('Back', 'Back to previous …"
      ]
     },
     "metadata": {},
     "output_type": "display_data"
    },
    {
     "data": {
      "application/vnd.jupyter.widget-view+json": {
       "model_id": "2d9a2a9334d2488ab52c9fd628bb9516",
       "version_major": 2,
       "version_minor": 0
      },
      "text/plain": [
       "Canvas(toolbar=Toolbar(toolitems=[('Home', 'Reset original view', 'home', 'home'), ('Back', 'Back to previous …"
      ]
     },
     "metadata": {},
     "output_type": "display_data"
    }
   ],
   "source": [
    "c_fig = Qplot.plot_param_images(options, fit_model, pixel_fit_params, \"c\")\n",
    "m_fig = Qplot.plot_param_images(options, fit_model, pixel_fit_params, \"m\")\n",
    "pos_fig = Qplot.plot_param_images(options, fit_model, pixel_fit_params, \"pos\")\n",
    "amp_fig = Qplot.plot_param_images(options, fit_model, pixel_fit_params, \"amp\")\n",
    "fwhm_fig = Qplot.plot_param_images(options, fit_model, pixel_fit_params, \"fwhm\")\n",
    "residual_fig = Qplot.plot_param_images(options, fit_model, pixel_fit_params, \"residual\")"
   ]
  },
  {
   "cell_type": "code",
   "execution_count": 9,
   "id": "married-native",
   "metadata": {},
   "outputs": [
    {
     "data": {
      "application/vnd.jupyter.widget-view+json": {
       "model_id": "216904be6098404b9f111cf9a669b51e",
       "version_major": 2,
       "version_minor": 0
      },
      "text/plain": [
       "Canvas(toolbar=Toolbar(toolitems=[('Home', 'Reset original view', 'home', 'home'), ('Back', 'Back to previous …"
      ]
     },
     "metadata": {},
     "output_type": "display_data"
    }
   ],
   "source": [
    "pos_sigma_plot = Qplot.plot_param_images(options, fit_model, sigmas, \"pos\", errorplot=True)"
   ]
  },
  {
   "cell_type": "markdown",
   "id": "headed-conversation",
   "metadata": {},
   "source": [
    "### Initial guess and fit vs data (flattened)"
   ]
  },
  {
   "cell_type": "code",
   "execution_count": 10,
   "id": "satellite-disaster",
   "metadata": {},
   "outputs": [
    {
     "data": {
      "application/vnd.jupyter.widget-view+json": {
       "model_id": "37b7c7eb2d394db5bd11b936f2eedf26",
       "version_major": 2,
       "version_minor": 0
      },
      "text/plain": [
       "Canvas(toolbar=Toolbar(toolitems=[('Home', 'Reset original view', 'home', 'home'), ('Back', 'Back to previous …"
      ]
     },
     "metadata": {},
     "output_type": "display_data"
    },
    {
     "data": {
      "application/vnd.jupyter.widget-view+json": {
       "model_id": "ac8c4809ea2644dc88e6d4b9a93dbfee",
       "version_major": 2,
       "version_minor": 0
      },
      "text/plain": [
       "Canvas(toolbar=Toolbar(toolitems=[('Home', 'Reset original view', 'home', 'home'), ('Back', 'Back to previous …"
      ]
     },
     "metadata": {},
     "output_type": "display_data"
    }
   ],
   "source": [
    "flat_pos_fig = Qplot.plot_params_flattened(options, fit_model, pixel_fit_params, sigmas, wanted_roi_result, \"pos\", plot_bounds=False, plot_sigmas=False)\n",
    "flat_resid_fig = Qplot.plot_params_flattened(options, fit_model, pixel_fit_params, sigmas, wanted_roi_result, \"residual\")"
   ]
  },
  {
   "cell_type": "markdown",
   "id": "standing-transmission",
   "metadata": {},
   "source": [
    "### Load reference experiment - note, you can fit in this same notebook!"
   ]
  },
  {
   "cell_type": "code",
   "execution_count": 11,
   "id": "relative-separate",
   "metadata": {},
   "outputs": [
    {
     "name": "stderr",
     "output_type": "stream",
     "text": [
      "/home/samsc/src/nv/QDMPy_proj/QDMPy_git/QDMPy/io/fit.py:156: UserWarning: No reference experiment options dict provided, continuing without reference.\n",
      "  warnings.warn(\n"
     ]
    }
   ],
   "source": [
    "ref_options_dir = None # if you want to use a reference experiment {ensure you run this even if 'None' as it sets up output dirs etc.}\n",
    "# below: alternative is to just have the dictionary already loaded (above this is called `pixel_fit_params`)\n",
    "ref_fit_params, ref_sigmas = Qio.load_reference_experiment_fit_results(options, ref_options=None, ref_options_dir=ref_options_dir)"
   ]
  },
  {
   "cell_type": "markdown",
   "id": "significant-blowing",
   "metadata": {},
   "source": [
    "### Field retrieval"
   ]
  },
  {
   "cell_type": "code",
   "execution_count": 12,
   "id": "atmospheric-escape",
   "metadata": {},
   "outputs": [
    {
     "data": {
      "application/vnd.jupyter.widget-view+json": {
       "model_id": "78d911474d6f42e592011b41c88db061",
       "version_major": 2,
       "version_minor": 0
      },
      "text/plain": [
       "  0%|          | 0/21600 [00:00<?, ? PX/s]"
      ]
     },
     "metadata": {},
     "output_type": "display_data"
    }
   ],
   "source": [
    "(sig_bnvs, ref_bnvs, bnvs), (sig_dshifts, ref_dshifts), (sig_params, ref_params) = Qfield.odmr_field_retrieval(options, pixel_fit_params, ref_fit_params)"
   ]
  },
  {
   "cell_type": "code",
   "execution_count": 13,
   "id": "adequate-heater",
   "metadata": {},
   "outputs": [
    {
     "data": {
      "application/vnd.jupyter.widget-view+json": {
       "model_id": "d0fa7113657c4a9c9b5ce98299c36b6f",
       "version_major": 2,
       "version_minor": 0
      },
      "text/plain": [
       "Canvas(toolbar=Toolbar(toolitems=[('Home', 'Reset original view', 'home', 'home'), ('Back', 'Back to previous …"
      ]
     },
     "metadata": {},
     "output_type": "display_data"
    },
    {
     "data": {
      "application/vnd.jupyter.widget-view+json": {
       "model_id": "d4629c0778c945e18882bc2ac88a697e",
       "version_major": 2,
       "version_minor": 0
      },
      "text/plain": [
       "Canvas(toolbar=Toolbar(toolitems=[('Home', 'Reset original view', 'home', 'home'), ('Back', 'Back to previous …"
      ]
     },
     "metadata": {},
     "output_type": "display_data"
    }
   ],
   "source": [
    "bnv_sig_plot = Qplot.plot_bnvs_and_dshifts(options, \"sig\", sig_bnvs, sig_dshifts)\n",
    "bnv_ref_plot = Qplot.plot_bnvs_and_dshifts(options, \"ref\", ref_bnvs, ref_dshifts)\n",
    "bnvs_plot = Qplot.plot_bnvs_and_dshifts(options, \"sig_sub_ref\", bnvs, [])"
   ]
  },
  {
   "cell_type": "code",
   "execution_count": 14,
   "id": "thirty-contact",
   "metadata": {},
   "outputs": [
    {
     "data": {
      "application/vnd.jupyter.widget-view+json": {
       "model_id": "e7137dcbff31405ca0d339eeabb938b2",
       "version_major": 2,
       "version_minor": 0
      },
      "text/plain": [
       "Canvas(toolbar=Toolbar(toolitems=[('Home', 'Reset original view', 'home', 'home'), ('Back', 'Back to previous …"
      ]
     },
     "metadata": {},
     "output_type": "display_data"
    }
   ],
   "source": [
    "bfield_sig_plot = Qplot.plot_bfield(options, \"sig\", sig_params)\n",
    "bfield_ref_plot = Qplot.plot_bfield(options, \"ref\", ref_params)"
   ]
  },
  {
   "cell_type": "code",
   "execution_count": 15,
   "id": "native-somalia",
   "metadata": {},
   "outputs": [
    {
     "data": {
      "application/vnd.jupyter.widget-view+json": {
       "model_id": "92eb5dac533443ec99d6d64a87354ca9",
       "version_major": 2,
       "version_minor": 0
      },
      "text/plain": [
       "Canvas(toolbar=Toolbar(toolitems=[('Home', 'Reset original view', 'home', 'home'), ('Back', 'Back to previous …"
      ]
     },
     "metadata": {},
     "output_type": "display_data"
    }
   ],
   "source": [
    "D_sig_plot = Qplot.plot_dshift_fit(options, \"sig\", sig_params)\n",
    "D_ref_plot = Qplot.plot_dshift_fit(options, \"ref\", ref_params)"
   ]
  },
  {
   "cell_type": "markdown",
   "id": "provincial-local",
   "metadata": {},
   "source": [
    "### Save and (optionally) view options dict"
   ]
  },
  {
   "cell_type": "code",
   "execution_count": 16,
   "id": "controversial-christianity",
   "metadata": {},
   "outputs": [],
   "source": [
    "Qio.save_options(options)  # particularly in case B fitting fails\n",
    "# print(Qio.dict_to_json_str(options))"
   ]
  },
  {
   "cell_type": "code",
   "execution_count": null,
   "id": "possible-heaven",
   "metadata": {},
   "outputs": [],
   "source": []
  }
 ],
 "metadata": {
  "kernelspec": {
   "display_name": "Python 3",
   "language": "python",
   "name": "python3"
  },
  "language_info": {
   "codemirror_mode": {
    "name": "ipython",
    "version": 3
   },
   "file_extension": ".py",
   "mimetype": "text/x-python",
   "name": "python",
   "nbconvert_exporter": "python",
   "pygments_lexer": "ipython3",
   "version": "3.8.7"
  },
  "toc-autonumbering": false,
  "toc-showtags": false,
  "widgets": {
   "application/vnd.jupyter.widget-state+json": {
    "state": {
     "0242b9c7d5ad4c59998e04b0e332c01f": {
      "model_module": "@jupyter-widgets/base",
      "model_module_version": "1.2.0",
      "model_name": "LayoutModel",
      "state": {}
     },
     "0c6660764b9a4a3286914a8db9ebdbee": {
      "model_module": "@jupyter-widgets/controls",
      "model_module_version": "1.5.0",
      "model_name": "HTMLModel",
      "state": {
       "layout": "IPY_MODEL_3d543e41128345739f285c1ca2acc801",
       "style": "IPY_MODEL_32fdbf6638f04f9197db7f95721e3bfe",
       "value": "100%"
      }
     },
     "10edc5ea44c947cebf3e12a53479d061": {
      "model_module": "@jupyter-widgets/base",
      "model_module_version": "1.2.0",
      "model_name": "LayoutModel",
      "state": {}
     },
     "16a6fdf9fee445769ddd4c419d6c03af": {
      "model_module": "@jupyter-widgets/base",
      "model_module_version": "1.2.0",
      "model_name": "LayoutModel",
      "state": {}
     },
     "1bc34e3c291c48dab73c3065afb5b949": {
      "model_module": "@jupyter-widgets/base",
      "model_module_version": "1.2.0",
      "model_name": "LayoutModel",
      "state": {}
     },
     "1edbd7b4bbb946f68c2e72ba5d5432e4": {
      "model_module": "jupyter-matplotlib",
      "model_module_version": "^0.8.2",
      "model_name": "MPLCanvasModel",
      "state": {
       "_cursor": "default",
       "_figure_label": "Figure 1",
       "_height": 384,
       "_width": 512,
       "layout": "IPY_MODEL_8007058fa57f44948f7dd4ee699f8336",
       "toolbar": "IPY_MODEL_ffebd351a1ea484e979bb48cbb8569d8",
       "toolbar_position": "left"
      }
     },
     "1f1daf16e61e4b60a76653202f328588": {
      "model_module": "@jupyter-widgets/base",
      "model_module_version": "1.2.0",
      "model_name": "LayoutModel",
      "state": {}
     },
     "216904be6098404b9f111cf9a669b51e": {
      "model_module": "jupyter-matplotlib",
      "model_module_version": "^0.8.2",
      "model_name": "MPLCanvasModel",
      "state": {
       "_cursor": "default",
       "_figure_label": "Figure 12",
       "_height": 575,
       "_width": 1536,
       "layout": "IPY_MODEL_cfd1d22174a143828e3cdc1227785c04",
       "toolbar": "IPY_MODEL_3269ed6fe5e446638fc42050b711c1bb",
       "toolbar_position": "left"
      }
     },
     "27f97a18636b41b8946d538978351889": {
      "model_module": "jupyter-matplotlib",
      "model_module_version": "^0.8.2",
      "model_name": "ToolbarModel",
      "state": {
       "layout": "IPY_MODEL_53920e2b03be4e67a166d4eecac5ca64",
       "toolitems": [
        [
         "Home",
         "Reset original view",
         "home",
         "home"
        ],
        [
         "Back",
         "Back to previous view",
         "arrow-left",
         "back"
        ],
        [
         "Forward",
         "Forward to next view",
         "arrow-right",
         "forward"
        ],
        [
         "Pan",
         "Left button pans, Right button zooms\nx/y fixes axis, CTRL fixes aspect",
         "arrows",
         "pan"
        ],
        [
         "Zoom",
         "Zoom to rectangle\nx/y fixes axis, CTRL fixes aspect",
         "square-o",
         "zoom"
        ],
        [
         "Download",
         "Download plot",
         "floppy-o",
         "save_figure"
        ]
       ]
      }
     },
     "2d9a2a9334d2488ab52c9fd628bb9516": {
      "model_module": "jupyter-matplotlib",
      "model_module_version": "^0.8.2",
      "model_name": "MPLCanvasModel",
      "state": {
       "_cursor": "default",
       "_figure_label": "Figure 11",
       "_height": 384,
       "_width": 512,
       "layout": "IPY_MODEL_3199f7468ce44188a005d1f3c4d7424e",
       "toolbar": "IPY_MODEL_729ea354dd8b47439a49041fae4d779c",
       "toolbar_position": "left"
      }
     },
     "30c71c4ed2924a459176dd7cafa43f1f": {
      "model_module": "@jupyter-widgets/base",
      "model_module_version": "1.2.0",
      "model_name": "LayoutModel",
      "state": {}
     },
     "3199f7468ce44188a005d1f3c4d7424e": {
      "model_module": "@jupyter-widgets/base",
      "model_module_version": "1.2.0",
      "model_name": "LayoutModel",
      "state": {}
     },
     "3269ed6fe5e446638fc42050b711c1bb": {
      "model_module": "jupyter-matplotlib",
      "model_module_version": "^0.8.2",
      "model_name": "ToolbarModel",
      "state": {
       "layout": "IPY_MODEL_ca5b26a5acae48f1b34f1714991dd35d",
       "toolitems": [
        [
         "Home",
         "Reset original view",
         "home",
         "home"
        ],
        [
         "Back",
         "Back to previous view",
         "arrow-left",
         "back"
        ],
        [
         "Forward",
         "Forward to next view",
         "arrow-right",
         "forward"
        ],
        [
         "Pan",
         "Left button pans, Right button zooms\nx/y fixes axis, CTRL fixes aspect",
         "arrows",
         "pan"
        ],
        [
         "Zoom",
         "Zoom to rectangle\nx/y fixes axis, CTRL fixes aspect",
         "square-o",
         "zoom"
        ],
        [
         "Download",
         "Download plot",
         "floppy-o",
         "save_figure"
        ]
       ]
      }
     },
     "32fdbf6638f04f9197db7f95721e3bfe": {
      "model_module": "@jupyter-widgets/controls",
      "model_module_version": "1.5.0",
      "model_name": "DescriptionStyleModel",
      "state": {
       "description_width": ""
      }
     },
     "339edc6c492d478e91bd1005903fa508": {
      "model_module": "@jupyter-widgets/base",
      "model_module_version": "1.2.0",
      "model_name": "LayoutModel",
      "state": {}
     },
     "3633bb92f0724fcfb1ec6815eb70f8c3": {
      "model_module": "jupyter-matplotlib",
      "model_module_version": "^0.8.2",
      "model_name": "MPLCanvasModel",
      "state": {
       "_cursor": "default",
       "_figure_label": "Figure 5",
       "_height": 1920,
       "_message": "x=2927. y=3.2151e+10",
       "_width": 1536,
       "layout": "IPY_MODEL_88c0f852d78a436b9c830a461dd13cc4",
       "toolbar": "IPY_MODEL_f294f82ae9804c6a928b264a494cf263",
       "toolbar_position": "left"
      }
     },
     "37b7c7eb2d394db5bd11b936f2eedf26": {
      "model_module": "jupyter-matplotlib",
      "model_module_version": "^0.8.2",
      "model_name": "MPLCanvasModel",
      "state": {
       "_cursor": "default",
       "_figure_label": "Figure 13",
       "_height": 1536,
       "_width": 1024,
       "layout": "IPY_MODEL_0242b9c7d5ad4c59998e04b0e332c01f",
       "toolbar": "IPY_MODEL_5174673c650f4abaa68f806c0214452b",
       "toolbar_position": "left"
      }
     },
     "3a40ac8dc81245ecb3d2c5669fb5c384": {
      "model_module": "@jupyter-widgets/controls",
      "model_module_version": "1.5.0",
      "model_name": "HTMLModel",
      "state": {
       "layout": "IPY_MODEL_86c45799c69b4ddc929c9580ea85ccb2",
       "style": "IPY_MODEL_881414cdc78848c79430be25c6d6ea7b",
       "value": " 21600/21600 [01:03&lt;00:00, 479.73 PX/s]"
      }
     },
     "3d543e41128345739f285c1ca2acc801": {
      "model_module": "@jupyter-widgets/base",
      "model_module_version": "1.2.0",
      "model_name": "LayoutModel",
      "state": {}
     },
     "42229a67b3e044739aeca18b8c04ad1d": {
      "model_module": "@jupyter-widgets/base",
      "model_module_version": "1.2.0",
      "model_name": "LayoutModel",
      "state": {}
     },
     "48c68e54abb04d0384f1cab426aa1555": {
      "model_module": "jupyter-matplotlib",
      "model_module_version": "^0.8.2",
      "model_name": "ToolbarModel",
      "state": {
       "layout": "IPY_MODEL_dfcf3592f9174db48e1856edc90f4f80",
       "toolitems": [
        [
         "Home",
         "Reset original view",
         "home",
         "home"
        ],
        [
         "Back",
         "Back to previous view",
         "arrow-left",
         "back"
        ],
        [
         "Forward",
         "Forward to next view",
         "arrow-right",
         "forward"
        ],
        [
         "Pan",
         "Left button pans, Right button zooms\nx/y fixes axis, CTRL fixes aspect",
         "arrows",
         "pan"
        ],
        [
         "Zoom",
         "Zoom to rectangle\nx/y fixes axis, CTRL fixes aspect",
         "square-o",
         "zoom"
        ],
        [
         "Download",
         "Download plot",
         "floppy-o",
         "save_figure"
        ]
       ]
      }
     },
     "4a8c6baf919f482bb1a4326b8ddba7b1": {
      "model_module": "@jupyter-widgets/base",
      "model_module_version": "1.2.0",
      "model_name": "LayoutModel",
      "state": {}
     },
     "4cb2ac682d984bfab19372af020a7548": {
      "model_module": "@jupyter-widgets/base",
      "model_module_version": "1.2.0",
      "model_name": "LayoutModel",
      "state": {}
     },
     "4ce4ac9a173c410c8b06acf750cf87af": {
      "model_module": "jupyter-matplotlib",
      "model_module_version": "^0.8.2",
      "model_name": "MPLCanvasModel",
      "state": {
       "_cursor": "default",
       "_figure_label": "Figure 7",
       "_height": 384,
       "_width": 512,
       "layout": "IPY_MODEL_1f1daf16e61e4b60a76653202f328588",
       "toolbar": "IPY_MODEL_48c68e54abb04d0384f1cab426aa1555",
       "toolbar_position": "left"
      }
     },
     "5174673c650f4abaa68f806c0214452b": {
      "model_module": "jupyter-matplotlib",
      "model_module_version": "^0.8.2",
      "model_name": "ToolbarModel",
      "state": {
       "layout": "IPY_MODEL_bc18bda8a63e46579a290f0b64f98001",
       "toolitems": [
        [
         "Home",
         "Reset original view",
         "home",
         "home"
        ],
        [
         "Back",
         "Back to previous view",
         "arrow-left",
         "back"
        ],
        [
         "Forward",
         "Forward to next view",
         "arrow-right",
         "forward"
        ],
        [
         "Pan",
         "Left button pans, Right button zooms\nx/y fixes axis, CTRL fixes aspect",
         "arrows",
         "pan"
        ],
        [
         "Zoom",
         "Zoom to rectangle\nx/y fixes axis, CTRL fixes aspect",
         "square-o",
         "zoom"
        ],
        [
         "Download",
         "Download plot",
         "floppy-o",
         "save_figure"
        ]
       ]
      }
     },
     "53920e2b03be4e67a166d4eecac5ca64": {
      "model_module": "@jupyter-widgets/base",
      "model_module_version": "1.2.0",
      "model_name": "LayoutModel",
      "state": {}
     },
     "5a74f0f3afbc46c9a1933d64e64440d8": {
      "model_module": "jupyter-matplotlib",
      "model_module_version": "^0.8.2",
      "model_name": "MPLCanvasModel",
      "state": {
       "_cursor": "default",
       "_figure_label": "Figure 3",
       "_height": 768,
       "_image_mode": "diff",
       "_width": 1536,
       "layout": "IPY_MODEL_a4afe3692896494d92039d11f1c75048",
       "toolbar": "IPY_MODEL_69f9718269124bfba354fd5c1579aa7b",
       "toolbar_position": "left"
      }
     },
     "5c1cfad2c1034e40987de9d78df68952": {
      "model_module": "jupyter-matplotlib",
      "model_module_version": "^0.8.2",
      "model_name": "ToolbarModel",
      "state": {
       "layout": "IPY_MODEL_1bc34e3c291c48dab73c3065afb5b949",
       "toolitems": [
        [
         "Home",
         "Reset original view",
         "home",
         "home"
        ],
        [
         "Back",
         "Back to previous view",
         "arrow-left",
         "back"
        ],
        [
         "Forward",
         "Forward to next view",
         "arrow-right",
         "forward"
        ],
        [
         "Pan",
         "Left button pans, Right button zooms\nx/y fixes axis, CTRL fixes aspect",
         "arrows",
         "pan"
        ],
        [
         "Zoom",
         "Zoom to rectangle\nx/y fixes axis, CTRL fixes aspect",
         "square-o",
         "zoom"
        ],
        [
         "Download",
         "Download plot",
         "floppy-o",
         "save_figure"
        ]
       ]
      }
     },
     "607ad9c4cb09431cb4841f6dd4699c4c": {
      "model_module": "jupyter-matplotlib",
      "model_module_version": "^0.8.2",
      "model_name": "ToolbarModel",
      "state": {
       "layout": "IPY_MODEL_66882a88ec8d4aff9012dc44d902f5a9",
       "toolitems": [
        [
         "Home",
         "Reset original view",
         "home",
         "home"
        ],
        [
         "Back",
         "Back to previous view",
         "arrow-left",
         "back"
        ],
        [
         "Forward",
         "Forward to next view",
         "arrow-right",
         "forward"
        ],
        [
         "Pan",
         "Left button pans, Right button zooms\nx/y fixes axis, CTRL fixes aspect",
         "arrows",
         "pan"
        ],
        [
         "Zoom",
         "Zoom to rectangle\nx/y fixes axis, CTRL fixes aspect",
         "square-o",
         "zoom"
        ],
        [
         "Download",
         "Download plot",
         "floppy-o",
         "save_figure"
        ]
       ]
      }
     },
     "66882a88ec8d4aff9012dc44d902f5a9": {
      "model_module": "@jupyter-widgets/base",
      "model_module_version": "1.2.0",
      "model_name": "LayoutModel",
      "state": {}
     },
     "69f9718269124bfba354fd5c1579aa7b": {
      "model_module": "jupyter-matplotlib",
      "model_module_version": "^0.8.2",
      "model_name": "ToolbarModel",
      "state": {
       "layout": "IPY_MODEL_16a6fdf9fee445769ddd4c419d6c03af",
       "toolitems": [
        [
         "Home",
         "Reset original view",
         "home",
         "home"
        ],
        [
         "Back",
         "Back to previous view",
         "arrow-left",
         "back"
        ],
        [
         "Forward",
         "Forward to next view",
         "arrow-right",
         "forward"
        ],
        [
         "Pan",
         "Left button pans, Right button zooms\nx/y fixes axis, CTRL fixes aspect",
         "arrows",
         "pan"
        ],
        [
         "Zoom",
         "Zoom to rectangle\nx/y fixes axis, CTRL fixes aspect",
         "square-o",
         "zoom"
        ],
        [
         "Download",
         "Download plot",
         "floppy-o",
         "save_figure"
        ]
       ]
      }
     },
     "6e530e2ad2c54782a7f4359911b05542": {
      "model_module": "jupyter-matplotlib",
      "model_module_version": "^0.8.2",
      "model_name": "MPLCanvasModel",
      "state": {
       "_cursor": "default",
       "_figure_label": "Figure 10",
       "_height": 575,
       "_width": 1536,
       "layout": "IPY_MODEL_f46eb819b9a24f20a71a7b0fc1625516",
       "toolbar": "IPY_MODEL_ed3b220b89b640968577d98687f4c2c2",
       "toolbar_position": "left"
      }
     },
     "6e9d1e04d7da4efc906a63b83fa36ea0": {
      "model_module": "@jupyter-widgets/controls",
      "model_module_version": "1.5.0",
      "model_name": "FloatProgressModel",
      "state": {
       "bar_style": "success",
       "layout": "IPY_MODEL_a32d2aabfd6143ed9c8be232a4c234fd",
       "max": 21600,
       "style": "IPY_MODEL_f751388ed5a346d1b37fe7e0c721d0cf",
       "value": 21600
      }
     },
     "6ea92a3495304b11b7ed001b4f0d8157": {
      "model_module": "@jupyter-widgets/base",
      "model_module_version": "1.2.0",
      "model_name": "LayoutModel",
      "state": {}
     },
     "70eb4111a2d649499c5fda9449ec78c9": {
      "model_module": "jupyter-matplotlib",
      "model_module_version": "^0.8.2",
      "model_name": "MPLCanvasModel",
      "state": {
       "_cursor": "default",
       "_figure_label": "Figure 4",
       "_height": 575,
       "_message": "x= y=0.98731",
       "_width": 1024,
       "layout": "IPY_MODEL_a03cd66528d54c9280578e2ddd0a911e",
       "toolbar": "IPY_MODEL_7b0c0b59362f40cbaaa529eaf87136ab",
       "toolbar_position": "left"
      }
     },
     "712ad6c17e564c2490dac1e98dd28bf7": {
      "model_module": "jupyter-matplotlib",
      "model_module_version": "^0.8.2",
      "model_name": "MPLCanvasModel",
      "state": {
       "_cursor": "default",
       "_figure_label": "Figure 9",
       "_height": 575,
       "_width": 1536,
       "layout": "IPY_MODEL_6ea92a3495304b11b7ed001b4f0d8157",
       "toolbar": "IPY_MODEL_abf1eeebe3c24d5283b5a9bc8bc63c74",
       "toolbar_position": "left"
      }
     },
     "729ea354dd8b47439a49041fae4d779c": {
      "model_module": "jupyter-matplotlib",
      "model_module_version": "^0.8.2",
      "model_name": "ToolbarModel",
      "state": {
       "layout": "IPY_MODEL_ca88c9b962ca47a4bca16765829f210a",
       "toolitems": [
        [
         "Home",
         "Reset original view",
         "home",
         "home"
        ],
        [
         "Back",
         "Back to previous view",
         "arrow-left",
         "back"
        ],
        [
         "Forward",
         "Forward to next view",
         "arrow-right",
         "forward"
        ],
        [
         "Pan",
         "Left button pans, Right button zooms\nx/y fixes axis, CTRL fixes aspect",
         "arrows",
         "pan"
        ],
        [
         "Zoom",
         "Zoom to rectangle\nx/y fixes axis, CTRL fixes aspect",
         "square-o",
         "zoom"
        ],
        [
         "Download",
         "Download plot",
         "floppy-o",
         "save_figure"
        ]
       ]
      }
     },
     "76f74b8c31a8457487d4759a5c020a66": {
      "model_module": "@jupyter-widgets/base",
      "model_module_version": "1.2.0",
      "model_name": "LayoutModel",
      "state": {}
     },
     "78d911474d6f42e592011b41c88db061": {
      "model_module": "@jupyter-widgets/controls",
      "model_module_version": "1.5.0",
      "model_name": "HBoxModel",
      "state": {
       "children": [
        "IPY_MODEL_0c6660764b9a4a3286914a8db9ebdbee",
        "IPY_MODEL_6e9d1e04d7da4efc906a63b83fa36ea0",
        "IPY_MODEL_3a40ac8dc81245ecb3d2c5669fb5c384"
       ],
       "layout": "IPY_MODEL_bc1bfcf6573b4dbb99a356dda91755df"
      }
     },
     "7b0c0b59362f40cbaaa529eaf87136ab": {
      "model_module": "jupyter-matplotlib",
      "model_module_version": "^0.8.2",
      "model_name": "ToolbarModel",
      "state": {
       "layout": "IPY_MODEL_a6bfae230f6d47b3b0ac1606b11adb3b",
       "toolitems": [
        [
         "Home",
         "Reset original view",
         "home",
         "home"
        ],
        [
         "Back",
         "Back to previous view",
         "arrow-left",
         "back"
        ],
        [
         "Forward",
         "Forward to next view",
         "arrow-right",
         "forward"
        ],
        [
         "Pan",
         "Left button pans, Right button zooms\nx/y fixes axis, CTRL fixes aspect",
         "arrows",
         "pan"
        ],
        [
         "Zoom",
         "Zoom to rectangle\nx/y fixes axis, CTRL fixes aspect",
         "square-o",
         "zoom"
        ],
        [
         "Download",
         "Download plot",
         "floppy-o",
         "save_figure"
        ]
       ]
      }
     },
     "8007058fa57f44948f7dd4ee699f8336": {
      "model_module": "@jupyter-widgets/base",
      "model_module_version": "1.2.0",
      "model_name": "LayoutModel",
      "state": {}
     },
     "86c45799c69b4ddc929c9580ea85ccb2": {
      "model_module": "@jupyter-widgets/base",
      "model_module_version": "1.2.0",
      "model_name": "LayoutModel",
      "state": {}
     },
     "881414cdc78848c79430be25c6d6ea7b": {
      "model_module": "@jupyter-widgets/controls",
      "model_module_version": "1.5.0",
      "model_name": "DescriptionStyleModel",
      "state": {
       "description_width": ""
      }
     },
     "88c0f852d78a436b9c830a461dd13cc4": {
      "model_module": "@jupyter-widgets/base",
      "model_module_version": "1.2.0",
      "model_name": "LayoutModel",
      "state": {}
     },
     "88dc158b8a364cbaaebe894fd0333bc9": {
      "model_module": "jupyter-matplotlib",
      "model_module_version": "^0.8.2",
      "model_name": "ToolbarModel",
      "state": {
       "layout": "IPY_MODEL_4cb2ac682d984bfab19372af020a7548",
       "toolitems": [
        [
         "Home",
         "Reset original view",
         "home",
         "home"
        ],
        [
         "Back",
         "Back to previous view",
         "arrow-left",
         "back"
        ],
        [
         "Forward",
         "Forward to next view",
         "arrow-right",
         "forward"
        ],
        [
         "Pan",
         "Left button pans, Right button zooms\nx/y fixes axis, CTRL fixes aspect",
         "arrows",
         "pan"
        ],
        [
         "Zoom",
         "Zoom to rectangle\nx/y fixes axis, CTRL fixes aspect",
         "square-o",
         "zoom"
        ],
        [
         "Download",
         "Download plot",
         "floppy-o",
         "save_figure"
        ]
       ]
      }
     },
     "8cb33ebb415e406898b8ea63c04a2c6d": {
      "model_module": "@jupyter-widgets/base",
      "model_module_version": "1.2.0",
      "model_name": "LayoutModel",
      "state": {}
     },
     "91cdd70e0e2747838c45cf3fde3a7660": {
      "model_module": "jupyter-matplotlib",
      "model_module_version": "^0.8.2",
      "model_name": "ToolbarModel",
      "state": {
       "layout": "IPY_MODEL_76f74b8c31a8457487d4759a5c020a66",
       "toolitems": [
        [
         "Home",
         "Reset original view",
         "home",
         "home"
        ],
        [
         "Back",
         "Back to previous view",
         "arrow-left",
         "back"
        ],
        [
         "Forward",
         "Forward to next view",
         "arrow-right",
         "forward"
        ],
        [
         "Pan",
         "Left button pans, Right button zooms\nx/y fixes axis, CTRL fixes aspect",
         "arrows",
         "pan"
        ],
        [
         "Zoom",
         "Zoom to rectangle\nx/y fixes axis, CTRL fixes aspect",
         "square-o",
         "zoom"
        ],
        [
         "Download",
         "Download plot",
         "floppy-o",
         "save_figure"
        ]
       ]
      }
     },
     "91d99940992247afb25294ff41db5914": {
      "model_module": "jupyter-matplotlib",
      "model_module_version": "^0.8.2",
      "model_name": "ToolbarModel",
      "state": {
       "layout": "IPY_MODEL_c6ca061c19c44f24847dd98575988b2d",
       "toolitems": [
        [
         "Home",
         "Reset original view",
         "home",
         "home"
        ],
        [
         "Back",
         "Back to previous view",
         "arrow-left",
         "back"
        ],
        [
         "Forward",
         "Forward to next view",
         "arrow-right",
         "forward"
        ],
        [
         "Pan",
         "Left button pans, Right button zooms\nx/y fixes axis, CTRL fixes aspect",
         "arrows",
         "pan"
        ],
        [
         "Zoom",
         "Zoom to rectangle\nx/y fixes axis, CTRL fixes aspect",
         "square-o",
         "zoom"
        ],
        [
         "Download",
         "Download plot",
         "floppy-o",
         "save_figure"
        ]
       ]
      }
     },
     "92eb5dac533443ec99d6d64a87354ca9": {
      "model_module": "jupyter-matplotlib",
      "model_module_version": "^0.8.2",
      "model_name": "MPLCanvasModel",
      "state": {
       "_cursor": "default",
       "_figure_label": "Figure 18",
       "_height": 384,
       "_width": 512,
       "layout": "IPY_MODEL_30c71c4ed2924a459176dd7cafa43f1f",
       "toolbar": "IPY_MODEL_a43b06a2d55941e9b4046121d3b8b0f7",
       "toolbar_position": "left"
      }
     },
     "93b7709900eb4b3586034fa566068820": {
      "model_module": "@jupyter-widgets/base",
      "model_module_version": "1.2.0",
      "model_name": "LayoutModel",
      "state": {}
     },
     "a0324806ddc740b7b405402697148e12": {
      "model_module": "jupyter-matplotlib",
      "model_module_version": "^0.8.2",
      "model_name": "MPLCanvasModel",
      "state": {
       "_cursor": "default",
       "_figure_label": "Figure 8",
       "_height": 575,
       "_width": 1536,
       "layout": "IPY_MODEL_a53eeddb7d074ec7b361a56c6c49825f",
       "toolbar": "IPY_MODEL_27f97a18636b41b8946d538978351889",
       "toolbar_position": "left"
      }
     },
     "a03cd66528d54c9280578e2ddd0a911e": {
      "model_module": "@jupyter-widgets/base",
      "model_module_version": "1.2.0",
      "model_name": "LayoutModel",
      "state": {}
     },
     "a30827e77dd24aed87cb341a7367ba75": {
      "model_module": "jupyter-matplotlib",
      "model_module_version": "^0.8.2",
      "model_name": "ToolbarModel",
      "state": {
       "layout": "IPY_MODEL_339edc6c492d478e91bd1005903fa508",
       "toolitems": [
        [
         "Home",
         "Reset original view",
         "home",
         "home"
        ],
        [
         "Back",
         "Back to previous view",
         "arrow-left",
         "back"
        ],
        [
         "Forward",
         "Forward to next view",
         "arrow-right",
         "forward"
        ],
        [
         "Pan",
         "Left button pans, Right button zooms\nx/y fixes axis, CTRL fixes aspect",
         "arrows",
         "pan"
        ],
        [
         "Zoom",
         "Zoom to rectangle\nx/y fixes axis, CTRL fixes aspect",
         "square-o",
         "zoom"
        ],
        [
         "Download",
         "Download plot",
         "floppy-o",
         "save_figure"
        ]
       ]
      }
     },
     "a32d2aabfd6143ed9c8be232a4c234fd": {
      "model_module": "@jupyter-widgets/base",
      "model_module_version": "1.2.0",
      "model_name": "LayoutModel",
      "state": {}
     },
     "a43b06a2d55941e9b4046121d3b8b0f7": {
      "model_module": "jupyter-matplotlib",
      "model_module_version": "^0.8.2",
      "model_name": "ToolbarModel",
      "state": {
       "layout": "IPY_MODEL_b71cb415ad4d46a0bd74df831dadbd9b",
       "toolitems": [
        [
         "Home",
         "Reset original view",
         "home",
         "home"
        ],
        [
         "Back",
         "Back to previous view",
         "arrow-left",
         "back"
        ],
        [
         "Forward",
         "Forward to next view",
         "arrow-right",
         "forward"
        ],
        [
         "Pan",
         "Left button pans, Right button zooms\nx/y fixes axis, CTRL fixes aspect",
         "arrows",
         "pan"
        ],
        [
         "Zoom",
         "Zoom to rectangle\nx/y fixes axis, CTRL fixes aspect",
         "square-o",
         "zoom"
        ],
        [
         "Download",
         "Download plot",
         "floppy-o",
         "save_figure"
        ]
       ]
      }
     },
     "a4afe3692896494d92039d11f1c75048": {
      "model_module": "@jupyter-widgets/base",
      "model_module_version": "1.2.0",
      "model_name": "LayoutModel",
      "state": {}
     },
     "a53eeddb7d074ec7b361a56c6c49825f": {
      "model_module": "@jupyter-widgets/base",
      "model_module_version": "1.2.0",
      "model_name": "LayoutModel",
      "state": {}
     },
     "a6bfae230f6d47b3b0ac1606b11adb3b": {
      "model_module": "@jupyter-widgets/base",
      "model_module_version": "1.2.0",
      "model_name": "LayoutModel",
      "state": {}
     },
     "abf1eeebe3c24d5283b5a9bc8bc63c74": {
      "model_module": "jupyter-matplotlib",
      "model_module_version": "^0.8.2",
      "model_name": "ToolbarModel",
      "state": {
       "layout": "IPY_MODEL_ef38af950c7c4c099d0532140f269611",
       "toolitems": [
        [
         "Home",
         "Reset original view",
         "home",
         "home"
        ],
        [
         "Back",
         "Back to previous view",
         "arrow-left",
         "back"
        ],
        [
         "Forward",
         "Forward to next view",
         "arrow-right",
         "forward"
        ],
        [
         "Pan",
         "Left button pans, Right button zooms\nx/y fixes axis, CTRL fixes aspect",
         "arrows",
         "pan"
        ],
        [
         "Zoom",
         "Zoom to rectangle\nx/y fixes axis, CTRL fixes aspect",
         "square-o",
         "zoom"
        ],
        [
         "Download",
         "Download plot",
         "floppy-o",
         "save_figure"
        ]
       ]
      }
     },
     "ac8c4809ea2644dc88e6d4b9a93dbfee": {
      "model_module": "jupyter-matplotlib",
      "model_module_version": "^0.8.2",
      "model_name": "MPLCanvasModel",
      "state": {
       "_cursor": "default",
       "_figure_label": "Figure 14",
       "_height": 384,
       "_width": 1024,
       "layout": "IPY_MODEL_d4065d78f39148f4b1dc88de101f194d",
       "toolbar": "IPY_MODEL_a30827e77dd24aed87cb341a7367ba75",
       "toolbar_position": "left"
      }
     },
     "b71cb415ad4d46a0bd74df831dadbd9b": {
      "model_module": "@jupyter-widgets/base",
      "model_module_version": "1.2.0",
      "model_name": "LayoutModel",
      "state": {}
     },
     "bc18bda8a63e46579a290f0b64f98001": {
      "model_module": "@jupyter-widgets/base",
      "model_module_version": "1.2.0",
      "model_name": "LayoutModel",
      "state": {}
     },
     "bc1bfcf6573b4dbb99a356dda91755df": {
      "model_module": "@jupyter-widgets/base",
      "model_module_version": "1.2.0",
      "model_name": "LayoutModel",
      "state": {}
     },
     "bd780a9f08e9472c9752fc555fee899e": {
      "model_module": "jupyter-matplotlib",
      "model_module_version": "^0.8.2",
      "model_name": "MPLCanvasModel",
      "state": {
       "_cursor": "default",
       "_figure_label": "Figure 6",
       "_height": 384,
       "_width": 512,
       "layout": "IPY_MODEL_10edc5ea44c947cebf3e12a53479d061",
       "toolbar": "IPY_MODEL_91d99940992247afb25294ff41db5914",
       "toolbar_position": "left"
      }
     },
     "bdfcfb80b7474dc1911bc8afdc3166f2": {
      "model_module": "@jupyter-widgets/base",
      "model_module_version": "1.2.0",
      "model_name": "LayoutModel",
      "state": {}
     },
     "c6ca061c19c44f24847dd98575988b2d": {
      "model_module": "@jupyter-widgets/base",
      "model_module_version": "1.2.0",
      "model_name": "LayoutModel",
      "state": {}
     },
     "ca5b26a5acae48f1b34f1714991dd35d": {
      "model_module": "@jupyter-widgets/base",
      "model_module_version": "1.2.0",
      "model_name": "LayoutModel",
      "state": {}
     },
     "ca88c9b962ca47a4bca16765829f210a": {
      "model_module": "@jupyter-widgets/base",
      "model_module_version": "1.2.0",
      "model_name": "LayoutModel",
      "state": {}
     },
     "cfd1d22174a143828e3cdc1227785c04": {
      "model_module": "@jupyter-widgets/base",
      "model_module_version": "1.2.0",
      "model_name": "LayoutModel",
      "state": {}
     },
     "d0fa7113657c4a9c9b5ce98299c36b6f": {
      "model_module": "jupyter-matplotlib",
      "model_module_version": "^0.8.2",
      "model_name": "MPLCanvasModel",
      "state": {
       "_cursor": "default",
       "_figure_label": "Figure 15",
       "_height": 575,
       "_width": 1536,
       "layout": "IPY_MODEL_42229a67b3e044739aeca18b8c04ad1d",
       "toolbar": "IPY_MODEL_5c1cfad2c1034e40987de9d78df68952",
       "toolbar_position": "left"
      }
     },
     "d4065d78f39148f4b1dc88de101f194d": {
      "model_module": "@jupyter-widgets/base",
      "model_module_version": "1.2.0",
      "model_name": "LayoutModel",
      "state": {}
     },
     "d4629c0778c945e18882bc2ac88a697e": {
      "model_module": "jupyter-matplotlib",
      "model_module_version": "^0.8.2",
      "model_name": "MPLCanvasModel",
      "state": {
       "_cursor": "default",
       "_figure_label": "Figure 16",
       "_height": 287,
       "_width": 1536,
       "layout": "IPY_MODEL_f6dd2f2b56c9466e8176ee3f6698b68d",
       "toolbar": "IPY_MODEL_91cdd70e0e2747838c45cf3fde3a7660",
       "toolbar_position": "left"
      }
     },
     "de582159a5974c4ab80f0144f8d9fe04": {
      "model_module": "jupyter-matplotlib",
      "model_module_version": "^0.8.2",
      "model_name": "MPLCanvasModel",
      "state": {
       "_cursor": "default",
       "_figure_label": "Figure 2",
       "_height": 384,
       "_message": "x=99.4 y=71.9\n[8.90e+12]",
       "_width": 512,
       "layout": "IPY_MODEL_93b7709900eb4b3586034fa566068820",
       "toolbar": "IPY_MODEL_607ad9c4cb09431cb4841f6dd4699c4c",
       "toolbar_position": "left"
      }
     },
     "dfcf3592f9174db48e1856edc90f4f80": {
      "model_module": "@jupyter-widgets/base",
      "model_module_version": "1.2.0",
      "model_name": "LayoutModel",
      "state": {}
     },
     "e7137dcbff31405ca0d339eeabb938b2": {
      "model_module": "jupyter-matplotlib",
      "model_module_version": "^0.8.2",
      "model_name": "MPLCanvasModel",
      "state": {
       "_cursor": "default",
       "_figure_label": "Figure 17",
       "_height": 384,
       "_width": 1536,
       "layout": "IPY_MODEL_8cb33ebb415e406898b8ea63c04a2c6d",
       "toolbar": "IPY_MODEL_88dc158b8a364cbaaebe894fd0333bc9",
       "toolbar_position": "left"
      }
     },
     "ed3b220b89b640968577d98687f4c2c2": {
      "model_module": "jupyter-matplotlib",
      "model_module_version": "^0.8.2",
      "model_name": "ToolbarModel",
      "state": {
       "layout": "IPY_MODEL_4a8c6baf919f482bb1a4326b8ddba7b1",
       "toolitems": [
        [
         "Home",
         "Reset original view",
         "home",
         "home"
        ],
        [
         "Back",
         "Back to previous view",
         "arrow-left",
         "back"
        ],
        [
         "Forward",
         "Forward to next view",
         "arrow-right",
         "forward"
        ],
        [
         "Pan",
         "Left button pans, Right button zooms\nx/y fixes axis, CTRL fixes aspect",
         "arrows",
         "pan"
        ],
        [
         "Zoom",
         "Zoom to rectangle\nx/y fixes axis, CTRL fixes aspect",
         "square-o",
         "zoom"
        ],
        [
         "Download",
         "Download plot",
         "floppy-o",
         "save_figure"
        ]
       ]
      }
     },
     "ef38af950c7c4c099d0532140f269611": {
      "model_module": "@jupyter-widgets/base",
      "model_module_version": "1.2.0",
      "model_name": "LayoutModel",
      "state": {}
     },
     "efb40c77f5c44d3a938920aa8edab2fa": {
      "model_module": "@jupyter-widgets/base",
      "model_module_version": "1.2.0",
      "model_name": "LayoutModel",
      "state": {}
     },
     "f294f82ae9804c6a928b264a494cf263": {
      "model_module": "jupyter-matplotlib",
      "model_module_version": "^0.8.2",
      "model_name": "ToolbarModel",
      "state": {
       "layout": "IPY_MODEL_bdfcfb80b7474dc1911bc8afdc3166f2",
       "toolitems": [
        [
         "Home",
         "Reset original view",
         "home",
         "home"
        ],
        [
         "Back",
         "Back to previous view",
         "arrow-left",
         "back"
        ],
        [
         "Forward",
         "Forward to next view",
         "arrow-right",
         "forward"
        ],
        [
         "Pan",
         "Left button pans, Right button zooms\nx/y fixes axis, CTRL fixes aspect",
         "arrows",
         "pan"
        ],
        [
         "Zoom",
         "Zoom to rectangle\nx/y fixes axis, CTRL fixes aspect",
         "square-o",
         "zoom"
        ],
        [
         "Download",
         "Download plot",
         "floppy-o",
         "save_figure"
        ]
       ]
      }
     },
     "f46eb819b9a24f20a71a7b0fc1625516": {
      "model_module": "@jupyter-widgets/base",
      "model_module_version": "1.2.0",
      "model_name": "LayoutModel",
      "state": {}
     },
     "f6dd2f2b56c9466e8176ee3f6698b68d": {
      "model_module": "@jupyter-widgets/base",
      "model_module_version": "1.2.0",
      "model_name": "LayoutModel",
      "state": {}
     },
     "f751388ed5a346d1b37fe7e0c721d0cf": {
      "model_module": "@jupyter-widgets/controls",
      "model_module_version": "1.5.0",
      "model_name": "ProgressStyleModel",
      "state": {
       "description_width": ""
      }
     },
     "ffebd351a1ea484e979bb48cbb8569d8": {
      "model_module": "jupyter-matplotlib",
      "model_module_version": "^0.8.2",
      "model_name": "ToolbarModel",
      "state": {
       "layout": "IPY_MODEL_efb40c77f5c44d3a938920aa8edab2fa",
       "toolitems": [
        [
         "Home",
         "Reset original view",
         "home",
         "home"
        ],
        [
         "Back",
         "Back to previous view",
         "arrow-left",
         "back"
        ],
        [
         "Forward",
         "Forward to next view",
         "arrow-right",
         "forward"
        ],
        [
         "Pan",
         "Left button pans, Right button zooms\nx/y fixes axis, CTRL fixes aspect",
         "arrows",
         "pan"
        ],
        [
         "Zoom",
         "Zoom to rectangle\nx/y fixes axis, CTRL fixes aspect",
         "square-o",
         "zoom"
        ],
        [
         "Download",
         "Download plot",
         "floppy-o",
         "save_figure"
        ]
       ]
      }
     }
    },
    "version_major": 2,
    "version_minor": 0
   }
  }
 },
 "nbformat": 4,
 "nbformat_minor": 5
}
