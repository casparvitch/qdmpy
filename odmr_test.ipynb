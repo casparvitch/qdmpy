{
 "cells": [
  {
   "cell_type": "code",
   "execution_count": 1,
   "id": "endangered-strategy",
   "metadata": {
    "slideshow": {
     "slide_type": "slide"
    }
   },
   "outputs": [],
   "source": [
    "import QDMPy.io as Qio\n",
    "import QDMPy.fit as Qfit\n",
    "import QDMPy.plot as Qplot\n",
    "import QDMPy.field as Qfield\n",
    "\n",
    "import matplotlib\n",
    "import matplotlib.pyplot as plt\n",
    "import warnings"
   ]
  },
  {
   "cell_type": "code",
   "execution_count": 2,
   "id": "thousand-radio",
   "metadata": {},
   "outputs": [],
   "source": [
    "# '%matplotlib widget' allows interactive plots in jupyterlab\n",
    "# use ''%matplotlib inline' to allow export to pdf\n",
    "%matplotlib widget"
   ]
  },
  {
   "cell_type": "markdown",
   "id": "incoming-crossing",
   "metadata": {},
   "source": [
    "### Load raw data"
   ]
  },
  {
   "cell_type": "code",
   "execution_count": 3,
   "id": "collected-marathon",
   "metadata": {},
   "outputs": [],
   "source": [
    "options_dict = {\n",
    "    # Argus: C:\\\\src\\\\QDMPY_test_image\n",
    "    # Sam: /home/samsc/ResearchData/test_images/\n",
    "    \"base_dir\": \"/home/samsc/ResearchData/test_images/\",\n",
    "    \"filepath\": \"ODMR - Pulsed_42\",\n",
    "    \"custom_output_dir_suffix\": \"_{ROI}\",\n",
    "    \n",
    "    \"additional_bins\": 8,\n",
    "\n",
    "    \"system_name\": \"Zyla\",\n",
    "\n",
    "    \"ROI\": \"Full\", \n",
    "    \"ROI_start\": [10, 30],\n",
    "    \"ROI_end\": [20,40],\n",
    "    \n",
    "    \"AOI_1_start\": [60, 145],\n",
    "    \"AOI_1_end\": [70, 155], \n",
    "    \"AOI_2_start\": [20, 20],\n",
    "    \"AOI_2_end\": [24, 24], \n",
    "    \"AOI_3_start\": [30, 20],\n",
    "    \"AOI_3_end\": [32, 24], \n",
    "    \"single_pixel_check\": [90, 150],\n",
    "\n",
    "    \"normalisation\": \"div\",\n",
    "    \n",
    "    \"fit_backend\": \"scipyfit\",\n",
    "    \"fit_backend_comparison\": [\"scipyfit\"],\n",
    "    \"fit_pixels\": True, \n",
    "    \"force_fit\": False, \n",
    "    \n",
    "    \"use_ROI_avg_fit_res_for_all_pixels\": True,\n",
    "    \n",
    "    \"scipyfit_sub_threads\": 2, \n",
    "\n",
    "    \"fit_functions\":  {\"linear\": 1, \"lorentzian\": 8},\n",
    "\n",
    "#     \"pos_guess\": [2610, 2708, 2805, 2879, 2953, 3020, 3092, 3145], # ODMR - Pulsed with IR_83\n",
    "    \"pos_guess\": [2631, 2723, 2787, 2866, 2955, 3022, 3066, 3130], # ODMR - Pulsed_42\n",
    "    \"pos_range\": 25,\n",
    "\n",
    "    \"amp_guess\": -0.02,\n",
    "    \"amp_bounds\": [-0.0300, -0.0003],\n",
    "\n",
    "    \"gpufit_tolerance\": 1e-12,\n",
    "    \"gpufit_max_iterations\": 25,\n",
    "    \"gpufit_estimator_id\": \"LSE\",\n",
    "    \n",
    "    \"save_fig_type\": \"pdf\",\n",
    "    \n",
    "    \"freqs_to_use\": [1, 1, 1, 1, 1, 1, 1, 1],\n",
    "    \"diamond_ori\": \"<100>_<110>\", # this is one of the funny HPHTs\n",
    "    \n",
    "    \"bias_mag\": 100,\n",
    "    \"bias_theta\": 67,\n",
    "    \"bias_phi\": -120,\n",
    "    \n",
    "    \"hamiltonian\": \"bxyz\"\n",
    "}"
   ]
  },
  {
   "cell_type": "code",
   "execution_count": 4,
   "id": "double-click",
   "metadata": {},
   "outputs": [
    {
     "data": {
      "application/vnd.jupyter.widget-view+json": {
       "model_id": "5f74235944f8478e9698ad65f2c447fa",
       "version_major": 2,
       "version_minor": 0
      },
      "text/plain": [
       "Canvas(toolbar=Toolbar(toolitems=[('Home', 'Reset original view', 'home', 'home'), ('Back', 'Back to previous …"
      ]
     },
     "metadata": {},
     "output_type": "display_data"
    },
    {
     "data": {
      "application/vnd.jupyter.widget-view+json": {
       "model_id": "c506bb3fcc094a459499cd91d5e58162",
       "version_major": 2,
       "version_minor": 0
      },
      "text/plain": [
       "Canvas(toolbar=Toolbar(toolitems=[('Home', 'Reset original view', 'home', 'home'), ('Back', 'Back to previous …"
      ]
     },
     "metadata": {},
     "output_type": "display_data"
    },
    {
     "data": {
      "application/vnd.jupyter.widget-view+json": {
       "model_id": "aa5784129c3549528c0a095e2627d174",
       "version_major": 2,
       "version_minor": 0
      },
      "text/plain": [
       "Canvas(toolbar=Toolbar(toolitems=[('Home', 'Reset original view', 'home', 'home'), ('Back', 'Back to previous …"
      ]
     },
     "metadata": {},
     "output_type": "display_data"
    }
   ],
   "source": [
    "options = Qio.load_options(options_dict=options_dict, check_for_prev_result=True)\n",
    "Qplot.set_mpl_rcparams(options)\n",
    "image, prelim_sweep_list = Qio.load_image_and_sweep(options)\n",
    "PL_image, PL_image_ROI, sig, ref, sig_norm, single_pixel_pl, sweep_list = Qio.reshape_dataset(\n",
    "        options, image, prelim_sweep_list\n",
    "    )\n",
    "ROI_PL_fig = Qplot.plot_ROI_PL_image(options, PL_image)\n",
    "\n",
    "AOI_PL_fig = Qplot.plot_AOI_PL_images(options, PL_image_ROI)\n",
    "\n",
    "AOI_spectra_fig = Qplot.plot_AOI_spectra(options, sig, ref, sweep_list)\n",
    "\n",
    "Qio.save_PL_data(options, PL_image, PL_image_ROI)"
   ]
  },
  {
   "cell_type": "markdown",
   "id": "great-citation",
   "metadata": {},
   "source": [
    "### Fit AOI, ROI averages, single pixel"
   ]
  },
  {
   "cell_type": "code",
   "execution_count": 5,
   "id": "fifty-denver",
   "metadata": {},
   "outputs": [
    {
     "name": "stderr",
     "output_type": "stream",
     "text": [
      "/home/samsc/src/nv/QDMPy_proj/QDMPy_git/QDMPy/fit/_scipyfit.py:35: TqdmExperimentalWarning: Using `tqdm.autonotebook.tqdm` in notebook mode. Use `tqdm.tqdm` instead to force console mode (e.g. in jupyter console)\n",
      "  from tqdm.autonotebook import tqdm  # auto detects jupyter\n"
     ]
    },
    {
     "data": {
      "application/vnd.jupyter.widget-view+json": {
       "model_id": "597378b34fbc42378fb2b7fb241cee46",
       "version_major": 2,
       "version_minor": 0
      },
      "text/plain": [
       "Canvas(toolbar=Toolbar(toolitems=[('Home', 'Reset original view', 'home', 'home'), ('Back', 'Back to previous …"
      ]
     },
     "metadata": {},
     "output_type": "display_data"
    },
    {
     "data": {
      "application/vnd.jupyter.widget-view+json": {
       "model_id": "4743a77d4b9b4d55b0be3c56f2c65d0e",
       "version_major": 2,
       "version_minor": 0
      },
      "text/plain": [
       "Canvas(toolbar=Toolbar(toolitems=[('Home', 'Reset original view', 'home', 'home'), ('Back', 'Back to previous …"
      ]
     },
     "metadata": {},
     "output_type": "display_data"
    }
   ],
   "source": [
    "fit_model = Qfit.define_fit_model(options)\n",
    "backend_ROI_results_lst = Qfit.fit_ROI_avg(options, sig_norm, sweep_list, fit_model)\n",
    "ROI_fit_fig = Qplot.plot_ROI_avg_fits(options, backend_ROI_results_lst)\n",
    "\n",
    "fit_result_collection_lst = Qfit.fit_AOIs(options, sig_norm, single_pixel_pl, sweep_list, fit_model, backend_ROI_results_lst)\n",
    "AOI_fit_fig = Qplot.plot_AOI_spectra_fit(options, sig, ref, sweep_list, fit_result_collection_lst, fit_model)"
   ]
  },
  {
   "cell_type": "markdown",
   "id": "jewish-specification",
   "metadata": {},
   "source": [
    "### Fit pixels"
   ]
  },
  {
   "cell_type": "code",
   "execution_count": 6,
   "id": "superb-columbia",
   "metadata": {},
   "outputs": [
    {
     "name": "stderr",
     "output_type": "stream",
     "text": [
      "<ipython-input-6-07b43404531b>:5: UserWarning: Using previous fit results.\n",
      "  warnings.warn(\"Using previous fit results.\")\n"
     ]
    }
   ],
   "source": [
    "wanted_roi_result = next(filter(lambda result : result.fit_backend == options[\"fit_backend\"], backend_ROI_results_lst))\n",
    "if options[\"found_prev_result\"]:\n",
    "    pixel_fit_params = Qio.load_prev_fit_results(options)\n",
    "    sigmas = Qio.load_prev_fit_sigmas(options)\n",
    "    warnings.warn(\"Using previous fit results.\")\n",
    "elif options[\"fit_pixels\"]:\n",
    "    pixel_fit_params, sigmas = Qfit.fit_pixels(options, sig_norm, sweep_list, fit_model, wanted_roi_result)\n",
    "else:\n",
    "    pixel_fit_params = None # not fitting pixels, this stops plotting (e.g. via plot_param_images) from erroring\n",
    "    sigmas = None\n",
    "\n",
    "Qio.save_pixel_fit_results(options, pixel_fit_params)\n",
    "Qio.save_pixel_fit_sigmas(options, sigmas)"
   ]
  },
  {
   "cell_type": "code",
   "execution_count": 7,
   "id": "occasional-premium",
   "metadata": {},
   "outputs": [],
   "source": [
    "Qio.save_options(options) # whilst testing"
   ]
  },
  {
   "cell_type": "markdown",
   "id": "waiting-terry",
   "metadata": {},
   "source": [
    "### Plot (fit) parameters"
   ]
  },
  {
   "cell_type": "code",
   "execution_count": 8,
   "id": "public-convertible",
   "metadata": {},
   "outputs": [
    {
     "data": {
      "application/vnd.jupyter.widget-view+json": {
       "model_id": "f47afab3092741c0ba8b92563acb0ec8",
       "version_major": 2,
       "version_minor": 0
      },
      "text/plain": [
       "Canvas(toolbar=Toolbar(toolitems=[('Home', 'Reset original view', 'home', 'home'), ('Back', 'Back to previous …"
      ]
     },
     "metadata": {},
     "output_type": "display_data"
    },
    {
     "data": {
      "application/vnd.jupyter.widget-view+json": {
       "model_id": "d3be76ee1f724c6fbaa91e3d85ca9770",
       "version_major": 2,
       "version_minor": 0
      },
      "text/plain": [
       "Canvas(toolbar=Toolbar(toolitems=[('Home', 'Reset original view', 'home', 'home'), ('Back', 'Back to previous …"
      ]
     },
     "metadata": {},
     "output_type": "display_data"
    },
    {
     "data": {
      "application/vnd.jupyter.widget-view+json": {
       "model_id": "141c76ce1a084d8f856d779e87cea9a7",
       "version_major": 2,
       "version_minor": 0
      },
      "text/plain": [
       "Canvas(toolbar=Toolbar(toolitems=[('Home', 'Reset original view', 'home', 'home'), ('Back', 'Back to previous …"
      ]
     },
     "metadata": {},
     "output_type": "display_data"
    },
    {
     "data": {
      "application/vnd.jupyter.widget-view+json": {
       "model_id": "a9b30d861e1f42ba849f36ee5c323f64",
       "version_major": 2,
       "version_minor": 0
      },
      "text/plain": [
       "Canvas(toolbar=Toolbar(toolitems=[('Home', 'Reset original view', 'home', 'home'), ('Back', 'Back to previous …"
      ]
     },
     "metadata": {},
     "output_type": "display_data"
    },
    {
     "data": {
      "application/vnd.jupyter.widget-view+json": {
       "model_id": "d400b67845f1494dbc0f573672f3e4fc",
       "version_major": 2,
       "version_minor": 0
      },
      "text/plain": [
       "Canvas(toolbar=Toolbar(toolitems=[('Home', 'Reset original view', 'home', 'home'), ('Back', 'Back to previous …"
      ]
     },
     "metadata": {},
     "output_type": "display_data"
    },
    {
     "data": {
      "application/vnd.jupyter.widget-view+json": {
       "model_id": "9bf2ceace3bf4342a863ea242ad55837",
       "version_major": 2,
       "version_minor": 0
      },
      "text/plain": [
       "Canvas(toolbar=Toolbar(toolitems=[('Home', 'Reset original view', 'home', 'home'), ('Back', 'Back to previous …"
      ]
     },
     "metadata": {},
     "output_type": "display_data"
    }
   ],
   "source": [
    "c_fig = Qplot.plot_param_images(options, fit_model, pixel_fit_params, \"c\")\n",
    "m_fig = Qplot.plot_param_images(options, fit_model, pixel_fit_params, \"m\")\n",
    "pos_fig = Qplot.plot_param_images(options, fit_model, pixel_fit_params, \"pos\")\n",
    "amp_fig = Qplot.plot_param_images(options, fit_model, pixel_fit_params, \"amp\")\n",
    "fwhm_fig = Qplot.plot_param_images(options, fit_model, pixel_fit_params, \"fwhm\")\n",
    "residual_fig = Qplot.plot_param_images(options, fit_model, pixel_fit_params, \"residual\")"
   ]
  },
  {
   "cell_type": "code",
   "execution_count": 9,
   "id": "nearby-recognition",
   "metadata": {},
   "outputs": [
    {
     "data": {
      "application/vnd.jupyter.widget-view+json": {
       "model_id": "92d58009d3ec4ed5ba2435d14d574950",
       "version_major": 2,
       "version_minor": 0
      },
      "text/plain": [
       "Canvas(toolbar=Toolbar(toolitems=[('Home', 'Reset original view', 'home', 'home'), ('Back', 'Back to previous …"
      ]
     },
     "metadata": {},
     "output_type": "display_data"
    }
   ],
   "source": [
    "pos_sigma_plot = Qplot.plot_param_images(options, fit_model, sigmas, \"pos\", errorplot=True)"
   ]
  },
  {
   "cell_type": "markdown",
   "id": "concerned-longer",
   "metadata": {},
   "source": [
    "### Initial guess and fit vs data (flattened)"
   ]
  },
  {
   "cell_type": "code",
   "execution_count": 19,
   "id": "private-stupid",
   "metadata": {},
   "outputs": [
    {
     "data": {
      "application/vnd.jupyter.widget-view+json": {
       "model_id": "a3f2ce2de5dc4647a6a92c2356112b70",
       "version_major": 2,
       "version_minor": 0
      },
      "text/plain": [
       "Canvas(toolbar=Toolbar(toolitems=[('Home', 'Reset original view', 'home', 'home'), ('Back', 'Back to previous …"
      ]
     },
     "metadata": {},
     "output_type": "display_data"
    },
    {
     "data": {
      "application/vnd.jupyter.widget-view+json": {
       "model_id": "4ccbd33f817142ccaad9feffd650ed0a",
       "version_major": 2,
       "version_minor": 0
      },
      "text/plain": [
       "Canvas(toolbar=Toolbar(toolitems=[('Home', 'Reset original view', 'home', 'home'), ('Back', 'Back to previous …"
      ]
     },
     "metadata": {},
     "output_type": "display_data"
    }
   ],
   "source": [
    "flat_pos_fig = Qplot.plot_params_flattened(options, fit_model, pixel_fit_params, wanted_roi_result, \"pos\", sigmas=sigmas, plot_bounds=False, plot_sigmas=False, errorevery=1000)\n",
    "flat_resid_fig = Qplot.plot_params_flattened(options, fit_model, pixel_fit_params, wanted_roi_result, \"residual\", sigmas=sigmas)"
   ]
  },
  {
   "cell_type": "markdown",
   "id": "downtown-language",
   "metadata": {},
   "source": [
    "### Load reference experiment - note, you can fit in this same notebook!"
   ]
  },
  {
   "cell_type": "code",
   "execution_count": 11,
   "id": "attractive-rebecca",
   "metadata": {},
   "outputs": [
    {
     "name": "stderr",
     "output_type": "stream",
     "text": [
      "/home/samsc/src/nv/QDMPy_proj/QDMPy_git/QDMPy/io/fit.py:156: UserWarning: No reference experiment options dict provided, continuing without reference.\n",
      "  warnings.warn(\n"
     ]
    }
   ],
   "source": [
    "ref_options_dir = None # if you want to use a reference experiment {ensure you run this even if 'None' as it sets up output dirs etc.}\n",
    "# below: alternative is to just have the dictionary already loaded (above this is called `pixel_fit_params`)\n",
    "ref_fit_params, ref_sigmas = Qio.load_reference_experiment_fit_results(options, ref_options=None, ref_options_dir=ref_options_dir)"
   ]
  },
  {
   "cell_type": "markdown",
   "id": "completed-credits",
   "metadata": {},
   "source": [
    "### Field retrieval"
   ]
  },
  {
   "cell_type": "code",
   "execution_count": 12,
   "id": "eleven-arrival",
   "metadata": {},
   "outputs": [
    {
     "data": {
      "application/vnd.jupyter.widget-view+json": {
       "model_id": "d8b6d6002a13472aa454c26ed8547299",
       "version_major": 2,
       "version_minor": 0
      },
      "text/plain": [
       "  0%|          | 0/21600 [00:00<?, ? PX/s]"
      ]
     },
     "metadata": {},
     "output_type": "display_data"
    }
   ],
   "source": [
    "field_res = Qfield.odmr_field_retrieval(options, pixel_fit_params, ref_fit_params)\n",
    "(sig_bnvs, ref_bnvs, bnvs), (sig_dshifts, ref_dshifts), (sig_params, ref_params), (sig_field_sigmas, ref_field_sigmas) = field_res"
   ]
  },
  {
   "cell_type": "code",
   "execution_count": 13,
   "id": "requested-newspaper",
   "metadata": {},
   "outputs": [
    {
     "data": {
      "application/vnd.jupyter.widget-view+json": {
       "model_id": "36b23868947d4f609d5772894dd0b8e6",
       "version_major": 2,
       "version_minor": 0
      },
      "text/plain": [
       "Canvas(toolbar=Toolbar(toolitems=[('Home', 'Reset original view', 'home', 'home'), ('Back', 'Back to previous …"
      ]
     },
     "metadata": {},
     "output_type": "display_data"
    },
    {
     "data": {
      "application/vnd.jupyter.widget-view+json": {
       "model_id": "584ed98ea4b54ae28aee4dd54ea45502",
       "version_major": 2,
       "version_minor": 0
      },
      "text/plain": [
       "Canvas(toolbar=Toolbar(toolitems=[('Home', 'Reset original view', 'home', 'home'), ('Back', 'Back to previous …"
      ]
     },
     "metadata": {},
     "output_type": "display_data"
    }
   ],
   "source": [
    "bnv_sig_plot = Qplot.plot_bnvs_and_dshifts(options, \"sig\", sig_bnvs, sig_dshifts)\n",
    "bnv_ref_plot = Qplot.plot_bnvs_and_dshifts(options, \"ref\", ref_bnvs, ref_dshifts)\n",
    "bnvs_plot = Qplot.plot_bnvs_and_dshifts(options, \"sig_sub_ref\", bnvs, [])"
   ]
  },
  {
   "cell_type": "code",
   "execution_count": 14,
   "id": "french-memory",
   "metadata": {},
   "outputs": [
    {
     "data": {
      "application/vnd.jupyter.widget-view+json": {
       "model_id": "48967d7d3d3346589c8f8fabf565a387",
       "version_major": 2,
       "version_minor": 0
      },
      "text/plain": [
       "Canvas(toolbar=Toolbar(toolitems=[('Home', 'Reset original view', 'home', 'home'), ('Back', 'Back to previous …"
      ]
     },
     "metadata": {},
     "output_type": "display_data"
    }
   ],
   "source": [
    "bfield_sig_plot = Qplot.plot_bfield(options, \"sig\", sig_params)\n",
    "bfield_ref_plot = Qplot.plot_bfield(options, \"ref\", ref_params)"
   ]
  },
  {
   "cell_type": "code",
   "execution_count": 15,
   "id": "convenient-antibody",
   "metadata": {},
   "outputs": [
    {
     "data": {
      "application/vnd.jupyter.widget-view+json": {
       "model_id": "9c240e0e64c34509aae0d29ddfe161df",
       "version_major": 2,
       "version_minor": 0
      },
      "text/plain": [
       "Canvas(toolbar=Toolbar(toolitems=[('Home', 'Reset original view', 'home', 'home'), ('Back', 'Back to previous …"
      ]
     },
     "metadata": {},
     "output_type": "display_data"
    }
   ],
   "source": [
    "D_sig_plot = Qplot.plot_dshift_fit(options, \"sig\", sig_params)\n",
    "D_ref_plot = Qplot.plot_dshift_fit(options, \"ref\", ref_params)"
   ]
  },
  {
   "cell_type": "code",
   "execution_count": 24,
   "id": "outside-pension",
   "metadata": {},
   "outputs": [
    {
     "name": "stderr",
     "output_type": "stream",
     "text": [
      "/home/samsc/src/nv/QDMPy_proj/QDMPy_git/QDMPy/plot/field.py:273: RuntimeWarning: More than 30 figures have been opened. Figures created through the pyplot interface (`matplotlib.pyplot.figure`) are retained until explicitly closed and may consume too much memory. (To control this warning, see the rcParam `figure.max_open_warning`).\n",
      "  fig, ax = plt.subplots(figsize=figsize, constrained_layout=True)\n"
     ]
    },
    {
     "data": {
      "application/vnd.jupyter.widget-view+json": {
       "model_id": "abd500c1effb43d29491d888259cc752",
       "version_major": 2,
       "version_minor": 0
      },
      "text/plain": [
       "Canvas(toolbar=Toolbar(toolitems=[('Home', 'Reset original view', 'home', 'home'), ('Back', 'Back to previous …"
      ]
     },
     "metadata": {},
     "output_type": "display_data"
    },
    {
     "data": {
      "application/vnd.jupyter.widget-view+json": {
       "model_id": "dbf5e9629b8a43edac84e6cc6179adac",
       "version_major": 2,
       "version_minor": 0
      },
      "text/plain": [
       "Canvas(toolbar=Toolbar(toolitems=[('Home', 'Reset original view', 'home', 'home'), ('Back', 'Back to previous …"
      ]
     },
     "metadata": {},
     "output_type": "display_data"
    }
   ],
   "source": [
    "Bx_fit_flat_plot = Qplot.field_param_flattened(options, \"sig\", \"Bx\", sig_params, sigmas=sig_field_sigmas, y_label=\"B (G)\", errorevery=1000)"
   ]
  },
  {
   "cell_type": "markdown",
   "id": "material-worker",
   "metadata": {},
   "source": [
    "### Save and (optionally) view options dict"
   ]
  },
  {
   "cell_type": "code",
   "execution_count": 17,
   "id": "friendly-pacific",
   "metadata": {},
   "outputs": [],
   "source": [
    "Qio.save_options(options)  # particularly in case B fitting fails\n",
    "# print(Qio.dict_to_json_str(options))"
   ]
  },
  {
   "cell_type": "code",
   "execution_count": null,
   "id": "excellent-hayes",
   "metadata": {},
   "outputs": [],
   "source": []
  }
 ],
 "metadata": {
  "kernelspec": {
   "display_name": "Python 3",
   "language": "python",
   "name": "python3"
  },
  "language_info": {
   "codemirror_mode": {
    "name": "ipython",
    "version": 3
   },
   "file_extension": ".py",
   "mimetype": "text/x-python",
   "name": "python",
   "nbconvert_exporter": "python",
   "pygments_lexer": "ipython3",
   "version": "3.8.7"
  },
  "toc-autonumbering": false,
  "toc-showtags": false,
  "widgets": {
   "application/vnd.jupyter.widget-state+json": {
    "state": {
     "008cca60a2b440b4b9254d30a0ea22de": {
      "model_module": "@jupyter-widgets/base",
      "model_module_version": "1.2.0",
      "model_name": "LayoutModel",
      "state": {}
     },
     "093e9e70cdae4174aeea77f906ccfc47": {
      "model_module": "@jupyter-widgets/controls",
      "model_module_version": "1.5.0",
      "model_name": "HTMLModel",
      "state": {
       "layout": "IPY_MODEL_729236e40bb346788418d48637b1ebce",
       "style": "IPY_MODEL_b9fe3b2cd58b47dbbbcbb7b8660a2086",
       "value": "100%"
      }
     },
     "0ad0c1a3dc924063b34c49ca8e3b5ddd": {
      "model_module": "@jupyter-widgets/base",
      "model_module_version": "1.2.0",
      "model_name": "LayoutModel",
      "state": {}
     },
     "0beb2d8216084220bd2a8e8ef6076313": {
      "model_module": "@jupyter-widgets/base",
      "model_module_version": "1.2.0",
      "model_name": "LayoutModel",
      "state": {}
     },
     "1283b07850364665bbf98be7bcf775f2": {
      "model_module": "@jupyter-widgets/base",
      "model_module_version": "1.2.0",
      "model_name": "LayoutModel",
      "state": {}
     },
     "13479adbef554d6faa89b88cbd6596b9": {
      "model_module": "jupyter-matplotlib",
      "model_module_version": "^0.8.2",
      "model_name": "MPLCanvasModel",
      "state": {
       "_cursor": "default",
       "_figure_label": "Figure 14",
       "_height": 384,
       "_width": 1024,
       "layout": "IPY_MODEL_bd6922bc7cf94cd88834518291e36ca7",
       "toolbar": "IPY_MODEL_4557336a57c04e70aa4ef2de1cd12438",
       "toolbar_position": "left"
      }
     },
     "13b170ab35e040dd8308b2829c6eb17a": {
      "model_module": "@jupyter-widgets/base",
      "model_module_version": "1.2.0",
      "model_name": "LayoutModel",
      "state": {}
     },
     "141c76ce1a084d8f856d779e87cea9a7": {
      "model_module": "jupyter-matplotlib",
      "model_module_version": "^0.8.2",
      "model_name": "MPLCanvasModel",
      "state": {
       "_cursor": "default",
       "_figure_label": "Figure 8",
       "_height": 575,
       "_message": "x=79.7 y=97.7\n[3129.338]",
       "_width": 1536,
       "layout": "IPY_MODEL_3291cfc2cbef40fda2683b3f5d26b4d6",
       "toolbar": "IPY_MODEL_7d431cb22b6f4f5095bca7f90e710098",
       "toolbar_position": "left"
      }
     },
     "1b29042fdbd946d6a7222c87cb98529e": {
      "model_module": "@jupyter-widgets/base",
      "model_module_version": "1.2.0",
      "model_name": "LayoutModel",
      "state": {}
     },
     "1c2fef71fa724e4493a907d091dbf105": {
      "model_module": "@jupyter-widgets/base",
      "model_module_version": "1.2.0",
      "model_name": "LayoutModel",
      "state": {}
     },
     "1c6bd074bc1f43cc90498f15b3943c89": {
      "model_module": "@jupyter-widgets/base",
      "model_module_version": "1.2.0",
      "model_name": "LayoutModel",
      "state": {}
     },
     "1da49767de154160843a8c00658ee322": {
      "model_module": "@jupyter-widgets/controls",
      "model_module_version": "1.5.0",
      "model_name": "DescriptionStyleModel",
      "state": {
       "description_width": ""
      }
     },
     "1f9705be8ef44dec9447e999f8a3cc05": {
      "model_module": "@jupyter-widgets/base",
      "model_module_version": "1.2.0",
      "model_name": "LayoutModel",
      "state": {}
     },
     "1ffc848961934eb48adbe14e2c0e137c": {
      "model_module": "@jupyter-widgets/base",
      "model_module_version": "1.2.0",
      "model_name": "LayoutModel",
      "state": {}
     },
     "20111aa2c25348e6b6034c307949ec3d": {
      "model_module": "@jupyter-widgets/base",
      "model_module_version": "1.2.0",
      "model_name": "LayoutModel",
      "state": {}
     },
     "23414df7fe3b48798d7a6db5e511071c": {
      "model_module": "@jupyter-widgets/base",
      "model_module_version": "1.2.0",
      "model_name": "LayoutModel",
      "state": {}
     },
     "2976204157b740e7b7e883fd17987d63": {
      "model_module": "jupyter-matplotlib",
      "model_module_version": "^0.8.2",
      "model_name": "ToolbarModel",
      "state": {
       "layout": "IPY_MODEL_648b633a2d7f44f782964d5f14017d2a",
       "toolitems": [
        [
         "Home",
         "Reset original view",
         "home",
         "home"
        ],
        [
         "Back",
         "Back to previous view",
         "arrow-left",
         "back"
        ],
        [
         "Forward",
         "Forward to next view",
         "arrow-right",
         "forward"
        ],
        [
         "Pan",
         "Left button pans, Right button zooms\nx/y fixes axis, CTRL fixes aspect",
         "arrows",
         "pan"
        ],
        [
         "Zoom",
         "Zoom to rectangle\nx/y fixes axis, CTRL fixes aspect",
         "square-o",
         "zoom"
        ],
        [
         "Download",
         "Download plot",
         "floppy-o",
         "save_figure"
        ]
       ]
      }
     },
     "2a8fc4b534f34ba6a34520928e5c4a8d": {
      "model_module": "@jupyter-widgets/base",
      "model_module_version": "1.2.0",
      "model_name": "LayoutModel",
      "state": {}
     },
     "2e27ce1b62dd437ca77f3d80cbea6f6f": {
      "model_module": "jupyter-matplotlib",
      "model_module_version": "^0.8.2",
      "model_name": "ToolbarModel",
      "state": {
       "layout": "IPY_MODEL_1f9705be8ef44dec9447e999f8a3cc05",
       "toolitems": [
        [
         "Home",
         "Reset original view",
         "home",
         "home"
        ],
        [
         "Back",
         "Back to previous view",
         "arrow-left",
         "back"
        ],
        [
         "Forward",
         "Forward to next view",
         "arrow-right",
         "forward"
        ],
        [
         "Pan",
         "Left button pans, Right button zooms\nx/y fixes axis, CTRL fixes aspect",
         "arrows",
         "pan"
        ],
        [
         "Zoom",
         "Zoom to rectangle\nx/y fixes axis, CTRL fixes aspect",
         "square-o",
         "zoom"
        ],
        [
         "Download",
         "Download plot",
         "floppy-o",
         "save_figure"
        ]
       ]
      }
     },
     "2ed81ca7d53e41f6ab627f7c0c3db5e4": {
      "model_module": "@jupyter-widgets/base",
      "model_module_version": "1.2.0",
      "model_name": "LayoutModel",
      "state": {}
     },
     "2f67ca373ced4fb1a9f1ccb925234265": {
      "model_module": "jupyter-matplotlib",
      "model_module_version": "^0.8.2",
      "model_name": "ToolbarModel",
      "state": {
       "layout": "IPY_MODEL_bf327f13693e488aa9ac3d01cb78de66",
       "toolitems": [
        [
         "Home",
         "Reset original view",
         "home",
         "home"
        ],
        [
         "Back",
         "Back to previous view",
         "arrow-left",
         "back"
        ],
        [
         "Forward",
         "Forward to next view",
         "arrow-right",
         "forward"
        ],
        [
         "Pan",
         "Left button pans, Right button zooms\nx/y fixes axis, CTRL fixes aspect",
         "arrows",
         "pan"
        ],
        [
         "Zoom",
         "Zoom to rectangle\nx/y fixes axis, CTRL fixes aspect",
         "square-o",
         "zoom"
        ],
        [
         "Download",
         "Download plot",
         "floppy-o",
         "save_figure"
        ]
       ]
      }
     },
     "2f8e259760594f8ebcc463f2d94e1d2c": {
      "model_module": "@jupyter-widgets/base",
      "model_module_version": "1.2.0",
      "model_name": "LayoutModel",
      "state": {}
     },
     "2fdf0d8e73324b4b8c1311900a14031b": {
      "model_module": "jupyter-matplotlib",
      "model_module_version": "^0.8.2",
      "model_name": "MPLCanvasModel",
      "state": {
       "_cursor": "default",
       "_figure_label": "Figure 26",
       "_height": 384,
       "_message": "x=1.549e+04 y=−46.775",
       "_width": 1024,
       "layout": "IPY_MODEL_1283b07850364665bbf98be7bcf775f2",
       "toolbar": "IPY_MODEL_b6376ae8520d4619a3a5406d21f35258",
       "toolbar_position": "left"
      }
     },
     "3291cfc2cbef40fda2683b3f5d26b4d6": {
      "model_module": "@jupyter-widgets/base",
      "model_module_version": "1.2.0",
      "model_name": "LayoutModel",
      "state": {}
     },
     "3496aee2ecec4e33a4979b3fca714c60": {
      "model_module": "@jupyter-widgets/base",
      "model_module_version": "1.2.0",
      "model_name": "LayoutModel",
      "state": {}
     },
     "36b23868947d4f609d5772894dd0b8e6": {
      "model_module": "jupyter-matplotlib",
      "model_module_version": "^0.8.2",
      "model_name": "MPLCanvasModel",
      "state": {
       "_cursor": "default",
       "_figure_label": "Figure 15",
       "_height": 575,
       "_width": 1536,
       "layout": "IPY_MODEL_13b170ab35e040dd8308b2829c6eb17a",
       "toolbar": "IPY_MODEL_848143c3bd584a1ebd135fe1bb4245c4",
       "toolbar_position": "left"
      }
     },
     "36bd209df08640029a5215c787dc007d": {
      "model_module": "@jupyter-widgets/base",
      "model_module_version": "1.2.0",
      "model_name": "LayoutModel",
      "state": {}
     },
     "38779d2cccac41968cb9e8bea7f64a86": {
      "model_module": "jupyter-matplotlib",
      "model_module_version": "^0.8.2",
      "model_name": "ToolbarModel",
      "state": {
       "layout": "IPY_MODEL_c43b8a91ce244dcb9e6b4deeb53f655c",
       "toolitems": [
        [
         "Home",
         "Reset original view",
         "home",
         "home"
        ],
        [
         "Back",
         "Back to previous view",
         "arrow-left",
         "back"
        ],
        [
         "Forward",
         "Forward to next view",
         "arrow-right",
         "forward"
        ],
        [
         "Pan",
         "Left button pans, Right button zooms\nx/y fixes axis, CTRL fixes aspect",
         "arrows",
         "pan"
        ],
        [
         "Zoom",
         "Zoom to rectangle\nx/y fixes axis, CTRL fixes aspect",
         "square-o",
         "zoom"
        ],
        [
         "Download",
         "Download plot",
         "floppy-o",
         "save_figure"
        ]
       ]
      }
     },
     "3f21b7d7cf4e41f6b7813296dd682288": {
      "model_module": "jupyter-matplotlib",
      "model_module_version": "^0.8.2",
      "model_name": "ToolbarModel",
      "state": {
       "layout": "IPY_MODEL_ed64c6fa3ad1441fb4fdbec532bbd55c",
       "toolitems": [
        [
         "Home",
         "Reset original view",
         "home",
         "home"
        ],
        [
         "Back",
         "Back to previous view",
         "arrow-left",
         "back"
        ],
        [
         "Forward",
         "Forward to next view",
         "arrow-right",
         "forward"
        ],
        [
         "Pan",
         "Left button pans, Right button zooms\nx/y fixes axis, CTRL fixes aspect",
         "arrows",
         "pan"
        ],
        [
         "Zoom",
         "Zoom to rectangle\nx/y fixes axis, CTRL fixes aspect",
         "square-o",
         "zoom"
        ],
        [
         "Download",
         "Download plot",
         "floppy-o",
         "save_figure"
        ]
       ]
      }
     },
     "41b689d7afee41dcbfeefcede172bff2": {
      "model_module": "@jupyter-widgets/base",
      "model_module_version": "1.2.0",
      "model_name": "LayoutModel",
      "state": {}
     },
     "4449d5d2b7ff4ecd806288753cc8d01f": {
      "model_module": "@jupyter-widgets/base",
      "model_module_version": "1.2.0",
      "model_name": "LayoutModel",
      "state": {}
     },
     "4557336a57c04e70aa4ef2de1cd12438": {
      "model_module": "jupyter-matplotlib",
      "model_module_version": "^0.8.2",
      "model_name": "ToolbarModel",
      "state": {
       "layout": "IPY_MODEL_603787cea23e4eed991efef8439eb5a2",
       "toolitems": [
        [
         "Home",
         "Reset original view",
         "home",
         "home"
        ],
        [
         "Back",
         "Back to previous view",
         "arrow-left",
         "back"
        ],
        [
         "Forward",
         "Forward to next view",
         "arrow-right",
         "forward"
        ],
        [
         "Pan",
         "Left button pans, Right button zooms\nx/y fixes axis, CTRL fixes aspect",
         "arrows",
         "pan"
        ],
        [
         "Zoom",
         "Zoom to rectangle\nx/y fixes axis, CTRL fixes aspect",
         "square-o",
         "zoom"
        ],
        [
         "Download",
         "Download plot",
         "floppy-o",
         "save_figure"
        ]
       ]
      }
     },
     "46be50940cb0417f95df1f63f5cb31cf": {
      "model_module": "jupyter-matplotlib",
      "model_module_version": "^0.8.2",
      "model_name": "ToolbarModel",
      "state": {
       "layout": "IPY_MODEL_635b444aa7514e629c705c678de078ac",
       "toolitems": [
        [
         "Home",
         "Reset original view",
         "home",
         "home"
        ],
        [
         "Back",
         "Back to previous view",
         "arrow-left",
         "back"
        ],
        [
         "Forward",
         "Forward to next view",
         "arrow-right",
         "forward"
        ],
        [
         "Pan",
         "Left button pans, Right button zooms\nx/y fixes axis, CTRL fixes aspect",
         "arrows",
         "pan"
        ],
        [
         "Zoom",
         "Zoom to rectangle\nx/y fixes axis, CTRL fixes aspect",
         "square-o",
         "zoom"
        ],
        [
         "Download",
         "Download plot",
         "floppy-o",
         "save_figure"
        ]
       ]
      }
     },
     "4743a77d4b9b4d55b0be3c56f2c65d0e": {
      "model_module": "jupyter-matplotlib",
      "model_module_version": "^0.8.2",
      "model_name": "MPLCanvasModel",
      "state": {
       "_cursor": "default",
       "_figure_label": "Figure 5",
       "_height": 1920,
       "_width": 1536,
       "layout": "IPY_MODEL_655025cd739b4cee9ddf0f426fd3af7b",
       "toolbar": "IPY_MODEL_d0e9f726819440b59e39b43b9d8f6ece",
       "toolbar_position": "left"
      }
     },
     "48967d7d3d3346589c8f8fabf565a387": {
      "model_module": "jupyter-matplotlib",
      "model_module_version": "^0.8.2",
      "model_name": "MPLCanvasModel",
      "state": {
       "_cursor": "default",
       "_figure_label": "Figure 17",
       "_height": 384,
       "_message": "x=90.5 y=20.0\n[−80.209]",
       "_width": 1536,
       "layout": "IPY_MODEL_5e5b5e85b9be484c817ed9758a161180",
       "toolbar": "IPY_MODEL_79214b42a368440792975a9437cef4c7",
       "toolbar_position": "left"
      }
     },
     "4b4fbedcb8ac4f92b21dc7a3b7f6b306": {
      "model_module": "@jupyter-widgets/base",
      "model_module_version": "1.2.0",
      "model_name": "LayoutModel",
      "state": {}
     },
     "4ccbd33f817142ccaad9feffd650ed0a": {
      "model_module": "jupyter-matplotlib",
      "model_module_version": "^0.8.2",
      "model_name": "MPLCanvasModel",
      "state": {
       "_cursor": "default",
       "_figure_label": "Figure 23",
       "_height": 384,
       "_message": "x=6.39e+03 y=0.0002",
       "_width": 1024,
       "layout": "IPY_MODEL_f3386530168547fa8be4fb0f44491f56",
       "toolbar": "IPY_MODEL_f5ca254c6fbc4aa2b6b4a53d893c5448",
       "toolbar_position": "left"
      }
     },
     "5052cd309f4c49acb84a4a0a76f57b7a": {
      "model_module": "jupyter-matplotlib",
      "model_module_version": "^0.8.2",
      "model_name": "ToolbarModel",
      "state": {
       "layout": "IPY_MODEL_1c2fef71fa724e4493a907d091dbf105",
       "toolitems": [
        [
         "Home",
         "Reset original view",
         "home",
         "home"
        ],
        [
         "Back",
         "Back to previous view",
         "arrow-left",
         "back"
        ],
        [
         "Forward",
         "Forward to next view",
         "arrow-right",
         "forward"
        ],
        [
         "Pan",
         "Left button pans, Right button zooms\nx/y fixes axis, CTRL fixes aspect",
         "arrows",
         "pan"
        ],
        [
         "Zoom",
         "Zoom to rectangle\nx/y fixes axis, CTRL fixes aspect",
         "square-o",
         "zoom"
        ],
        [
         "Download",
         "Download plot",
         "floppy-o",
         "save_figure"
        ]
       ]
      }
     },
     "50b92e73921a42c3a2dc813332d23182": {
      "model_module": "@jupyter-widgets/base",
      "model_module_version": "1.2.0",
      "model_name": "LayoutModel",
      "state": {}
     },
     "50ef61815c0b416c9f25726cb1f8938c": {
      "model_module": "jupyter-matplotlib",
      "model_module_version": "^0.8.2",
      "model_name": "ToolbarModel",
      "state": {
       "layout": "IPY_MODEL_77b5344ecfff4ea7a9362869e20b7766",
       "toolitems": [
        [
         "Home",
         "Reset original view",
         "home",
         "home"
        ],
        [
         "Back",
         "Back to previous view",
         "arrow-left",
         "back"
        ],
        [
         "Forward",
         "Forward to next view",
         "arrow-right",
         "forward"
        ],
        [
         "Pan",
         "Left button pans, Right button zooms\nx/y fixes axis, CTRL fixes aspect",
         "arrows",
         "pan"
        ],
        [
         "Zoom",
         "Zoom to rectangle\nx/y fixes axis, CTRL fixes aspect",
         "square-o",
         "zoom"
        ],
        [
         "Download",
         "Download plot",
         "floppy-o",
         "save_figure"
        ]
       ]
      }
     },
     "5167f10e4d7c4c6da59ba4900f33b9a8": {
      "model_module": "jupyter-matplotlib",
      "model_module_version": "^0.8.2",
      "model_name": "ToolbarModel",
      "state": {
       "layout": "IPY_MODEL_edeaef61d8b0440394a06f8dcfe67350",
       "toolitems": [
        [
         "Home",
         "Reset original view",
         "home",
         "home"
        ],
        [
         "Back",
         "Back to previous view",
         "arrow-left",
         "back"
        ],
        [
         "Forward",
         "Forward to next view",
         "arrow-right",
         "forward"
        ],
        [
         "Pan",
         "Left button pans, Right button zooms\nx/y fixes axis, CTRL fixes aspect",
         "arrows",
         "pan"
        ],
        [
         "Zoom",
         "Zoom to rectangle\nx/y fixes axis, CTRL fixes aspect",
         "square-o",
         "zoom"
        ],
        [
         "Download",
         "Download plot",
         "floppy-o",
         "save_figure"
        ]
       ]
      }
     },
     "5299b6dbcfa343028c590a0410ff58c8": {
      "model_module": "@jupyter-widgets/base",
      "model_module_version": "1.2.0",
      "model_name": "LayoutModel",
      "state": {}
     },
     "556afe1281d04b2095a5d11b91bf577c": {
      "model_module": "@jupyter-widgets/base",
      "model_module_version": "1.2.0",
      "model_name": "LayoutModel",
      "state": {}
     },
     "584ed98ea4b54ae28aee4dd54ea45502": {
      "model_module": "jupyter-matplotlib",
      "model_module_version": "^0.8.2",
      "model_name": "MPLCanvasModel",
      "state": {
       "_cursor": "default",
       "_figure_label": "Figure 16",
       "_height": 287,
       "_width": 1536,
       "layout": "IPY_MODEL_6e94a9379b634aac823a3665627c58fb",
       "toolbar": "IPY_MODEL_2976204157b740e7b7e883fd17987d63",
       "toolbar_position": "left"
      }
     },
     "597378b34fbc42378fb2b7fb241cee46": {
      "model_module": "jupyter-matplotlib",
      "model_module_version": "^0.8.2",
      "model_name": "MPLCanvasModel",
      "state": {
       "_cursor": "default",
       "_figure_label": "Figure 4",
       "_height": 575,
       "_width": 1024,
       "layout": "IPY_MODEL_b61f5c8eef8c4d8681261b06059a442a",
       "toolbar": "IPY_MODEL_b2b003e48f2d4411a3fe257e7b29c8b4",
       "toolbar_position": "left"
      }
     },
     "5e5b5e85b9be484c817ed9758a161180": {
      "model_module": "@jupyter-widgets/base",
      "model_module_version": "1.2.0",
      "model_name": "LayoutModel",
      "state": {}
     },
     "5f74235944f8478e9698ad65f2c447fa": {
      "model_module": "jupyter-matplotlib",
      "model_module_version": "^0.8.2",
      "model_name": "MPLCanvasModel",
      "state": {
       "_cursor": "default",
       "_figure_label": "Figure 1",
       "_height": 384,
       "_message": "x=12.6 y=94.6\n[4.50e+12]",
       "_width": 512,
       "layout": "IPY_MODEL_0ad0c1a3dc924063b34c49ca8e3b5ddd",
       "toolbar": "IPY_MODEL_d8966efbf2bb4e28abeacde3decaf9ba",
       "toolbar_position": "left"
      }
     },
     "603787cea23e4eed991efef8439eb5a2": {
      "model_module": "@jupyter-widgets/base",
      "model_module_version": "1.2.0",
      "model_name": "LayoutModel",
      "state": {}
     },
     "635b444aa7514e629c705c678de078ac": {
      "model_module": "@jupyter-widgets/base",
      "model_module_version": "1.2.0",
      "model_name": "LayoutModel",
      "state": {}
     },
     "640922851ad644048b9b32cfbff9828f": {
      "model_module": "@jupyter-widgets/base",
      "model_module_version": "1.2.0",
      "model_name": "LayoutModel",
      "state": {}
     },
     "648b633a2d7f44f782964d5f14017d2a": {
      "model_module": "@jupyter-widgets/base",
      "model_module_version": "1.2.0",
      "model_name": "LayoutModel",
      "state": {}
     },
     "655025cd739b4cee9ddf0f426fd3af7b": {
      "model_module": "@jupyter-widgets/base",
      "model_module_version": "1.2.0",
      "model_name": "LayoutModel",
      "state": {}
     },
     "681ca0155d044799a66e22f0f77eb9dc": {
      "model_module": "@jupyter-widgets/base",
      "model_module_version": "1.2.0",
      "model_name": "LayoutModel",
      "state": {}
     },
     "6e80644fb2a44249a43ff4a251a34907": {
      "model_module": "@jupyter-widgets/base",
      "model_module_version": "1.2.0",
      "model_name": "LayoutModel",
      "state": {}
     },
     "6e94a9379b634aac823a3665627c58fb": {
      "model_module": "@jupyter-widgets/base",
      "model_module_version": "1.2.0",
      "model_name": "LayoutModel",
      "state": {}
     },
     "70d97b13b6644099b6fa1e2faa74c3d4": {
      "model_module": "jupyter-matplotlib",
      "model_module_version": "^0.8.2",
      "model_name": "MPLCanvasModel",
      "state": {
       "_cursor": "default",
       "_figure_label": "Figure 13",
       "_height": 1536,
       "_width": 1024,
       "layout": "IPY_MODEL_1c6bd074bc1f43cc90498f15b3943c89",
       "toolbar": "IPY_MODEL_5052cd309f4c49acb84a4a0a76f57b7a",
       "toolbar_position": "left"
      }
     },
     "729236e40bb346788418d48637b1ebce": {
      "model_module": "@jupyter-widgets/base",
      "model_module_version": "1.2.0",
      "model_name": "LayoutModel",
      "state": {}
     },
     "74b5c2dd96c441cb99fe93199047ef5e": {
      "model_module": "@jupyter-widgets/base",
      "model_module_version": "1.2.0",
      "model_name": "LayoutModel",
      "state": {}
     },
     "7551aaceb48d4a5caaa3e0bcdee52300": {
      "model_module": "@jupyter-widgets/base",
      "model_module_version": "1.2.0",
      "model_name": "LayoutModel",
      "state": {}
     },
     "77b5344ecfff4ea7a9362869e20b7766": {
      "model_module": "@jupyter-widgets/base",
      "model_module_version": "1.2.0",
      "model_name": "LayoutModel",
      "state": {}
     },
     "79214b42a368440792975a9437cef4c7": {
      "model_module": "jupyter-matplotlib",
      "model_module_version": "^0.8.2",
      "model_name": "ToolbarModel",
      "state": {
       "layout": "IPY_MODEL_640922851ad644048b9b32cfbff9828f",
       "toolitems": [
        [
         "Home",
         "Reset original view",
         "home",
         "home"
        ],
        [
         "Back",
         "Back to previous view",
         "arrow-left",
         "back"
        ],
        [
         "Forward",
         "Forward to next view",
         "arrow-right",
         "forward"
        ],
        [
         "Pan",
         "Left button pans, Right button zooms\nx/y fixes axis, CTRL fixes aspect",
         "arrows",
         "pan"
        ],
        [
         "Zoom",
         "Zoom to rectangle\nx/y fixes axis, CTRL fixes aspect",
         "square-o",
         "zoom"
        ],
        [
         "Download",
         "Download plot",
         "floppy-o",
         "save_figure"
        ]
       ]
      }
     },
     "798710c28ca84c66901c6d70f64c4e3b": {
      "model_module": "jupyter-matplotlib",
      "model_module_version": "^0.8.2",
      "model_name": "MPLCanvasModel",
      "state": {
       "_cursor": "default",
       "_figure_label": "Figure 21",
       "_height": 384,
       "_width": 1024,
       "layout": "IPY_MODEL_3496aee2ecec4e33a4979b3fca714c60",
       "toolbar": "IPY_MODEL_f304be9e9a3a4afa854e3e48f82b0053",
       "toolbar_position": "left"
      }
     },
     "7b958e72a18d4af1b4ae8af5e7b3d7a3": {
      "model_module": "@jupyter-widgets/base",
      "model_module_version": "1.2.0",
      "model_name": "LayoutModel",
      "state": {}
     },
     "7bbe45a7b75244548b49fd75c5d6afa7": {
      "model_module": "@jupyter-widgets/base",
      "model_module_version": "1.2.0",
      "model_name": "LayoutModel",
      "state": {}
     },
     "7c4c30ec17d64406b24cb68557d07076": {
      "model_module": "jupyter-matplotlib",
      "model_module_version": "^0.8.2",
      "model_name": "ToolbarModel",
      "state": {
       "layout": "IPY_MODEL_1ffc848961934eb48adbe14e2c0e137c",
       "toolitems": [
        [
         "Home",
         "Reset original view",
         "home",
         "home"
        ],
        [
         "Back",
         "Back to previous view",
         "arrow-left",
         "back"
        ],
        [
         "Forward",
         "Forward to next view",
         "arrow-right",
         "forward"
        ],
        [
         "Pan",
         "Left button pans, Right button zooms\nx/y fixes axis, CTRL fixes aspect",
         "arrows",
         "pan"
        ],
        [
         "Zoom",
         "Zoom to rectangle\nx/y fixes axis, CTRL fixes aspect",
         "square-o",
         "zoom"
        ],
        [
         "Download",
         "Download plot",
         "floppy-o",
         "save_figure"
        ]
       ]
      }
     },
     "7d431cb22b6f4f5095bca7f90e710098": {
      "model_module": "jupyter-matplotlib",
      "model_module_version": "^0.8.2",
      "model_name": "ToolbarModel",
      "state": {
       "layout": "IPY_MODEL_9954686df2f743708c6dbcd60661bc95",
       "toolitems": [
        [
         "Home",
         "Reset original view",
         "home",
         "home"
        ],
        [
         "Back",
         "Back to previous view",
         "arrow-left",
         "back"
        ],
        [
         "Forward",
         "Forward to next view",
         "arrow-right",
         "forward"
        ],
        [
         "Pan",
         "Left button pans, Right button zooms\nx/y fixes axis, CTRL fixes aspect",
         "arrows",
         "pan"
        ],
        [
         "Zoom",
         "Zoom to rectangle\nx/y fixes axis, CTRL fixes aspect",
         "square-o",
         "zoom"
        ],
        [
         "Download",
         "Download plot",
         "floppy-o",
         "save_figure"
        ]
       ]
      }
     },
     "8141d5b1b9cf4390a7fb32d962c8cbf5": {
      "model_module": "@jupyter-widgets/base",
      "model_module_version": "1.2.0",
      "model_name": "LayoutModel",
      "state": {}
     },
     "8233be9eea8047a9b449b723b1a93fbd": {
      "model_module": "@jupyter-widgets/base",
      "model_module_version": "1.2.0",
      "model_name": "LayoutModel",
      "state": {}
     },
     "848143c3bd584a1ebd135fe1bb4245c4": {
      "model_module": "jupyter-matplotlib",
      "model_module_version": "^0.8.2",
      "model_name": "ToolbarModel",
      "state": {
       "layout": "IPY_MODEL_b2362c63e1ca4a82980c082b7218079d",
       "toolitems": [
        [
         "Home",
         "Reset original view",
         "home",
         "home"
        ],
        [
         "Back",
         "Back to previous view",
         "arrow-left",
         "back"
        ],
        [
         "Forward",
         "Forward to next view",
         "arrow-right",
         "forward"
        ],
        [
         "Pan",
         "Left button pans, Right button zooms\nx/y fixes axis, CTRL fixes aspect",
         "arrows",
         "pan"
        ],
        [
         "Zoom",
         "Zoom to rectangle\nx/y fixes axis, CTRL fixes aspect",
         "square-o",
         "zoom"
        ],
        [
         "Download",
         "Download plot",
         "floppy-o",
         "save_figure"
        ]
       ]
      }
     },
     "8b590ae5eddb4250b276f5cf11ac47bc": {
      "model_module": "jupyter-matplotlib",
      "model_module_version": "^0.8.2",
      "model_name": "MPLCanvasModel",
      "state": {
       "_cursor": "default",
       "_figure_label": "Figure 30",
       "_height": 384,
       "_width": 1024,
       "layout": "IPY_MODEL_008cca60a2b440b4b9254d30a0ea22de",
       "toolbar": "IPY_MODEL_bcfd6b90fb784c92a8f36b2cac12324a",
       "toolbar_position": "left"
      }
     },
     "8ca16c50ccd64f16911c975296f8a4e4": {
      "model_module": "jupyter-matplotlib",
      "model_module_version": "^0.8.2",
      "model_name": "ToolbarModel",
      "state": {
       "layout": "IPY_MODEL_556afe1281d04b2095a5d11b91bf577c",
       "toolitems": [
        [
         "Home",
         "Reset original view",
         "home",
         "home"
        ],
        [
         "Back",
         "Back to previous view",
         "arrow-left",
         "back"
        ],
        [
         "Forward",
         "Forward to next view",
         "arrow-right",
         "forward"
        ],
        [
         "Pan",
         "Left button pans, Right button zooms\nx/y fixes axis, CTRL fixes aspect",
         "arrows",
         "pan"
        ],
        [
         "Zoom",
         "Zoom to rectangle\nx/y fixes axis, CTRL fixes aspect",
         "square-o",
         "zoom"
        ],
        [
         "Download",
         "Download plot",
         "floppy-o",
         "save_figure"
        ]
       ]
      }
     },
     "926c39e7a61144c594d7a14a3694a0b8": {
      "model_module": "@jupyter-widgets/base",
      "model_module_version": "1.2.0",
      "model_name": "LayoutModel",
      "state": {}
     },
     "92d58009d3ec4ed5ba2435d14d574950": {
      "model_module": "jupyter-matplotlib",
      "model_module_version": "^0.8.2",
      "model_name": "MPLCanvasModel",
      "state": {
       "_cursor": "default",
       "_figure_label": "Figure 12",
       "_height": 575,
       "_width": 1536,
       "layout": "IPY_MODEL_dea0d7ff45dc45e4a45c045990ac64f3",
       "toolbar": "IPY_MODEL_8ca16c50ccd64f16911c975296f8a4e4",
       "toolbar_position": "left"
      }
     },
     "95cea9dd0e074f189b2c5deb3bb21703": {
      "model_module": "@jupyter-widgets/base",
      "model_module_version": "1.2.0",
      "model_name": "LayoutModel",
      "state": {}
     },
     "97f69e6f9ffa4cdfb326b08a52cde727": {
      "model_module": "@jupyter-widgets/base",
      "model_module_version": "1.2.0",
      "model_name": "LayoutModel",
      "state": {}
     },
     "9954686df2f743708c6dbcd60661bc95": {
      "model_module": "@jupyter-widgets/base",
      "model_module_version": "1.2.0",
      "model_name": "LayoutModel",
      "state": {}
     },
     "9bf2ceace3bf4342a863ea242ad55837": {
      "model_module": "jupyter-matplotlib",
      "model_module_version": "^0.8.2",
      "model_name": "MPLCanvasModel",
      "state": {
       "_cursor": "default",
       "_figure_label": "Figure 11",
       "_height": 384,
       "_width": 512,
       "layout": "IPY_MODEL_97f69e6f9ffa4cdfb326b08a52cde727",
       "toolbar": "IPY_MODEL_7c4c30ec17d64406b24cb68557d07076",
       "toolbar_position": "left"
      }
     },
     "9c240e0e64c34509aae0d29ddfe161df": {
      "model_module": "jupyter-matplotlib",
      "model_module_version": "^0.8.2",
      "model_name": "MPLCanvasModel",
      "state": {
       "_cursor": "default",
       "_figure_label": "Figure 18",
       "_height": 384,
       "_width": 512,
       "layout": "IPY_MODEL_4449d5d2b7ff4ecd806288753cc8d01f",
       "toolbar": "IPY_MODEL_2e27ce1b62dd437ca77f3d80cbea6f6f",
       "toolbar_position": "left"
      }
     },
     "a0103183ddaa414d861f189fd22dc560": {
      "model_module": "@jupyter-widgets/base",
      "model_module_version": "1.2.0",
      "model_name": "LayoutModel",
      "state": {}
     },
     "a350956d45d24a03b55cc60a85442e9f": {
      "model_module": "jupyter-matplotlib",
      "model_module_version": "^0.8.2",
      "model_name": "ToolbarModel",
      "state": {
       "layout": "IPY_MODEL_e01ba70729674b70bec2fb8557d399d5",
       "toolitems": [
        [
         "Home",
         "Reset original view",
         "home",
         "home"
        ],
        [
         "Back",
         "Back to previous view",
         "arrow-left",
         "back"
        ],
        [
         "Forward",
         "Forward to next view",
         "arrow-right",
         "forward"
        ],
        [
         "Pan",
         "Left button pans, Right button zooms\nx/y fixes axis, CTRL fixes aspect",
         "arrows",
         "pan"
        ],
        [
         "Zoom",
         "Zoom to rectangle\nx/y fixes axis, CTRL fixes aspect",
         "square-o",
         "zoom"
        ],
        [
         "Download",
         "Download plot",
         "floppy-o",
         "save_figure"
        ]
       ]
      }
     },
     "a3f2ce2de5dc4647a6a92c2356112b70": {
      "model_module": "jupyter-matplotlib",
      "model_module_version": "^0.8.2",
      "model_name": "MPLCanvasModel",
      "state": {
       "_cursor": "default",
       "_figure_label": "Figure 22",
       "_height": 1536,
       "_message": "x=8.63e+03 y=3022.41",
       "_width": 1024,
       "layout": "IPY_MODEL_2a8fc4b534f34ba6a34520928e5c4a8d",
       "toolbar": "IPY_MODEL_2f67ca373ced4fb1a9f1ccb925234265",
       "toolbar_position": "left"
      }
     },
     "a4085ab1f52946d7b1356a489fdb92c6": {
      "model_module": "jupyter-matplotlib",
      "model_module_version": "^0.8.2",
      "model_name": "ToolbarModel",
      "state": {
       "layout": "IPY_MODEL_74b5c2dd96c441cb99fe93199047ef5e",
       "toolitems": [
        [
         "Home",
         "Reset original view",
         "home",
         "home"
        ],
        [
         "Back",
         "Back to previous view",
         "arrow-left",
         "back"
        ],
        [
         "Forward",
         "Forward to next view",
         "arrow-right",
         "forward"
        ],
        [
         "Pan",
         "Left button pans, Right button zooms\nx/y fixes axis, CTRL fixes aspect",
         "arrows",
         "pan"
        ],
        [
         "Zoom",
         "Zoom to rectangle\nx/y fixes axis, CTRL fixes aspect",
         "square-o",
         "zoom"
        ],
        [
         "Download",
         "Download plot",
         "floppy-o",
         "save_figure"
        ]
       ]
      }
     },
     "a95a8b6a568b4c41a50d8a0568d947d6": {
      "model_module": "@jupyter-widgets/base",
      "model_module_version": "1.2.0",
      "model_name": "LayoutModel",
      "state": {}
     },
     "a9b30d861e1f42ba849f36ee5c323f64": {
      "model_module": "jupyter-matplotlib",
      "model_module_version": "^0.8.2",
      "model_name": "MPLCanvasModel",
      "state": {
       "_cursor": "default",
       "_figure_label": "Figure 9",
       "_height": 575,
       "_width": 1536,
       "layout": "IPY_MODEL_dc7b5043bc3e4ef892e194f103f9211b",
       "toolbar": "IPY_MODEL_5167f10e4d7c4c6da59ba4900f33b9a8",
       "toolbar_position": "left"
      }
     },
     "aa5784129c3549528c0a095e2627d174": {
      "model_module": "jupyter-matplotlib",
      "model_module_version": "^0.8.2",
      "model_name": "MPLCanvasModel",
      "state": {
       "_cursor": "default",
       "_figure_label": "Figure 3",
       "_height": 768,
       "_image_mode": "diff",
       "_width": 1536,
       "layout": "IPY_MODEL_7b958e72a18d4af1b4ae8af5e7b3d7a3",
       "toolbar": "IPY_MODEL_caeaba737f4a454e940f7eeabde2ad48",
       "toolbar_position": "left"
      }
     },
     "abd500c1effb43d29491d888259cc752": {
      "model_module": "jupyter-matplotlib",
      "model_module_version": "^0.8.2",
      "model_name": "MPLCanvasModel",
      "state": {
       "_cursor": "default",
       "_figure_label": "Figure 31",
       "_height": 384,
       "_message": "x=2.090e+04 y=−46.408",
       "_width": 1024,
       "layout": "IPY_MODEL_41b689d7afee41dcbfeefcede172bff2",
       "toolbar": "IPY_MODEL_46be50940cb0417f95df1f63f5cb31cf",
       "toolbar_position": "left"
      }
     },
     "acdc4a3d34ee40aaaa6d2b27a69fe10e": {
      "model_module": "@jupyter-widgets/base",
      "model_module_version": "1.2.0",
      "model_name": "LayoutModel",
      "state": {}
     },
     "ae4f33c9f52144108dc77a4c2bfa8a72": {
      "model_module": "jupyter-matplotlib",
      "model_module_version": "^0.8.2",
      "model_name": "ToolbarModel",
      "state": {
       "layout": "IPY_MODEL_0beb2d8216084220bd2a8e8ef6076313",
       "toolitems": [
        [
         "Home",
         "Reset original view",
         "home",
         "home"
        ],
        [
         "Back",
         "Back to previous view",
         "arrow-left",
         "back"
        ],
        [
         "Forward",
         "Forward to next view",
         "arrow-right",
         "forward"
        ],
        [
         "Pan",
         "Left button pans, Right button zooms\nx/y fixes axis, CTRL fixes aspect",
         "arrows",
         "pan"
        ],
        [
         "Zoom",
         "Zoom to rectangle\nx/y fixes axis, CTRL fixes aspect",
         "square-o",
         "zoom"
        ],
        [
         "Download",
         "Download plot",
         "floppy-o",
         "save_figure"
        ]
       ]
      }
     },
     "b11731c452b54b8cb79771281c88a121": {
      "model_module": "@jupyter-widgets/base",
      "model_module_version": "1.2.0",
      "model_name": "LayoutModel",
      "state": {}
     },
     "b1b5c66e711e473da359e58f8ce9bfea": {
      "model_module": "@jupyter-widgets/base",
      "model_module_version": "1.2.0",
      "model_name": "LayoutModel",
      "state": {}
     },
     "b2362c63e1ca4a82980c082b7218079d": {
      "model_module": "@jupyter-widgets/base",
      "model_module_version": "1.2.0",
      "model_name": "LayoutModel",
      "state": {}
     },
     "b2b003e48f2d4411a3fe257e7b29c8b4": {
      "model_module": "jupyter-matplotlib",
      "model_module_version": "^0.8.2",
      "model_name": "ToolbarModel",
      "state": {
       "layout": "IPY_MODEL_7551aaceb48d4a5caaa3e0bcdee52300",
       "toolitems": [
        [
         "Home",
         "Reset original view",
         "home",
         "home"
        ],
        [
         "Back",
         "Back to previous view",
         "arrow-left",
         "back"
        ],
        [
         "Forward",
         "Forward to next view",
         "arrow-right",
         "forward"
        ],
        [
         "Pan",
         "Left button pans, Right button zooms\nx/y fixes axis, CTRL fixes aspect",
         "arrows",
         "pan"
        ],
        [
         "Zoom",
         "Zoom to rectangle\nx/y fixes axis, CTRL fixes aspect",
         "square-o",
         "zoom"
        ],
        [
         "Download",
         "Download plot",
         "floppy-o",
         "save_figure"
        ]
       ]
      }
     },
     "b61f5c8eef8c4d8681261b06059a442a": {
      "model_module": "@jupyter-widgets/base",
      "model_module_version": "1.2.0",
      "model_name": "LayoutModel",
      "state": {}
     },
     "b626eda830924e129903df17bbaa0c41": {
      "model_module": "@jupyter-widgets/controls",
      "model_module_version": "1.5.0",
      "model_name": "HTMLModel",
      "state": {
       "layout": "IPY_MODEL_50b92e73921a42c3a2dc813332d23182",
       "style": "IPY_MODEL_1da49767de154160843a8c00658ee322",
       "value": " 21600/21600 [01:02&lt;00:00, 428.14 PX/s]"
      }
     },
     "b6376ae8520d4619a3a5406d21f35258": {
      "model_module": "jupyter-matplotlib",
      "model_module_version": "^0.8.2",
      "model_name": "ToolbarModel",
      "state": {
       "layout": "IPY_MODEL_8233be9eea8047a9b449b723b1a93fbd",
       "toolitems": [
        [
         "Home",
         "Reset original view",
         "home",
         "home"
        ],
        [
         "Back",
         "Back to previous view",
         "arrow-left",
         "back"
        ],
        [
         "Forward",
         "Forward to next view",
         "arrow-right",
         "forward"
        ],
        [
         "Pan",
         "Left button pans, Right button zooms\nx/y fixes axis, CTRL fixes aspect",
         "arrows",
         "pan"
        ],
        [
         "Zoom",
         "Zoom to rectangle\nx/y fixes axis, CTRL fixes aspect",
         "square-o",
         "zoom"
        ],
        [
         "Download",
         "Download plot",
         "floppy-o",
         "save_figure"
        ]
       ]
      }
     },
     "b86f5c1397354ca3985dfcbdb5b0f7c2": {
      "model_module": "@jupyter-widgets/base",
      "model_module_version": "1.2.0",
      "model_name": "LayoutModel",
      "state": {}
     },
     "b95c454217414f699e20f505f8c8d8dd": {
      "model_module": "jupyter-matplotlib",
      "model_module_version": "^0.8.2",
      "model_name": "MPLCanvasModel",
      "state": {
       "_cursor": "default",
       "_figure_label": "Figure 24",
       "_height": 384,
       "_message": "x=1.888e+04 y=−46.012",
       "_width": 1024,
       "layout": "IPY_MODEL_2ed81ca7d53e41f6ab627f7c0c3db5e4",
       "toolbar": "IPY_MODEL_e10dd9eab6e047abadf58da82919dddf",
       "toolbar_position": "left"
      }
     },
     "b9f187f8590f4f96ad53228c6cbbe8be": {
      "model_module": "jupyter-matplotlib",
      "model_module_version": "^0.8.2",
      "model_name": "MPLCanvasModel",
      "state": {
       "_cursor": "default",
       "_figure_label": "Figure 20",
       "_height": 1536,
       "_message": "x=2.217e+04 y=2435.",
       "_width": 1024,
       "layout": "IPY_MODEL_36bd209df08640029a5215c787dc007d",
       "toolbar": "IPY_MODEL_d6987b610dcb49fdad10577075d35d6f",
       "toolbar_position": "left"
      }
     },
     "b9fe3b2cd58b47dbbbcbb7b8660a2086": {
      "model_module": "@jupyter-widgets/controls",
      "model_module_version": "1.5.0",
      "model_name": "DescriptionStyleModel",
      "state": {
       "description_width": ""
      }
     },
     "bcfd6b90fb784c92a8f36b2cac12324a": {
      "model_module": "jupyter-matplotlib",
      "model_module_version": "^0.8.2",
      "model_name": "ToolbarModel",
      "state": {
       "layout": "IPY_MODEL_681ca0155d044799a66e22f0f77eb9dc",
       "toolitems": [
        [
         "Home",
         "Reset original view",
         "home",
         "home"
        ],
        [
         "Back",
         "Back to previous view",
         "arrow-left",
         "back"
        ],
        [
         "Forward",
         "Forward to next view",
         "arrow-right",
         "forward"
        ],
        [
         "Pan",
         "Left button pans, Right button zooms\nx/y fixes axis, CTRL fixes aspect",
         "arrows",
         "pan"
        ],
        [
         "Zoom",
         "Zoom to rectangle\nx/y fixes axis, CTRL fixes aspect",
         "square-o",
         "zoom"
        ],
        [
         "Download",
         "Download plot",
         "floppy-o",
         "save_figure"
        ]
       ]
      }
     },
     "bd6922bc7cf94cd88834518291e36ca7": {
      "model_module": "@jupyter-widgets/base",
      "model_module_version": "1.2.0",
      "model_name": "LayoutModel",
      "state": {}
     },
     "bf327f13693e488aa9ac3d01cb78de66": {
      "model_module": "@jupyter-widgets/base",
      "model_module_version": "1.2.0",
      "model_name": "LayoutModel",
      "state": {}
     },
     "c145bb497b434c759512aad55db5c2c9": {
      "model_module": "@jupyter-widgets/base",
      "model_module_version": "1.2.0",
      "model_name": "LayoutModel",
      "state": {}
     },
     "c275483c2abc43e5812a6d900f28a5f4": {
      "model_module": "jupyter-matplotlib",
      "model_module_version": "^0.8.2",
      "model_name": "ToolbarModel",
      "state": {
       "layout": "IPY_MODEL_7bbe45a7b75244548b49fd75c5d6afa7",
       "toolitems": [
        [
         "Home",
         "Reset original view",
         "home",
         "home"
        ],
        [
         "Back",
         "Back to previous view",
         "arrow-left",
         "back"
        ],
        [
         "Forward",
         "Forward to next view",
         "arrow-right",
         "forward"
        ],
        [
         "Pan",
         "Left button pans, Right button zooms\nx/y fixes axis, CTRL fixes aspect",
         "arrows",
         "pan"
        ],
        [
         "Zoom",
         "Zoom to rectangle\nx/y fixes axis, CTRL fixes aspect",
         "square-o",
         "zoom"
        ],
        [
         "Download",
         "Download plot",
         "floppy-o",
         "save_figure"
        ]
       ]
      }
     },
     "c2dd5beeb5f3487fbf3fc3369567262a": {
      "model_module": "@jupyter-widgets/base",
      "model_module_version": "1.2.0",
      "model_name": "LayoutModel",
      "state": {}
     },
     "c43b8a91ce244dcb9e6b4deeb53f655c": {
      "model_module": "@jupyter-widgets/base",
      "model_module_version": "1.2.0",
      "model_name": "LayoutModel",
      "state": {}
     },
     "c44b54c177f94d33b7ffb4aea6994140": {
      "model_module": "jupyter-matplotlib",
      "model_module_version": "^0.8.2",
      "model_name": "ToolbarModel",
      "state": {
       "layout": "IPY_MODEL_ece7d8fdc2a348319f008b769e3f73e7",
       "toolitems": [
        [
         "Home",
         "Reset original view",
         "home",
         "home"
        ],
        [
         "Back",
         "Back to previous view",
         "arrow-left",
         "back"
        ],
        [
         "Forward",
         "Forward to next view",
         "arrow-right",
         "forward"
        ],
        [
         "Pan",
         "Left button pans, Right button zooms\nx/y fixes axis, CTRL fixes aspect",
         "arrows",
         "pan"
        ],
        [
         "Zoom",
         "Zoom to rectangle\nx/y fixes axis, CTRL fixes aspect",
         "square-o",
         "zoom"
        ],
        [
         "Download",
         "Download plot",
         "floppy-o",
         "save_figure"
        ]
       ]
      }
     },
     "c506bb3fcc094a459499cd91d5e58162": {
      "model_module": "jupyter-matplotlib",
      "model_module_version": "^0.8.2",
      "model_name": "MPLCanvasModel",
      "state": {
       "_cursor": "default",
       "_figure_label": "Figure 2",
       "_height": 384,
       "_message": "x=9.9 y=18.6\n[4.0e+11]",
       "_width": 512,
       "layout": "IPY_MODEL_6e80644fb2a44249a43ff4a251a34907",
       "toolbar": "IPY_MODEL_38779d2cccac41968cb9e8bea7f64a86",
       "toolbar_position": "left"
      }
     },
     "c77b2d001006443596e79930dc39550e": {
      "model_module": "jupyter-matplotlib",
      "model_module_version": "^0.8.2",
      "model_name": "ToolbarModel",
      "state": {
       "layout": "IPY_MODEL_a95a8b6a568b4c41a50d8a0568d947d6",
       "toolitems": [
        [
         "Home",
         "Reset original view",
         "home",
         "home"
        ],
        [
         "Back",
         "Back to previous view",
         "arrow-left",
         "back"
        ],
        [
         "Forward",
         "Forward to next view",
         "arrow-right",
         "forward"
        ],
        [
         "Pan",
         "Left button pans, Right button zooms\nx/y fixes axis, CTRL fixes aspect",
         "arrows",
         "pan"
        ],
        [
         "Zoom",
         "Zoom to rectangle\nx/y fixes axis, CTRL fixes aspect",
         "square-o",
         "zoom"
        ],
        [
         "Download",
         "Download plot",
         "floppy-o",
         "save_figure"
        ]
       ]
      }
     },
     "caeaba737f4a454e940f7eeabde2ad48": {
      "model_module": "jupyter-matplotlib",
      "model_module_version": "^0.8.2",
      "model_name": "ToolbarModel",
      "state": {
       "layout": "IPY_MODEL_95cea9dd0e074f189b2c5deb3bb21703",
       "toolitems": [
        [
         "Home",
         "Reset original view",
         "home",
         "home"
        ],
        [
         "Back",
         "Back to previous view",
         "arrow-left",
         "back"
        ],
        [
         "Forward",
         "Forward to next view",
         "arrow-right",
         "forward"
        ],
        [
         "Pan",
         "Left button pans, Right button zooms\nx/y fixes axis, CTRL fixes aspect",
         "arrows",
         "pan"
        ],
        [
         "Zoom",
         "Zoom to rectangle\nx/y fixes axis, CTRL fixes aspect",
         "square-o",
         "zoom"
        ],
        [
         "Download",
         "Download plot",
         "floppy-o",
         "save_figure"
        ]
       ]
      }
     },
     "cd25b202a15b4954b73702f528875e17": {
      "model_module": "@jupyter-widgets/base",
      "model_module_version": "1.2.0",
      "model_name": "LayoutModel",
      "state": {}
     },
     "d02e4726728e4478a0756ef362499271": {
      "model_module": "jupyter-matplotlib",
      "model_module_version": "^0.8.2",
      "model_name": "MPLCanvasModel",
      "state": {
       "_cursor": "default",
       "_figure_label": "Figure 28",
       "_height": 384,
       "_width": 1024,
       "layout": "IPY_MODEL_cd25b202a15b4954b73702f528875e17",
       "toolbar": "IPY_MODEL_3f21b7d7cf4e41f6b7813296dd682288",
       "toolbar_position": "left"
      }
     },
     "d0e9f726819440b59e39b43b9d8f6ece": {
      "model_module": "jupyter-matplotlib",
      "model_module_version": "^0.8.2",
      "model_name": "ToolbarModel",
      "state": {
       "layout": "IPY_MODEL_20111aa2c25348e6b6034c307949ec3d",
       "toolitems": [
        [
         "Home",
         "Reset original view",
         "home",
         "home"
        ],
        [
         "Back",
         "Back to previous view",
         "arrow-left",
         "back"
        ],
        [
         "Forward",
         "Forward to next view",
         "arrow-right",
         "forward"
        ],
        [
         "Pan",
         "Left button pans, Right button zooms\nx/y fixes axis, CTRL fixes aspect",
         "arrows",
         "pan"
        ],
        [
         "Zoom",
         "Zoom to rectangle\nx/y fixes axis, CTRL fixes aspect",
         "square-o",
         "zoom"
        ],
        [
         "Download",
         "Download plot",
         "floppy-o",
         "save_figure"
        ]
       ]
      }
     },
     "d36223c1108b44d9921d21d425a8283a": {
      "model_module": "@jupyter-widgets/base",
      "model_module_version": "1.2.0",
      "model_name": "LayoutModel",
      "state": {}
     },
     "d3be76ee1f724c6fbaa91e3d85ca9770": {
      "model_module": "jupyter-matplotlib",
      "model_module_version": "^0.8.2",
      "model_name": "MPLCanvasModel",
      "state": {
       "_cursor": "default",
       "_figure_label": "Figure 7",
       "_height": 384,
       "_width": 512,
       "layout": "IPY_MODEL_acdc4a3d34ee40aaaa6d2b27a69fe10e",
       "toolbar": "IPY_MODEL_e6a0de65dda24506b878ec80344bcf55",
       "toolbar_position": "left"
      }
     },
     "d400b67845f1494dbc0f573672f3e4fc": {
      "model_module": "jupyter-matplotlib",
      "model_module_version": "^0.8.2",
      "model_name": "MPLCanvasModel",
      "state": {
       "_cursor": "default",
       "_figure_label": "Figure 10",
       "_height": 575,
       "_width": 1536,
       "layout": "IPY_MODEL_c2dd5beeb5f3487fbf3fc3369567262a",
       "toolbar": "IPY_MODEL_c77b2d001006443596e79930dc39550e",
       "toolbar_position": "left"
      }
     },
     "d6987b610dcb49fdad10577075d35d6f": {
      "model_module": "jupyter-matplotlib",
      "model_module_version": "^0.8.2",
      "model_name": "ToolbarModel",
      "state": {
       "layout": "IPY_MODEL_a0103183ddaa414d861f189fd22dc560",
       "toolitems": [
        [
         "Home",
         "Reset original view",
         "home",
         "home"
        ],
        [
         "Back",
         "Back to previous view",
         "arrow-left",
         "back"
        ],
        [
         "Forward",
         "Forward to next view",
         "arrow-right",
         "forward"
        ],
        [
         "Pan",
         "Left button pans, Right button zooms\nx/y fixes axis, CTRL fixes aspect",
         "arrows",
         "pan"
        ],
        [
         "Zoom",
         "Zoom to rectangle\nx/y fixes axis, CTRL fixes aspect",
         "square-o",
         "zoom"
        ],
        [
         "Download",
         "Download plot",
         "floppy-o",
         "save_figure"
        ]
       ]
      }
     },
     "d7571c86f16b4dde9b64b9af24316eea": {
      "model_module": "jupyter-matplotlib",
      "model_module_version": "^0.8.2",
      "model_name": "MPLCanvasModel",
      "state": {
       "_cursor": "default",
       "_figure_label": "Figure 19",
       "_height": 384,
       "_message": "x=2.01e+03 y=−46.115",
       "_width": 1024,
       "layout": "IPY_MODEL_8141d5b1b9cf4390a7fb32d962c8cbf5",
       "toolbar": "IPY_MODEL_c44b54c177f94d33b7ffb4aea6994140",
       "toolbar_position": "left"
      }
     },
     "d8966efbf2bb4e28abeacde3decaf9ba": {
      "model_module": "jupyter-matplotlib",
      "model_module_version": "^0.8.2",
      "model_name": "ToolbarModel",
      "state": {
       "layout": "IPY_MODEL_b1b5c66e711e473da359e58f8ce9bfea",
       "toolitems": [
        [
         "Home",
         "Reset original view",
         "home",
         "home"
        ],
        [
         "Back",
         "Back to previous view",
         "arrow-left",
         "back"
        ],
        [
         "Forward",
         "Forward to next view",
         "arrow-right",
         "forward"
        ],
        [
         "Pan",
         "Left button pans, Right button zooms\nx/y fixes axis, CTRL fixes aspect",
         "arrows",
         "pan"
        ],
        [
         "Zoom",
         "Zoom to rectangle\nx/y fixes axis, CTRL fixes aspect",
         "square-o",
         "zoom"
        ],
        [
         "Download",
         "Download plot",
         "floppy-o",
         "save_figure"
        ]
       ]
      }
     },
     "d8b6d6002a13472aa454c26ed8547299": {
      "model_module": "@jupyter-widgets/controls",
      "model_module_version": "1.5.0",
      "model_name": "HBoxModel",
      "state": {
       "children": [
        "IPY_MODEL_093e9e70cdae4174aeea77f906ccfc47",
        "IPY_MODEL_d9b8a1ec4b7144ec9754649737bb92fd",
        "IPY_MODEL_b626eda830924e129903df17bbaa0c41"
       ],
       "layout": "IPY_MODEL_c145bb497b434c759512aad55db5c2c9"
      }
     },
     "d9b8a1ec4b7144ec9754649737bb92fd": {
      "model_module": "@jupyter-widgets/controls",
      "model_module_version": "1.5.0",
      "model_name": "FloatProgressModel",
      "state": {
       "bar_style": "success",
       "layout": "IPY_MODEL_2f8e259760594f8ebcc463f2d94e1d2c",
       "max": 21600,
       "style": "IPY_MODEL_dc4db9c230f64d70a39c6c77f385c3e0",
       "value": 21600
      }
     },
     "dbf5e9629b8a43edac84e6cc6179adac": {
      "model_module": "jupyter-matplotlib",
      "model_module_version": "^0.8.2",
      "model_name": "MPLCanvasModel",
      "state": {
       "_cursor": "default",
       "_figure_label": "Figure 32",
       "_height": 384,
       "_width": 1024,
       "layout": "IPY_MODEL_23414df7fe3b48798d7a6db5e511071c",
       "toolbar": "IPY_MODEL_50ef61815c0b416c9f25726cb1f8938c",
       "toolbar_position": "left"
      }
     },
     "dc4db9c230f64d70a39c6c77f385c3e0": {
      "model_module": "@jupyter-widgets/controls",
      "model_module_version": "1.5.0",
      "model_name": "ProgressStyleModel",
      "state": {
       "description_width": ""
      }
     },
     "dc7b5043bc3e4ef892e194f103f9211b": {
      "model_module": "@jupyter-widgets/base",
      "model_module_version": "1.2.0",
      "model_name": "LayoutModel",
      "state": {}
     },
     "dea0d7ff45dc45e4a45c045990ac64f3": {
      "model_module": "@jupyter-widgets/base",
      "model_module_version": "1.2.0",
      "model_name": "LayoutModel",
      "state": {}
     },
     "e01ba70729674b70bec2fb8557d399d5": {
      "model_module": "@jupyter-widgets/base",
      "model_module_version": "1.2.0",
      "model_name": "LayoutModel",
      "state": {}
     },
     "e10dd9eab6e047abadf58da82919dddf": {
      "model_module": "jupyter-matplotlib",
      "model_module_version": "^0.8.2",
      "model_name": "ToolbarModel",
      "state": {
       "layout": "IPY_MODEL_4b4fbedcb8ac4f92b21dc7a3b7f6b306",
       "toolitems": [
        [
         "Home",
         "Reset original view",
         "home",
         "home"
        ],
        [
         "Back",
         "Back to previous view",
         "arrow-left",
         "back"
        ],
        [
         "Forward",
         "Forward to next view",
         "arrow-right",
         "forward"
        ],
        [
         "Pan",
         "Left button pans, Right button zooms\nx/y fixes axis, CTRL fixes aspect",
         "arrows",
         "pan"
        ],
        [
         "Zoom",
         "Zoom to rectangle\nx/y fixes axis, CTRL fixes aspect",
         "square-o",
         "zoom"
        ],
        [
         "Download",
         "Download plot",
         "floppy-o",
         "save_figure"
        ]
       ]
      }
     },
     "e6a0de65dda24506b878ec80344bcf55": {
      "model_module": "jupyter-matplotlib",
      "model_module_version": "^0.8.2",
      "model_name": "ToolbarModel",
      "state": {
       "layout": "IPY_MODEL_5299b6dbcfa343028c590a0410ff58c8",
       "toolitems": [
        [
         "Home",
         "Reset original view",
         "home",
         "home"
        ],
        [
         "Back",
         "Back to previous view",
         "arrow-left",
         "back"
        ],
        [
         "Forward",
         "Forward to next view",
         "arrow-right",
         "forward"
        ],
        [
         "Pan",
         "Left button pans, Right button zooms\nx/y fixes axis, CTRL fixes aspect",
         "arrows",
         "pan"
        ],
        [
         "Zoom",
         "Zoom to rectangle\nx/y fixes axis, CTRL fixes aspect",
         "square-o",
         "zoom"
        ],
        [
         "Download",
         "Download plot",
         "floppy-o",
         "save_figure"
        ]
       ]
      }
     },
     "e76ac6842cdb43c8a66f22d62c6b1102": {
      "model_module": "@jupyter-widgets/base",
      "model_module_version": "1.2.0",
      "model_name": "LayoutModel",
      "state": {}
     },
     "ece7d8fdc2a348319f008b769e3f73e7": {
      "model_module": "@jupyter-widgets/base",
      "model_module_version": "1.2.0",
      "model_name": "LayoutModel",
      "state": {}
     },
     "ed64c6fa3ad1441fb4fdbec532bbd55c": {
      "model_module": "@jupyter-widgets/base",
      "model_module_version": "1.2.0",
      "model_name": "LayoutModel",
      "state": {}
     },
     "edeaef61d8b0440394a06f8dcfe67350": {
      "model_module": "@jupyter-widgets/base",
      "model_module_version": "1.2.0",
      "model_name": "LayoutModel",
      "state": {}
     },
     "f304be9e9a3a4afa854e3e48f82b0053": {
      "model_module": "jupyter-matplotlib",
      "model_module_version": "^0.8.2",
      "model_name": "ToolbarModel",
      "state": {
       "layout": "IPY_MODEL_b11731c452b54b8cb79771281c88a121",
       "toolitems": [
        [
         "Home",
         "Reset original view",
         "home",
         "home"
        ],
        [
         "Back",
         "Back to previous view",
         "arrow-left",
         "back"
        ],
        [
         "Forward",
         "Forward to next view",
         "arrow-right",
         "forward"
        ],
        [
         "Pan",
         "Left button pans, Right button zooms\nx/y fixes axis, CTRL fixes aspect",
         "arrows",
         "pan"
        ],
        [
         "Zoom",
         "Zoom to rectangle\nx/y fixes axis, CTRL fixes aspect",
         "square-o",
         "zoom"
        ],
        [
         "Download",
         "Download plot",
         "floppy-o",
         "save_figure"
        ]
       ]
      }
     },
     "f3386530168547fa8be4fb0f44491f56": {
      "model_module": "@jupyter-widgets/base",
      "model_module_version": "1.2.0",
      "model_name": "LayoutModel",
      "state": {}
     },
     "f47afab3092741c0ba8b92563acb0ec8": {
      "model_module": "jupyter-matplotlib",
      "model_module_version": "^0.8.2",
      "model_name": "MPLCanvasModel",
      "state": {
       "_cursor": "default",
       "_figure_label": "Figure 6",
       "_height": 384,
       "_width": 512,
       "layout": "IPY_MODEL_926c39e7a61144c594d7a14a3694a0b8",
       "toolbar": "IPY_MODEL_c275483c2abc43e5812a6d900f28a5f4",
       "toolbar_position": "left"
      }
     },
     "f5931cdc3c1e455680c78da0be271af7": {
      "model_module": "jupyter-matplotlib",
      "model_module_version": "^0.8.2",
      "model_name": "MPLCanvasModel",
      "state": {
       "_cursor": "default",
       "_figure_label": "Figure 29",
       "_height": 384,
       "_width": 1024,
       "layout": "IPY_MODEL_d36223c1108b44d9921d21d425a8283a",
       "toolbar": "IPY_MODEL_a4085ab1f52946d7b1356a489fdb92c6",
       "toolbar_position": "left"
      }
     },
     "f5ca254c6fbc4aa2b6b4a53d893c5448": {
      "model_module": "jupyter-matplotlib",
      "model_module_version": "^0.8.2",
      "model_name": "ToolbarModel",
      "state": {
       "layout": "IPY_MODEL_e76ac6842cdb43c8a66f22d62c6b1102",
       "toolitems": [
        [
         "Home",
         "Reset original view",
         "home",
         "home"
        ],
        [
         "Back",
         "Back to previous view",
         "arrow-left",
         "back"
        ],
        [
         "Forward",
         "Forward to next view",
         "arrow-right",
         "forward"
        ],
        [
         "Pan",
         "Left button pans, Right button zooms\nx/y fixes axis, CTRL fixes aspect",
         "arrows",
         "pan"
        ],
        [
         "Zoom",
         "Zoom to rectangle\nx/y fixes axis, CTRL fixes aspect",
         "square-o",
         "zoom"
        ],
        [
         "Download",
         "Download plot",
         "floppy-o",
         "save_figure"
        ]
       ]
      }
     },
     "fa6bacc46f0d476bbb4bf903fe705c3e": {
      "model_module": "jupyter-matplotlib",
      "model_module_version": "^0.8.2",
      "model_name": "MPLCanvasModel",
      "state": {
       "_cursor": "default",
       "_figure_label": "Figure 25",
       "_height": 384,
       "_width": 1024,
       "layout": "IPY_MODEL_1b29042fdbd946d6a7222c87cb98529e",
       "toolbar": "IPY_MODEL_a350956d45d24a03b55cc60a85442e9f",
       "toolbar_position": "left"
      }
     },
     "fb4f1ba0b1c04d72ac31e464c08934e6": {
      "model_module": "jupyter-matplotlib",
      "model_module_version": "^0.8.2",
      "model_name": "MPLCanvasModel",
      "state": {
       "_cursor": "default",
       "_figure_label": "Figure 27",
       "_height": 384,
       "_message": "x=1.438e+04 y=−46.456",
       "_width": 1024,
       "layout": "IPY_MODEL_b86f5c1397354ca3985dfcbdb5b0f7c2",
       "toolbar": "IPY_MODEL_ae4f33c9f52144108dc77a4c2bfa8a72",
       "toolbar_position": "left"
      }
     }
    },
    "version_major": 2,
    "version_minor": 0
   }
  }
 },
 "nbformat": 4,
 "nbformat_minor": 5
}
