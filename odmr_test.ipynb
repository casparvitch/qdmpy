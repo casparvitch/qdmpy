{
 "cells": [
  {
   "cell_type": "code",
   "execution_count": 1,
   "id": "absolute-plumbing",
   "metadata": {},
   "outputs": [],
   "source": [
    "# '%matplotlib widget' allows interactive plotsin jupyterlab\n",
    "# use '%matplotlib inline' to allow export to pdf\n",
    "# use '%matplotlib qt' to generate gui, i.e. when using polygon_gui etc.\n",
    "%matplotlib widget"
   ]
  },
  {
   "cell_type": "code",
   "execution_count": 2,
   "id": "adolescent-manufacturer",
   "metadata": {
    "slideshow": {
     "slide_type": "slide"
    }
   },
   "outputs": [],
   "source": [
    "import qdmpy.io as Qio\n",
    "import qdmpy.fit as Qfit\n",
    "import qdmpy.plot as Qplot\n",
    "import qdmpy.field as Qfield\n",
    "import qdmpy.itools as Qitools\n",
    "\n",
    "import matplotlib\n",
    "import matplotlib.pyplot as plt\n",
    "import warnings"
   ]
  },
  {
   "cell_type": "markdown",
   "id": "seasonal-minimum",
   "metadata": {},
   "source": [
    ".\n",
    "### Load raw data"
   ]
  },
  {
   "cell_type": "code",
   "execution_count": 3,
   "id": "extreme-speed",
   "metadata": {},
   "outputs": [],
   "source": [
    "options_dict = {\n",
    "    # Argus: C:\\\\src\\\\QDMPY_test_image\n",
    "    # Sam: /home/samsc/ResearchData/test_images/\n",
    "    \"base_dir\": \"/home/samsc/ResearchData/test_images/\",\n",
    "    \"filepath\": \"ODMR - Pulsed_42\",\n",
    "    \"custom_output_dir_suffix\": \"_bin_{total_bin}_{ROI}\",\n",
    "    \n",
    "    \"additional_bins\": 8,\n",
    "    \n",
    "    \"objective_mag\": 40, # unsure of this one... 54um width of contacts\n",
    "\n",
    "    \"system_name\": \"Zyla\",\n",
    "\n",
    "    \"ROI\": \"Full\", \n",
    "    \"ROI_start\": [15, 25],\n",
    "    \"ROI_end\": [115,130],\n",
    "    \n",
    "    \"AOI_1_start\": [60, 145],\n",
    "    \"AOI_1_end\": [70, 155], \n",
    "    \"AOI_2_start\": [20, 20],\n",
    "    \"AOI_2_end\": [24, 24], \n",
    "    \"AOI_3_start\": [30, 20],\n",
    "    \"AOI_3_end\": [32, 24], \n",
    "    \"single_pixel_check\": [90, 150],\n",
    "    \n",
    "    \"fit_backend\": \"scipyfit\",\n",
    "    \"fit_backend_comparison\": [\"scipyfit\"],\n",
    "    \"fit_pixels\": True, \n",
    "    \"force_fit\": False, \n",
    "    \n",
    "    \"use_ROI_avg_fit_res_for_all_pixels\": True,\n",
    "    \n",
    "    \"scipyfit_sub_threads\": 2, \n",
    "\n",
    "    \"fit_functions\":  {\"linear\": 1, \"lorentzian\": 8},\n",
    "\n",
    "    \"pos_guess\": [2631, 2723, 2787, 2866, 2955, 3022, 3066, 3130], # ODMR - Pulsed_42\n",
    "    \"pos_range\": 25,\n",
    "\n",
    "    \"amp_guess\": -0.02,\n",
    "    \"amp_bounds\": [-0.0300, -0.0003],\n",
    "    \n",
    "    \"save_fig_type\": \"pdf\",\n",
    "    \n",
    "    \"freqs_to_use\": [1, 1, 1, 0, 0, 1, 1, 1],\n",
    "    \"diamond_ori\": \"<100>_<110>\", # this is one of the funny HPHTs\n",
    "    \n",
    "    \"bias_mag\": 100,\n",
    "    \"bias_theta\": 67,\n",
    "    \"bias_phi\": -120,\n",
    "    \n",
    "    \"field_method\": \"invert_unvs\",\n",
    "#     \"hamiltonian\": \"bxyz\",\n",
    "    \"calc_field_pixels\": True,\n",
    "    \"force_field_calc\": True,\n",
    "    \n",
    "    \"bfield_bground_method\": \"poly\",\n",
    "    \"bfield_bground_params\": {\n",
    "        \"order\": 1\n",
    "    },\n",
    "    \"polygon_nodes_path\": None, # \"/home/samsc/polytest.json\",\n",
    "    \"annotate_polygons\": True,\n",
    "}"
   ]
  },
  {
   "cell_type": "code",
   "execution_count": 4,
   "id": "expressed-voice",
   "metadata": {},
   "outputs": [],
   "source": [
    "options = Qio.load_options(options_dict=options_dict, check_for_prev_result=True)\n",
    "Qplot.set_mpl_rcparams(options)"
   ]
  },
  {
   "cell_type": "markdown",
   "id": "numeric-matrix",
   "metadata": {},
   "source": [
    "### Load data"
   ]
  },
  {
   "cell_type": "code",
   "execution_count": 5,
   "id": "polyphonic-charger",
   "metadata": {},
   "outputs": [
    {
     "data": {
      "application/vnd.jupyter.widget-view+json": {
       "model_id": "a52ad128938241d797ef7834f0903ab3",
       "version_major": 2,
       "version_minor": 0
      },
      "text/plain": [
       "Canvas(toolbar=Toolbar(toolitems=[('Home', 'Reset original view', 'home', 'home'), ('Back', 'Back to previous …"
      ]
     },
     "metadata": {},
     "output_type": "display_data"
    },
    {
     "data": {
      "application/vnd.jupyter.widget-view+json": {
       "model_id": "cd4d0c8b88bd4db98d37c2370525afe4",
       "version_major": 2,
       "version_minor": 0
      },
      "text/plain": [
       "Canvas(toolbar=Toolbar(toolitems=[('Home', 'Reset original view', 'home', 'home'), ('Back', 'Back to previous …"
      ]
     },
     "metadata": {},
     "output_type": "display_data"
    },
    {
     "data": {
      "application/vnd.jupyter.widget-view+json": {
       "model_id": "a3e18869bfb140cc915e2cca773fcc2c",
       "version_major": 2,
       "version_minor": 0
      },
      "text/plain": [
       "Canvas(toolbar=Toolbar(toolitems=[('Home', 'Reset original view', 'home', 'home'), ('Back', 'Back to previous …"
      ]
     },
     "metadata": {},
     "output_type": "display_data"
    }
   ],
   "source": [
    "image, prelim_sweep_list = Qio.load_image_and_sweep(options)\n",
    "PL_image, PL_image_ROI, sig, ref, sig_norm, single_pixel_pl, sweep_list = Qio.reshape_dataset(\n",
    "        options, image, prelim_sweep_list\n",
    "    )\n",
    "ROI_PL_fig = Qplot.plot_ROI_PL_image(options, PL_image)\n",
    "\n",
    "AOI_PL_fig = Qplot.plot_AOI_PL_images(options, PL_image_ROI)\n",
    "\n",
    "AOI_spectra_fig = Qplot.plot_AOI_spectra(options, sig, ref, sweep_list)\n",
    "\n",
    "Qio.save_PL_data(options, PL_image, PL_image_ROI)"
   ]
  },
  {
   "cell_type": "code",
   "execution_count": 6,
   "id": "novel-slovakia",
   "metadata": {},
   "outputs": [],
   "source": [
    "# ENSURE you're running %matplotlib qt (or another gui)\n",
    "# Qitools.polygon_gui(PL_image_ROI)\n",
    "# then on next run, leave this fn out, and add the json path to your options dict (polygon_nodes_path)"
   ]
  },
  {
   "cell_type": "code",
   "execution_count": 7,
   "id": "incorrect-ensemble",
   "metadata": {},
   "outputs": [],
   "source": [
    "# others_fig = Qplot.plot_other_measurements(options, skip_first=1)"
   ]
  },
  {
   "cell_type": "markdown",
   "id": "analyzed-allergy",
   "metadata": {},
   "source": [
    "### Load reference experiment - note, you can fit in this same notebook!"
   ]
  },
  {
   "cell_type": "code",
   "execution_count": 8,
   "id": "cognitive-expert",
   "metadata": {},
   "outputs": [
    {
     "name": "stderr",
     "output_type": "stream",
     "text": [
      "/home/samsc/src/nv/qdmpy_proj/qdmpy_git/qdmpy/io/fit.py:172: UserWarning: No reference experiment options dict provided, continuing without reference.\n",
      "  warnings.warn(\n"
     ]
    }
   ],
   "source": [
    "ref_options_dir = None # if you want to use a reference experiment {ensure you run this even if 'None' as it sets up output dirs etc.}\n",
    "# below: alternative is to just have the dictionary already loaded (above this is called `pixel_fit_params`)\n",
    "ref_fit_params, ref_sigmas = Qio.load_reference_experiment_fit_results(options, ref_options=None, ref_options_dir=ref_options_dir)"
   ]
  },
  {
   "cell_type": "markdown",
   "id": "native-palace",
   "metadata": {},
   "source": [
    "### Fit AOI, ROI averages, single pixel"
   ]
  },
  {
   "cell_type": "code",
   "execution_count": 9,
   "id": "english-meeting",
   "metadata": {},
   "outputs": [
    {
     "name": "stderr",
     "output_type": "stream",
     "text": [
      "/home/samsc/src/nv/qdmpy_proj/qdmpy_git/qdmpy/fit/_scipyfit.py:35: TqdmExperimentalWarning: Using `tqdm.autonotebook.tqdm` in notebook mode. Use `tqdm.tqdm` instead to force console mode (e.g. in jupyter console)\n",
      "  from tqdm.autonotebook import tqdm  # auto detects jupyter\n"
     ]
    },
    {
     "data": {
      "application/vnd.jupyter.widget-view+json": {
       "model_id": "671e1bf2d88b49e69d5c51ff25f48ee9",
       "version_major": 2,
       "version_minor": 0
      },
      "text/plain": [
       "Canvas(toolbar=Toolbar(toolitems=[('Home', 'Reset original view', 'home', 'home'), ('Back', 'Back to previous …"
      ]
     },
     "metadata": {},
     "output_type": "display_data"
    },
    {
     "data": {
      "application/vnd.jupyter.widget-view+json": {
       "model_id": "e8e6c26e72004e209ad58345b7b5e1ca",
       "version_major": 2,
       "version_minor": 0
      },
      "text/plain": [
       "Canvas(toolbar=Toolbar(toolitems=[('Home', 'Reset original view', 'home', 'home'), ('Back', 'Back to previous …"
      ]
     },
     "metadata": {},
     "output_type": "display_data"
    }
   ],
   "source": [
    "fit_model = Qfit.define_fit_model(options)\n",
    "backend_ROI_results_lst = Qfit.fit_ROI_avg(options, sig_norm, sweep_list, fit_model)\n",
    "ROI_fit_fig = Qplot.plot_ROI_avg_fits(options, backend_ROI_results_lst)\n",
    "\n",
    "fit_result_collection_lst = Qfit.fit_AOIs(options, sig_norm, single_pixel_pl, sweep_list, fit_model, backend_ROI_results_lst)\n",
    "AOI_fit_fig = Qplot.plot_AOI_spectra_fit(options, sig, ref, sweep_list, fit_result_collection_lst, fit_model)"
   ]
  },
  {
   "cell_type": "markdown",
   "id": "coupled-turkish",
   "metadata": {},
   "source": [
    "### Fit pixels"
   ]
  },
  {
   "cell_type": "code",
   "execution_count": 10,
   "id": "pleased-origin",
   "metadata": {},
   "outputs": [
    {
     "name": "stderr",
     "output_type": "stream",
     "text": [
      "/home/samsc/src/nv/qdmpy_proj/qdmpy_git/qdmpy/fit/interface.py:306: UserWarning: Using previous fit results.\n",
      "  warnings.warn(\"Using previous fit results.\")\n"
     ]
    }
   ],
   "source": [
    "wanted_roi_result = next(\n",
    "    filter(\n",
    "        lambda result: result.fit_backend == options[\"fit_backend\"], backend_ROI_results_lst\n",
    "    )\n",
    ") # ROI fit result for chosen fit backend\n",
    "pixel_fit_params, sigmas = Qfit.get_PL_fit_result(options, sig_norm, sweep_list, fit_model, wanted_roi_result)\n",
    "\n",
    "Qio.save_pixel_fit_results(options, pixel_fit_params)\n",
    "Qio.save_pixel_fit_sigmas(options, sigmas)"
   ]
  },
  {
   "cell_type": "markdown",
   "id": "prostate-arctic",
   "metadata": {},
   "source": [
    "### Plot (fit) parameters"
   ]
  },
  {
   "cell_type": "code",
   "execution_count": 11,
   "id": "vertical-review",
   "metadata": {},
   "outputs": [
    {
     "data": {
      "application/vnd.jupyter.widget-view+json": {
       "model_id": "beef00bd281c42e0996131bbc076142d",
       "version_major": 2,
       "version_minor": 0
      },
      "text/plain": [
       "Canvas(toolbar=Toolbar(toolitems=[('Home', 'Reset original view', 'home', 'home'), ('Back', 'Back to previous …"
      ]
     },
     "metadata": {},
     "output_type": "display_data"
    },
    {
     "data": {
      "application/vnd.jupyter.widget-view+json": {
       "model_id": "8f5041d973ec40579ec6c0ad9164af36",
       "version_major": 2,
       "version_minor": 0
      },
      "text/plain": [
       "Canvas(toolbar=Toolbar(toolitems=[('Home', 'Reset original view', 'home', 'home'), ('Back', 'Back to previous …"
      ]
     },
     "metadata": {},
     "output_type": "display_data"
    },
    {
     "data": {
      "application/vnd.jupyter.widget-view+json": {
       "model_id": "d38a800913b74f9999bccc56f88eba66",
       "version_major": 2,
       "version_minor": 0
      },
      "text/plain": [
       "Canvas(toolbar=Toolbar(toolitems=[('Home', 'Reset original view', 'home', 'home'), ('Back', 'Back to previous …"
      ]
     },
     "metadata": {},
     "output_type": "display_data"
    },
    {
     "data": {
      "application/vnd.jupyter.widget-view+json": {
       "model_id": "7c406ef6327f40388bdb7d0e7794bfb0",
       "version_major": 2,
       "version_minor": 0
      },
      "text/plain": [
       "Canvas(toolbar=Toolbar(toolitems=[('Home', 'Reset original view', 'home', 'home'), ('Back', 'Back to previous …"
      ]
     },
     "metadata": {},
     "output_type": "display_data"
    },
    {
     "data": {
      "application/vnd.jupyter.widget-view+json": {
       "model_id": "17795c9d7f514d74b818e930743b4023",
       "version_major": 2,
       "version_minor": 0
      },
      "text/plain": [
       "Canvas(toolbar=Toolbar(toolitems=[('Home', 'Reset original view', 'home', 'home'), ('Back', 'Back to previous …"
      ]
     },
     "metadata": {},
     "output_type": "display_data"
    },
    {
     "data": {
      "application/vnd.jupyter.widget-view+json": {
       "model_id": "950fe47c586c497899a07108737d8274",
       "version_major": 2,
       "version_minor": 0
      },
      "text/plain": [
       "Canvas(toolbar=Toolbar(toolitems=[('Home', 'Reset original view', 'home', 'home'), ('Back', 'Back to previous …"
      ]
     },
     "metadata": {},
     "output_type": "display_data"
    }
   ],
   "source": [
    "c_fig = Qplot.plot_param_images(options, fit_model, pixel_fit_params, \"c\")\n",
    "m_fig = Qplot.plot_param_images(options, fit_model, pixel_fit_params, \"m\")\n",
    "pos_fig = Qplot.plot_param_images(options, fit_model, pixel_fit_params, \"pos\")\n",
    "amp_fig = Qplot.plot_param_images(options, fit_model, pixel_fit_params, \"amp\")\n",
    "fwhm_fig = Qplot.plot_param_images(options, fit_model, pixel_fit_params, \"fwhm\")\n",
    "residual_fig = Qplot.plot_param_images(options, fit_model, pixel_fit_params, \"residual\")"
   ]
  },
  {
   "cell_type": "code",
   "execution_count": 12,
   "id": "automatic-battery",
   "metadata": {},
   "outputs": [
    {
     "data": {
      "application/vnd.jupyter.widget-view+json": {
       "model_id": "8866ae1fb7b1475ea40b143518b81a23",
       "version_major": 2,
       "version_minor": 0
      },
      "text/plain": [
       "Canvas(toolbar=Toolbar(toolitems=[('Home', 'Reset original view', 'home', 'home'), ('Back', 'Back to previous …"
      ]
     },
     "metadata": {},
     "output_type": "display_data"
    }
   ],
   "source": [
    "pos_sigma_plot = Qplot.plot_param_images(options, fit_model, sigmas, \"pos\", errorplot=True)"
   ]
  },
  {
   "cell_type": "markdown",
   "id": "accepted-miller",
   "metadata": {},
   "source": [
    "### Initial guess and fit vs data (flattened)"
   ]
  },
  {
   "cell_type": "code",
   "execution_count": 13,
   "id": "amended-summit",
   "metadata": {},
   "outputs": [
    {
     "data": {
      "application/vnd.jupyter.widget-view+json": {
       "model_id": "8469975c126b498b852a5957463efdcc",
       "version_major": 2,
       "version_minor": 0
      },
      "text/plain": [
       "Canvas(toolbar=Toolbar(toolitems=[('Home', 'Reset original view', 'home', 'home'), ('Back', 'Back to previous …"
      ]
     },
     "metadata": {},
     "output_type": "display_data"
    },
    {
     "data": {
      "application/vnd.jupyter.widget-view+json": {
       "model_id": "089b8f6ba90c4e3db759f13092b01fc7",
       "version_major": 2,
       "version_minor": 0
      },
      "text/plain": [
       "Canvas(toolbar=Toolbar(toolitems=[('Home', 'Reset original view', 'home', 'home'), ('Back', 'Back to previous …"
      ]
     },
     "metadata": {},
     "output_type": "display_data"
    }
   ],
   "source": [
    "flat_pos_fig = Qplot.plot_params_flattened(options, fit_model, pixel_fit_params, wanted_roi_result, \"pos\", sigmas=sigmas, plot_bounds=False, plot_sigmas=False, errorevery=1000)\n",
    "flat_resid_fig = Qplot.plot_params_flattened(options, fit_model, pixel_fit_params, wanted_roi_result, \"residual\", sigmas=sigmas)"
   ]
  },
  {
   "cell_type": "markdown",
   "id": "arbitrary-boxing",
   "metadata": {},
   "source": [
    "### Field retrieval"
   ]
  },
  {
   "cell_type": "code",
   "execution_count": 14,
   "id": "residential-opera",
   "metadata": {},
   "outputs": [],
   "source": [
    "field_res = Qfield.odmr_field_retrieval(options, pixel_fit_params, ref_fit_params)\n",
    "(sig_bnvs, ref_bnvs, bnvs), (sig_dshifts, ref_dshifts), (sig_params, ref_params, field_params), (sig_field_sigmas, ref_field_sigmas, field_sigmas) = field_res\n",
    "Qio.save_field_calcs(options, *field_res)"
   ]
  },
  {
   "cell_type": "code",
   "execution_count": 15,
   "id": "foreign-potato",
   "metadata": {},
   "outputs": [
    {
     "data": {
      "application/vnd.jupyter.widget-view+json": {
       "model_id": "5a42612db5354b698000431a0624e873",
       "version_major": 2,
       "version_minor": 0
      },
      "text/plain": [
       "Canvas(toolbar=Toolbar(toolitems=[('Home', 'Reset original view', 'home', 'home'), ('Back', 'Back to previous …"
      ]
     },
     "metadata": {},
     "output_type": "display_data"
    },
    {
     "data": {
      "application/vnd.jupyter.widget-view+json": {
       "model_id": "4c82c972b4b946299e18997fd7b9074f",
       "version_major": 2,
       "version_minor": 0
      },
      "text/plain": [
       "Canvas(toolbar=Toolbar(toolitems=[('Home', 'Reset original view', 'home', 'home'), ('Back', 'Back to previous …"
      ]
     },
     "metadata": {},
     "output_type": "display_data"
    }
   ],
   "source": [
    "bnv_sig_plot = Qplot.plot_bnvs_and_dshifts(options, \"sig\", sig_bnvs, sig_dshifts)\n",
    "bnv_ref_plot = Qplot.plot_bnvs_and_dshifts(options, \"ref\", ref_bnvs, ref_dshifts)\n",
    "bnvs_plot = Qplot.plot_bnvs_and_dshifts(options, \"sig_sub_ref\", bnvs, [])"
   ]
  },
  {
   "cell_type": "code",
   "execution_count": 16,
   "id": "located-relative",
   "metadata": {},
   "outputs": [
    {
     "data": {
      "application/vnd.jupyter.widget-view+json": {
       "model_id": "3b4bf6d42cd44e0fbe69998fb316ae46",
       "version_major": 2,
       "version_minor": 0
      },
      "text/plain": [
       "Canvas(toolbar=Toolbar(toolitems=[('Home', 'Reset original view', 'home', 'home'), ('Back', 'Back to previous …"
      ]
     },
     "metadata": {},
     "output_type": "display_data"
    },
    {
     "data": {
      "application/vnd.jupyter.widget-view+json": {
       "model_id": "d510c465f3ea409383f1eabf11d1994e",
       "version_major": 2,
       "version_minor": 0
      },
      "text/plain": [
       "Canvas(toolbar=Toolbar(toolitems=[('Home', 'Reset original view', 'home', 'home'), ('Back', 'Back to previous …"
      ]
     },
     "metadata": {},
     "output_type": "display_data"
    },
    {
     "data": {
      "application/vnd.jupyter.widget-view+json": {
       "model_id": "43de4855749f41e89d5771d7236ff245",
       "version_major": 2,
       "version_minor": 0
      },
      "text/plain": [
       "Canvas(toolbar=Toolbar(toolitems=[('Home', 'Reset original view', 'home', 'home'), ('Back', 'Back to previous …"
      ]
     },
     "metadata": {},
     "output_type": "display_data"
    }
   ],
   "source": [
    "bfield_sig_plot = Qplot.plot_bfield(options, \"sig\", sig_params)\n",
    "bfield_ref_plot = Qplot.plot_bfield(options, \"ref\", ref_params)\n",
    "bfield_plot = Qplot.plot_bfield(options, \"sig_sub_ref\", field_params)\n",
    "bfield_bground_plot = Qplot.plot_bfield(options, \"bground\", field_params)"
   ]
  },
  {
   "cell_type": "code",
   "execution_count": 17,
   "id": "excited-peoples",
   "metadata": {},
   "outputs": [
    {
     "name": "stderr",
     "output_type": "stream",
     "text": [
      "/home/samsc/src/nv/qdmpy_proj/qdmpy_git/qdmpy/plot/field.py:199: UserWarning: 'D' param missing from field_params, skipping Dshift_fit plot.\n",
      "  warnings.warn(\"'D' param missing from field_params, skipping Dshift_fit plot.\")\n"
     ]
    }
   ],
   "source": [
    "D_sig_plot = Qplot.plot_dshift_fit(options, \"sig\", sig_params)\n",
    "D_ref_plot = Qplot.plot_dshift_fit(options, \"ref\", ref_params)"
   ]
  },
  {
   "cell_type": "markdown",
   "id": "brave-storage",
   "metadata": {},
   "source": [
    "### Save and (optionally) view options dict"
   ]
  },
  {
   "cell_type": "code",
   "execution_count": 18,
   "id": "focused-brisbane",
   "metadata": {},
   "outputs": [
    {
     "data": {
      "application/vnd.jupyter.widget-view+json": {
       "model_id": "6ffe78a9c8f54d6eb069d754eefd17a9",
       "version_major": 2,
       "version_minor": 0
      },
      "text/plain": [
       "Canvas(toolbar=Toolbar(toolitems=[('Home', 'Reset original view', 'home', 'home'), ('Back', 'Back to previous …"
      ]
     },
     "metadata": {},
     "output_type": "display_data"
    }
   ],
   "source": [
    "Bx_fit_flat_plot = Qplot.plot_field_param_flattened(options, \"sig_sub_ref\", \"Bx\", field_params, sigmas=field_sigmas, y_label=\"B (G)\", errorevery=1000, plot_guess=False)"
   ]
  },
  {
   "cell_type": "code",
   "execution_count": 19,
   "id": "encouraging-filing",
   "metadata": {},
   "outputs": [],
   "source": [
    "Qio.save_options(options)\n",
    "# print(Qio.dict_to_json_str(options))"
   ]
  },
  {
   "cell_type": "code",
   "execution_count": null,
   "id": "handmade-statistics",
   "metadata": {},
   "outputs": [],
   "source": []
  }
 ],
 "metadata": {
  "kernelspec": {
   "display_name": "Python 3",
   "language": "python",
   "name": "python3"
  },
  "language_info": {
   "codemirror_mode": {
    "name": "ipython",
    "version": 3
   },
   "file_extension": ".py",
   "mimetype": "text/x-python",
   "name": "python",
   "nbconvert_exporter": "python",
   "pygments_lexer": "ipython3",
   "version": "3.8.8"
  },
  "toc-autonumbering": false,
  "toc-showtags": false,
  "widgets": {
   "application/vnd.jupyter.widget-state+json": {
    "state": {
     "0511113c0a9546b1998d606fc9f5accb": {
      "model_module": "jupyter-matplotlib",
      "model_module_version": "^0.8.2",
      "model_name": "ToolbarModel",
      "state": {
       "_model_module_version": "^0.8.2",
       "_view_module_version": "^0.8.2",
       "layout": "IPY_MODEL_9ab07f5c3ad5499f9899e8233dd31a1b",
       "toolitems": [
        [
         "Home",
         "Reset original view",
         "home",
         "home"
        ],
        [
         "Back",
         "Back to previous view",
         "arrow-left",
         "back"
        ],
        [
         "Forward",
         "Forward to next view",
         "arrow-right",
         "forward"
        ],
        [
         "Pan",
         "Left button pans, Right button zooms\nx/y fixes axis, CTRL fixes aspect",
         "arrows",
         "pan"
        ],
        [
         "Zoom",
         "Zoom to rectangle\nx/y fixes axis, CTRL fixes aspect",
         "square-o",
         "zoom"
        ],
        [
         "Download",
         "Download plot",
         "floppy-o",
         "save_figure"
        ]
       ]
      }
     },
     "089b8f6ba90c4e3db759f13092b01fc7": {
      "model_module": "jupyter-matplotlib",
      "model_module_version": "^0.8.2",
      "model_name": "MPLCanvasModel",
      "state": {
       "_cursor": "default",
       "_figure_label": "Figure 14",
       "_height": 384,
       "_message": "x=1.544e+04 y=0.0616",
       "_model_module_version": "^0.8.2",
       "_view_module_version": "^0.8.2",
       "_width": 1024,
       "layout": "IPY_MODEL_7338ad5eada8482097318163f6198939",
       "toolbar": "IPY_MODEL_58584990b923478caccffa69e3c09155",
       "toolbar_position": "left"
      }
     },
     "0b50c8ba670c4d73b9e195f2a2b27428": {
      "model_module": "@jupyter-widgets/base",
      "model_module_version": "1.2.0",
      "model_name": "LayoutModel",
      "state": {}
     },
     "0d51e93082154f59be47952872043de3": {
      "model_module": "@jupyter-widgets/base",
      "model_module_version": "1.2.0",
      "model_name": "LayoutModel",
      "state": {}
     },
     "0e7dba4b165a4170a10988443d049d32": {
      "model_module": "@jupyter-widgets/base",
      "model_module_version": "1.2.0",
      "model_name": "LayoutModel",
      "state": {}
     },
     "144535a472cb45d8b4f3809a96e4a5a2": {
      "model_module": "@jupyter-widgets/base",
      "model_module_version": "1.2.0",
      "model_name": "LayoutModel",
      "state": {}
     },
     "171fec98cbc64c0db0d1cd32ed27bda4": {
      "model_module": "@jupyter-widgets/base",
      "model_module_version": "1.2.0",
      "model_name": "LayoutModel",
      "state": {}
     },
     "17795c9d7f514d74b818e930743b4023": {
      "model_module": "jupyter-matplotlib",
      "model_module_version": "^0.8.2",
      "model_name": "MPLCanvasModel",
      "state": {
       "_cursor": "default",
       "_figure_label": "Figure 10",
       "_height": 575,
       "_model_module_version": "^0.8.2",
       "_view_module_version": "^0.8.2",
       "_width": 1536,
       "layout": "IPY_MODEL_90573a55d977472e9620a021267d192c",
       "toolbar": "IPY_MODEL_c062368fb8bf4778b674739f82eabb49",
       "toolbar_position": "left"
      }
     },
     "232fc15228644800844a5ede7eef6bac": {
      "model_module": "@jupyter-widgets/base",
      "model_module_version": "1.2.0",
      "model_name": "LayoutModel",
      "state": {}
     },
     "2ad8aef1af9f4f3baf92864c4fb7af33": {
      "model_module": "jupyter-matplotlib",
      "model_module_version": "^0.8.2",
      "model_name": "ToolbarModel",
      "state": {
       "_model_module_version": "^0.8.2",
       "_view_module_version": "^0.8.2",
       "layout": "IPY_MODEL_49e493925ddf4ede8fba3d8f2c2921d8",
       "toolitems": [
        [
         "Home",
         "Reset original view",
         "home",
         "home"
        ],
        [
         "Back",
         "Back to previous view",
         "arrow-left",
         "back"
        ],
        [
         "Forward",
         "Forward to next view",
         "arrow-right",
         "forward"
        ],
        [
         "Pan",
         "Left button pans, Right button zooms\nx/y fixes axis, CTRL fixes aspect",
         "arrows",
         "pan"
        ],
        [
         "Zoom",
         "Zoom to rectangle\nx/y fixes axis, CTRL fixes aspect",
         "square-o",
         "zoom"
        ],
        [
         "Download",
         "Download plot",
         "floppy-o",
         "save_figure"
        ]
       ]
      }
     },
     "2b9f0717dc6f440ca81dee5743d0d936": {
      "model_module": "@jupyter-widgets/base",
      "model_module_version": "1.2.0",
      "model_name": "LayoutModel",
      "state": {}
     },
     "2e036364985d4a4c81c398469cc8edea": {
      "model_module": "@jupyter-widgets/base",
      "model_module_version": "1.2.0",
      "model_name": "LayoutModel",
      "state": {}
     },
     "2e04d871889b479abb3a3d959b5d93ff": {
      "model_module": "@jupyter-widgets/base",
      "model_module_version": "1.2.0",
      "model_name": "LayoutModel",
      "state": {}
     },
     "379ee73321d546aeb73597a2993ff113": {
      "model_module": "@jupyter-widgets/base",
      "model_module_version": "1.2.0",
      "model_name": "LayoutModel",
      "state": {}
     },
     "3b4bf6d42cd44e0fbe69998fb316ae46": {
      "model_module": "jupyter-matplotlib",
      "model_module_version": "^0.8.2",
      "model_name": "MPLCanvasModel",
      "state": {
       "_cursor": "default",
       "_figure_label": "Figure 17",
       "_height": 384,
       "_model_module_version": "^0.8.2",
       "_view_module_version": "^0.8.2",
       "_width": 1536,
       "layout": "IPY_MODEL_89609185445f49f89666f6f26edca082",
       "toolbar": "IPY_MODEL_f25b14ac55134ccf846afb2c049387a4",
       "toolbar_position": "left"
      }
     },
     "413553c7d1804778a5a031d8b1f7bf3e": {
      "model_module": "@jupyter-widgets/base",
      "model_module_version": "1.2.0",
      "model_name": "LayoutModel",
      "state": {}
     },
     "43de4855749f41e89d5771d7236ff245": {
      "model_module": "jupyter-matplotlib",
      "model_module_version": "^0.8.2",
      "model_name": "MPLCanvasModel",
      "state": {
       "_cursor": "default",
       "_figure_label": "Figure 19",
       "_height": 384,
       "_model_module_version": "^0.8.2",
       "_view_module_version": "^0.8.2",
       "_width": 1536,
       "layout": "IPY_MODEL_0b50c8ba670c4d73b9e195f2a2b27428",
       "toolbar": "IPY_MODEL_642fadd66a61484b92172e54331a8836",
       "toolbar_position": "left"
      }
     },
     "48d44320ee75467da1ba50972d799c31": {
      "model_module": "@jupyter-widgets/base",
      "model_module_version": "1.2.0",
      "model_name": "LayoutModel",
      "state": {}
     },
     "48fcb4e85c704c318ca8e249256ec3d4": {
      "model_module": "jupyter-matplotlib",
      "model_module_version": "^0.8.2",
      "model_name": "ToolbarModel",
      "state": {
       "_model_module_version": "^0.8.2",
       "_view_module_version": "^0.8.2",
       "layout": "IPY_MODEL_51e1fd20870943cfbc68ba1ba193b741",
       "toolitems": [
        [
         "Home",
         "Reset original view",
         "home",
         "home"
        ],
        [
         "Back",
         "Back to previous view",
         "arrow-left",
         "back"
        ],
        [
         "Forward",
         "Forward to next view",
         "arrow-right",
         "forward"
        ],
        [
         "Pan",
         "Left button pans, Right button zooms\nx/y fixes axis, CTRL fixes aspect",
         "arrows",
         "pan"
        ],
        [
         "Zoom",
         "Zoom to rectangle\nx/y fixes axis, CTRL fixes aspect",
         "square-o",
         "zoom"
        ],
        [
         "Download",
         "Download plot",
         "floppy-o",
         "save_figure"
        ]
       ]
      }
     },
     "49e493925ddf4ede8fba3d8f2c2921d8": {
      "model_module": "@jupyter-widgets/base",
      "model_module_version": "1.2.0",
      "model_name": "LayoutModel",
      "state": {}
     },
     "4c82c972b4b946299e18997fd7b9074f": {
      "model_module": "jupyter-matplotlib",
      "model_module_version": "^0.8.2",
      "model_name": "MPLCanvasModel",
      "state": {
       "_cursor": "default",
       "_figure_label": "Figure 16",
       "_height": 287,
       "_message": "x=120.4 y=31.9\n[62.189]",
       "_model_module_version": "^0.8.2",
       "_view_module_version": "^0.8.2",
       "_width": 1536,
       "layout": "IPY_MODEL_acedbfa632544ceb843b51ec120ba0d9",
       "toolbar": "IPY_MODEL_4cc3953aeaa848a790ebcba5cb42e4c4",
       "toolbar_position": "left"
      }
     },
     "4cc3953aeaa848a790ebcba5cb42e4c4": {
      "model_module": "jupyter-matplotlib",
      "model_module_version": "^0.8.2",
      "model_name": "ToolbarModel",
      "state": {
       "_model_module_version": "^0.8.2",
       "_view_module_version": "^0.8.2",
       "layout": "IPY_MODEL_171fec98cbc64c0db0d1cd32ed27bda4",
       "toolitems": [
        [
         "Home",
         "Reset original view",
         "home",
         "home"
        ],
        [
         "Back",
         "Back to previous view",
         "arrow-left",
         "back"
        ],
        [
         "Forward",
         "Forward to next view",
         "arrow-right",
         "forward"
        ],
        [
         "Pan",
         "Left button pans, Right button zooms\nx/y fixes axis, CTRL fixes aspect",
         "arrows",
         "pan"
        ],
        [
         "Zoom",
         "Zoom to rectangle\nx/y fixes axis, CTRL fixes aspect",
         "square-o",
         "zoom"
        ],
        [
         "Download",
         "Download plot",
         "floppy-o",
         "save_figure"
        ]
       ]
      }
     },
     "4d235642a4c84c2291393c6b27f387ba": {
      "model_module": "jupyter-matplotlib",
      "model_module_version": "^0.8.2",
      "model_name": "ToolbarModel",
      "state": {
       "_model_module_version": "^0.8.2",
       "_view_module_version": "^0.8.2",
       "layout": "IPY_MODEL_5126c8197df342f5bc338d0088dbe761",
       "toolitems": [
        [
         "Home",
         "Reset original view",
         "home",
         "home"
        ],
        [
         "Back",
         "Back to previous view",
         "arrow-left",
         "back"
        ],
        [
         "Forward",
         "Forward to next view",
         "arrow-right",
         "forward"
        ],
        [
         "Pan",
         "Left button pans, Right button zooms\nx/y fixes axis, CTRL fixes aspect",
         "arrows",
         "pan"
        ],
        [
         "Zoom",
         "Zoom to rectangle\nx/y fixes axis, CTRL fixes aspect",
         "square-o",
         "zoom"
        ],
        [
         "Download",
         "Download plot",
         "floppy-o",
         "save_figure"
        ]
       ]
      }
     },
     "4dd7ee08b3264f9e80ffeb187a6632f2": {
      "model_module": "@jupyter-widgets/base",
      "model_module_version": "1.2.0",
      "model_name": "LayoutModel",
      "state": {}
     },
     "4e87d4498a8b47d48a0bc254c6f79096": {
      "model_module": "jupyter-matplotlib",
      "model_module_version": "^0.8.2",
      "model_name": "ToolbarModel",
      "state": {
       "_model_module_version": "^0.8.2",
       "_view_module_version": "^0.8.2",
       "layout": "IPY_MODEL_0e7dba4b165a4170a10988443d049d32",
       "toolitems": [
        [
         "Home",
         "Reset original view",
         "home",
         "home"
        ],
        [
         "Back",
         "Back to previous view",
         "arrow-left",
         "back"
        ],
        [
         "Forward",
         "Forward to next view",
         "arrow-right",
         "forward"
        ],
        [
         "Pan",
         "Left button pans, Right button zooms\nx/y fixes axis, CTRL fixes aspect",
         "arrows",
         "pan"
        ],
        [
         "Zoom",
         "Zoom to rectangle\nx/y fixes axis, CTRL fixes aspect",
         "square-o",
         "zoom"
        ],
        [
         "Download",
         "Download plot",
         "floppy-o",
         "save_figure"
        ]
       ]
      }
     },
     "50346afa0d69452289cd328ae1a18f72": {
      "model_module": "@jupyter-widgets/base",
      "model_module_version": "1.2.0",
      "model_name": "LayoutModel",
      "state": {}
     },
     "5126c8197df342f5bc338d0088dbe761": {
      "model_module": "@jupyter-widgets/base",
      "model_module_version": "1.2.0",
      "model_name": "LayoutModel",
      "state": {}
     },
     "51e1fd20870943cfbc68ba1ba193b741": {
      "model_module": "@jupyter-widgets/base",
      "model_module_version": "1.2.0",
      "model_name": "LayoutModel",
      "state": {}
     },
     "53f106b2d44244738122700a7b654873": {
      "model_module": "@jupyter-widgets/base",
      "model_module_version": "1.2.0",
      "model_name": "LayoutModel",
      "state": {}
     },
     "563d2821da314d49af89a7d13e45683b": {
      "model_module": "@jupyter-widgets/base",
      "model_module_version": "1.2.0",
      "model_name": "LayoutModel",
      "state": {}
     },
     "58584990b923478caccffa69e3c09155": {
      "model_module": "jupyter-matplotlib",
      "model_module_version": "^0.8.2",
      "model_name": "ToolbarModel",
      "state": {
       "_model_module_version": "^0.8.2",
       "_view_module_version": "^0.8.2",
       "layout": "IPY_MODEL_50346afa0d69452289cd328ae1a18f72",
       "toolitems": [
        [
         "Home",
         "Reset original view",
         "home",
         "home"
        ],
        [
         "Back",
         "Back to previous view",
         "arrow-left",
         "back"
        ],
        [
         "Forward",
         "Forward to next view",
         "arrow-right",
         "forward"
        ],
        [
         "Pan",
         "Left button pans, Right button zooms\nx/y fixes axis, CTRL fixes aspect",
         "arrows",
         "pan"
        ],
        [
         "Zoom",
         "Zoom to rectangle\nx/y fixes axis, CTRL fixes aspect",
         "square-o",
         "zoom"
        ],
        [
         "Download",
         "Download plot",
         "floppy-o",
         "save_figure"
        ]
       ]
      }
     },
     "5a42612db5354b698000431a0624e873": {
      "model_module": "jupyter-matplotlib",
      "model_module_version": "^0.8.2",
      "model_name": "MPLCanvasModel",
      "state": {
       "_cursor": "default",
       "_figure_label": "Figure 15",
       "_height": 575,
       "_message": "x=82.3 y=122.2\n[16.1342]",
       "_model_module_version": "^0.8.2",
       "_view_module_version": "^0.8.2",
       "_width": 1536,
       "layout": "IPY_MODEL_f3b5975edc07431295a0631c84fbb31b",
       "toolbar": "IPY_MODEL_a492ef5966094706823e7efe30dc0d38",
       "toolbar_position": "left"
      }
     },
     "642fadd66a61484b92172e54331a8836": {
      "model_module": "jupyter-matplotlib",
      "model_module_version": "^0.8.2",
      "model_name": "ToolbarModel",
      "state": {
       "_model_module_version": "^0.8.2",
       "_view_module_version": "^0.8.2",
       "layout": "IPY_MODEL_73bdb9f0cc794594a954cf76ed520646",
       "toolitems": [
        [
         "Home",
         "Reset original view",
         "home",
         "home"
        ],
        [
         "Back",
         "Back to previous view",
         "arrow-left",
         "back"
        ],
        [
         "Forward",
         "Forward to next view",
         "arrow-right",
         "forward"
        ],
        [
         "Pan",
         "Left button pans, Right button zooms\nx/y fixes axis, CTRL fixes aspect",
         "arrows",
         "pan"
        ],
        [
         "Zoom",
         "Zoom to rectangle\nx/y fixes axis, CTRL fixes aspect",
         "square-o",
         "zoom"
        ],
        [
         "Download",
         "Download plot",
         "floppy-o",
         "save_figure"
        ]
       ]
      }
     },
     "671e1bf2d88b49e69d5c51ff25f48ee9": {
      "model_module": "jupyter-matplotlib",
      "model_module_version": "^0.8.2",
      "model_name": "MPLCanvasModel",
      "state": {
       "_cursor": "default",
       "_figure_label": "Figure 4",
       "_height": 575,
       "_model_module_version": "^0.8.2",
       "_view_module_version": "^0.8.2",
       "_width": 1024,
       "layout": "IPY_MODEL_d915775ccbdf4c82ad77c16271575a02",
       "toolbar": "IPY_MODEL_48fcb4e85c704c318ca8e249256ec3d4",
       "toolbar_position": "left"
      }
     },
     "6c1f1b7d7a0f452e9faed4ad7cd45970": {
      "model_module": "jupyter-matplotlib",
      "model_module_version": "^0.8.2",
      "model_name": "ToolbarModel",
      "state": {
       "_model_module_version": "^0.8.2",
       "_view_module_version": "^0.8.2",
       "layout": "IPY_MODEL_d7405d33c5ef4e64a35e3b9ac2d30000",
       "toolitems": [
        [
         "Home",
         "Reset original view",
         "home",
         "home"
        ],
        [
         "Back",
         "Back to previous view",
         "arrow-left",
         "back"
        ],
        [
         "Forward",
         "Forward to next view",
         "arrow-right",
         "forward"
        ],
        [
         "Pan",
         "Left button pans, Right button zooms\nx/y fixes axis, CTRL fixes aspect",
         "arrows",
         "pan"
        ],
        [
         "Zoom",
         "Zoom to rectangle\nx/y fixes axis, CTRL fixes aspect",
         "square-o",
         "zoom"
        ],
        [
         "Download",
         "Download plot",
         "floppy-o",
         "save_figure"
        ]
       ]
      }
     },
     "6ffe78a9c8f54d6eb069d754eefd17a9": {
      "model_module": "jupyter-matplotlib",
      "model_module_version": "^0.8.2",
      "model_name": "MPLCanvasModel",
      "state": {
       "_cursor": "default",
       "_figure_label": "Figure 20",
       "_height": 384,
       "_model_module_version": "^0.8.2",
       "_view_module_version": "^0.8.2",
       "_width": 1024,
       "layout": "IPY_MODEL_72f0a3809c9f41eb9d3a6c33c2b79338",
       "toolbar": "IPY_MODEL_afe07abd1b4c418abfa582338338e88e",
       "toolbar_position": "left"
      }
     },
     "72f0a3809c9f41eb9d3a6c33c2b79338": {
      "model_module": "@jupyter-widgets/base",
      "model_module_version": "1.2.0",
      "model_name": "LayoutModel",
      "state": {}
     },
     "7338ad5eada8482097318163f6198939": {
      "model_module": "@jupyter-widgets/base",
      "model_module_version": "1.2.0",
      "model_name": "LayoutModel",
      "state": {}
     },
     "73bdb9f0cc794594a954cf76ed520646": {
      "model_module": "@jupyter-widgets/base",
      "model_module_version": "1.2.0",
      "model_name": "LayoutModel",
      "state": {}
     },
     "7751adaa7d974ac8aaf82fa65b52a294": {
      "model_module": "@jupyter-widgets/base",
      "model_module_version": "1.2.0",
      "model_name": "LayoutModel",
      "state": {}
     },
     "7c406ef6327f40388bdb7d0e7794bfb0": {
      "model_module": "jupyter-matplotlib",
      "model_module_version": "^0.8.2",
      "model_name": "MPLCanvasModel",
      "state": {
       "_cursor": "default",
       "_figure_label": "Figure 9",
       "_height": 575,
       "_model_module_version": "^0.8.2",
       "_view_module_version": "^0.8.2",
       "_width": 1536,
       "layout": "IPY_MODEL_ad899db01ccb4c6581add3212adff814",
       "toolbar": "IPY_MODEL_f5f57ea955fe4553992828ce73a33e02",
       "toolbar_position": "left"
      }
     },
     "8469975c126b498b852a5957463efdcc": {
      "model_module": "jupyter-matplotlib",
      "model_module_version": "^0.8.2",
      "model_name": "MPLCanvasModel",
      "state": {
       "_cursor": "default",
       "_figure_label": "Figure 13",
       "_height": 1536,
       "_message": "x=1.558e+04 y=2955.87",
       "_model_module_version": "^0.8.2",
       "_view_module_version": "^0.8.2",
       "_width": 1024,
       "layout": "IPY_MODEL_c6feed9696fa4313a3f3e05e41a3cd15",
       "toolbar": "IPY_MODEL_6c1f1b7d7a0f452e9faed4ad7cd45970",
       "toolbar_position": "left"
      }
     },
     "8767fa8919824a04ad0af50e024109de": {
      "model_module": "jupyter-matplotlib",
      "model_module_version": "^0.8.2",
      "model_name": "ToolbarModel",
      "state": {
       "_model_module_version": "^0.8.2",
       "_view_module_version": "^0.8.2",
       "layout": "IPY_MODEL_7751adaa7d974ac8aaf82fa65b52a294",
       "toolitems": [
        [
         "Home",
         "Reset original view",
         "home",
         "home"
        ],
        [
         "Back",
         "Back to previous view",
         "arrow-left",
         "back"
        ],
        [
         "Forward",
         "Forward to next view",
         "arrow-right",
         "forward"
        ],
        [
         "Pan",
         "Left button pans, Right button zooms\nx/y fixes axis, CTRL fixes aspect",
         "arrows",
         "pan"
        ],
        [
         "Zoom",
         "Zoom to rectangle\nx/y fixes axis, CTRL fixes aspect",
         "square-o",
         "zoom"
        ],
        [
         "Download",
         "Download plot",
         "floppy-o",
         "save_figure"
        ]
       ]
      }
     },
     "8866ae1fb7b1475ea40b143518b81a23": {
      "model_module": "jupyter-matplotlib",
      "model_module_version": "^0.8.2",
      "model_name": "MPLCanvasModel",
      "state": {
       "_cursor": "default",
       "_figure_label": "Figure 12",
       "_height": 575,
       "_model_module_version": "^0.8.2",
       "_view_module_version": "^0.8.2",
       "_width": 1536,
       "layout": "IPY_MODEL_53f106b2d44244738122700a7b654873",
       "toolbar": "IPY_MODEL_ee1031787c1747598565d2d609cbd9a0",
       "toolbar_position": "left"
      }
     },
     "89609185445f49f89666f6f26edca082": {
      "model_module": "@jupyter-widgets/base",
      "model_module_version": "1.2.0",
      "model_name": "LayoutModel",
      "state": {}
     },
     "8f5041d973ec40579ec6c0ad9164af36": {
      "model_module": "jupyter-matplotlib",
      "model_module_version": "^0.8.2",
      "model_name": "MPLCanvasModel",
      "state": {
       "_cursor": "default",
       "_figure_label": "Figure 7",
       "_height": 384,
       "_model_module_version": "^0.8.2",
       "_view_module_version": "^0.8.2",
       "_width": 512,
       "layout": "IPY_MODEL_ffe149bf4cfc4291a3906f4d9435188d",
       "toolbar": "IPY_MODEL_8767fa8919824a04ad0af50e024109de",
       "toolbar_position": "left"
      }
     },
     "90573a55d977472e9620a021267d192c": {
      "model_module": "@jupyter-widgets/base",
      "model_module_version": "1.2.0",
      "model_name": "LayoutModel",
      "state": {}
     },
     "950fe47c586c497899a07108737d8274": {
      "model_module": "jupyter-matplotlib",
      "model_module_version": "^0.8.2",
      "model_name": "MPLCanvasModel",
      "state": {
       "_cursor": "default",
       "_figure_label": "Figure 11",
       "_height": 384,
       "_model_module_version": "^0.8.2",
       "_view_module_version": "^0.8.2",
       "_width": 512,
       "layout": "IPY_MODEL_c9ee110d5ac8448d9ab796f1b9a57084",
       "toolbar": "IPY_MODEL_4d235642a4c84c2291393c6b27f387ba",
       "toolbar_position": "left"
      }
     },
     "9ab07f5c3ad5499f9899e8233dd31a1b": {
      "model_module": "@jupyter-widgets/base",
      "model_module_version": "1.2.0",
      "model_name": "LayoutModel",
      "state": {}
     },
     "a3e18869bfb140cc915e2cca773fcc2c": {
      "model_module": "jupyter-matplotlib",
      "model_module_version": "^0.8.2",
      "model_name": "MPLCanvasModel",
      "state": {
       "_cursor": "default",
       "_figure_label": "Figure 3",
       "_height": 768,
       "_model_module_version": "^0.8.2",
       "_view_module_version": "^0.8.2",
       "_width": 1536,
       "layout": "IPY_MODEL_563d2821da314d49af89a7d13e45683b",
       "toolbar": "IPY_MODEL_f47d73f14dbb4339bd46e3e3d62659b8",
       "toolbar_position": "left"
      }
     },
     "a492ef5966094706823e7efe30dc0d38": {
      "model_module": "jupyter-matplotlib",
      "model_module_version": "^0.8.2",
      "model_name": "ToolbarModel",
      "state": {
       "_model_module_version": "^0.8.2",
       "_view_module_version": "^0.8.2",
       "layout": "IPY_MODEL_0d51e93082154f59be47952872043de3",
       "toolitems": [
        [
         "Home",
         "Reset original view",
         "home",
         "home"
        ],
        [
         "Back",
         "Back to previous view",
         "arrow-left",
         "back"
        ],
        [
         "Forward",
         "Forward to next view",
         "arrow-right",
         "forward"
        ],
        [
         "Pan",
         "Left button pans, Right button zooms\nx/y fixes axis, CTRL fixes aspect",
         "arrows",
         "pan"
        ],
        [
         "Zoom",
         "Zoom to rectangle\nx/y fixes axis, CTRL fixes aspect",
         "square-o",
         "zoom"
        ],
        [
         "Download",
         "Download plot",
         "floppy-o",
         "save_figure"
        ]
       ]
      }
     },
     "a52ad128938241d797ef7834f0903ab3": {
      "model_module": "jupyter-matplotlib",
      "model_module_version": "^0.8.2",
      "model_name": "MPLCanvasModel",
      "state": {
       "_cursor": "default",
       "_figure_label": "Figure 1",
       "_height": 384,
       "_model_module_version": "^0.8.2",
       "_view_module_version": "^0.8.2",
       "_width": 512,
       "layout": "IPY_MODEL_e0e5869600b84a68a63391e504d8b0eb",
       "toolbar": "IPY_MODEL_2ad8aef1af9f4f3baf92864c4fb7af33",
       "toolbar_position": "left"
      }
     },
     "a95d2bebd7cf45028a80f35d8c58f03e": {
      "model_module": "jupyter-matplotlib",
      "model_module_version": "^0.8.2",
      "model_name": "ToolbarModel",
      "state": {
       "_model_module_version": "^0.8.2",
       "_view_module_version": "^0.8.2",
       "layout": "IPY_MODEL_2e036364985d4a4c81c398469cc8edea",
       "toolitems": [
        [
         "Home",
         "Reset original view",
         "home",
         "home"
        ],
        [
         "Back",
         "Back to previous view",
         "arrow-left",
         "back"
        ],
        [
         "Forward",
         "Forward to next view",
         "arrow-right",
         "forward"
        ],
        [
         "Pan",
         "Left button pans, Right button zooms\nx/y fixes axis, CTRL fixes aspect",
         "arrows",
         "pan"
        ],
        [
         "Zoom",
         "Zoom to rectangle\nx/y fixes axis, CTRL fixes aspect",
         "square-o",
         "zoom"
        ],
        [
         "Download",
         "Download plot",
         "floppy-o",
         "save_figure"
        ]
       ]
      }
     },
     "acedbfa632544ceb843b51ec120ba0d9": {
      "model_module": "@jupyter-widgets/base",
      "model_module_version": "1.2.0",
      "model_name": "LayoutModel",
      "state": {}
     },
     "ad899db01ccb4c6581add3212adff814": {
      "model_module": "@jupyter-widgets/base",
      "model_module_version": "1.2.0",
      "model_name": "LayoutModel",
      "state": {}
     },
     "afe07abd1b4c418abfa582338338e88e": {
      "model_module": "jupyter-matplotlib",
      "model_module_version": "^0.8.2",
      "model_name": "ToolbarModel",
      "state": {
       "_model_module_version": "^0.8.2",
       "_view_module_version": "^0.8.2",
       "layout": "IPY_MODEL_413553c7d1804778a5a031d8b1f7bf3e",
       "toolitems": [
        [
         "Home",
         "Reset original view",
         "home",
         "home"
        ],
        [
         "Back",
         "Back to previous view",
         "arrow-left",
         "back"
        ],
        [
         "Forward",
         "Forward to next view",
         "arrow-right",
         "forward"
        ],
        [
         "Pan",
         "Left button pans, Right button zooms\nx/y fixes axis, CTRL fixes aspect",
         "arrows",
         "pan"
        ],
        [
         "Zoom",
         "Zoom to rectangle\nx/y fixes axis, CTRL fixes aspect",
         "square-o",
         "zoom"
        ],
        [
         "Download",
         "Download plot",
         "floppy-o",
         "save_figure"
        ]
       ]
      }
     },
     "b913baedbafa4bde8ee3db41df1734e9": {
      "model_module": "jupyter-matplotlib",
      "model_module_version": "^0.8.2",
      "model_name": "ToolbarModel",
      "state": {
       "_model_module_version": "^0.8.2",
       "_view_module_version": "^0.8.2",
       "layout": "IPY_MODEL_144535a472cb45d8b4f3809a96e4a5a2",
       "toolitems": [
        [
         "Home",
         "Reset original view",
         "home",
         "home"
        ],
        [
         "Back",
         "Back to previous view",
         "arrow-left",
         "back"
        ],
        [
         "Forward",
         "Forward to next view",
         "arrow-right",
         "forward"
        ],
        [
         "Pan",
         "Left button pans, Right button zooms\nx/y fixes axis, CTRL fixes aspect",
         "arrows",
         "pan"
        ],
        [
         "Zoom",
         "Zoom to rectangle\nx/y fixes axis, CTRL fixes aspect",
         "square-o",
         "zoom"
        ],
        [
         "Download",
         "Download plot",
         "floppy-o",
         "save_figure"
        ]
       ]
      }
     },
     "beef00bd281c42e0996131bbc076142d": {
      "model_module": "jupyter-matplotlib",
      "model_module_version": "^0.8.2",
      "model_name": "MPLCanvasModel",
      "state": {
       "_cursor": "default",
       "_figure_label": "Figure 6",
       "_height": 384,
       "_message": "x=74.0 y=55.6\n[1.00021]",
       "_model_module_version": "^0.8.2",
       "_view_module_version": "^0.8.2",
       "_width": 512,
       "layout": "IPY_MODEL_4dd7ee08b3264f9e80ffeb187a6632f2",
       "toolbar": "IPY_MODEL_0511113c0a9546b1998d606fc9f5accb",
       "toolbar_position": "left"
      }
     },
     "c062368fb8bf4778b674739f82eabb49": {
      "model_module": "jupyter-matplotlib",
      "model_module_version": "^0.8.2",
      "model_name": "ToolbarModel",
      "state": {
       "_model_module_version": "^0.8.2",
       "_view_module_version": "^0.8.2",
       "layout": "IPY_MODEL_d9d18eb2e1be431d8c953cafa7154608",
       "toolitems": [
        [
         "Home",
         "Reset original view",
         "home",
         "home"
        ],
        [
         "Back",
         "Back to previous view",
         "arrow-left",
         "back"
        ],
        [
         "Forward",
         "Forward to next view",
         "arrow-right",
         "forward"
        ],
        [
         "Pan",
         "Left button pans, Right button zooms\nx/y fixes axis, CTRL fixes aspect",
         "arrows",
         "pan"
        ],
        [
         "Zoom",
         "Zoom to rectangle\nx/y fixes axis, CTRL fixes aspect",
         "square-o",
         "zoom"
        ],
        [
         "Download",
         "Download plot",
         "floppy-o",
         "save_figure"
        ]
       ]
      }
     },
     "c6feed9696fa4313a3f3e05e41a3cd15": {
      "model_module": "@jupyter-widgets/base",
      "model_module_version": "1.2.0",
      "model_name": "LayoutModel",
      "state": {}
     },
     "c790db12b1a041e09f5feb782816ff38": {
      "model_module": "@jupyter-widgets/base",
      "model_module_version": "1.2.0",
      "model_name": "LayoutModel",
      "state": {}
     },
     "c8eabdb9a5384e8684a6bb5e134fd827": {
      "model_module": "jupyter-matplotlib",
      "model_module_version": "^0.8.2",
      "model_name": "ToolbarModel",
      "state": {
       "_model_module_version": "^0.8.2",
       "_view_module_version": "^0.8.2",
       "layout": "IPY_MODEL_fc37f3fa4d35436e92a1bd45e456d854",
       "toolitems": [
        [
         "Home",
         "Reset original view",
         "home",
         "home"
        ],
        [
         "Back",
         "Back to previous view",
         "arrow-left",
         "back"
        ],
        [
         "Forward",
         "Forward to next view",
         "arrow-right",
         "forward"
        ],
        [
         "Pan",
         "Left button pans, Right button zooms\nx/y fixes axis, CTRL fixes aspect",
         "arrows",
         "pan"
        ],
        [
         "Zoom",
         "Zoom to rectangle\nx/y fixes axis, CTRL fixes aspect",
         "square-o",
         "zoom"
        ],
        [
         "Download",
         "Download plot",
         "floppy-o",
         "save_figure"
        ]
       ]
      }
     },
     "c9ee110d5ac8448d9ab796f1b9a57084": {
      "model_module": "@jupyter-widgets/base",
      "model_module_version": "1.2.0",
      "model_name": "LayoutModel",
      "state": {}
     },
     "cd4d0c8b88bd4db98d37c2370525afe4": {
      "model_module": "jupyter-matplotlib",
      "model_module_version": "^0.8.2",
      "model_name": "MPLCanvasModel",
      "state": {
       "_cursor": "default",
       "_figure_label": "Figure 2",
       "_height": 384,
       "_model_module_version": "^0.8.2",
       "_view_module_version": "^0.8.2",
       "_width": 512,
       "layout": "IPY_MODEL_379ee73321d546aeb73597a2993ff113",
       "toolbar": "IPY_MODEL_a95d2bebd7cf45028a80f35d8c58f03e",
       "toolbar_position": "left"
      }
     },
     "cf342cebc8e9417ca4f0c7788b4745f9": {
      "model_module": "@jupyter-widgets/base",
      "model_module_version": "1.2.0",
      "model_name": "LayoutModel",
      "state": {}
     },
     "d38a800913b74f9999bccc56f88eba66": {
      "model_module": "jupyter-matplotlib",
      "model_module_version": "^0.8.2",
      "model_name": "MPLCanvasModel",
      "state": {
       "_cursor": "default",
       "_figure_label": "Figure 8",
       "_height": 575,
       "_model_module_version": "^0.8.2",
       "_view_module_version": "^0.8.2",
       "_width": 1536,
       "layout": "IPY_MODEL_ebb99216eb4f492ab94100b7dc35cc81",
       "toolbar": "IPY_MODEL_4e87d4498a8b47d48a0bc254c6f79096",
       "toolbar_position": "left"
      }
     },
     "d510c465f3ea409383f1eabf11d1994e": {
      "model_module": "jupyter-matplotlib",
      "model_module_version": "^0.8.2",
      "model_name": "MPLCanvasModel",
      "state": {
       "_cursor": "default",
       "_figure_label": "Figure 18",
       "_height": 384,
       "_model_module_version": "^0.8.2",
       "_view_module_version": "^0.8.2",
       "_width": 1536,
       "layout": "IPY_MODEL_2e04d871889b479abb3a3d959b5d93ff",
       "toolbar": "IPY_MODEL_b913baedbafa4bde8ee3db41df1734e9",
       "toolbar_position": "left"
      }
     },
     "d7405d33c5ef4e64a35e3b9ac2d30000": {
      "model_module": "@jupyter-widgets/base",
      "model_module_version": "1.2.0",
      "model_name": "LayoutModel",
      "state": {}
     },
     "d915775ccbdf4c82ad77c16271575a02": {
      "model_module": "@jupyter-widgets/base",
      "model_module_version": "1.2.0",
      "model_name": "LayoutModel",
      "state": {}
     },
     "d9d18eb2e1be431d8c953cafa7154608": {
      "model_module": "@jupyter-widgets/base",
      "model_module_version": "1.2.0",
      "model_name": "LayoutModel",
      "state": {}
     },
     "e0e5869600b84a68a63391e504d8b0eb": {
      "model_module": "@jupyter-widgets/base",
      "model_module_version": "1.2.0",
      "model_name": "LayoutModel",
      "state": {}
     },
     "e8e6c26e72004e209ad58345b7b5e1ca": {
      "model_module": "jupyter-matplotlib",
      "model_module_version": "^0.8.2",
      "model_name": "MPLCanvasModel",
      "state": {
       "_cursor": "default",
       "_figure_label": "Figure 5",
       "_height": 1920,
       "_model_module_version": "^0.8.2",
       "_view_module_version": "^0.8.2",
       "_width": 1536,
       "layout": "IPY_MODEL_cf342cebc8e9417ca4f0c7788b4745f9",
       "toolbar": "IPY_MODEL_c8eabdb9a5384e8684a6bb5e134fd827",
       "toolbar_position": "left"
      }
     },
     "ebb99216eb4f492ab94100b7dc35cc81": {
      "model_module": "@jupyter-widgets/base",
      "model_module_version": "1.2.0",
      "model_name": "LayoutModel",
      "state": {}
     },
     "ee1031787c1747598565d2d609cbd9a0": {
      "model_module": "jupyter-matplotlib",
      "model_module_version": "^0.8.2",
      "model_name": "ToolbarModel",
      "state": {
       "_model_module_version": "^0.8.2",
       "_view_module_version": "^0.8.2",
       "layout": "IPY_MODEL_232fc15228644800844a5ede7eef6bac",
       "toolitems": [
        [
         "Home",
         "Reset original view",
         "home",
         "home"
        ],
        [
         "Back",
         "Back to previous view",
         "arrow-left",
         "back"
        ],
        [
         "Forward",
         "Forward to next view",
         "arrow-right",
         "forward"
        ],
        [
         "Pan",
         "Left button pans, Right button zooms\nx/y fixes axis, CTRL fixes aspect",
         "arrows",
         "pan"
        ],
        [
         "Zoom",
         "Zoom to rectangle\nx/y fixes axis, CTRL fixes aspect",
         "square-o",
         "zoom"
        ],
        [
         "Download",
         "Download plot",
         "floppy-o",
         "save_figure"
        ]
       ]
      }
     },
     "f25b14ac55134ccf846afb2c049387a4": {
      "model_module": "jupyter-matplotlib",
      "model_module_version": "^0.8.2",
      "model_name": "ToolbarModel",
      "state": {
       "_model_module_version": "^0.8.2",
       "_view_module_version": "^0.8.2",
       "layout": "IPY_MODEL_2b9f0717dc6f440ca81dee5743d0d936",
       "toolitems": [
        [
         "Home",
         "Reset original view",
         "home",
         "home"
        ],
        [
         "Back",
         "Back to previous view",
         "arrow-left",
         "back"
        ],
        [
         "Forward",
         "Forward to next view",
         "arrow-right",
         "forward"
        ],
        [
         "Pan",
         "Left button pans, Right button zooms\nx/y fixes axis, CTRL fixes aspect",
         "arrows",
         "pan"
        ],
        [
         "Zoom",
         "Zoom to rectangle\nx/y fixes axis, CTRL fixes aspect",
         "square-o",
         "zoom"
        ],
        [
         "Download",
         "Download plot",
         "floppy-o",
         "save_figure"
        ]
       ]
      }
     },
     "f3b5975edc07431295a0631c84fbb31b": {
      "model_module": "@jupyter-widgets/base",
      "model_module_version": "1.2.0",
      "model_name": "LayoutModel",
      "state": {}
     },
     "f47d73f14dbb4339bd46e3e3d62659b8": {
      "model_module": "jupyter-matplotlib",
      "model_module_version": "^0.8.2",
      "model_name": "ToolbarModel",
      "state": {
       "_model_module_version": "^0.8.2",
       "_view_module_version": "^0.8.2",
       "layout": "IPY_MODEL_c790db12b1a041e09f5feb782816ff38",
       "toolitems": [
        [
         "Home",
         "Reset original view",
         "home",
         "home"
        ],
        [
         "Back",
         "Back to previous view",
         "arrow-left",
         "back"
        ],
        [
         "Forward",
         "Forward to next view",
         "arrow-right",
         "forward"
        ],
        [
         "Pan",
         "Left button pans, Right button zooms\nx/y fixes axis, CTRL fixes aspect",
         "arrows",
         "pan"
        ],
        [
         "Zoom",
         "Zoom to rectangle\nx/y fixes axis, CTRL fixes aspect",
         "square-o",
         "zoom"
        ],
        [
         "Download",
         "Download plot",
         "floppy-o",
         "save_figure"
        ]
       ]
      }
     },
     "f5f57ea955fe4553992828ce73a33e02": {
      "model_module": "jupyter-matplotlib",
      "model_module_version": "^0.8.2",
      "model_name": "ToolbarModel",
      "state": {
       "_model_module_version": "^0.8.2",
       "_view_module_version": "^0.8.2",
       "layout": "IPY_MODEL_48d44320ee75467da1ba50972d799c31",
       "toolitems": [
        [
         "Home",
         "Reset original view",
         "home",
         "home"
        ],
        [
         "Back",
         "Back to previous view",
         "arrow-left",
         "back"
        ],
        [
         "Forward",
         "Forward to next view",
         "arrow-right",
         "forward"
        ],
        [
         "Pan",
         "Left button pans, Right button zooms\nx/y fixes axis, CTRL fixes aspect",
         "arrows",
         "pan"
        ],
        [
         "Zoom",
         "Zoom to rectangle\nx/y fixes axis, CTRL fixes aspect",
         "square-o",
         "zoom"
        ],
        [
         "Download",
         "Download plot",
         "floppy-o",
         "save_figure"
        ]
       ]
      }
     },
     "fc37f3fa4d35436e92a1bd45e456d854": {
      "model_module": "@jupyter-widgets/base",
      "model_module_version": "1.2.0",
      "model_name": "LayoutModel",
      "state": {}
     },
     "ffe149bf4cfc4291a3906f4d9435188d": {
      "model_module": "@jupyter-widgets/base",
      "model_module_version": "1.2.0",
      "model_name": "LayoutModel",
      "state": {}
     }
    },
    "version_major": 2,
    "version_minor": 0
   }
  }
 },
 "nbformat": 4,
 "nbformat_minor": 5
}
