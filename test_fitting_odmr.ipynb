{
 "cells": [
  {
   "cell_type": "code",
   "execution_count": 1,
   "id": "inner-scientist",
   "metadata": {},
   "outputs": [],
   "source": [
    "import QDMPy.data_loading as data_loading\n",
    "import QDMPy.fit_interface as fit_interface\n",
    "import QDMPy.fit_plots as fit_plots\n",
    "\n",
    "import matplotlib\n",
    "import matplotlib.pyplot as plt\n",
    "\n",
    "# '%matplotlib widget' allows interactive plots in jupyterlab\n",
    "# use ''%matplotlib inline' to allow export to pdf\n",
    "%matplotlib widget"
   ]
  },
  {
   "cell_type": "markdown",
   "id": "confused-egypt",
   "metadata": {},
   "source": [
    "# Load the data in"
   ]
  },
  {
   "cell_type": "code",
   "execution_count": 2,
   "id": "optimum-tours",
   "metadata": {},
   "outputs": [],
   "source": [
    "options_dict = {\n",
    "    \"base_dir\": \"/home/samsc/ResearchData/test_images/\",\n",
    "    \"filepath\": \"ODMR - Pulsed with IR_83\",\n",
    "    \n",
    "    \"additional_bins\": 8,\n",
    "\n",
    "    \"system_name\": \"Zyla\",\n",
    "\n",
    "    \"ROI\": \"Rectangle\", \n",
    "    \"ROI_start\": [0, 0],\n",
    "    \"ROI_end\": [500,500],\n",
    "\n",
    "    \"normalisation\": \"div\", # fix this for consistent fitting -> get to 0->1?\n",
    "    \n",
    "    \"single_pixel_check\": [150,150],\n",
    "    \"AOI_1_start\": [100, 100],\n",
    "    \"AOI_1_end\": [103, 103], \n",
    "    \"AOI_2_start\": [200, 200],\n",
    "    \"AOI_2_end\": [203, 203], \n",
    "    \"AOI_3_start\": [150, 100],\n",
    "    \"AOI_3_end\": [153, 103], \n",
    "\n",
    "    \"fit_backend\": \"scipy\",\n",
    "    \"fit_backend_comparison\": [\"scipy\"],\n",
    "    \"fit_pixels\": True, \n",
    "    \"force_fit\": True, \n",
    "    \"auto_match_prev_ROI_options\": False,\n",
    "    \n",
    "    \"use_ROI_avg_fit_res_for_all_pixels\": True,\n",
    "    \n",
    "    \"scipy_sub_threads\": 2, \n",
    "\n",
    "    \"fit_functions\":  {\"linear\": 1, \"lorentzian\": 8},\n",
    "\n",
    "    \"pos_guess\": [2610, 2708, 2805, 2879, 2953, 3020, 3092, 3145],\n",
    "    \"pos_range\": 25,\n",
    "\n",
    "    \"amp_guess\": -0.0015,\n",
    "    \"amp_bounds\": [-0.0100, -0.0003],\n",
    "\n",
    "    \"fwhm_guess\": 9,\n",
    "    \"fwhm_bounds\": [5, 20],\n",
    "\n",
    "    \"c_guess\": 1,\n",
    "    \"c_bounds\": [0.9995, 1.0005],\n",
    "\n",
    "    \"m_guess\": 0,\n",
    "    \"m_bounds\": [-1e-6, 1e-6],\n",
    "    \n",
    "    \"scramble_pixels\": True,\n",
    "    \n",
    "    \"gpufit_tolerance\": 1e-12,\n",
    "    \"gpufit_max_iterations\": 25,\n",
    "    \"gpufit_estimator_id\": \"LSE\"\n",
    "}"
   ]
  },
  {
   "cell_type": "code",
   "execution_count": 3,
   "id": "worst-syria",
   "metadata": {},
   "outputs": [
    {
     "name": "stderr",
     "output_type": "stream",
     "text": [
      "/home/samsc/src/nv/QDMPy_proj/QDMPy_git/QDMPy/data_loading.py:327: UserWarning: ROI Rectangle too big in x, cropping to image.\n",
      "  warnings.warn(f\"{name} Rectangle too big in x, cropping to image.\")\n",
      "/home/samsc/src/nv/QDMPy_proj/QDMPy_git/QDMPy/data_loading.py:330: UserWarning: ROI Rectangle too big in y, cropping to image.\n",
      "  warnings.warn(f\"{name} Rectangle too big in y, cropping to image.\")\n",
      "/home/samsc/src/nv/QDMPy_proj/QDMPy_git/QDMPy/data_loading.py:313: UserWarning: AOI_1 Rectangle starts outside image (in x), setting to zero.\n",
      "  warnings.warn(f\"{name} Rectangle starts outside image (in x), setting to zero.\")\n",
      "/home/samsc/src/nv/QDMPy_proj/QDMPy_git/QDMPy/data_loading.py:320: UserWarning: AOI_1 Rectangle starts outside image (in y), setting to zero.\n",
      "  warnings.warn(f\"{name} Rectangle starts outside image (in y), setting to zero.\")\n",
      "/home/samsc/src/nv/QDMPy_proj/QDMPy_git/QDMPy/data_loading.py:327: UserWarning: AOI_1 Rectangle too big in x, cropping to image.\n",
      "  warnings.warn(f\"{name} Rectangle too big in x, cropping to image.\")\n",
      "/home/samsc/src/nv/QDMPy_proj/QDMPy_git/QDMPy/data_loading.py:330: UserWarning: AOI_1 Rectangle too big in y, cropping to image.\n",
      "  warnings.warn(f\"{name} Rectangle too big in y, cropping to image.\")\n",
      "/home/samsc/src/nv/QDMPy_proj/QDMPy_git/QDMPy/data_loading.py:313: UserWarning: AOI_2 Rectangle starts outside image (in x), setting to zero.\n",
      "  warnings.warn(f\"{name} Rectangle starts outside image (in x), setting to zero.\")\n",
      "/home/samsc/src/nv/QDMPy_proj/QDMPy_git/QDMPy/data_loading.py:320: UserWarning: AOI_2 Rectangle starts outside image (in y), setting to zero.\n",
      "  warnings.warn(f\"{name} Rectangle starts outside image (in y), setting to zero.\")\n",
      "/home/samsc/src/nv/QDMPy_proj/QDMPy_git/QDMPy/data_loading.py:327: UserWarning: AOI_2 Rectangle too big in x, cropping to image.\n",
      "  warnings.warn(f\"{name} Rectangle too big in x, cropping to image.\")\n",
      "/home/samsc/src/nv/QDMPy_proj/QDMPy_git/QDMPy/data_loading.py:330: UserWarning: AOI_2 Rectangle too big in y, cropping to image.\n",
      "  warnings.warn(f\"{name} Rectangle too big in y, cropping to image.\")\n",
      "/home/samsc/src/nv/QDMPy_proj/QDMPy_git/QDMPy/data_loading.py:313: UserWarning: AOI_3 Rectangle starts outside image (in x), setting to zero.\n",
      "  warnings.warn(f\"{name} Rectangle starts outside image (in x), setting to zero.\")\n",
      "/home/samsc/src/nv/QDMPy_proj/QDMPy_git/QDMPy/data_loading.py:320: UserWarning: AOI_3 Rectangle starts outside image (in y), setting to zero.\n",
      "  warnings.warn(f\"{name} Rectangle starts outside image (in y), setting to zero.\")\n",
      "/home/samsc/src/nv/QDMPy_proj/QDMPy_git/QDMPy/data_loading.py:327: UserWarning: AOI_3 Rectangle too big in x, cropping to image.\n",
      "  warnings.warn(f\"{name} Rectangle too big in x, cropping to image.\")\n",
      "/home/samsc/src/nv/QDMPy_proj/QDMPy_git/QDMPy/data_loading.py:330: UserWarning: AOI_3 Rectangle too big in y, cropping to image.\n",
      "  warnings.warn(f\"{name} Rectangle too big in y, cropping to image.\")\n",
      "/home/samsc/src/nv/QDMPy_proj/QDMPy_git/QDMPy/data_loading.py:288: UserWarning: Avoiding IndexError for single_pixel_check (setting pixel check to centre of image):\n",
      "index 150 is out of bounds for axis 1 with size 64\n",
      "  warnings.warn(\n"
     ]
    }
   ],
   "source": [
    "# QDMPy_path = data_loading.DIR_PATH\n",
    "# options = data_loading.load_options(path=QDMPy_path / \"options/test_options_odmr.json\", check_for_prev_result=True)\n",
    "options = data_loading.load_options(options_dict=options_dict, check_for_prev_result=True)\n",
    "fit_plots.set_mpl_rcparams(options)\n",
    "\n",
    "raw_data, prelim_sweep_list = data_loading.load_raw_and_sweep(options)\n",
    "\n",
    "PL_image, PL_image_ROI, sig, ref, sig_norm, single_pixel_pl, sweep_list = data_loading.reshape_dataset(\n",
    "        options, raw_data, prelim_sweep_list\n",
    "    )"
   ]
  },
  {
   "cell_type": "code",
   "execution_count": 4,
   "id": "civil-cotton",
   "metadata": {},
   "outputs": [
    {
     "data": {
      "application/vnd.jupyter.widget-view+json": {
       "model_id": "7e10daf35e374a869518bdedbc6f1ea5",
       "version_major": 2,
       "version_minor": 0
      },
      "text/plain": [
       "Canvas(toolbar=Toolbar(toolitems=[('Home', 'Reset original view', 'home', 'home'), ('Back', 'Back to previous …"
      ]
     },
     "metadata": {},
     "output_type": "display_data"
    }
   ],
   "source": [
    "fig1 = fit_plots.plot_ROI_PL_image(options, PL_image)"
   ]
  },
  {
   "cell_type": "code",
   "execution_count": 5,
   "id": "unusual-stanford",
   "metadata": {},
   "outputs": [
    {
     "data": {
      "application/vnd.jupyter.widget-view+json": {
       "model_id": "2c33aa36044e41e28d01a03b03e1a5cb",
       "version_major": 2,
       "version_minor": 0
      },
      "text/plain": [
       "Canvas(toolbar=Toolbar(toolitems=[('Home', 'Reset original view', 'home', 'home'), ('Back', 'Back to previous …"
      ]
     },
     "metadata": {},
     "output_type": "display_data"
    }
   ],
   "source": [
    "AOIs = data_loading.define_AOIs(options)\n",
    "fig2 = fit_plots.plot_AOI_PL_images(options, PL_image_ROI)"
   ]
  },
  {
   "cell_type": "code",
   "execution_count": 6,
   "id": "distant-criterion",
   "metadata": {},
   "outputs": [
    {
     "data": {
      "application/vnd.jupyter.widget-view+json": {
       "model_id": "793206a1ff54449595530be693370d56",
       "version_major": 2,
       "version_minor": 0
      },
      "text/plain": [
       "Canvas(toolbar=Toolbar(toolitems=[('Home', 'Reset original view', 'home', 'home'), ('Back', 'Back to previous …"
      ]
     },
     "metadata": {},
     "output_type": "display_data"
    }
   ],
   "source": [
    "aoi_spectra_plot = fit_plots.plot_AOI_spectra(options, AOIs, sig, ref, sweep_list)"
   ]
  },
  {
   "cell_type": "markdown",
   "id": "victorian-broad",
   "metadata": {},
   "source": [
    "# Fit AOI, ROI averages, single pixel"
   ]
  },
  {
   "cell_type": "code",
   "execution_count": 7,
   "id": "occasional-fusion",
   "metadata": {},
   "outputs": [
    {
     "name": "stderr",
     "output_type": "stream",
     "text": [
      "/home/samsc/src/nv/QDMPy_proj/QDMPy_git/QDMPy/fit_scipy.py:26: TqdmExperimentalWarning: Using `tqdm.autonotebook.tqdm` in notebook mode. Use `tqdm.tqdm` instead to force console mode (e.g. in jupyter console)\n",
      "  from tqdm.autonotebook import tqdm  # auto detects jupyter\n"
     ]
    },
    {
     "data": {
      "application/vnd.jupyter.widget-view+json": {
       "model_id": "62f92cb5b2614eedb127679bb25b51d8",
       "version_major": 2,
       "version_minor": 0
      },
      "text/plain": [
       "Canvas(toolbar=Toolbar(toolitems=[('Home', 'Reset original view', 'home', 'home'), ('Back', 'Back to previous …"
      ]
     },
     "metadata": {},
     "output_type": "display_data"
    }
   ],
   "source": [
    "fit_model = fit_interface.define_fit_model(options)\n",
    "backend_ROI_results_lst = fit_interface.fit_ROI_avg(options, sig_norm, sweep_list, fit_model)\n",
    "\n",
    "fig3 = fit_plots.plot_ROI_avg_fits(options, backend_ROI_results_lst)"
   ]
  },
  {
   "cell_type": "code",
   "execution_count": 8,
   "id": "still-exemption",
   "metadata": {},
   "outputs": [
    {
     "data": {
      "application/vnd.jupyter.widget-view+json": {
       "model_id": "49a1ec5b3abb4b288cef5d25239837ec",
       "version_major": 2,
       "version_minor": 0
      },
      "text/plain": [
       "Canvas(toolbar=Toolbar(toolitems=[('Home', 'Reset original view', 'home', 'home'), ('Back', 'Back to previous …"
      ]
     },
     "metadata": {},
     "output_type": "display_data"
    }
   ],
   "source": [
    "fit_result_collection_lst = fit_interface.fit_AOIs(options, sig_norm, single_pixel_pl, sweep_list, fit_model, AOIs, backend_ROI_results_lst)\n",
    "\n",
    "AOI_spectra_fit_fig = fit_plots.plot_AOI_spectra_fit(options, sig, ref, sweep_list, AOIs, fit_result_collection_lst, fit_model)"
   ]
  },
  {
   "cell_type": "markdown",
   "id": "appreciated-plumbing",
   "metadata": {},
   "source": [
    "# Fit pixels"
   ]
  },
  {
   "cell_type": "code",
   "execution_count": 9,
   "id": "deadly-prescription",
   "metadata": {},
   "outputs": [
    {
     "data": {
      "application/vnd.jupyter.widget-view+json": {
       "model_id": "64c0afd208194c1d81032206f64e51be",
       "version_major": 2,
       "version_minor": 0
      },
      "text/plain": [
       "  0%|          | 0/4096 [00:00<?, ? PX/s]"
      ]
     },
     "metadata": {},
     "output_type": "display_data"
    }
   ],
   "source": [
    "if (options[\"force_fit\"] or not options[\"found_prev_result\"]) and options[\"fit_pixels\"]:\n",
    "    pixel_fit_params = fit_interface.fit_pixels(options, sig_norm, sweep_list, fit_model, backend_ROI_results_lst[0])\n",
    "elif options[\"found_prev_result\"]:\n",
    "    pixel_fit_params = fit_interface.load_prev_fit_results(options)\n",
    "else:\n",
    "    pixel_fit_params = None  # not fitting pixels, this stops plotting (e.g. via plot_param_images) from erroring"
   ]
  },
  {
   "cell_type": "markdown",
   "id": "atlantic-stanley",
   "metadata": {},
   "source": [
    "# Plot (fit) parameters"
   ]
  },
  {
   "cell_type": "code",
   "execution_count": 10,
   "id": "numerical-sussex",
   "metadata": {},
   "outputs": [
    {
     "data": {
      "application/vnd.jupyter.widget-view+json": {
       "model_id": "1c304f63bc8c4b3c912b19be1c1d3009",
       "version_major": 2,
       "version_minor": 0
      },
      "text/plain": [
       "Canvas(toolbar=Toolbar(toolitems=[('Home', 'Reset original view', 'home', 'home'), ('Back', 'Back to previous …"
      ]
     },
     "metadata": {},
     "output_type": "display_data"
    }
   ],
   "source": [
    "fit_plots.plot_param_images(options, fit_model, pixel_fit_params, \"c\")"
   ]
  },
  {
   "cell_type": "code",
   "execution_count": 11,
   "id": "controlling-happiness",
   "metadata": {},
   "outputs": [
    {
     "data": {
      "application/vnd.jupyter.widget-view+json": {
       "model_id": "ec8cbbbab7aa4c41a478923ad5689ae8",
       "version_major": 2,
       "version_minor": 0
      },
      "text/plain": [
       "Canvas(toolbar=Toolbar(toolitems=[('Home', 'Reset original view', 'home', 'home'), ('Back', 'Back to previous …"
      ]
     },
     "metadata": {},
     "output_type": "display_data"
    }
   ],
   "source": [
    "fit_plots.plot_param_images(options, fit_model, pixel_fit_params, \"m\")"
   ]
  },
  {
   "cell_type": "code",
   "execution_count": 12,
   "id": "documentary-society",
   "metadata": {},
   "outputs": [
    {
     "data": {
      "application/vnd.jupyter.widget-view+json": {
       "model_id": "3097143e29c0491d9a55b31319f79742",
       "version_major": 2,
       "version_minor": 0
      },
      "text/plain": [
       "Canvas(toolbar=Toolbar(toolitems=[('Home', 'Reset original view', 'home', 'home'), ('Back', 'Back to previous …"
      ]
     },
     "metadata": {},
     "output_type": "display_data"
    }
   ],
   "source": [
    "fit_plots.plot_param_images(options, fit_model, pixel_fit_params, \"pos\")"
   ]
  },
  {
   "cell_type": "code",
   "execution_count": 13,
   "id": "trained-march",
   "metadata": {},
   "outputs": [
    {
     "data": {
      "application/vnd.jupyter.widget-view+json": {
       "model_id": "4f7ca5feef654f758abafda05a4aabb0",
       "version_major": 2,
       "version_minor": 0
      },
      "text/plain": [
       "Canvas(toolbar=Toolbar(toolitems=[('Home', 'Reset original view', 'home', 'home'), ('Back', 'Back to previous …"
      ]
     },
     "metadata": {},
     "output_type": "display_data"
    }
   ],
   "source": [
    "fit_plots.plot_param_images(options, fit_model, pixel_fit_params, \"amp\")"
   ]
  },
  {
   "cell_type": "code",
   "execution_count": 14,
   "id": "prerequisite-flash",
   "metadata": {},
   "outputs": [
    {
     "data": {
      "application/vnd.jupyter.widget-view+json": {
       "model_id": "8b8775362f3f4474a9b56d10148f7e89",
       "version_major": 2,
       "version_minor": 0
      },
      "text/plain": [
       "Canvas(toolbar=Toolbar(toolitems=[('Home', 'Reset original view', 'home', 'home'), ('Back', 'Back to previous …"
      ]
     },
     "metadata": {},
     "output_type": "display_data"
    }
   ],
   "source": [
    "fit_plots.plot_param_images(options, fit_model, pixel_fit_params, \"fwhm\")"
   ]
  },
  {
   "cell_type": "code",
   "execution_count": null,
   "id": "finished-serbia",
   "metadata": {},
   "outputs": [],
   "source": []
  },
  {
   "cell_type": "code",
   "execution_count": 16,
   "id": "minute-dynamics",
   "metadata": {},
   "outputs": [
    {
     "data": {
      "text/plain": [
       "{'base_dir': '/home/samsc/ResearchData/test_images/',\n",
       " 'filepath': '/home/samsc/ResearchData/test_images/ODMR - Pulsed with IR_83',\n",
       " 'raw_pixel_size': 2.44140625e-07,\n",
       " 'ignore_ref': False,\n",
       " 'additional_bins': 8,\n",
       " 'old_binning_convention': False,\n",
       " 'system_name': 'Zyla',\n",
       " 'ROI': 'Rectangle',\n",
       " 'ROI_start': (0, 0),\n",
       " 'ROI_end': (63, 63),\n",
       " 'remove_start_sweep': 1,\n",
       " 'remove_end_sweep': 0,\n",
       " 'normalisation': 'div',\n",
       " 'single_pixel_check': (32, 32),\n",
       " 'AOI_1_start': (0, 0),\n",
       " 'AOI_1_end': (63, 63),\n",
       " 'AOI_2_start': (0, 0),\n",
       " 'AOI_2_end': (63, 63),\n",
       " 'AOI_3_start': (0, 0),\n",
       " 'AOI_3_end': (63, 63),\n",
       " 'AOI_4_start': None,\n",
       " 'AOI_4_end': None,\n",
       " 'AOI_5_start': None,\n",
       " 'AOI_5_end': None,\n",
       " 'fit_backend': 'scipy',\n",
       " 'fit_backend_comparison': ['scipy'],\n",
       " 'force_fit': True,\n",
       " 'fit_pixels': True,\n",
       " 'auto_match_prev_ROI_options': False,\n",
       " 'scramble_pixels': True,\n",
       " 'use_ROI_avg_fit_res_for_all_pixels': True,\n",
       " 'fit_functions': {'linear': 1, 'lorentzian': 8},\n",
       " 'pos_guess': [2610, 2708, 2805, 2879, 2953, 3020, 3092, 3145],\n",
       " 'pos_range': 25,\n",
       " 'amp_guess': -0.0015,\n",
       " 'amp_bounds': [-0.01, -0.0003],\n",
       " 'fwhm_guess': 9,\n",
       " 'fwhm_bounds': [5, 20],\n",
       " 'pos_gauss_guess': None,\n",
       " 'pos_gauss_range': 25,\n",
       " 'amp_gauss_guess': -0.0015,\n",
       " 'amp_gauss_bounds': [-0.01, -0.0003],\n",
       " 'fwhm_gauss_guess': -0.0015,\n",
       " 'fwhm_gauss_bounds': [5, 20],\n",
       " 'c_guess': 1,\n",
       " 'c_bounds': [0.9995, 1.0005],\n",
       " 'm_guess': 0,\n",
       " 'm_bounds': [-1e-06, 1e-06],\n",
       " 'constant_guess': 1,\n",
       " 'constant_bounds': [0.9995, 1.0005],\n",
       " 'rabi_freq_guess': None,\n",
       " 'rabi_freq_bounds': [None, None],\n",
       " 'pos_circ_guess': None,\n",
       " 'pos_circ_bounds': [None, None],\n",
       " 'amp_circ_guess': None,\n",
       " 'amp_circ_bounds': [None, None],\n",
       " 'pos_h14_guess': None,\n",
       " 'pos_h15_guess': None,\n",
       " 'pos_h14_range': 25,\n",
       " 'pos_h15_range': 25,\n",
       " 'amp_h15_hyp_1_guess': -0.015,\n",
       " 'amp_h15_hyp_2_guess': -0.015,\n",
       " 'amp_h15_hyp_1_bounds': [-0.1, -0.001],\n",
       " 'amp_h15_hyp_2_bounds': [-0.1, -0.001],\n",
       " 'amp_h14_hyp_1_guess': -0.015,\n",
       " 'amp_h14_hyp_2_guess': -0.015,\n",
       " 'amp_h14_hyp_3_guess': -0.015,\n",
       " 'amp_h14_hyp_1_bounds': [-0.1, -0.001],\n",
       " 'amp_h14_hyp_2_bounds': [-0.1, -0.001],\n",
       " 'amp_h14_hyp_3_bounds': [-0.1, -0.001],\n",
       " 'fwhm_h15_hyp_1_guess': -0.015,\n",
       " 'fwhm_h15_hyp_2_guess': -0.015,\n",
       " 'fwhm_h15_hyp_1_bounds': [-0.1, -0.001],\n",
       " 'fwhm_h15_hyp_2_bounds': [-0.1, -0.001],\n",
       " 'fwhm_h14_hyp_1_guess': -0.015,\n",
       " 'fwhm_h14_hyp_2_guess': -0.015,\n",
       " 'fwhm_h14_hyp_3_guess': -0.015,\n",
       " 'power_exp_guess': 0.7,\n",
       " 'power_exp_bounds': [0.5, 1.0],\n",
       " 'charac_exp_t_guess': 0.001,\n",
       " 'charac_exp_t_bounds': [0.0001, 0.03],\n",
       " 'amp_exp_guess': -0.07,\n",
       " 'amp_exp_bounds': [-0.001, -0.2],\n",
       " 'scipy_fit_method': 'trf',\n",
       " 'scipy_sub_threads': 2,\n",
       " 'scipy_show_progressbar': True,\n",
       " 'scipy_use_analytic_jac': True,\n",
       " 'scipy_verbose_fitting': 0,\n",
       " 'scipy_fit_jac_acc': '2-point',\n",
       " 'scipy_fit_gtol': 1e-12,\n",
       " 'scipy_fit_xtol': 1e-12,\n",
       " 'scipy_fit_ftol': 1e-12,\n",
       " 'scipy_scale_x': True,\n",
       " 'scipy_loss_fn': 'linear',\n",
       " 'gpufit_tolerance': 1e-12,\n",
       " 'gpufit_max_iterations': 25,\n",
       " 'gpufit_estimator_id': 'LSE',\n",
       " 'save_plots': True,\n",
       " 'show_scalebar': True,\n",
       " 'annotate_image_regions': True,\n",
       " 'save_fig_type': 'png',\n",
       " 'colormaps': defaultdict(<function QDMPy.misc.defaultdict_from_d.<locals>.<lambda>()>,\n",
       "             {'param_images': 'viridis', 'PL_images': 'Greys_r'}),\n",
       " 'colormap_range_dicts': defaultdict(<function QDMPy.misc.defaultdict_from_d.<locals>.<lambda>()>,\n",
       "             {'param_images': defaultdict(<function QDMPy.misc.defaultdict_from_d.<locals>.<lambda>()>,\n",
       "                          {'type': 'min_max_symmetric_about_mean'}),\n",
       "              'PL_images': defaultdict(<function QDMPy.misc.defaultdict_from_d.<locals>.<lambda>()>,\n",
       "                          {'type': 'min_max'})}),\n",
       " 'mpl_rcparams': defaultdict(<function QDMPy.misc.defaultdict_from_d.<locals>.<lambda>()>,\n",
       "             {'figure.figsize': [6.4, 4.8],\n",
       "              'figure.dpi': 80,\n",
       "              'lines.linewidth': 0.8,\n",
       "              'lines.markersize': 3,\n",
       "              'xtick.labelsize': 10,\n",
       "              'xtick.major.size': 4,\n",
       "              'xtick.direction': 'in',\n",
       "              'ytick.labelsize': 10,\n",
       "              'ytick.direction': 'in',\n",
       "              'ytick.major.size': 4,\n",
       "              'legend.fontsize': 'small',\n",
       "              'legend.loc': 'lower left',\n",
       "              'scalebar.location': 'lower right',\n",
       "              'scalebar.height_fraction': 0.015,\n",
       "              'scalebar.box_alpha': 0.5,\n",
       "              'scalebar.scale_loc': 'top',\n",
       "              'scalebar.sep': 1}),\n",
       " 'AOI_colors': ['blue',\n",
       "  'tab:brown',\n",
       "  'purple',\n",
       "  'darkslategrey',\n",
       "  'magenta',\n",
       "  'olive',\n",
       "  'cyan'],\n",
       " 'fit_backend_colors': defaultdict(<function QDMPy.misc.defaultdict_from_d.<locals>.<lambda>()>,\n",
       "             {'scipy': defaultdict(<function QDMPy.misc.defaultdict_from_d.<locals>.<lambda>()>,\n",
       "                          {'roifit_linecolor': 'mediumblue',\n",
       "                           'residual_linecolor': 'black',\n",
       "                           'aoi_roi_fit_linecolor': 'indigo',\n",
       "                           'aoi_best_fit_linecolor': 'crimson'}),\n",
       "              'gpufit': defaultdict(<function QDMPy.misc.defaultdict_from_d.<locals>.<lambda>()>,\n",
       "                          {'roifit_linecolor': 'cornflowerblue',\n",
       "                           'residual_linecolor': 'dimgrey',\n",
       "                           'aoi_roi_fit_linecolor': 'mediumpurple',\n",
       "                           'aoi_best_fit_linecolor': 'coral'})}),\n",
       " 'cleaned': True,\n",
       " 'system': <QDMPy.systems.Zyla at 0x7fcc1c08b880>,\n",
       " 'used_ref': True,\n",
       " 'metadata': {'ImageSizeBytes': 2097152.0,\n",
       "  'Binning': 2.0,\n",
       "  'PixelEncoding': ' Mono16',\n",
       "  'AOIStride': 2048.0,\n",
       "  'AOIWidth': 512.0,\n",
       "  'AOIHeight': 512.0,\n",
       "  'CCD shutter': ' Global',\n",
       "  'Exposure time': 3.0,\n",
       "  'Laser pulse duration (s)': 2.0,\n",
       "  'post-L dark (s)': 2.0,\n",
       "  'IR pulse duration (s)': 2.0,\n",
       "  'post-IR dark (s)': 2.0,\n",
       "  'MW delay (s)': 2.0,\n",
       "  'Measurement': 70.0,\n",
       "  'Measurement protocol': 1.0,\n",
       "  'Repolarisation Exposure': ' TRUE',\n",
       "  'Microwave power (dBm)': 8.0,\n",
       "  'Probe frequency (MHz)': 2.0,\n",
       "  'pi time (s)': 2.0,\n",
       "  'pi/2 time (s)': 4.0,\n",
       "  'MW2 power (dBm)': -4.0,\n",
       "  'MW2 probe frequency (MHz)': 1.0,\n",
       "  'MW2 probe time (s)': 3.0,\n",
       "  'MW2 pi time (s)': 2.0,\n",
       "  'Current on/off': ' FALSE',\n",
       "  'Voltage (V)': 5.0,\n",
       "  'Current (A)': -4.0,\n",
       "  'Resistance (ohm)': -1.0,\n",
       "  '# of pi pulses': 3.0,\n",
       "  'NMR tau': 3.0,\n",
       "  'NMR tau 2': 2.0,\n",
       "  '# of pi pulses 2': 6.0,\n",
       "  '# of pol N': 1.0,\n",
       "  '# of read out pulses': 2.0,\n",
       "  '# of read out pulses 2': 1.0,\n",
       "  '# of prepol N': 1.0,\n",
       "  'Mag on/off': ' FALSE',\n",
       "  'Field Strength (G)': 100.0,\n",
       "  'Theta (deg)': 68.0,\n",
       "  'Phi (def)': 123.0,\n",
       "  '# of completed sweeps': 3.0,\n",
       "  'Time stamp': ' 20-12-04'},\n",
       " 'threads': 6,\n",
       " 'rebinned_image_size': (64, 64),\n",
       " 'reloaded_prev_fit': None,\n",
       " 'found_prev_result': None,\n",
       " 'output_dir': PurePosixPath('/home/samsc/ResearchData/test_images/ODMR - Pulsed with IR_83_processed_bin_16'),\n",
       " 'data_dir': PurePosixPath('/home/samsc/ResearchData/test_images/ODMR - Pulsed with IR_83_processed_bin_16/data'),\n",
       " 'fit_param_defn': OrderedDict([('c_0', 'Amplitude (a.u.)'),\n",
       "              ('m_0', 'Amplitude per Freq (a.u.)'),\n",
       "              ('fwhm_0', 'Freq (MHz)'),\n",
       "              ('pos_0', 'Freq (MHz)'),\n",
       "              ('amp_0', 'Amp (a.u.)'),\n",
       "              ('fwhm_1', 'Freq (MHz)'),\n",
       "              ('pos_1', 'Freq (MHz)'),\n",
       "              ('amp_1', 'Amp (a.u.)'),\n",
       "              ('fwhm_2', 'Freq (MHz)'),\n",
       "              ('pos_2', 'Freq (MHz)'),\n",
       "              ('amp_2', 'Amp (a.u.)'),\n",
       "              ('fwhm_3', 'Freq (MHz)'),\n",
       "              ('pos_3', 'Freq (MHz)'),\n",
       "              ('amp_3', 'Amp (a.u.)'),\n",
       "              ('fwhm_4', 'Freq (MHz)'),\n",
       "              ('pos_4', 'Freq (MHz)'),\n",
       "              ('amp_4', 'Amp (a.u.)'),\n",
       "              ('fwhm_5', 'Freq (MHz)'),\n",
       "              ('pos_5', 'Freq (MHz)'),\n",
       "              ('amp_5', 'Amp (a.u.)'),\n",
       "              ('fwhm_6', 'Freq (MHz)'),\n",
       "              ('pos_6', 'Freq (MHz)'),\n",
       "              ('amp_6', 'Amp (a.u.)'),\n",
       "              ('fwhm_7', 'Freq (MHz)'),\n",
       "              ('pos_7', 'Freq (MHz)'),\n",
       "              ('amp_7', 'Amp (a.u.)')]),\n",
       " 'total_bin': 16,\n",
       " 'original_bin': 2,\n",
       " 'ModelID': None,\n",
       " 'CUDA_version_runtime': None,\n",
       " 'CUDA_version_driver': None,\n",
       " 'fit_time_(s)': 41.170433}"
      ]
     },
     "execution_count": 16,
     "metadata": {},
     "output_type": "execute_result"
    }
   ],
   "source": [
    "data_loading.save_options(options)\n",
    "options"
   ]
  },
  {
   "cell_type": "code",
   "execution_count": null,
   "id": "absolute-corrections",
   "metadata": {},
   "outputs": [],
   "source": []
  }
 ],
 "metadata": {
  "kernelspec": {
   "display_name": "Python 3",
   "language": "python",
   "name": "python3"
  },
  "language_info": {
   "codemirror_mode": {
    "name": "ipython",
    "version": 3
   },
   "file_extension": ".py",
   "mimetype": "text/x-python",
   "name": "python",
   "nbconvert_exporter": "python",
   "pygments_lexer": "ipython3",
   "version": "3.8.6"
  },
  "widgets": {
   "application/vnd.jupyter.widget-state+json": {
    "state": {
     "0229d3b4eeeb406e86d3f603017451ad": {
      "model_module": "@jupyter-widgets/base",
      "model_module_version": "1.2.0",
      "model_name": "LayoutModel",
      "state": {}
     },
     "0e88bcdfc26142579ebb1c6c4af5a1ea": {
      "model_module": "jupyter-matplotlib",
      "model_module_version": "^0.8.2",
      "model_name": "ToolbarModel",
      "state": {
       "layout": "IPY_MODEL_eac8375947634084b66ca8043239a9fe",
       "toolitems": [
        [
         "Home",
         "Reset original view",
         "home",
         "home"
        ],
        [
         "Back",
         "Back to previous view",
         "arrow-left",
         "back"
        ],
        [
         "Forward",
         "Forward to next view",
         "arrow-right",
         "forward"
        ],
        [
         "Pan",
         "Left button pans, Right button zooms\nx/y fixes axis, CTRL fixes aspect",
         "arrows",
         "pan"
        ],
        [
         "Zoom",
         "Zoom to rectangle\nx/y fixes axis, CTRL fixes aspect",
         "square-o",
         "zoom"
        ],
        [
         "Download",
         "Download plot",
         "floppy-o",
         "save_figure"
        ]
       ]
      }
     },
     "14740abc2aa34f4fa4a8f2f02d5b0a40": {
      "model_module": "@jupyter-widgets/base",
      "model_module_version": "1.2.0",
      "model_name": "LayoutModel",
      "state": {}
     },
     "1a054eccd06c43e58319c97de3f425d5": {
      "model_module": "@jupyter-widgets/base",
      "model_module_version": "1.2.0",
      "model_name": "LayoutModel",
      "state": {}
     },
     "1c304f63bc8c4b3c912b19be1c1d3009": {
      "model_module": "jupyter-matplotlib",
      "model_module_version": "^0.8.2",
      "model_name": "MPLCanvasModel",
      "state": {
       "_cursor": "default",
       "_figure_label": "Figure 6",
       "_height": 384,
       "_width": 512,
       "layout": "IPY_MODEL_2e74e45d3d6c446ba913d92275f6b7cc",
       "toolbar": "IPY_MODEL_6ab6f5a9c3424c20b76d0436ec3e0306",
       "toolbar_position": "left"
      }
     },
     "23eaaafc36fe45afb4d43a6307c7bd07": {
      "model_module": "jupyter-matplotlib",
      "model_module_version": "^0.8.2",
      "model_name": "ToolbarModel",
      "state": {
       "layout": "IPY_MODEL_bc4109437df44cd292b84be3acd986f9",
       "toolitems": [
        [
         "Home",
         "Reset original view",
         "home",
         "home"
        ],
        [
         "Back",
         "Back to previous view",
         "arrow-left",
         "back"
        ],
        [
         "Forward",
         "Forward to next view",
         "arrow-right",
         "forward"
        ],
        [
         "Pan",
         "Left button pans, Right button zooms\nx/y fixes axis, CTRL fixes aspect",
         "arrows",
         "pan"
        ],
        [
         "Zoom",
         "Zoom to rectangle\nx/y fixes axis, CTRL fixes aspect",
         "square-o",
         "zoom"
        ],
        [
         "Download",
         "Download plot",
         "floppy-o",
         "save_figure"
        ]
       ]
      }
     },
     "23f36fb8e0c6416f89e827f9dec815b7": {
      "model_module": "@jupyter-widgets/controls",
      "model_module_version": "1.5.0",
      "model_name": "FloatProgressModel",
      "state": {
       "bar_style": "success",
       "layout": "IPY_MODEL_dad413cf05cc4fc28b7fd9e0ef680d9a",
       "max": 4096,
       "style": "IPY_MODEL_ed9e8c7f16f847738a6731df37e1d47b",
       "value": 4096
      }
     },
     "277f1f369df946c38250f7d3a0b88198": {
      "model_module": "@jupyter-widgets/base",
      "model_module_version": "1.2.0",
      "model_name": "LayoutModel",
      "state": {}
     },
     "2c33aa36044e41e28d01a03b03e1a5cb": {
      "model_module": "jupyter-matplotlib",
      "model_module_version": "^0.8.2",
      "model_name": "MPLCanvasModel",
      "state": {
       "_cursor": "default",
       "_figure_label": "Figure 2",
       "_height": 384,
       "_width": 512,
       "layout": "IPY_MODEL_fc8ad51bd72a46cebd6b4fb4066ae2a7",
       "toolbar": "IPY_MODEL_0e88bcdfc26142579ebb1c6c4af5a1ea",
       "toolbar_position": "left"
      }
     },
     "2e74e45d3d6c446ba913d92275f6b7cc": {
      "model_module": "@jupyter-widgets/base",
      "model_module_version": "1.2.0",
      "model_name": "LayoutModel",
      "state": {}
     },
     "3097143e29c0491d9a55b31319f79742": {
      "model_module": "jupyter-matplotlib",
      "model_module_version": "^0.8.2",
      "model_name": "MPLCanvasModel",
      "state": {
       "_cursor": "default",
       "_figure_label": "Figure 8",
       "_height": 1536,
       "_width": 1024,
       "layout": "IPY_MODEL_ae0faa86c5d846f3891f99cced5696be",
       "toolbar": "IPY_MODEL_23eaaafc36fe45afb4d43a6307c7bd07",
       "toolbar_position": "left"
      }
     },
     "3739d7c4510346ff9a032298b74a83de": {
      "model_module": "jupyter-matplotlib",
      "model_module_version": "^0.8.2",
      "model_name": "ToolbarModel",
      "state": {
       "layout": "IPY_MODEL_783f249153be4bd19dfcf7e7ed6c98c6",
       "toolitems": [
        [
         "Home",
         "Reset original view",
         "home",
         "home"
        ],
        [
         "Back",
         "Back to previous view",
         "arrow-left",
         "back"
        ],
        [
         "Forward",
         "Forward to next view",
         "arrow-right",
         "forward"
        ],
        [
         "Pan",
         "Left button pans, Right button zooms\nx/y fixes axis, CTRL fixes aspect",
         "arrows",
         "pan"
        ],
        [
         "Zoom",
         "Zoom to rectangle\nx/y fixes axis, CTRL fixes aspect",
         "square-o",
         "zoom"
        ],
        [
         "Download",
         "Download plot",
         "floppy-o",
         "save_figure"
        ]
       ]
      }
     },
     "396a8d3ef90c4c90ab0776b4a0c67619": {
      "model_module": "@jupyter-widgets/base",
      "model_module_version": "1.2.0",
      "model_name": "LayoutModel",
      "state": {}
     },
     "39b4ee18bc5243aeb02ca4f4953e5f1f": {
      "model_module": "@jupyter-widgets/controls",
      "model_module_version": "1.5.0",
      "model_name": "HTMLModel",
      "state": {
       "layout": "IPY_MODEL_ffe5c958d69340c3b7bebf6b721cebaf",
       "style": "IPY_MODEL_d80f88f77c7a4e11ba5173df18c578bc",
       "value": " 4096/4096 [00:41&lt;00:00, 79.65 PX/s]"
      }
     },
     "45fbbaaea3a24b889f8fd712528793a7": {
      "model_module": "jupyter-matplotlib",
      "model_module_version": "^0.8.2",
      "model_name": "ToolbarModel",
      "state": {
       "layout": "IPY_MODEL_396a8d3ef90c4c90ab0776b4a0c67619",
       "toolitems": [
        [
         "Home",
         "Reset original view",
         "home",
         "home"
        ],
        [
         "Back",
         "Back to previous view",
         "arrow-left",
         "back"
        ],
        [
         "Forward",
         "Forward to next view",
         "arrow-right",
         "forward"
        ],
        [
         "Pan",
         "Left button pans, Right button zooms\nx/y fixes axis, CTRL fixes aspect",
         "arrows",
         "pan"
        ],
        [
         "Zoom",
         "Zoom to rectangle\nx/y fixes axis, CTRL fixes aspect",
         "square-o",
         "zoom"
        ],
        [
         "Download",
         "Download plot",
         "floppy-o",
         "save_figure"
        ]
       ]
      }
     },
     "49a1ec5b3abb4b288cef5d25239837ec": {
      "model_module": "jupyter-matplotlib",
      "model_module_version": "^0.8.2",
      "model_name": "MPLCanvasModel",
      "state": {
       "_cursor": "default",
       "_figure_label": "Figure 5",
       "_height": 1920,
       "_width": 1536,
       "layout": "IPY_MODEL_0229d3b4eeeb406e86d3f603017451ad",
       "toolbar": "IPY_MODEL_45fbbaaea3a24b889f8fd712528793a7",
       "toolbar_position": "left"
      }
     },
     "4f7ca5feef654f758abafda05a4aabb0": {
      "model_module": "jupyter-matplotlib",
      "model_module_version": "^0.8.2",
      "model_name": "MPLCanvasModel",
      "state": {
       "_cursor": "default",
       "_figure_label": "Figure 9",
       "_height": 1536,
       "_width": 1024,
       "layout": "IPY_MODEL_924e0dd5dbf04596b4c8bcc9c159ddc2",
       "toolbar": "IPY_MODEL_53ef3e823eab4190a095b3df484f319c",
       "toolbar_position": "left"
      }
     },
     "53ef3e823eab4190a095b3df484f319c": {
      "model_module": "jupyter-matplotlib",
      "model_module_version": "^0.8.2",
      "model_name": "ToolbarModel",
      "state": {
       "layout": "IPY_MODEL_a63eb2a1531e45ef8f63bd22790f71de",
       "toolitems": [
        [
         "Home",
         "Reset original view",
         "home",
         "home"
        ],
        [
         "Back",
         "Back to previous view",
         "arrow-left",
         "back"
        ],
        [
         "Forward",
         "Forward to next view",
         "arrow-right",
         "forward"
        ],
        [
         "Pan",
         "Left button pans, Right button zooms\nx/y fixes axis, CTRL fixes aspect",
         "arrows",
         "pan"
        ],
        [
         "Zoom",
         "Zoom to rectangle\nx/y fixes axis, CTRL fixes aspect",
         "square-o",
         "zoom"
        ],
        [
         "Download",
         "Download plot",
         "floppy-o",
         "save_figure"
        ]
       ]
      }
     },
     "60353438762a4d9eab0e3ef22fb39832": {
      "model_module": "@jupyter-widgets/base",
      "model_module_version": "1.2.0",
      "model_name": "LayoutModel",
      "state": {}
     },
     "62e16d7341be4f81ae172d691d6a5a4a": {
      "model_module": "@jupyter-widgets/base",
      "model_module_version": "1.2.0",
      "model_name": "LayoutModel",
      "state": {}
     },
     "62f92cb5b2614eedb127679bb25b51d8": {
      "model_module": "jupyter-matplotlib",
      "model_module_version": "^0.8.2",
      "model_name": "MPLCanvasModel",
      "state": {
       "_cursor": "default",
       "_figure_label": "Figure 4",
       "_height": 384,
       "_width": 512,
       "layout": "IPY_MODEL_277f1f369df946c38250f7d3a0b88198",
       "toolbar": "IPY_MODEL_9bcbe4b21ce1436da1dc91c862163944",
       "toolbar_position": "left"
      }
     },
     "64c0afd208194c1d81032206f64e51be": {
      "model_module": "@jupyter-widgets/controls",
      "model_module_version": "1.5.0",
      "model_name": "HBoxModel",
      "state": {
       "children": [
        "IPY_MODEL_ac905cacedd14e7fbd9d200570a21144",
        "IPY_MODEL_23f36fb8e0c6416f89e827f9dec815b7",
        "IPY_MODEL_39b4ee18bc5243aeb02ca4f4953e5f1f"
       ],
       "layout": "IPY_MODEL_cfcdccf2a86a477eaa5e9c51997bf147"
      }
     },
     "6ab6f5a9c3424c20b76d0436ec3e0306": {
      "model_module": "jupyter-matplotlib",
      "model_module_version": "^0.8.2",
      "model_name": "ToolbarModel",
      "state": {
       "layout": "IPY_MODEL_1a054eccd06c43e58319c97de3f425d5",
       "toolitems": [
        [
         "Home",
         "Reset original view",
         "home",
         "home"
        ],
        [
         "Back",
         "Back to previous view",
         "arrow-left",
         "back"
        ],
        [
         "Forward",
         "Forward to next view",
         "arrow-right",
         "forward"
        ],
        [
         "Pan",
         "Left button pans, Right button zooms\nx/y fixes axis, CTRL fixes aspect",
         "arrows",
         "pan"
        ],
        [
         "Zoom",
         "Zoom to rectangle\nx/y fixes axis, CTRL fixes aspect",
         "square-o",
         "zoom"
        ],
        [
         "Download",
         "Download plot",
         "floppy-o",
         "save_figure"
        ]
       ]
      }
     },
     "74d9cfc813634219b57e94000d8ec883": {
      "model_module": "@jupyter-widgets/base",
      "model_module_version": "1.2.0",
      "model_name": "LayoutModel",
      "state": {}
     },
     "75217fc7a18a4c3282e0200e0be37941": {
      "model_module": "jupyter-matplotlib",
      "model_module_version": "^0.8.2",
      "model_name": "ToolbarModel",
      "state": {
       "layout": "IPY_MODEL_62e16d7341be4f81ae172d691d6a5a4a",
       "toolitems": [
        [
         "Home",
         "Reset original view",
         "home",
         "home"
        ],
        [
         "Back",
         "Back to previous view",
         "arrow-left",
         "back"
        ],
        [
         "Forward",
         "Forward to next view",
         "arrow-right",
         "forward"
        ],
        [
         "Pan",
         "Left button pans, Right button zooms\nx/y fixes axis, CTRL fixes aspect",
         "arrows",
         "pan"
        ],
        [
         "Zoom",
         "Zoom to rectangle\nx/y fixes axis, CTRL fixes aspect",
         "square-o",
         "zoom"
        ],
        [
         "Download",
         "Download plot",
         "floppy-o",
         "save_figure"
        ]
       ]
      }
     },
     "770c45510870418990d05003da730682": {
      "model_module": "@jupyter-widgets/base",
      "model_module_version": "1.2.0",
      "model_name": "LayoutModel",
      "state": {}
     },
     "783f249153be4bd19dfcf7e7ed6c98c6": {
      "model_module": "@jupyter-widgets/base",
      "model_module_version": "1.2.0",
      "model_name": "LayoutModel",
      "state": {}
     },
     "793206a1ff54449595530be693370d56": {
      "model_module": "jupyter-matplotlib",
      "model_module_version": "^0.8.2",
      "model_name": "MPLCanvasModel",
      "state": {
       "_cursor": "default",
       "_figure_label": "Figure 3",
       "_height": 768,
       "_width": 1536,
       "layout": "IPY_MODEL_998680b941be4a8ba0dbf677c405ea91",
       "toolbar": "IPY_MODEL_7fe0e553490c47b6880d4aff3ce2514b",
       "toolbar_position": "left"
      }
     },
     "7aa206bfb7484503ac8aa6c557db4b2c": {
      "model_module": "jupyter-matplotlib",
      "model_module_version": "^0.8.2",
      "model_name": "ToolbarModel",
      "state": {
       "layout": "IPY_MODEL_b77a03485f484d9ea3381f6952fa185d",
       "toolitems": [
        [
         "Home",
         "Reset original view",
         "home",
         "home"
        ],
        [
         "Back",
         "Back to previous view",
         "arrow-left",
         "back"
        ],
        [
         "Forward",
         "Forward to next view",
         "arrow-right",
         "forward"
        ],
        [
         "Pan",
         "Left button pans, Right button zooms\nx/y fixes axis, CTRL fixes aspect",
         "arrows",
         "pan"
        ],
        [
         "Zoom",
         "Zoom to rectangle\nx/y fixes axis, CTRL fixes aspect",
         "square-o",
         "zoom"
        ],
        [
         "Download",
         "Download plot",
         "floppy-o",
         "save_figure"
        ]
       ]
      }
     },
     "7e10daf35e374a869518bdedbc6f1ea5": {
      "model_module": "jupyter-matplotlib",
      "model_module_version": "^0.8.2",
      "model_name": "MPLCanvasModel",
      "state": {
       "_figure_label": "Figure 1",
       "_height": 384,
       "_width": 512,
       "layout": "IPY_MODEL_770c45510870418990d05003da730682",
       "toolbar": "IPY_MODEL_7aa206bfb7484503ac8aa6c557db4b2c",
       "toolbar_position": "left"
      }
     },
     "7fe0e553490c47b6880d4aff3ce2514b": {
      "model_module": "jupyter-matplotlib",
      "model_module_version": "^0.8.2",
      "model_name": "ToolbarModel",
      "state": {
       "layout": "IPY_MODEL_74d9cfc813634219b57e94000d8ec883",
       "toolitems": [
        [
         "Home",
         "Reset original view",
         "home",
         "home"
        ],
        [
         "Back",
         "Back to previous view",
         "arrow-left",
         "back"
        ],
        [
         "Forward",
         "Forward to next view",
         "arrow-right",
         "forward"
        ],
        [
         "Pan",
         "Left button pans, Right button zooms\nx/y fixes axis, CTRL fixes aspect",
         "arrows",
         "pan"
        ],
        [
         "Zoom",
         "Zoom to rectangle\nx/y fixes axis, CTRL fixes aspect",
         "square-o",
         "zoom"
        ],
        [
         "Download",
         "Download plot",
         "floppy-o",
         "save_figure"
        ]
       ]
      }
     },
     "85855d6da3f34081a439aef027b19926": {
      "model_module": "@jupyter-widgets/base",
      "model_module_version": "1.2.0",
      "model_name": "LayoutModel",
      "state": {}
     },
     "8b8775362f3f4474a9b56d10148f7e89": {
      "model_module": "jupyter-matplotlib",
      "model_module_version": "^0.8.2",
      "model_name": "MPLCanvasModel",
      "state": {
       "_cursor": "default",
       "_figure_label": "Figure 10",
       "_height": 1536,
       "_width": 1024,
       "layout": "IPY_MODEL_60353438762a4d9eab0e3ef22fb39832",
       "toolbar": "IPY_MODEL_75217fc7a18a4c3282e0200e0be37941",
       "toolbar_position": "left"
      }
     },
     "924e0dd5dbf04596b4c8bcc9c159ddc2": {
      "model_module": "@jupyter-widgets/base",
      "model_module_version": "1.2.0",
      "model_name": "LayoutModel",
      "state": {}
     },
     "998680b941be4a8ba0dbf677c405ea91": {
      "model_module": "@jupyter-widgets/base",
      "model_module_version": "1.2.0",
      "model_name": "LayoutModel",
      "state": {}
     },
     "9bcbe4b21ce1436da1dc91c862163944": {
      "model_module": "jupyter-matplotlib",
      "model_module_version": "^0.8.2",
      "model_name": "ToolbarModel",
      "state": {
       "layout": "IPY_MODEL_14740abc2aa34f4fa4a8f2f02d5b0a40",
       "toolitems": [
        [
         "Home",
         "Reset original view",
         "home",
         "home"
        ],
        [
         "Back",
         "Back to previous view",
         "arrow-left",
         "back"
        ],
        [
         "Forward",
         "Forward to next view",
         "arrow-right",
         "forward"
        ],
        [
         "Pan",
         "Left button pans, Right button zooms\nx/y fixes axis, CTRL fixes aspect",
         "arrows",
         "pan"
        ],
        [
         "Zoom",
         "Zoom to rectangle\nx/y fixes axis, CTRL fixes aspect",
         "square-o",
         "zoom"
        ],
        [
         "Download",
         "Download plot",
         "floppy-o",
         "save_figure"
        ]
       ]
      }
     },
     "a63eb2a1531e45ef8f63bd22790f71de": {
      "model_module": "@jupyter-widgets/base",
      "model_module_version": "1.2.0",
      "model_name": "LayoutModel",
      "state": {}
     },
     "ac905cacedd14e7fbd9d200570a21144": {
      "model_module": "@jupyter-widgets/controls",
      "model_module_version": "1.5.0",
      "model_name": "HTMLModel",
      "state": {
       "layout": "IPY_MODEL_b189e26e114e4b48813612ba9139b06f",
       "style": "IPY_MODEL_ea418bb35c224e59b5e1685b7bd8b8f2",
       "value": "100%"
      }
     },
     "ae0faa86c5d846f3891f99cced5696be": {
      "model_module": "@jupyter-widgets/base",
      "model_module_version": "1.2.0",
      "model_name": "LayoutModel",
      "state": {}
     },
     "b189e26e114e4b48813612ba9139b06f": {
      "model_module": "@jupyter-widgets/base",
      "model_module_version": "1.2.0",
      "model_name": "LayoutModel",
      "state": {}
     },
     "b77a03485f484d9ea3381f6952fa185d": {
      "model_module": "@jupyter-widgets/base",
      "model_module_version": "1.2.0",
      "model_name": "LayoutModel",
      "state": {}
     },
     "bc4109437df44cd292b84be3acd986f9": {
      "model_module": "@jupyter-widgets/base",
      "model_module_version": "1.2.0",
      "model_name": "LayoutModel",
      "state": {}
     },
     "cfcdccf2a86a477eaa5e9c51997bf147": {
      "model_module": "@jupyter-widgets/base",
      "model_module_version": "1.2.0",
      "model_name": "LayoutModel",
      "state": {}
     },
     "d80f88f77c7a4e11ba5173df18c578bc": {
      "model_module": "@jupyter-widgets/controls",
      "model_module_version": "1.5.0",
      "model_name": "DescriptionStyleModel",
      "state": {
       "description_width": ""
      }
     },
     "dad413cf05cc4fc28b7fd9e0ef680d9a": {
      "model_module": "@jupyter-widgets/base",
      "model_module_version": "1.2.0",
      "model_name": "LayoutModel",
      "state": {}
     },
     "ea418bb35c224e59b5e1685b7bd8b8f2": {
      "model_module": "@jupyter-widgets/controls",
      "model_module_version": "1.5.0",
      "model_name": "DescriptionStyleModel",
      "state": {
       "description_width": ""
      }
     },
     "eac8375947634084b66ca8043239a9fe": {
      "model_module": "@jupyter-widgets/base",
      "model_module_version": "1.2.0",
      "model_name": "LayoutModel",
      "state": {}
     },
     "ec8cbbbab7aa4c41a478923ad5689ae8": {
      "model_module": "jupyter-matplotlib",
      "model_module_version": "^0.8.2",
      "model_name": "MPLCanvasModel",
      "state": {
       "_cursor": "default",
       "_figure_label": "Figure 7",
       "_height": 384,
       "_width": 512,
       "layout": "IPY_MODEL_85855d6da3f34081a439aef027b19926",
       "toolbar": "IPY_MODEL_3739d7c4510346ff9a032298b74a83de",
       "toolbar_position": "left"
      }
     },
     "ed9e8c7f16f847738a6731df37e1d47b": {
      "model_module": "@jupyter-widgets/controls",
      "model_module_version": "1.5.0",
      "model_name": "ProgressStyleModel",
      "state": {
       "description_width": ""
      }
     },
     "fc8ad51bd72a46cebd6b4fb4066ae2a7": {
      "model_module": "@jupyter-widgets/base",
      "model_module_version": "1.2.0",
      "model_name": "LayoutModel",
      "state": {}
     },
     "ffe5c958d69340c3b7bebf6b721cebaf": {
      "model_module": "@jupyter-widgets/base",
      "model_module_version": "1.2.0",
      "model_name": "LayoutModel",
      "state": {}
     }
    },
    "version_major": 2,
    "version_minor": 0
   }
  }
 },
 "nbformat": 4,
 "nbformat_minor": 5
}
