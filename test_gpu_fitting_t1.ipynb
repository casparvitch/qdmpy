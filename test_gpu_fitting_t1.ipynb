{
 "cells": [
  {
   "cell_type": "code",
   "execution_count": 1,
   "metadata": {},
   "outputs": [],
   "source": [
    "import QDMPy.data_loading as data_loading\n",
    "import QDMPy.fit_interface as fit_interface\n",
    "import QDMPy.fit_plots as fit_plots\n",
    "\n",
    "import matplotlib\n",
    "import matplotlib.pyplot as plt"
   ]
  },
  {
   "cell_type": "code",
   "execution_count": 2,
   "metadata": {},
   "outputs": [],
   "source": [
    "# '%matplotlib widget' allows interactive plots in jupyterlab\n",
    "# use ''%matplotlib inline' to allow export to pdf\n",
    "%matplotlib widget"
   ]
  },
  {
   "cell_type": "markdown",
   "metadata": {},
   "source": [
    "# Load the data in"
   ]
  },
  {
   "cell_type": "code",
   "execution_count": 3,
   "metadata": {},
   "outputs": [],
   "source": [
    "options_dict = {\n",
    "    # Argus: C:\\\\src\\\\QDMPY_test_image\n",
    "    \"base_dir\": \"C:\\\\src\\\\QDMPY_test_image\\\\\",\n",
    "    \"filepath\": \"Spin relaxation (T1)_19\",\n",
    "    \n",
    "    \"additional_bins\": 0, \n",
    "\n",
    "    \"system_name\": \"Liams_Widefield\",\n",
    "\n",
    "    \"ROI\": \"Full\", \n",
    "    \"ROI_start\": [10, 10],\n",
    "    \"ROI_end\": [200,200],\n",
    "    \n",
    "    \"AOI_1_start\": [10, 10],\n",
    "    \"AOI_1_end\": [20, 20], \n",
    "    \"AOI_2_start\": [10, 50],\n",
    "    \"AOI_2_end\": [20, 60], \n",
    "    \"AOI_3_start\": [60, 15],\n",
    "    \"AOI_3_end\": [70, 35], \n",
    "    \n",
    "    \"normalisation\": \"div\",\n",
    "    \n",
    "    \"fit_pixels\": True, \n",
    "    \"force_fit\": True, \n",
    "    \"auto_match_prev_ROI_options\": False,\n",
    "    \n",
    "    \"fit_backend\": \"gpufit\",\n",
    "    \"fit_backend_comparison\": [\"scipy\", \"gpufit\"],\n",
    "    \"scramble_pixels\": True,\n",
    "    \n",
    "    \"scipy_sub_threads\": 2, \n",
    "\n",
    "    \"fit_functions\":  {\"constant\": 1, \"stretched_exponential\": 1},\n",
    "\n",
    "    \"constant_guess\": 1,\n",
    "    \"constant_bounds\": [0.9, 1.1],\n",
    "\n",
    "    \"power_exp_guess\": 0.7,\n",
    "    \"power_exp_bounds\": [0.5, 1.0],\n",
    "\n",
    "    \"charac_exp_t_guess\": 1e-3,\n",
    "    \"charac_exp_t_bounds\": [1e-9, 100e-3],\n",
    "\n",
    "    \"amp_exp_guess\": 0.07,\n",
    "    \"amp_exp_bounds\": [0.001, 0.2],\n",
    "    \n",
    "    \"mpl_rcparams\": {\n",
    "        \"legend.loc\": \"upper right\" \n",
    "    }\n",
    "}"
   ]
  },
  {
   "cell_type": "code",
   "execution_count": 4,
   "metadata": {},
   "outputs": [
    {
     "name": "stderr",
     "output_type": "stream",
     "text": [
      "C:\\src\\QDMPy\\QDMPy\\data_loading.py:567: UserWarning: oiy fix up additional_bins = 0 to be handled more nicely...?\n",
      "  warnings.warn(\"oiy fix up additional_bins = 0 to be handled more nicely...?\")\n"
     ]
    },
    {
     "data": {
      "application/vnd.jupyter.widget-view+json": {
       "model_id": "431c5e9846b24db6ab2610766595f7e0",
       "version_major": 2,
       "version_minor": 0
      },
      "text/plain": [
       "Canvas(toolbar=Toolbar(toolitems=[('Home', 'Reset original view', 'home', 'home'), ('Back', 'Back to previous …"
      ]
     },
     "metadata": {},
     "output_type": "display_data"
    }
   ],
   "source": [
    "# QDMPy_path = data_loading.DIR_PATH\n",
    "# options = data_loading.load_options(path=QDMPy_path / \"options/test_options_t1.json\", check_for_prev_result=True)\n",
    "options = data_loading.load_options(options_dict=options_dict, check_for_prev_result=True)\n",
    "fit_plots.set_mpl_rcparams(options)\n",
    "raw_data, prelim_sweep_list = data_loading.load_raw_and_sweep(options)\n",
    "PL_image, PL_image_ROI, sig, ref, sig_norm, single_pixel_pl, sweep_list = data_loading.reshape_dataset(\n",
    "        options, raw_data, prelim_sweep_list\n",
    "    )\n",
    "fig1 = fit_plots.plot_ROI_PL_image(options, PL_image)"
   ]
  },
  {
   "cell_type": "code",
   "execution_count": 5,
   "metadata": {},
   "outputs": [
    {
     "data": {
      "application/vnd.jupyter.widget-view+json": {
       "model_id": "8807369e1b3843c2bd0bce3a1d683f95",
       "version_major": 2,
       "version_minor": 0
      },
      "text/plain": [
       "Canvas(toolbar=Toolbar(toolitems=[('Home', 'Reset original view', 'home', 'home'), ('Back', 'Back to previous …"
      ]
     },
     "metadata": {},
     "output_type": "display_data"
    }
   ],
   "source": [
    "AOIs = data_loading.define_AOIs(options)\n",
    "fig2 = fit_plots.plot_AOI_PL_images(options, PL_image_ROI)"
   ]
  },
  {
   "cell_type": "code",
   "execution_count": 6,
   "metadata": {},
   "outputs": [
    {
     "data": {
      "application/vnd.jupyter.widget-view+json": {
       "model_id": "cc453668d5a8434dacf7cde90078c5c0",
       "version_major": 2,
       "version_minor": 0
      },
      "text/plain": [
       "Canvas(toolbar=Toolbar(toolitems=[('Home', 'Reset original view', 'home', 'home'), ('Back', 'Back to previous …"
      ]
     },
     "metadata": {},
     "output_type": "display_data"
    }
   ],
   "source": [
    "aoi_spectra_plot = fit_plots.plot_AOI_spectra(options, AOIs, sig, ref, sweep_list)"
   ]
  },
  {
   "cell_type": "markdown",
   "metadata": {},
   "source": [
    "# Fit AOI, ROI averages, single pixel"
   ]
  },
  {
   "cell_type": "code",
   "execution_count": 7,
   "metadata": {},
   "outputs": [
    {
     "name": "stderr",
     "output_type": "stream",
     "text": [
      "C:\\src\\QDMPy\\QDMPy\\fit_scipy.py:26: TqdmExperimentalWarning: Using `tqdm.autonotebook.tqdm` in notebook mode. Use `tqdm.tqdm` instead to force console mode (e.g. in jupyter console)\n",
      "  from tqdm.autonotebook import tqdm  # auto detects jupyter\n"
     ]
    },
    {
     "data": {
      "application/vnd.jupyter.widget-view+json": {
       "model_id": "21eaee5c995f4d52aa59d2f6599e9b94",
       "version_major": 2,
       "version_minor": 0
      },
      "text/plain": [
       "Canvas(toolbar=Toolbar(toolitems=[('Home', 'Reset original view', 'home', 'home'), ('Back', 'Back to previous …"
      ]
     },
     "metadata": {},
     "output_type": "display_data"
    }
   ],
   "source": [
    "fit_model = fit_interface.define_fit_model(options)\n",
    "backend_ROI_results_lst = fit_interface.fit_ROI_avg(options, sig_norm, sweep_list, fit_model)\n",
    "fig3 = fit_plots.plot_ROI_avg_fits(options, backend_ROI_results_lst)"
   ]
  },
  {
   "cell_type": "code",
   "execution_count": 8,
   "metadata": {},
   "outputs": [
    {
     "data": {
      "application/vnd.jupyter.widget-view+json": {
       "model_id": "887016a773ab4e9c8398d4c1b27827f2",
       "version_major": 2,
       "version_minor": 0
      },
      "text/plain": [
       "Canvas(toolbar=Toolbar(toolitems=[('Home', 'Reset original view', 'home', 'home'), ('Back', 'Back to previous …"
      ]
     },
     "metadata": {},
     "output_type": "display_data"
    }
   ],
   "source": [
    "fit_result_collection_lst = fit_interface.fit_AOIs(options, sig_norm, single_pixel_pl, sweep_list, fit_model, AOIs, backend_ROI_results_lst)\n",
    "AOI_spectra_fit_fig = fit_plots.plot_AOI_spectra_fit(options, sig, ref, sweep_list, AOIs, fit_result_collection_lst, fit_model)"
   ]
  },
  {
   "cell_type": "markdown",
   "metadata": {},
   "source": [
    "# Fit pixels"
   ]
  },
  {
   "cell_type": "code",
   "execution_count": 9,
   "metadata": {},
   "outputs": [],
   "source": [
    "if (options[\"force_fit\"] or not options[\"found_prev_result\"]) and options[\"fit_pixels\"]:\n",
    "    pixel_fit_params = fit_interface.fit_pixels(options, sig_norm, sweep_list, fit_model, backend_ROI_results_lst[0])\n",
    "elif options[\"found_prev_result\"]:\n",
    "    pixel_fit_params = fit_interface.load_prev_fit_results(options)\n",
    "else:\n",
    "    pixel_fit_params = None  # not fitting pixels, this stops plotting (e.g. via plot_param_images) from erroring"
   ]
  },
  {
   "cell_type": "markdown",
   "metadata": {},
   "source": [
    "# Plot (fit) parameters"
   ]
  },
  {
   "cell_type": "code",
   "execution_count": 10,
   "metadata": {},
   "outputs": [
    {
     "data": {
      "application/vnd.jupyter.widget-view+json": {
       "model_id": "7acf31b6c8a04158890309bc15e1e178",
       "version_major": 2,
       "version_minor": 0
      },
      "text/plain": [
       "Canvas(toolbar=Toolbar(toolitems=[('Home', 'Reset original view', 'home', 'home'), ('Back', 'Back to previous …"
      ]
     },
     "metadata": {},
     "output_type": "display_data"
    }
   ],
   "source": [
    "fit_plots.plot_param_images(options, fit_model, pixel_fit_params, \"constant\")"
   ]
  },
  {
   "cell_type": "code",
   "execution_count": 11,
   "metadata": {},
   "outputs": [
    {
     "data": {
      "application/vnd.jupyter.widget-view+json": {
       "model_id": "cce9670fa2614916b72d7071e0b71c4c",
       "version_major": 2,
       "version_minor": 0
      },
      "text/plain": [
       "Canvas(toolbar=Toolbar(toolitems=[('Home', 'Reset original view', 'home', 'home'), ('Back', 'Back to previous …"
      ]
     },
     "metadata": {},
     "output_type": "display_data"
    }
   ],
   "source": [
    "fit_plots.plot_param_images(options, fit_model, pixel_fit_params, \"power_exp\")"
   ]
  },
  {
   "cell_type": "code",
   "execution_count": 12,
   "metadata": {},
   "outputs": [
    {
     "data": {
      "application/vnd.jupyter.widget-view+json": {
       "model_id": "99823e40565d48d8b3a444039aad10b4",
       "version_major": 2,
       "version_minor": 0
      },
      "text/plain": [
       "Canvas(toolbar=Toolbar(toolitems=[('Home', 'Reset original view', 'home', 'home'), ('Back', 'Back to previous …"
      ]
     },
     "metadata": {},
     "output_type": "display_data"
    }
   ],
   "source": [
    "fit_plots.plot_param_images(options, fit_model, pixel_fit_params, \"charac_exp_t\")"
   ]
  },
  {
   "cell_type": "code",
   "execution_count": 13,
   "metadata": {},
   "outputs": [
    {
     "data": {
      "application/vnd.jupyter.widget-view+json": {
       "model_id": "cda5e9c8e12c46f7a27662e4a56cd67e",
       "version_major": 2,
       "version_minor": 0
      },
      "text/plain": [
       "Canvas(toolbar=Toolbar(toolitems=[('Home', 'Reset original view', 'home', 'home'), ('Back', 'Back to previous …"
      ]
     },
     "metadata": {},
     "output_type": "display_data"
    }
   ],
   "source": [
    "fit_plots.plot_param_images(options, fit_model, pixel_fit_params, \"amp_exp\")"
   ]
  },
  {
   "cell_type": "code",
   "execution_count": 14,
   "metadata": {},
   "outputs": [],
   "source": [
    "# fit_plots.plot_param_images(options, fit_model, pixel_fit_params, \"fwhm\")"
   ]
  },
  {
   "cell_type": "code",
   "execution_count": null,
   "metadata": {},
   "outputs": [],
   "source": []
  },
  {
   "cell_type": "code",
   "execution_count": 15,
   "metadata": {},
   "outputs": [
    {
     "data": {
      "text/plain": [
       "{'base_dir': 'C:\\\\src\\\\QDMPY_test_image\\\\',\n",
       " 'filepath': 'C:\\\\src\\\\QDMPY_test_image\\\\Spin relaxation (T1)_19',\n",
       " 'raw_pixel_size': 2.22e-07,\n",
       " 'ignore_ref': False,\n",
       " 'additional_bins': 1,\n",
       " 'old_binning_convention': False,\n",
       " 'system_name': 'Liams_Widefield',\n",
       " 'ROI': 'Full',\n",
       " 'ROI_start': [10, 10],\n",
       " 'ROI_end': [200, 200],\n",
       " 'remove_start_sweep': 1,\n",
       " 'remove_end_sweep': 0,\n",
       " 'normalisation': 'div',\n",
       " 'single_pixel_check': [1, 1],\n",
       " 'AOI_1_start': (10, 10),\n",
       " 'AOI_1_end': (20, 20),\n",
       " 'AOI_2_start': (10, 50),\n",
       " 'AOI_2_end': (20, 60),\n",
       " 'AOI_3_start': (60, 15),\n",
       " 'AOI_3_end': (70, 35),\n",
       " 'AOI_4_start': None,\n",
       " 'AOI_4_end': None,\n",
       " 'AOI_5_start': None,\n",
       " 'AOI_5_end': None,\n",
       " 'fit_backend': 'gpufit',\n",
       " 'fit_backend_comparison': ['scipy', 'gpufit'],\n",
       " 'force_fit': True,\n",
       " 'fit_pixels': True,\n",
       " 'auto_match_prev_ROI_options': False,\n",
       " 'scramble_pixels': True,\n",
       " 'use_ROI_avg_fit_res_for_all_pixels': True,\n",
       " 'fit_functions': {'constant': 1, 'stretched_exponential': 1},\n",
       " 'pos_guess': None,\n",
       " 'pos_range': 25,\n",
       " 'amp_guess': -0.0015,\n",
       " 'amp_bounds': [-0.01, -0.0003],\n",
       " 'fwhm_guess': -0.0015,\n",
       " 'fwhm_bounds': [5, 20],\n",
       " 'pos_gauss_guess': None,\n",
       " 'pos_gauss_range': 25,\n",
       " 'amp_gauss_guess': -0.0015,\n",
       " 'amp_gauss_bounds': [-0.01, -0.0003],\n",
       " 'fwhm_gauss_guess': -0.0015,\n",
       " 'fwhm_gauss_bounds': [5, 20],\n",
       " 'c_guess': 1,\n",
       " 'c_bounds': [0.9995, 1.0005],\n",
       " 'm_guess': 0,\n",
       " 'm_bounds': [-1e-08, 1e-08],\n",
       " 'constant_guess': 1,\n",
       " 'constant_bounds': [0.9, 1.1],\n",
       " 'rabi_freq_guess': None,\n",
       " 'rabi_freq_bounds': [None, None],\n",
       " 'pos_circ_guess': None,\n",
       " 'pos_circ_bounds': [None, None],\n",
       " 'amp_circ_guess': None,\n",
       " 'amp_circ_bounds': [None, None],\n",
       " 'pos_h14_guess': None,\n",
       " 'pos_h15_guess': None,\n",
       " 'pos_h14_range': 25,\n",
       " 'pos_h15_range': 25,\n",
       " 'amp_h15_hyp_1_guess': -0.015,\n",
       " 'amp_h15_hyp_2_guess': -0.015,\n",
       " 'amp_h15_hyp_1_bounds': [-0.1, -0.001],\n",
       " 'amp_h15_hyp_2_bounds': [-0.1, -0.001],\n",
       " 'amp_h14_hyp_1_guess': -0.015,\n",
       " 'amp_h14_hyp_2_guess': -0.015,\n",
       " 'amp_h14_hyp_3_guess': -0.015,\n",
       " 'amp_h14_hyp_1_bounds': [-0.1, -0.001],\n",
       " 'amp_h14_hyp_2_bounds': [-0.1, -0.001],\n",
       " 'amp_h14_hyp_3_bounds': [-0.1, -0.001],\n",
       " 'fwhm_h15_hyp_1_guess': -0.015,\n",
       " 'fwhm_h15_hyp_2_guess': -0.015,\n",
       " 'fwhm_h15_hyp_1_bounds': [-0.1, -0.001],\n",
       " 'fwhm_h15_hyp_2_bounds': [-0.1, -0.001],\n",
       " 'fwhm_h14_hyp_1_guess': -0.015,\n",
       " 'fwhm_h14_hyp_2_guess': -0.015,\n",
       " 'fwhm_h14_hyp_3_guess': -0.015,\n",
       " 'fwhm_h14_hyp_1_bounds': [-0.1, -0.001],\n",
       " 'fwhm_h14_hyp_2_bounds': [-0.1, -0.001],\n",
       " 'fwhm_h14_hyp_3_bounds': [-0.1, -0.001],\n",
       " 'power_exp_guess': 0.7,\n",
       " 'power_exp_bounds': [0.5, 1.0],\n",
       " 'charac_exp_t_guess': 0.001,\n",
       " 'charac_exp_t_bounds': [1e-09, 0.1],\n",
       " 'amp_exp_guess': 0.07,\n",
       " 'amp_exp_bounds': [0.001, 0.2],\n",
       " 'scipy_fit_method': 'trf',\n",
       " 'scipy_sub_threads': 2,\n",
       " 'scipy_show_progressbar': True,\n",
       " 'scipy_use_analytic_jac': True,\n",
       " 'scipy_verbose_fitting': 0,\n",
       " 'scipy_fit_jac_acc': '2-point',\n",
       " 'scipy_fit_gtol': 1e-12,\n",
       " 'scipy_fit_xtol': 1e-12,\n",
       " 'scipy_fit_ftol': 1e-12,\n",
       " 'scipy_scale_x': True,\n",
       " 'scipy_loss_fn': 'linear',\n",
       " 'gpufit_tolerance': 1e-12,\n",
       " 'gpufit_max_iterations': 25,\n",
       " 'gpufit_estimator_id': 'LSE',\n",
       " 'save_plots': True,\n",
       " 'show_scalebar': True,\n",
       " 'annotate_image_regions': True,\n",
       " 'save_fig_type': 'png',\n",
       " 'colormaps': defaultdict(<function QDMPy.misc.defaultdict_from_d.<locals>.<lambda>()>,\n",
       "             {'param_images': 'viridis', 'PL_images': 'Greys_r'}),\n",
       " 'colormap_range_dicts': defaultdict(<function QDMPy.misc.defaultdict_from_d.<locals>.<lambda>()>,\n",
       "             {'param_images': defaultdict(<function QDMPy.misc.defaultdict_from_d.<locals>.<lambda>()>,\n",
       "                          {'type': 'min_max_symmetric_about_mean'}),\n",
       "              'PL_images': defaultdict(<function QDMPy.misc.defaultdict_from_d.<locals>.<lambda>()>,\n",
       "                          {'type': 'min_max'})}),\n",
       " 'mpl_rcparams': defaultdict(<function QDMPy.misc.defaultdict_from_d.<locals>.<lambda>()>,\n",
       "             {'figure.figsize': [6.4, 4.8],\n",
       "              'figure.dpi': 80,\n",
       "              'lines.linewidth': 0.8,\n",
       "              'lines.markersize': 3,\n",
       "              'xtick.labelsize': 10,\n",
       "              'xtick.major.size': 4,\n",
       "              'xtick.direction': 'in',\n",
       "              'ytick.labelsize': 10,\n",
       "              'ytick.direction': 'in',\n",
       "              'ytick.major.size': 4,\n",
       "              'legend.fontsize': 'small',\n",
       "              'legend.loc': 'upper right',\n",
       "              'scalebar.location': 'lower right',\n",
       "              'scalebar.height_fraction': 0.015,\n",
       "              'scalebar.box_alpha': 0.5,\n",
       "              'scalebar.scale_loc': 'top',\n",
       "              'scalebar.sep': 1}),\n",
       " 'AOI_colors': ['blue',\n",
       "  'tab:brown',\n",
       "  'purple',\n",
       "  'darkslategrey',\n",
       "  'magenta',\n",
       "  'olive',\n",
       "  'cyan'],\n",
       " 'fit_backend_colors': defaultdict(<function QDMPy.misc.defaultdict_from_d.<locals>.<lambda>()>,\n",
       "             {'scipy': defaultdict(<function QDMPy.misc.defaultdict_from_d.<locals>.<lambda>()>,\n",
       "                          {'roifit_linecolor': 'mediumblue',\n",
       "                           'residual_linecolor': 'black',\n",
       "                           'aoi_roi_fit_linecolor': 'indigo',\n",
       "                           'aoi_best_fit_linecolor': 'crimson'}),\n",
       "              'gpufit': defaultdict(<function QDMPy.misc.defaultdict_from_d.<locals>.<lambda>()>,\n",
       "                          {'roifit_linecolor': 'cornflowerblue',\n",
       "                           'residual_linecolor': 'dimgrey',\n",
       "                           'aoi_roi_fit_linecolor': 'mediumpurple',\n",
       "                           'aoi_best_fit_linecolor': 'coral'})}),\n",
       " 'cleaned': True,\n",
       " 'system': <QDMPy.systems.LiamsWidefield at 0x9526ac0>,\n",
       " 'used_ref': True,\n",
       " 'metadata': {'ImageSizeBytes': 524288.0,\n",
       "  'Binning': 1.0,\n",
       "  'PixelEncoding': ' Mono16',\n",
       "  'AOIStride': 1024.0,\n",
       "  'AOIWidth': 512.0,\n",
       "  'AOIHeight': 512.0,\n",
       "  'CCD readout': 2.0,\n",
       "  'CCD shutter': ' Global',\n",
       "  'Exposure time': 2.0,\n",
       "  'Measurement': 3.0,\n",
       "  'Measurement protocol': 1.0,\n",
       "  'Microwave power (dBm)': -1.0,\n",
       "  'Probe frequency (MHz)': 2.0,\n",
       "  'X pi time (s)': 1.0,\n",
       "  'Y pi time (s)': 1.0,\n",
       "  'X pi/2 time (s)': 2.0,\n",
       "  '# of pi pulses': 6.0,\n",
       "  'NMR tau': 5.0,\n",
       "  'MW2 power (dBm)': -1.0,\n",
       "  'MW2 probe frequency (MHz)': 6.0,\n",
       "  'MW2 probe time (s)': 3.0,\n",
       "  'MW2 pi time (s)': 2.0,\n",
       "  'Optical readout time (s)': 4.0,\n",
       "  'Wait time (s)': 1.0,\n",
       "  'Polarise pulse (s)': 5.0,\n",
       "  'Current on/off': ' FALSE',\n",
       "  'Voltage (V)': 4.0,\n",
       "  'Current (A)': 1.0,\n",
       "  'Resistance (ohm)': 4.0,\n",
       "  '# of planned sweeps': 1.0,\n",
       "  '# of completed sweeps': 1.0,\n",
       "  'Time stamp': ' 20-12-10'},\n",
       " 'threads': 6,\n",
       " 'reloaded_prev_fit': None,\n",
       " 'found_prev_result': None,\n",
       " 'output_dir': PurePosixPath('C:\\\\src\\\\QDMPY_test_image\\\\Spin relaxation (T1)_19_processed_bin_1'),\n",
       " 'data_dir': PurePosixPath('C:\\\\src\\\\QDMPY_test_image\\\\Spin relaxation (T1)_19_processed_bin_1/data'),\n",
       " 'fit_param_defn': OrderedDict([('constant_0', 'Amplitude (a.u.)'),\n",
       "              ('charac_exp_t_0', 'Time (s)'),\n",
       "              ('amp_exp_0', 'Amplitude (a.u.)'),\n",
       "              ('power_exp_0', 'Unitless')]),\n",
       " 'total_bin': 1,\n",
       " 'original_bin': 1,\n",
       " 'ModelID': 9,\n",
       " 'CUDA_version_runtime': (8, 0),\n",
       " 'CUDA_version_driver': (8, 0),\n",
       " 'fit_time_(s)': 10.195623,\n",
       " 'rebinned_image_shape': (512, 512)}"
      ]
     },
     "execution_count": 15,
     "metadata": {},
     "output_type": "execute_result"
    }
   ],
   "source": [
    "data_loading.save_options(options)\n",
    "options"
   ]
  },
  {
   "cell_type": "code",
   "execution_count": null,
   "metadata": {},
   "outputs": [],
   "source": []
  }
 ],
 "metadata": {
  "kernelspec": {
   "display_name": "Python 3",
   "language": "python",
   "name": "python3"
  },
  "language_info": {
   "codemirror_mode": {
    "name": "ipython",
    "version": 3
   },
   "file_extension": ".py",
   "mimetype": "text/x-python",
   "name": "python",
   "nbconvert_exporter": "python",
   "pygments_lexer": "ipython3",
   "version": "3.8.5"
  },
  "widgets": {
   "application/vnd.jupyter.widget-state+json": {
    "state": {
     "0396985fc9534c05b3a3ec5cd9a00c39": {
      "model_module": "@jupyter-widgets/base",
      "model_module_version": "1.2.0",
      "model_name": "LayoutModel",
      "state": {}
     },
     "0d5e5ec30cf74ec586d30e8176e8890a": {
      "model_module": "@jupyter-widgets/base",
      "model_module_version": "1.2.0",
      "model_name": "LayoutModel",
      "state": {}
     },
     "1dc694dbffb44b82ae72bfc614f26f80": {
      "model_module": "@jupyter-widgets/base",
      "model_module_version": "1.2.0",
      "model_name": "LayoutModel",
      "state": {}
     },
     "1e51a69aedc04b6186c2a6fcac11c541": {
      "model_module": "@jupyter-widgets/base",
      "model_module_version": "1.2.0",
      "model_name": "LayoutModel",
      "state": {}
     },
     "21eaee5c995f4d52aa59d2f6599e9b94": {
      "model_module": "jupyter-matplotlib",
      "model_module_version": "^0.8.2",
      "model_name": "MPLCanvasModel",
      "state": {
       "_cursor": "default",
       "_figure_label": "Figure 4",
       "_height": 384,
       "_width": 512,
       "layout": "IPY_MODEL_33f39ea2fe39456db58fada1e276b3c1",
       "toolbar": "IPY_MODEL_c3e7559c454c47e6857e579c7b29ba0c",
       "toolbar_position": "left"
      }
     },
     "2a9b7a2594114f09be3dbc1b7b6a0c1b": {
      "model_module": "@jupyter-widgets/base",
      "model_module_version": "1.2.0",
      "model_name": "LayoutModel",
      "state": {}
     },
     "33f39ea2fe39456db58fada1e276b3c1": {
      "model_module": "@jupyter-widgets/base",
      "model_module_version": "1.2.0",
      "model_name": "LayoutModel",
      "state": {}
     },
     "38f40463b7ff41c496b6c74f6450d9a9": {
      "model_module": "@jupyter-widgets/base",
      "model_module_version": "1.2.0",
      "model_name": "LayoutModel",
      "state": {}
     },
     "431c5e9846b24db6ab2610766595f7e0": {
      "model_module": "jupyter-matplotlib",
      "model_module_version": "^0.8.2",
      "model_name": "MPLCanvasModel",
      "state": {
       "_cursor": "default",
       "_figure_label": "Figure 1",
       "_height": 384,
       "_width": 512,
       "layout": "IPY_MODEL_4df70e6d7ad24f68b92ad6f88b8ac1cb",
       "toolbar": "IPY_MODEL_7b6469cf55a34bf8a6afd9cc53337661",
       "toolbar_position": "left"
      }
     },
     "435a4f545ac64a838a9a321e05290d97": {
      "model_module": "@jupyter-widgets/base",
      "model_module_version": "1.2.0",
      "model_name": "LayoutModel",
      "state": {}
     },
     "4df70e6d7ad24f68b92ad6f88b8ac1cb": {
      "model_module": "@jupyter-widgets/base",
      "model_module_version": "1.2.0",
      "model_name": "LayoutModel",
      "state": {}
     },
     "64e01e39299040dba3c9fc504823d7c4": {
      "model_module": "@jupyter-widgets/base",
      "model_module_version": "1.2.0",
      "model_name": "LayoutModel",
      "state": {}
     },
     "65e847dd8e8a4b3c9cb9e7cc87a93bce": {
      "model_module": "jupyter-matplotlib",
      "model_module_version": "^0.8.2",
      "model_name": "ToolbarModel",
      "state": {
       "layout": "IPY_MODEL_ddba3c3e18b64cc4ac886667e150f51f",
       "toolitems": [
        [
         "Home",
         "Reset original view",
         "home",
         "home"
        ],
        [
         "Back",
         "Back to previous view",
         "arrow-left",
         "back"
        ],
        [
         "Forward",
         "Forward to next view",
         "arrow-right",
         "forward"
        ],
        [
         "Pan",
         "Left button pans, Right button zooms\nx/y fixes axis, CTRL fixes aspect",
         "arrows",
         "pan"
        ],
        [
         "Zoom",
         "Zoom to rectangle\nx/y fixes axis, CTRL fixes aspect",
         "square-o",
         "zoom"
        ],
        [
         "Download",
         "Download plot",
         "floppy-o",
         "save_figure"
        ]
       ]
      }
     },
     "7638b76c39414e1983f23ddd71bed4af": {
      "model_module": "@jupyter-widgets/base",
      "model_module_version": "1.2.0",
      "model_name": "LayoutModel",
      "state": {}
     },
     "76ebaec959ca487bb2216df15533ec5f": {
      "model_module": "@jupyter-widgets/base",
      "model_module_version": "1.2.0",
      "model_name": "LayoutModel",
      "state": {}
     },
     "7acf31b6c8a04158890309bc15e1e178": {
      "model_module": "jupyter-matplotlib",
      "model_module_version": "^0.8.2",
      "model_name": "MPLCanvasModel",
      "state": {
       "_cursor": "default",
       "_figure_label": "Figure 6",
       "_height": 384,
       "_width": 512,
       "layout": "IPY_MODEL_7638b76c39414e1983f23ddd71bed4af",
       "toolbar": "IPY_MODEL_e16ba682ee654c94afe421dff7f61a09",
       "toolbar_position": "left"
      }
     },
     "7b6469cf55a34bf8a6afd9cc53337661": {
      "model_module": "jupyter-matplotlib",
      "model_module_version": "^0.8.2",
      "model_name": "ToolbarModel",
      "state": {
       "layout": "IPY_MODEL_9a576c5c992744c8a9fc9c29237ff53a",
       "toolitems": [
        [
         "Home",
         "Reset original view",
         "home",
         "home"
        ],
        [
         "Back",
         "Back to previous view",
         "arrow-left",
         "back"
        ],
        [
         "Forward",
         "Forward to next view",
         "arrow-right",
         "forward"
        ],
        [
         "Pan",
         "Left button pans, Right button zooms\nx/y fixes axis, CTRL fixes aspect",
         "arrows",
         "pan"
        ],
        [
         "Zoom",
         "Zoom to rectangle\nx/y fixes axis, CTRL fixes aspect",
         "square-o",
         "zoom"
        ],
        [
         "Download",
         "Download plot",
         "floppy-o",
         "save_figure"
        ]
       ]
      }
     },
     "7e8c258d195c4e62bde6a99442119001": {
      "model_module": "@jupyter-widgets/base",
      "model_module_version": "1.2.0",
      "model_name": "LayoutModel",
      "state": {}
     },
     "7ee7abea9ff649f5b3fcf7510e0c495e": {
      "model_module": "jupyter-matplotlib",
      "model_module_version": "^0.8.2",
      "model_name": "ToolbarModel",
      "state": {
       "layout": "IPY_MODEL_0396985fc9534c05b3a3ec5cd9a00c39",
       "toolitems": [
        [
         "Home",
         "Reset original view",
         "home",
         "home"
        ],
        [
         "Back",
         "Back to previous view",
         "arrow-left",
         "back"
        ],
        [
         "Forward",
         "Forward to next view",
         "arrow-right",
         "forward"
        ],
        [
         "Pan",
         "Left button pans, Right button zooms\nx/y fixes axis, CTRL fixes aspect",
         "arrows",
         "pan"
        ],
        [
         "Zoom",
         "Zoom to rectangle\nx/y fixes axis, CTRL fixes aspect",
         "square-o",
         "zoom"
        ],
        [
         "Download",
         "Download plot",
         "floppy-o",
         "save_figure"
        ]
       ]
      }
     },
     "8807369e1b3843c2bd0bce3a1d683f95": {
      "model_module": "jupyter-matplotlib",
      "model_module_version": "^0.8.2",
      "model_name": "MPLCanvasModel",
      "state": {
       "_cursor": "default",
       "_figure_label": "Figure 2",
       "_height": 384,
       "_width": 512,
       "layout": "IPY_MODEL_76ebaec959ca487bb2216df15533ec5f",
       "toolbar": "IPY_MODEL_8fdba629153d487fa5f93243c8042a22",
       "toolbar_position": "left"
      }
     },
     "887016a773ab4e9c8398d4c1b27827f2": {
      "model_module": "jupyter-matplotlib",
      "model_module_version": "^0.8.2",
      "model_name": "MPLCanvasModel",
      "state": {
       "_cursor": "default",
       "_figure_label": "Figure 5",
       "_height": 1920,
       "_width": 1536,
       "layout": "IPY_MODEL_88e4b294bc6c4e099ae0a86852a25cc2",
       "toolbar": "IPY_MODEL_65e847dd8e8a4b3c9cb9e7cc87a93bce",
       "toolbar_position": "left"
      }
     },
     "88e4b294bc6c4e099ae0a86852a25cc2": {
      "model_module": "@jupyter-widgets/base",
      "model_module_version": "1.2.0",
      "model_name": "LayoutModel",
      "state": {}
     },
     "8d114fdc01a143a79c9cf95d1f9a12dd": {
      "model_module": "jupyter-matplotlib",
      "model_module_version": "^0.8.2",
      "model_name": "ToolbarModel",
      "state": {
       "layout": "IPY_MODEL_38f40463b7ff41c496b6c74f6450d9a9",
       "toolitems": [
        [
         "Home",
         "Reset original view",
         "home",
         "home"
        ],
        [
         "Back",
         "Back to previous view",
         "arrow-left",
         "back"
        ],
        [
         "Forward",
         "Forward to next view",
         "arrow-right",
         "forward"
        ],
        [
         "Pan",
         "Left button pans, Right button zooms\nx/y fixes axis, CTRL fixes aspect",
         "arrows",
         "pan"
        ],
        [
         "Zoom",
         "Zoom to rectangle\nx/y fixes axis, CTRL fixes aspect",
         "square-o",
         "zoom"
        ],
        [
         "Download",
         "Download plot",
         "floppy-o",
         "save_figure"
        ]
       ]
      }
     },
     "8fdba629153d487fa5f93243c8042a22": {
      "model_module": "jupyter-matplotlib",
      "model_module_version": "^0.8.2",
      "model_name": "ToolbarModel",
      "state": {
       "layout": "IPY_MODEL_1dc694dbffb44b82ae72bfc614f26f80",
       "toolitems": [
        [
         "Home",
         "Reset original view",
         "home",
         "home"
        ],
        [
         "Back",
         "Back to previous view",
         "arrow-left",
         "back"
        ],
        [
         "Forward",
         "Forward to next view",
         "arrow-right",
         "forward"
        ],
        [
         "Pan",
         "Left button pans, Right button zooms\nx/y fixes axis, CTRL fixes aspect",
         "arrows",
         "pan"
        ],
        [
         "Zoom",
         "Zoom to rectangle\nx/y fixes axis, CTRL fixes aspect",
         "square-o",
         "zoom"
        ],
        [
         "Download",
         "Download plot",
         "floppy-o",
         "save_figure"
        ]
       ]
      }
     },
     "99823e40565d48d8b3a444039aad10b4": {
      "model_module": "jupyter-matplotlib",
      "model_module_version": "^0.8.2",
      "model_name": "MPLCanvasModel",
      "state": {
       "_cursor": "default",
       "_figure_label": "Figure 8",
       "_height": 384,
       "_width": 512,
       "layout": "IPY_MODEL_7e8c258d195c4e62bde6a99442119001",
       "toolbar": "IPY_MODEL_e57bcf2f9e3648a888d79fb8a906f57c",
       "toolbar_position": "left"
      }
     },
     "9a576c5c992744c8a9fc9c29237ff53a": {
      "model_module": "@jupyter-widgets/base",
      "model_module_version": "1.2.0",
      "model_name": "LayoutModel",
      "state": {}
     },
     "a3f5a63af87e4a52b66a68db964caa68": {
      "model_module": "@jupyter-widgets/base",
      "model_module_version": "1.2.0",
      "model_name": "LayoutModel",
      "state": {}
     },
     "c3e7559c454c47e6857e579c7b29ba0c": {
      "model_module": "jupyter-matplotlib",
      "model_module_version": "^0.8.2",
      "model_name": "ToolbarModel",
      "state": {
       "layout": "IPY_MODEL_435a4f545ac64a838a9a321e05290d97",
       "toolitems": [
        [
         "Home",
         "Reset original view",
         "home",
         "home"
        ],
        [
         "Back",
         "Back to previous view",
         "arrow-left",
         "back"
        ],
        [
         "Forward",
         "Forward to next view",
         "arrow-right",
         "forward"
        ],
        [
         "Pan",
         "Left button pans, Right button zooms\nx/y fixes axis, CTRL fixes aspect",
         "arrows",
         "pan"
        ],
        [
         "Zoom",
         "Zoom to rectangle\nx/y fixes axis, CTRL fixes aspect",
         "square-o",
         "zoom"
        ],
        [
         "Download",
         "Download plot",
         "floppy-o",
         "save_figure"
        ]
       ]
      }
     },
     "c9f20c3ae9a3431a89a09a780f8d1ae3": {
      "model_module": "jupyter-matplotlib",
      "model_module_version": "^0.8.2",
      "model_name": "ToolbarModel",
      "state": {
       "layout": "IPY_MODEL_2a9b7a2594114f09be3dbc1b7b6a0c1b",
       "toolitems": [
        [
         "Home",
         "Reset original view",
         "home",
         "home"
        ],
        [
         "Back",
         "Back to previous view",
         "arrow-left",
         "back"
        ],
        [
         "Forward",
         "Forward to next view",
         "arrow-right",
         "forward"
        ],
        [
         "Pan",
         "Left button pans, Right button zooms\nx/y fixes axis, CTRL fixes aspect",
         "arrows",
         "pan"
        ],
        [
         "Zoom",
         "Zoom to rectangle\nx/y fixes axis, CTRL fixes aspect",
         "square-o",
         "zoom"
        ],
        [
         "Download",
         "Download plot",
         "floppy-o",
         "save_figure"
        ]
       ]
      }
     },
     "cc453668d5a8434dacf7cde90078c5c0": {
      "model_module": "jupyter-matplotlib",
      "model_module_version": "^0.8.2",
      "model_name": "MPLCanvasModel",
      "state": {
       "_cursor": "default",
       "_figure_label": "Figure 3",
       "_height": 768,
       "_width": 1536,
       "layout": "IPY_MODEL_64e01e39299040dba3c9fc504823d7c4",
       "toolbar": "IPY_MODEL_c9f20c3ae9a3431a89a09a780f8d1ae3",
       "toolbar_position": "left"
      }
     },
     "cce9670fa2614916b72d7071e0b71c4c": {
      "model_module": "jupyter-matplotlib",
      "model_module_version": "^0.8.2",
      "model_name": "MPLCanvasModel",
      "state": {
       "_cursor": "default",
       "_figure_label": "Figure 7",
       "_height": 384,
       "_width": 512,
       "layout": "IPY_MODEL_feb5edc007564eefa895ee5b0ac7cfd2",
       "toolbar": "IPY_MODEL_8d114fdc01a143a79c9cf95d1f9a12dd",
       "toolbar_position": "left"
      }
     },
     "cda5e9c8e12c46f7a27662e4a56cd67e": {
      "model_module": "jupyter-matplotlib",
      "model_module_version": "^0.8.2",
      "model_name": "MPLCanvasModel",
      "state": {
       "_cursor": "default",
       "_figure_label": "Figure 9",
       "_height": 384,
       "_width": 512,
       "layout": "IPY_MODEL_a3f5a63af87e4a52b66a68db964caa68",
       "toolbar": "IPY_MODEL_7ee7abea9ff649f5b3fcf7510e0c495e",
       "toolbar_position": "left"
      }
     },
     "ddba3c3e18b64cc4ac886667e150f51f": {
      "model_module": "@jupyter-widgets/base",
      "model_module_version": "1.2.0",
      "model_name": "LayoutModel",
      "state": {}
     },
     "e16ba682ee654c94afe421dff7f61a09": {
      "model_module": "jupyter-matplotlib",
      "model_module_version": "^0.8.2",
      "model_name": "ToolbarModel",
      "state": {
       "layout": "IPY_MODEL_0d5e5ec30cf74ec586d30e8176e8890a",
       "toolitems": [
        [
         "Home",
         "Reset original view",
         "home",
         "home"
        ],
        [
         "Back",
         "Back to previous view",
         "arrow-left",
         "back"
        ],
        [
         "Forward",
         "Forward to next view",
         "arrow-right",
         "forward"
        ],
        [
         "Pan",
         "Left button pans, Right button zooms\nx/y fixes axis, CTRL fixes aspect",
         "arrows",
         "pan"
        ],
        [
         "Zoom",
         "Zoom to rectangle\nx/y fixes axis, CTRL fixes aspect",
         "square-o",
         "zoom"
        ],
        [
         "Download",
         "Download plot",
         "floppy-o",
         "save_figure"
        ]
       ]
      }
     },
     "e57bcf2f9e3648a888d79fb8a906f57c": {
      "model_module": "jupyter-matplotlib",
      "model_module_version": "^0.8.2",
      "model_name": "ToolbarModel",
      "state": {
       "layout": "IPY_MODEL_1e51a69aedc04b6186c2a6fcac11c541",
       "toolitems": [
        [
         "Home",
         "Reset original view",
         "home",
         "home"
        ],
        [
         "Back",
         "Back to previous view",
         "arrow-left",
         "back"
        ],
        [
         "Forward",
         "Forward to next view",
         "arrow-right",
         "forward"
        ],
        [
         "Pan",
         "Left button pans, Right button zooms\nx/y fixes axis, CTRL fixes aspect",
         "arrows",
         "pan"
        ],
        [
         "Zoom",
         "Zoom to rectangle\nx/y fixes axis, CTRL fixes aspect",
         "square-o",
         "zoom"
        ],
        [
         "Download",
         "Download plot",
         "floppy-o",
         "save_figure"
        ]
       ]
      }
     },
     "feb5edc007564eefa895ee5b0ac7cfd2": {
      "model_module": "@jupyter-widgets/base",
      "model_module_version": "1.2.0",
      "model_name": "LayoutModel",
      "state": {}
     }
    },
    "version_major": 2,
    "version_minor": 0
   }
  }
 },
 "nbformat": 4,
 "nbformat_minor": 4
}
